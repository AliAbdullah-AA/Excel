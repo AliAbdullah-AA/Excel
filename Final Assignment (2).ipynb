{
 "cells": [
  {
   "cell_type": "markdown",
   "metadata": {},
   "source": [
    "<p style=\"text-align:center\">\n",
    "    <a href=\"https://skills.network/?utm_medium=Exinfluencer&utm_source=Exinfluencer&utm_content=000026UJ&utm_term=10006555&utm_id=NA-SkillsNetwork-Channel-SkillsNetworkCoursesIBMDeveloperSkillsNetworkPY0220ENSkillsNetwork900-2022-01-01\" target=\"_blank\">\n",
    "    <img src=\"https://cf-courses-data.s3.us.cloud-object-storage.appdomain.cloud/assets/logos/SN_web_lightmode.png\" width=\"200\" alt=\"Skills Network Logo\">\n",
    "    </a>\n",
    "</p>\n"
   ]
  },
  {
   "cell_type": "markdown",
   "metadata": {},
   "source": [
    "<h1>Extracting and Visualizing Stock Data</h1>\n",
    "<h2>Description</h2>\n"
   ]
  },
  {
   "cell_type": "markdown",
   "metadata": {},
   "source": [
    "Extracting essential data from a dataset and displaying it is a necessary part of data science; therefore individuals can make correct decisions based on the data. In this assignment, you will extract some stock data, you will then display this data in a graph.\n"
   ]
  },
  {
   "cell_type": "markdown",
   "metadata": {},
   "source": [
    "<h2>Table of Contents</h2>\n",
    "<div class=\"alert alert-block alert-info\" style=\"margin-top: 20px\">\n",
    "    <ul>\n",
    "        <li>Define a Function that Makes a Graph</li>\n",
    "        <li>Question 1: Use yfinance to Extract Stock Data</li>\n",
    "        <li>Question 2: Use Webscraping to Extract Tesla Revenue Data</li>\n",
    "        <li>Question 3: Use yfinance to Extract Stock Data</li>\n",
    "        <li>Question 4: Use Webscraping to Extract GME Revenue Data</li>\n",
    "        <li>Question 5: Plot Tesla Stock Graph</li>\n",
    "        <li>Question 6: Plot GameStop Stock Graph</li>\n",
    "    </ul>\n",
    "<p>\n",
    "    Estimated Time Needed: <strong>30 min</strong></p>\n",
    "</div>\n",
    "\n",
    "<hr>\n"
   ]
  },
  {
   "cell_type": "markdown",
   "metadata": {},
   "source": [
    "***Note***:- If you are working Locally using anaconda, please uncomment the following code and execute it.\n"
   ]
  },
  {
   "cell_type": "code",
   "execution_count": null,
   "metadata": {},
   "outputs": [],
   "source": [
    "#!pip install yfinance==0.2.38\n",
    "#!pip install pandas==2.2.2\n",
    "#!pip install nbformat"
   ]
  },
  {
   "cell_type": "code",
   "execution_count": 1,
   "metadata": {
    "tags": []
   },
   "outputs": [
    {
     "name": "stdout",
     "output_type": "stream",
     "text": [
      "Collecting yfinance==0.1.67\n",
      "  Downloading yfinance-0.1.67-py2.py3-none-any.whl (25 kB)\n",
      "Requirement already satisfied: pandas>=0.24 in /home/jupyterlab/conda/envs/python/lib/python3.7/site-packages (from yfinance==0.1.67) (1.3.5)\n",
      "Requirement already satisfied: numpy>=1.15 in /home/jupyterlab/conda/envs/python/lib/python3.7/site-packages (from yfinance==0.1.67) (1.21.6)\n",
      "Requirement already satisfied: requests>=2.20 in /home/jupyterlab/conda/envs/python/lib/python3.7/site-packages (from yfinance==0.1.67) (2.29.0)\n",
      "Requirement already satisfied: multitasking>=0.0.7 in /home/jupyterlab/conda/envs/python/lib/python3.7/site-packages (from yfinance==0.1.67) (0.0.11)\n",
      "Requirement already satisfied: lxml>=4.5.1 in /home/jupyterlab/conda/envs/python/lib/python3.7/site-packages (from yfinance==0.1.67) (4.9.2)\n",
      "Requirement already satisfied: python-dateutil>=2.7.3 in /home/jupyterlab/conda/envs/python/lib/python3.7/site-packages (from pandas>=0.24->yfinance==0.1.67) (2.8.2)\n",
      "Requirement already satisfied: pytz>=2017.3 in /home/jupyterlab/conda/envs/python/lib/python3.7/site-packages (from pandas>=0.24->yfinance==0.1.67) (2023.3)\n",
      "Requirement already satisfied: charset-normalizer<4,>=2 in /home/jupyterlab/conda/envs/python/lib/python3.7/site-packages (from requests>=2.20->yfinance==0.1.67) (3.1.0)\n",
      "Requirement already satisfied: idna<4,>=2.5 in /home/jupyterlab/conda/envs/python/lib/python3.7/site-packages (from requests>=2.20->yfinance==0.1.67) (3.4)\n",
      "Requirement already satisfied: urllib3<1.27,>=1.21.1 in /home/jupyterlab/conda/envs/python/lib/python3.7/site-packages (from requests>=2.20->yfinance==0.1.67) (1.26.15)\n",
      "Requirement already satisfied: certifi>=2017.4.17 in /home/jupyterlab/conda/envs/python/lib/python3.7/site-packages (from requests>=2.20->yfinance==0.1.67) (2023.5.7)\n",
      "Requirement already satisfied: six>=1.5 in /home/jupyterlab/conda/envs/python/lib/python3.7/site-packages (from python-dateutil>=2.7.3->pandas>=0.24->yfinance==0.1.67) (1.16.0)\n",
      "Installing collected packages: yfinance\n",
      "  Attempting uninstall: yfinance\n",
      "    Found existing installation: yfinance 0.2.4\n",
      "    Uninstalling yfinance-0.2.4:\n",
      "      Successfully uninstalled yfinance-0.2.4\n",
      "Successfully installed yfinance-0.1.67\n",
      "\n",
      "                  __    __    __    __\n",
      "                 /  \\  /  \\  /  \\  /  \\\n",
      "                /    \\/    \\/    \\/    \\\n",
      "███████████████/  /██/  /██/  /██/  /████████████████████████\n",
      "              /  / \\   / \\   / \\   / \\  \\____\n",
      "             /  /   \\_/   \\_/   \\_/   \\    o \\__,\n",
      "            / _/                       \\_____/  `\n",
      "            |/\n",
      "        ███╗   ███╗ █████╗ ███╗   ███╗██████╗  █████╗\n",
      "        ████╗ ████║██╔══██╗████╗ ████║██╔══██╗██╔══██╗\n",
      "        ██╔████╔██║███████║██╔████╔██║██████╔╝███████║\n",
      "        ██║╚██╔╝██║██╔══██║██║╚██╔╝██║██╔══██╗██╔══██║\n",
      "        ██║ ╚═╝ ██║██║  ██║██║ ╚═╝ ██║██████╔╝██║  ██║\n",
      "        ╚═╝     ╚═╝╚═╝  ╚═╝╚═╝     ╚═╝╚═════╝ ╚═╝  ╚═╝\n",
      "\n",
      "        mamba (1.4.2) supported by @QuantStack\n",
      "\n",
      "        GitHub:  https://github.com/mamba-org/mamba\n",
      "        Twitter: https://twitter.com/QuantStack\n",
      "\n",
      "█████████████████████████████████████████████████████████████\n",
      "\n",
      "\n",
      "Looking for: ['bs4==4.10.0']\n",
      "\n",
      "\u001b[?25l\u001b[2K\u001b[0G[+] 0.0s\n",
      "\u001b[2K\u001b[1A\u001b[2K\u001b[0G[+] 0.1s\n",
      "pkgs/main/linux-64 \u001b[90m━━━━━━━━╸\u001b[0m\u001b[33m━━━━━━━━━━━━━━━━\u001b[0m   0.0 B /  ??.?MB @  ??.?MB/s  0.1s\n",
      "pkgs/main/noarch   \u001b[90m━━━━━━━━━╸\u001b[0m\u001b[33m━━━━━━━━━━━━━━━\u001b[0m   0.0 B /  ??.?MB @  ??.?MB/s  0.1s\n",
      "pkgs/r/linux-64    \u001b[90m╸\u001b[0m\u001b[33m━━━━━━━━━━━━━━━╸\u001b[0m\u001b[90m━━━━━━━━\u001b[0m   0.0 B /  ??.?MB @  ??.?MB/s  0.1s\n",
      "pkgs/r/noarch      \u001b[90m━━━━━━━━━━━━━╸\u001b[0m\u001b[33m━━━━━━━━━━━\u001b[0m   0.0 B /  ??.?MB @  ??.?MB/s  0.1s\u001b[2K\u001b[1A\u001b[2K\u001b[1A\u001b[2K\u001b[1A\u001b[2K\u001b[1A\u001b[2K\u001b[0G[+] 0.2s\n",
      "pkgs/main/linux-64 \u001b[90m━━━━━━━━━╸\u001b[0m\u001b[33m━━━━━━━━━━━━━━━\u001b[0m   0.0 B /  ??.?MB @  ??.?MB/s  0.2s\n",
      "pkgs/main/noarch   \u001b[90m━━━━━━━━━━╸\u001b[0m\u001b[33m━━━━━━━━━━━━━━\u001b[0m   0.0 B /  ??.?MB @  ??.?MB/s  0.2s\n",
      "pkgs/r/linux-64    \u001b[90m━╸\u001b[0m\u001b[33m━━━━━━━━━━━━━━━╸\u001b[0m\u001b[90m━━━━━━━\u001b[0m   0.0 B /  ??.?MB @  ??.?MB/s  0.2s\n",
      "pkgs/r/noarch      \u001b[90m━━━━━━━━━━━━━━━╸\u001b[0m\u001b[33m━━━━━━━━━\u001b[0m   0.0 B /  ??.?MB @  ??.?MB/s  0.2s\u001b[2K\u001b[1A\u001b[2K\u001b[1A\u001b[2K\u001b[1A\u001b[2K\u001b[1A\u001b[2K\u001b[0G[+] 0.3s\n",
      "pkgs/main/linux-64 \u001b[90m━━━━━━━━━━━╸\u001b[0m\u001b[33m━━━━━━━━━━━━━\u001b[0m 237.6kB /  ??.?MB @ 904.0kB/s  0.3s\n",
      "pkgs/main/noarch   \u001b[90m━━━━━━━━━━━╸\u001b[0m\u001b[33m━━━━━━━━━━━━━\u001b[0m   0.0 B /  ??.?MB @  ??.?MB/s  0.3s\n",
      "pkgs/r/linux-64    \u001b[90m━━╸\u001b[0m\u001b[33m━━━━━━━━━━━━━━━╸\u001b[0m\u001b[90m━━━━━━\u001b[0m 282.6kB /  ??.?MB @   1.0MB/s  0.3s\n",
      "pkgs/r/noarch      \u001b[33m━━━━━━━━╸\u001b[0m\u001b[90m━━━━━━━━━━━━━━━━\u001b[0m   0.0 B /  ??.?MB @  ??.?MB/s  0.3s\u001b[2K\u001b[1A\u001b[2K\u001b[1A\u001b[2K\u001b[1A\u001b[2K\u001b[1A\u001b[2K\u001b[0G[+] 0.4s\n",
      "pkgs/main/linux-64 \u001b[90m━━━━━━━━━━━━━╸\u001b[0m\u001b[33m━━━━━━━━━━━\u001b[0m 696.3kB /  ??.?MB @   1.9MB/s  0.4s\n",
      "pkgs/main/noarch   \u001b[90m━━━━━━━━━━━━━━╸\u001b[0m\u001b[33m━━━━━━━━━━\u001b[0m 344.1kB /  ??.?MB @ 947.5kB/s  0.4s\n",
      "pkgs/r/linux-64    \u001b[90m━━━━━╸\u001b[0m\u001b[33m━━━━━━━━━━━━━━━╸\u001b[0m\u001b[90m━━━\u001b[0m 700.4kB /  ??.?MB @   1.9MB/s  0.4s\n",
      "pkgs/r/noarch      \u001b[33m━━━━━━━━━━╸\u001b[0m\u001b[90m━━━━━━━━━━━━━━\u001b[0m 340.0kB /  ??.?MB @ 912.1kB/s  0.4s\u001b[2K\u001b[1A\u001b[2K\u001b[1A\u001b[2K\u001b[1A\u001b[2K\u001b[1A\u001b[2K\u001b[0G[+] 0.5s\n",
      "pkgs/main/linux-64 \u001b[33m━━━━━━━╸\u001b[0m\u001b[90m━━━━━━━━━━━━━━━━\u001b[0m   1.2MB @   2.6MB/s             0.5s\n",
      "pkgs/main/noarch   ━━━━━━━━━━━━━━━━━━━━━━━━ 872.3kB @   1.8MB/s Finalizing  0.5s\n",
      "pkgs/r/linux-64    \u001b[90m━━━━━━╸\u001b[0m\u001b[33m━━━━━━━━━━━━━━━╸\u001b[0m\u001b[90m━\u001b[0m   1.1MB @   2.3MB/s             0.5s\n",
      "pkgs/r/noarch      \u001b[33m━━━━━━━━━━━━╸\u001b[0m\u001b[90m━━━━━━━━━━━\u001b[0m 356.4kB @ 746.1kB/s             0.5s\u001b[2K\u001b[1A\u001b[2K\u001b[1A\u001b[2K\u001b[1A\u001b[2K\u001b[1A\u001b[2K\u001b[0Gpkgs/main/noarch                                   @   1.8MB/s  0.5s\n",
      "[+] 0.6s\n",
      "pkgs/main/linux-64 \u001b[33m━━━━━━━━━━╸\u001b[0m\u001b[90m━━━━━━━━━━━━━━\u001b[0m   1.6MB /  ??.?MB @   2.7MB/s  0.6s\n",
      "pkgs/r/linux-64    \u001b[90m━━━━━━━━━╸\u001b[0m\u001b[33m━━━━━━━━━━━━━━━\u001b[0m   1.5MB /  ??.?MB @   2.6MB/s  0.6s\n",
      "pkgs/r/noarch      \u001b[33m━━━━━━━━━━━━━━━╸\u001b[0m\u001b[90m━━━━━━━━━\u001b[0m 610.3kB /  ??.?MB @   1.1MB/s  0.6s\u001b[2K\u001b[1A\u001b[2K\u001b[1A\u001b[2K\u001b[1A\u001b[2K\u001b[0G[+] 0.7s\n",
      "pkgs/main/linux-64 \u001b[33m━━━━━━━━━━━━╸\u001b[0m\u001b[90m━━━━━━━━━━━\u001b[0m   2.0MB @   3.0MB/s             0.7s\n",
      "pkgs/r/linux-64    ━━━━━━━━━━━━━━━━━━━━━━━━   1.9MB @   2.8MB/s Finalizing  0.7s\n",
      "pkgs/r/noarch      \u001b[90m━╸\u001b[0m\u001b[33m━━━━━━━━━━━━━━━╸\u001b[0m\u001b[90m━━━━━━\u001b[0m 938.0kB @   1.4MB/s             0.7s\u001b[2K\u001b[1A\u001b[2K\u001b[1A\u001b[2K\u001b[1A\u001b[2K\u001b[0Gpkgs/r/linux-64                                    @   2.8MB/s  0.7s\n",
      "[+] 0.8s\n",
      "pkgs/main/linux-64 \u001b[33m━━━━━━━━━━━━━━━╸\u001b[0m\u001b[90m━━━━━━━━━\u001b[0m   2.4MB /  ??.?MB @   3.1MB/s  0.8s\n",
      "pkgs/r/noarch      \u001b[90m━━━━╸\u001b[0m\u001b[33m━━━━━━━━━━━━━━━╸\u001b[0m\u001b[90m━━━━\u001b[0m   1.3MB /  ??.?MB @   1.7MB/s  0.8s\u001b[2K\u001b[1A\u001b[2K\u001b[1A\u001b[2K\u001b[0G[+] 0.9s\n",
      "pkgs/main/linux-64 \u001b[90m━╸\u001b[0m\u001b[33m━━━━━━━━━━━━━━━╸\u001b[0m\u001b[90m━━━━━━━\u001b[0m   2.8MB /  ??.?MB @   3.1MB/s  0.9s\n",
      "pkgs/r/noarch      \u001b[90m━━━━━━╸\u001b[0m\u001b[33m━━━━━━━━━━━━━━━╸\u001b[0m\u001b[90m━━\u001b[0m   1.6MB /  ??.?MB @   1.8MB/s  0.9s\u001b[2K\u001b[1A\u001b[2K\u001b[1A\u001b[2K\u001b[0G[+] 1.0s\n",
      "pkgs/main/linux-64 \u001b[90m━━━╸\u001b[0m\u001b[33m━━━━━━━━━━━━━━━╸\u001b[0m\u001b[90m━━━━━\u001b[0m   3.2MB /  ??.?MB @   3.2MB/s  1.0s\n",
      "pkgs/r/noarch      \u001b[90m━━━━━━━━━╸\u001b[0m\u001b[33m━━━━━━━━━━━━━━━\u001b[0m   2.0MB /  ??.?MB @   2.0MB/s  1.0s\u001b[2K\u001b[1A\u001b[2K\u001b[1A\u001b[2K\u001b[0G[+] 1.1s\n",
      "pkgs/main/linux-64 \u001b[90m━━━━╸\u001b[0m\u001b[33m━━━━━━━━━━━━━━━╸\u001b[0m\u001b[90m━━━\u001b[0m   3.4MB @   3.3MB/s             1.1s\n",
      "pkgs/r/noarch      ━━━━━━━━━━━━━━━━━━━━━━━━   2.3MB @   2.2MB/s Finalizing  1.1s\u001b[2K\u001b[1A\u001b[2K\u001b[1A\u001b[2K\u001b[0Gpkgs/r/noarch                                      @   2.2MB/s  1.1s\n",
      "[+] 1.2s\n",
      "pkgs/main/linux-64 \u001b[90m━━━━━━━╸\u001b[0m\u001b[33m━━━━━━━━━━━━━━━╸\u001b[0m\u001b[90m━\u001b[0m   3.8MB /  ??.?MB @   3.3MB/s  1.2s\u001b[2K\u001b[1A\u001b[2K\u001b[0G[+] 1.3s\n",
      "pkgs/main/linux-64 \u001b[90m━━━━━━━━━╸\u001b[0m\u001b[33m━━━━━━━━━━━━━━━\u001b[0m   4.2MB /  ??.?MB @   3.2MB/s  1.3s\u001b[2K\u001b[1A\u001b[2K\u001b[0G[+] 1.4s\n",
      "pkgs/main/linux-64 \u001b[90m━━━━━━━━━━━╸\u001b[0m\u001b[33m━━━━━━━━━━━━━\u001b[0m   4.4MB /  ??.?MB @   3.3MB/s  1.4s\u001b[2K\u001b[1A\u001b[2K\u001b[0G[+] 1.5s\n",
      "pkgs/main/linux-64 \u001b[90m━━━━━━━━━━━━━╸\u001b[0m\u001b[33m━━━━━━━━━━━\u001b[0m   4.8MB /  ??.?MB @   3.3MB/s  1.5s\u001b[2K\u001b[1A\u001b[2K\u001b[0G[+] 1.6s\n",
      "pkgs/main/linux-64 \u001b[33m━━━━━━━╸\u001b[0m\u001b[90m━━━━━━━━━━━━━━━━━\u001b[0m   5.3MB /  ??.?MB @   3.4MB/s  1.6s\u001b[2K\u001b[1A\u001b[2K\u001b[0G[+] 1.7s\n",
      "pkgs/main/linux-64 \u001b[33m━━━━━━━━━━╸\u001b[0m\u001b[90m━━━━━━━━━━━━━━\u001b[0m   5.8MB /  ??.?MB @   3.5MB/s  1.7s\u001b[2K\u001b[1A\u001b[2K\u001b[0G[+] 1.8s\n",
      "pkgs/main/linux-64 \u001b[33m━━━━━━━━━━━━╸\u001b[0m\u001b[90m━━━━━━━━━━━━\u001b[0m   6.2MB /  ??.?MB @   3.5MB/s  1.8s\u001b[2K\u001b[1A\u001b[2K\u001b[0G[+] 1.9s\n",
      "pkgs/main/linux-64 \u001b[33m━━━━━━━━━━━━━━━╸\u001b[0m\u001b[90m━━━━━━━━━\u001b[0m   6.6MB /  ??.?MB @   3.5MB/s  1.9s\u001b[2K\u001b[1A\u001b[2K\u001b[0G[+] 2.0s\n",
      "pkgs/main/linux-64 \u001b[90m╸\u001b[0m\u001b[33m━━━━━━━━━━━━━━━╸\u001b[0m\u001b[90m━━━━━━━━\u001b[0m   6.8MB /  ??.?MB @   3.6MB/s  2.0s\u001b[2K\u001b[1A\u001b[2K\u001b[0G[+] 2.1s\n",
      "pkgs/main/linux-64 ━━━━━━━━━━━━━━━━━━━━━━━━   7.0MB @   3.6MB/s Finalizing  2.1s\u001b[2K\u001b[1A\u001b[2K\u001b[0Gpkgs/main/linux-64                                 @   3.6MB/s  2.1s\n",
      "\u001b[?25h\n",
      "Pinned packages:\n",
      "  - python 3.7.*\n",
      "\n",
      "\n",
      "Transaction\n",
      "\n",
      "  Prefix: /home/jupyterlab/conda/envs/python\n",
      "\n",
      "  Updating specs:\n",
      "\n",
      "   - bs4==4.10.0\n",
      "   - ca-certificates\n",
      "   - certifi\n",
      "   - openssl\n",
      "\n",
      "\n",
      "  Package              Version  Build         Channel                 Size\n",
      "────────────────────────────────────────────────────────────────────────────\n",
      "  Install:\n",
      "────────────────────────────────────────────────────────────────────────────\n",
      "\n",
      "  \u001b[32m+ bs4            \u001b[0m     4.10.0  hd3eb1b0_0    pkgs/main/noarch        10kB\n",
      "\n",
      "  Upgrade:\n",
      "────────────────────────────────────────────────────────────────────────────\n",
      "\n",
      "  \u001b[31m- ca-certificates\u001b[0m   2023.5.7  hbcca054_0    conda-forge                 \n",
      "  \u001b[32m+ ca-certificates\u001b[0m  2024.3.11  h06a4308_0    pkgs/main/linux-64     130kB\n",
      "  \u001b[31m- openssl        \u001b[0m     1.1.1t  h0b41bf4_0    conda-forge                 \n",
      "  \u001b[32m+ openssl        \u001b[0m     1.1.1w  h7f8727e_0    pkgs/main/linux-64       4MB\n",
      "\n",
      "  Downgrade:\n",
      "────────────────────────────────────────────────────────────────────────────\n",
      "\n",
      "  \u001b[31m- beautifulsoup4 \u001b[0m     4.11.1  pyha770c72_0  conda-forge                 \n",
      "  \u001b[32m+ beautifulsoup4 \u001b[0m     4.10.0  pyh06a4308_0  pkgs/main/noarch        87kB\n",
      "\n",
      "  Summary:\n",
      "\n",
      "  Install: 1 packages\n",
      "  Upgrade: 2 packages\n",
      "  Downgrade: 1 packages\n",
      "\n",
      "  Total download: 4MB\n",
      "\n",
      "────────────────────────────────────────────────────────────────────────────\n",
      "\n",
      "\n",
      "\u001b[?25l\u001b[2K\u001b[0G[+] 0.0s\n",
      "Downloading      \u001b[90m━━━━━━━━━━━━━━━━━━━━━━━\u001b[0m   0.0 B                            0.0s\n",
      "Extracting       \u001b[90m━━━━━━━━━━━━━━━━━━━━━━━\u001b[0m       0                            0.0s\u001b[2K\u001b[1A\u001b[2K\u001b[1A\u001b[2K\u001b[0G[+] 0.1s\n",
      "Downloading  (4) \u001b[33m━━━━━━━━━━━━━━━━━━━━━━━\u001b[0m   0.0 B beautifulsoup4             0.0s\n",
      "Extracting       \u001b[90m━━━━━━━━━━━━━━━━━━━━━━━\u001b[0m       0                            0.0s\u001b[2K\u001b[1A\u001b[2K\u001b[1A\u001b[2K\u001b[0Gbeautifulsoup4                                      86.6kB @ 534.8kB/s  0.2s\n",
      "bs4                                                 10.2kB @  56.0kB/s  0.2s\n",
      "ca-certificates                                    130.4kB @ 711.8kB/s  0.2s\n",
      "[+] 0.2s\n",
      "Downloading  (1) ╸\u001b[33m━━━━━━━━━━━━━━━━━━━━━━\u001b[0m 227.2kB openssl                    0.1s\n",
      "Extracting   (3) \u001b[90m━━━━╸\u001b[0m\u001b[33m━━━━━━━━━━━━━━━╸\u001b[0m\u001b[90m━━\u001b[0m       0 beautifulsoup4             0.0s\u001b[2K\u001b[1A\u001b[2K\u001b[1A\u001b[2K\u001b[0Gopenssl                                              3.9MB @  15.6MB/s  0.3s\n",
      "[+] 0.3s\n",
      "Downloading      ━━━━━━━━━━━━━━━━━━━━━━━   4.1MB                            0.2s\n",
      "Extracting   (4) \u001b[90m━━━━━╸\u001b[0m\u001b[33m━━━━━━━━━━━━━━━╸\u001b[0m\u001b[90m━\u001b[0m       0 beautifulsoup4             0.1s\u001b[2K\u001b[1A\u001b[2K\u001b[1A\u001b[2K\u001b[0G[+] 0.4s\n",
      "Downloading      ━━━━━━━━━━━━━━━━━━━━━━━   4.1MB                            0.2s\n",
      "Extracting   (4) \u001b[90m━━━━━━╸\u001b[0m\u001b[33m━━━━━━━━━━━━━━━━\u001b[0m       0 beautifulsoup4             0.2s\u001b[2K\u001b[1A\u001b[2K\u001b[1A\u001b[2K\u001b[0G[+] 0.5s\n",
      "Downloading      ━━━━━━━━━━━━━━━━━━━━━━━   4.1MB                            0.2s\n",
      "Extracting   (4) \u001b[90m━━━━━━━╸\u001b[0m\u001b[33m━━━━━━━━━━━━━━━\u001b[0m       0 beautifulsoup4             0.3s\u001b[2K\u001b[1A\u001b[2K\u001b[1A\u001b[2K\u001b[0G[+] 0.6s\n",
      "Downloading      ━━━━━━━━━━━━━━━━━━━━━━━   4.1MB                            0.2s\n",
      "Extracting   (4) \u001b[90m━━━━━━━━╸\u001b[0m\u001b[33m━━━━━━━━━━━━━━\u001b[0m       0 bs4                        0.4s\u001b[2K\u001b[1A\u001b[2K\u001b[1A\u001b[2K\u001b[0G[+] 0.7s\n",
      "Downloading      ━━━━━━━━━━━━━━━━━━━━━━━   4.1MB                            0.2s\n",
      "Extracting   (4) \u001b[90m━━━━━━━━━╸\u001b[0m\u001b[33m━━━━━━━━━━━━━\u001b[0m       0 bs4                        0.5s\u001b[2K\u001b[1A\u001b[2K\u001b[1A\u001b[2K\u001b[0G[+] 0.8s\n",
      "Downloading      ━━━━━━━━━━━━━━━━━━━━━━━   4.1MB                            0.2s\n",
      "Extracting   (4) \u001b[90m━━━━━━━━━━╸\u001b[0m\u001b[33m━━━━━━━━━━━━\u001b[0m       0 bs4                        0.6s\u001b[2K\u001b[1A\u001b[2K\u001b[1A\u001b[2K\u001b[0G[+] 0.9s\n",
      "Downloading      ━━━━━━━━━━━━━━━━━━━━━━━   4.1MB                            0.2s\n",
      "Extracting   (4) \u001b[90m━━━━━━━━━━━╸\u001b[0m\u001b[33m━━━━━━━━━━━\u001b[0m       0 bs4                        0.7s\u001b[2K\u001b[1A\u001b[2K\u001b[1A\u001b[2K\u001b[0G[+] 1.0s\n",
      "Downloading      ━━━━━━━━━━━━━━━━━━━━━━━   4.1MB                            0.2s\n",
      "Extracting   (4) \u001b[90m━━━━━━━━━━━━╸\u001b[0m\u001b[33m━━━━━━━━━━\u001b[0m       0 ca-certificates            0.8s\u001b[2K\u001b[1A\u001b[2K\u001b[1A\u001b[2K\u001b[0G[+] 1.1s\n",
      "Downloading      ━━━━━━━━━━━━━━━━━━━━━━━   4.1MB                            0.2s\n",
      "Extracting   (4) \u001b[33m━━━━━━━╸\u001b[0m\u001b[90m━━━━━━━━━━━━━━━\u001b[0m       0 ca-certificates            0.9s\u001b[2K\u001b[1A\u001b[2K\u001b[1A\u001b[2K\u001b[0G[+] 1.2s\n",
      "Downloading      ━━━━━━━━━━━━━━━━━━━━━━━   4.1MB                            0.2s\n",
      "Extracting   (4) \u001b[33m━━━━━━━━━╸\u001b[0m\u001b[90m━━━━━━━━━━━━━\u001b[0m       0 ca-certificates            1.0s\u001b[2K\u001b[1A\u001b[2K\u001b[1A\u001b[2K\u001b[0G[+] 1.3s\n",
      "Downloading      ━━━━━━━━━━━━━━━━━━━━━━━   4.1MB                            0.2s\n",
      "Extracting   (4) \u001b[33m━━━━━━━━━━╸\u001b[0m\u001b[90m━━━━━━━━━━━━\u001b[0m       0 ca-certificates            1.1s\u001b[2K\u001b[1A\u001b[2K\u001b[1A\u001b[2K\u001b[0G[+] 1.4s\n",
      "Downloading      ━━━━━━━━━━━━━━━━━━━━━━━   4.1MB                            0.2s\n",
      "Extracting   (4) \u001b[33m━━━━━━━━━━━╸\u001b[0m\u001b[90m━━━━━━━━━━━\u001b[0m       0 openssl                    1.2s\u001b[2K\u001b[1A\u001b[2K\u001b[1A\u001b[2K\u001b[0G[+] 1.5s\n",
      "Downloading      ━━━━━━━━━━━━━━━━━━━━━━━   4.1MB                            0.2s\n",
      "Extracting   (4) \u001b[33m━━━━━━━━━━━━╸\u001b[0m\u001b[90m━━━━━━━━━━\u001b[0m       0 openssl                    1.3s\u001b[2K\u001b[1A\u001b[2K\u001b[1A\u001b[2K\u001b[0G[+] 1.6s\n",
      "Downloading      ━━━━━━━━━━━━━━━━━━━━━━━   4.1MB                            0.2s\n",
      "Extracting   (2) ━━━━━━━━━━╸\u001b[33m━━━━━━━━━━━━\u001b[0m       2 openssl                    1.4s\u001b[2K\u001b[1A\u001b[2K\u001b[1A\u001b[2K\u001b[0G[+] 1.7s\n",
      "Downloading      ━━━━━━━━━━━━━━━━━━━━━━━   4.1MB                            0.2s\n",
      "Extracting   (1) ━━━━━━━━━━━━━━━━╸\u001b[33m━━━━━━\u001b[0m       3 openssl                    1.5s\u001b[2K\u001b[1A\u001b[2K\u001b[1A\u001b[2K\u001b[0G\u001b[?25h\n",
      "Downloading and Extracting Packages\n",
      "\n",
      "Preparing transaction: done\n",
      "Verifying transaction: done\n",
      "Executing transaction: done\n",
      "Collecting nbformat==4.2.0\n",
      "  Downloading nbformat-4.2.0-py2.py3-none-any.whl (153 kB)\n",
      "\u001b[2K     \u001b[90m━━━━━━━━━━━━━━━━━━━━━━━━━━━━━━━━━━━━━━\u001b[0m \u001b[32m153.3/153.3 kB\u001b[0m \u001b[31m21.2 MB/s\u001b[0m eta \u001b[36m0:00:00\u001b[0m\n",
      "\u001b[?25hRequirement already satisfied: ipython-genutils in /home/jupyterlab/conda/envs/python/lib/python3.7/site-packages (from nbformat==4.2.0) (0.2.0)\n",
      "Requirement already satisfied: jsonschema!=2.5.0,>=2.4 in /home/jupyterlab/conda/envs/python/lib/python3.7/site-packages (from nbformat==4.2.0) (4.17.3)\n",
      "Requirement already satisfied: jupyter-core in /home/jupyterlab/conda/envs/python/lib/python3.7/site-packages (from nbformat==4.2.0) (4.12.0)\n",
      "Requirement already satisfied: traitlets>=4.1 in /home/jupyterlab/conda/envs/python/lib/python3.7/site-packages (from nbformat==4.2.0) (5.9.0)\n",
      "Requirement already satisfied: attrs>=17.4.0 in /home/jupyterlab/conda/envs/python/lib/python3.7/site-packages (from jsonschema!=2.5.0,>=2.4->nbformat==4.2.0) (23.1.0)\n",
      "Requirement already satisfied: importlib-metadata in /home/jupyterlab/conda/envs/python/lib/python3.7/site-packages (from jsonschema!=2.5.0,>=2.4->nbformat==4.2.0) (4.11.4)\n",
      "Requirement already satisfied: importlib-resources>=1.4.0 in /home/jupyterlab/conda/envs/python/lib/python3.7/site-packages (from jsonschema!=2.5.0,>=2.4->nbformat==4.2.0) (5.12.0)\n",
      "Requirement already satisfied: pkgutil-resolve-name>=1.3.10 in /home/jupyterlab/conda/envs/python/lib/python3.7/site-packages (from jsonschema!=2.5.0,>=2.4->nbformat==4.2.0) (1.3.10)\n",
      "Requirement already satisfied: pyrsistent!=0.17.0,!=0.17.1,!=0.17.2,>=0.14.0 in /home/jupyterlab/conda/envs/python/lib/python3.7/site-packages (from jsonschema!=2.5.0,>=2.4->nbformat==4.2.0) (0.19.3)\n",
      "Requirement already satisfied: typing-extensions in /home/jupyterlab/conda/envs/python/lib/python3.7/site-packages (from jsonschema!=2.5.0,>=2.4->nbformat==4.2.0) (4.5.0)\n",
      "Requirement already satisfied: zipp>=3.1.0 in /home/jupyterlab/conda/envs/python/lib/python3.7/site-packages (from importlib-resources>=1.4.0->jsonschema!=2.5.0,>=2.4->nbformat==4.2.0) (3.15.0)\n",
      "Installing collected packages: nbformat\n",
      "  Attempting uninstall: nbformat\n",
      "    Found existing installation: nbformat 5.8.0\n",
      "    Uninstalling nbformat-5.8.0:\n",
      "      Successfully uninstalled nbformat-5.8.0\n",
      "\u001b[31mERROR: pip's dependency resolver does not currently take into account all the packages that are installed. This behaviour is the source of the following dependency conflicts.\n",
      "jupyter-server 1.24.0 requires nbformat>=5.2.0, but you have nbformat 4.2.0 which is incompatible.\n",
      "nbclient 0.7.4 requires nbformat>=5.1, but you have nbformat 4.2.0 which is incompatible.\n",
      "nbconvert 7.4.0 requires nbformat>=5.1, but you have nbformat 4.2.0 which is incompatible.\u001b[0m\u001b[31m\n",
      "\u001b[0mSuccessfully installed nbformat-4.2.0\n",
      "\n",
      "                  __    __    __    __\n",
      "                 /  \\  /  \\  /  \\  /  \\\n",
      "                /    \\/    \\/    \\/    \\\n",
      "███████████████/  /██/  /██/  /██/  /████████████████████████\n",
      "              /  / \\   / \\   / \\   / \\  \\____\n",
      "             /  /   \\_/   \\_/   \\_/   \\    o \\__,\n",
      "            / _/                       \\_____/  `\n",
      "            |/\n",
      "        ███╗   ███╗ █████╗ ███╗   ███╗██████╗  █████╗\n",
      "        ████╗ ████║██╔══██╗████╗ ████║██╔══██╗██╔══██╗\n",
      "        ██╔████╔██║███████║██╔████╔██║██████╔╝███████║\n",
      "        ██║╚██╔╝██║██╔══██║██║╚██╔╝██║██╔══██╗██╔══██║\n",
      "        ██║ ╚═╝ ██║██║  ██║██║ ╚═╝ ██║██████╔╝██║  ██║\n",
      "        ╚═╝     ╚═╝╚═╝  ╚═╝╚═╝     ╚═╝╚═════╝ ╚═╝  ╚═╝\n",
      "\n",
      "        mamba (1.4.2) supported by @QuantStack\n",
      "\n",
      "        GitHub:  https://github.com/mamba-org/mamba\n",
      "        Twitter: https://twitter.com/QuantStack\n",
      "\n",
      "█████████████████████████████████████████████████████████████\n",
      "\n",
      "\n",
      "Looking for: ['html5lib==1.1']\n",
      "\n",
      "pkgs/main/linux-64                                          Using cache\n",
      "pkgs/main/noarch                                            Using cache\n",
      "pkgs/r/linux-64                                             Using cache\n",
      "pkgs/r/noarch                                               Using cache\n",
      "\n",
      "Pinned packages:\n",
      "  - python 3.7.*\n",
      "\n",
      "\n",
      "Transaction\n",
      "\n",
      "  Prefix: /home/jupyterlab/conda/envs/python\n",
      "\n",
      "  Updating specs:\n",
      "\n",
      "   - html5lib==1.1\n",
      "   - ca-certificates\n",
      "   - certifi\n",
      "   - openssl\n",
      "\n",
      "\n",
      "  Package         Version  Build         Channel                Size\n",
      "──────────────────────────────────────────────────────────────────────\n",
      "  Install:\n",
      "──────────────────────────────────────────────────────────────────────\n",
      "\n",
      "  \u001b[32m+ html5lib    \u001b[0m      1.1  pyhd3eb1b0_0  pkgs/main/noarch       93kB\n",
      "  \u001b[32m+ webencodings\u001b[0m    0.5.1  py37_1        pkgs/main/linux-64     20kB\n",
      "\n",
      "  Summary:\n",
      "\n",
      "  Install: 2 packages\n",
      "\n",
      "  Total download: 113kB\n",
      "\n",
      "──────────────────────────────────────────────────────────────────────\n",
      "\n",
      "\n",
      "\u001b[?25l\u001b[2K\u001b[0G[+] 0.0s\n",
      "Downloading      \u001b[90m━━━━━━━━━━━━━━━━━━━━━━━\u001b[0m   0.0 B                            0.0s\n",
      "Extracting       \u001b[90m━━━━━━━━━━━━━━━━━━━━━━━\u001b[0m       0                            0.0s\u001b[2K\u001b[1A\u001b[2K\u001b[1A\u001b[2K\u001b[0G[+] 0.1s\n",
      "Downloading  (2) \u001b[33m━━━━━━━━━━━━━━━━━━━━━━━\u001b[0m   0.0 B html5lib                   0.0s\n",
      "Extracting       \u001b[90m━━━━━━━━━━━━━━━━━━━━━━━\u001b[0m       0                            0.0s\u001b[2K\u001b[1A\u001b[2K\u001b[1A\u001b[2K\u001b[0G[+] 0.2s\n",
      "Downloading  (2) \u001b[33m━━━━━━━━━━━━━━━━━━━━━━━\u001b[0m   0.0 B html5lib                   0.1s\n",
      "Extracting       \u001b[90m━━━━━━━━━━━━━━━━━━━━━━━\u001b[0m       0                            0.0s\u001b[2K\u001b[1A\u001b[2K\u001b[1A\u001b[2K\u001b[0Gwebencodings                                        19.6kB @  77.1kB/s  0.3s\n",
      "html5lib                                            93.0kB @ 366.5kB/s  0.3s\n",
      "[+] 0.3s\n",
      "Downloading      ━━━━━━━━━━━━━━━━━━━━━━━ 112.6kB                            0.2s\n",
      "Extracting   (2) \u001b[33m━━━━━━━━━━━━━╸\u001b[0m\u001b[90m━━━━━━━━━\u001b[0m       0 html5lib                   0.0s\u001b[2K\u001b[1A\u001b[2K\u001b[1A\u001b[2K\u001b[0G[+] 0.4s\n",
      "Downloading      ━━━━━━━━━━━━━━━━━━━━━━━ 112.6kB                            0.2s\n",
      "Extracting   (2) \u001b[33m━━━━━━━━━━━━━━╸\u001b[0m\u001b[90m━━━━━━━━\u001b[0m       0 html5lib                   0.1s\u001b[2K\u001b[1A\u001b[2K\u001b[1A\u001b[2K\u001b[0G[+] 0.5s\n",
      "Downloading      ━━━━━━━━━━━━━━━━━━━━━━━ 112.6kB                            0.2s\n",
      "Extracting   (2) \u001b[33m━━━━━━━━━━━━━━━╸\u001b[0m\u001b[90m━━━━━━━\u001b[0m       0 html5lib                   0.2s\u001b[2K\u001b[1A\u001b[2K\u001b[1A\u001b[2K\u001b[0G[+] 0.6s\n",
      "Downloading      ━━━━━━━━━━━━━━━━━━━━━━━ 112.6kB                            0.2s\n",
      "Extracting   (2) \u001b[90m╸\u001b[0m\u001b[33m━━━━━━━━━━━━━━━╸\u001b[0m\u001b[90m━━━━━━\u001b[0m       0 html5lib                   0.3s\u001b[2K\u001b[1A\u001b[2K\u001b[1A\u001b[2K\u001b[0G[+] 0.7s\n",
      "Downloading      ━━━━━━━━━━━━━━━━━━━━━━━ 112.6kB                            0.2s\n",
      "Extracting   (2) \u001b[90m━╸\u001b[0m\u001b[33m━━━━━━━━━━━━━━━╸\u001b[0m\u001b[90m━━━━━\u001b[0m       0 webencodings               0.4s\u001b[2K\u001b[1A\u001b[2K\u001b[1A\u001b[2K\u001b[0G[+] 0.8s\n",
      "Downloading      ━━━━━━━━━━━━━━━━━━━━━━━ 112.6kB                            0.2s\n",
      "Extracting   (2) \u001b[90m━━╸\u001b[0m\u001b[33m━━━━━━━━━━━━━━━╸\u001b[0m\u001b[90m━━━━\u001b[0m       0 webencodings               0.5s\u001b[2K\u001b[1A\u001b[2K\u001b[1A\u001b[2K\u001b[0G[+] 0.9s\n",
      "Downloading      ━━━━━━━━━━━━━━━━━━━━━━━ 112.6kB                            0.2s\n",
      "Extracting       ━━━━━━━━━━━━━━━━━━━━━━━       2                            0.6s\u001b[2K\u001b[1A\u001b[2K\u001b[1A\u001b[2K\u001b[0G\u001b[?25h\n",
      "Downloading and Extracting Packages\n",
      "\n",
      "Preparing transaction: done\n",
      "Verifying transaction: done\n",
      "Executing transaction: done\n"
     ]
    }
   ],
   "source": [
    "!pip install yfinance==0.1.67\n",
    "!mamba install bs4==4.10.0 -y\n",
    "!pip install nbformat==4.2.0\n",
    "!mamba install html5lib==1.1 -y "
   ]
  },
  {
   "cell_type": "code",
   "execution_count": 2,
   "metadata": {
    "tags": []
   },
   "outputs": [],
   "source": [
    "import yfinance as yf\n",
    "import pandas as pd\n",
    "import requests\n",
    "from bs4 import BeautifulSoup\n",
    "import plotly.graph_objects as go\n",
    "from plotly.subplots import make_subplots"
   ]
  },
  {
   "cell_type": "markdown",
   "metadata": {},
   "source": [
    "In Python, you can ignore warnings using the warnings module. You can use the filterwarnings function to filter or ignore specific warning messages or categories.\n"
   ]
  },
  {
   "cell_type": "code",
   "execution_count": 3,
   "metadata": {
    "tags": []
   },
   "outputs": [],
   "source": [
    "import warnings\n",
    "# Ignore all warnings\n",
    "warnings.filterwarnings(\"ignore\", category=FutureWarning)"
   ]
  },
  {
   "cell_type": "markdown",
   "metadata": {},
   "source": [
    "## Define Graphing Function\n"
   ]
  },
  {
   "cell_type": "markdown",
   "metadata": {},
   "source": [
    "In this section, we define the function `make_graph`. You don't have to know how the function works, you should only care about the inputs. It takes a dataframe with stock data (dataframe must contain Date and Close columns), a dataframe with revenue data (dataframe must contain Date and Revenue columns), and the name of the stock.\n"
   ]
  },
  {
   "cell_type": "code",
   "execution_count": 93,
   "metadata": {
    "tags": []
   },
   "outputs": [],
   "source": [
    "def make_graph(stock_data, revenue_data, stock):\n",
    "    fig = make_subplots(rows=2, cols=1, shared_xaxes=True, subplot_titles=(\"Historical Share Price\", \"Historical Revenue\"), vertical_spacing = .3)\n",
    "    stock_data_specific = stock_data[stock_data.Date <= '2021--06-14']\n",
    "    revenue_data_specific = revenue_data[revenue_data.Date <= '2021-04-30']\n",
    "    fig.add_trace(go.Scatter(x=pd.to_datetime(stock_data_specific.Date, infer_datetime_format=True), y=stock_data_specific.Close.astype(\"float\"), name=\"Share Price\"), row=1, col=1)\n",
    "    fig.add_trace(go.Scatter(x=pd.to_datetime(revenue_data_specific.Date, infer_datetime_format=True), y=revenue_data_specific.Revenue.astype(\"float\"), name=\"Revenue\"), row=2, col=1)\n",
    "    fig.update_xaxes(title_text=\"Date\", row=1, col=1)\n",
    "    fig.update_xaxes(title_text=\"Date\", row=2, col=1)\n",
    "    fig.update_yaxes(title_text=\"Price ($US)\", row=1, col=1)\n",
    "    fig.update_yaxes(title_text=\"Revenue ($US Millions)\", row=2, col=1)\n",
    "    fig.update_layout(showlegend=False,\n",
    "    height=900,\n",
    "    title=stock,\n",
    "    xaxis_rangeslider_visible=True)\n",
    "    fig.show()"
   ]
  },
  {
   "cell_type": "markdown",
   "metadata": {},
   "source": [
    "## Question 1: Use yfinance to Extract Stock Data\n"
   ]
  },
  {
   "cell_type": "markdown",
   "metadata": {},
   "source": [
    "Using the `Ticker` function enter the ticker symbol of the stock we want to extract data on to create a ticker object. The stock is Tesla and its ticker symbol is `TSLA`.\n"
   ]
  },
  {
   "cell_type": "code",
   "execution_count": 5,
   "metadata": {
    "tags": []
   },
   "outputs": [],
   "source": [
    "Tesla = yf.Ticker(\"TSLA\")"
   ]
  },
  {
   "cell_type": "markdown",
   "metadata": {},
   "source": [
    "Using the ticker object and the function `history` extract stock information and save it in a dataframe named `tesla_data`. Set the `period` parameter to `max` so we get information for the maximum amount of time.\n"
   ]
  },
  {
   "cell_type": "code",
   "execution_count": 63,
   "metadata": {
    "tags": []
   },
   "outputs": [],
   "source": [
    "Tesla_data = Tesla.history(period=\"max\")"
   ]
  },
  {
   "cell_type": "markdown",
   "metadata": {},
   "source": [
    "**Reset the index** using the `reset_index(inplace=True)` function on the tesla_data DataFrame and display the first five rows of the `tesla_data` dataframe using the `head` function. Take a screenshot of the results and code from the beginning of Question 1 to the results below.\n"
   ]
  },
  {
   "cell_type": "code",
   "execution_count": 7,
   "metadata": {
    "tags": []
   },
   "outputs": [
    {
     "data": {
      "text/html": [
       "<div>\n",
       "<style scoped>\n",
       "    .dataframe tbody tr th:only-of-type {\n",
       "        vertical-align: middle;\n",
       "    }\n",
       "\n",
       "    .dataframe tbody tr th {\n",
       "        vertical-align: top;\n",
       "    }\n",
       "\n",
       "    .dataframe thead th {\n",
       "        text-align: right;\n",
       "    }\n",
       "</style>\n",
       "<table border=\"1\" class=\"dataframe\">\n",
       "  <thead>\n",
       "    <tr style=\"text-align: right;\">\n",
       "      <th></th>\n",
       "      <th>Date</th>\n",
       "      <th>Open</th>\n",
       "      <th>High</th>\n",
       "      <th>Low</th>\n",
       "      <th>Close</th>\n",
       "      <th>Volume</th>\n",
       "      <th>Dividends</th>\n",
       "      <th>Stock Splits</th>\n",
       "    </tr>\n",
       "  </thead>\n",
       "  <tbody>\n",
       "    <tr>\n",
       "      <th>0</th>\n",
       "      <td>2010-06-29</td>\n",
       "      <td>1.266667</td>\n",
       "      <td>1.666667</td>\n",
       "      <td>1.169333</td>\n",
       "      <td>1.592667</td>\n",
       "      <td>281494500</td>\n",
       "      <td>0</td>\n",
       "      <td>0.0</td>\n",
       "    </tr>\n",
       "    <tr>\n",
       "      <th>1</th>\n",
       "      <td>2010-06-30</td>\n",
       "      <td>1.719333</td>\n",
       "      <td>2.028000</td>\n",
       "      <td>1.553333</td>\n",
       "      <td>1.588667</td>\n",
       "      <td>257806500</td>\n",
       "      <td>0</td>\n",
       "      <td>0.0</td>\n",
       "    </tr>\n",
       "    <tr>\n",
       "      <th>2</th>\n",
       "      <td>2010-07-01</td>\n",
       "      <td>1.666667</td>\n",
       "      <td>1.728000</td>\n",
       "      <td>1.351333</td>\n",
       "      <td>1.464000</td>\n",
       "      <td>123282000</td>\n",
       "      <td>0</td>\n",
       "      <td>0.0</td>\n",
       "    </tr>\n",
       "    <tr>\n",
       "      <th>3</th>\n",
       "      <td>2010-07-02</td>\n",
       "      <td>1.533333</td>\n",
       "      <td>1.540000</td>\n",
       "      <td>1.247333</td>\n",
       "      <td>1.280000</td>\n",
       "      <td>77097000</td>\n",
       "      <td>0</td>\n",
       "      <td>0.0</td>\n",
       "    </tr>\n",
       "    <tr>\n",
       "      <th>4</th>\n",
       "      <td>2010-07-06</td>\n",
       "      <td>1.333333</td>\n",
       "      <td>1.333333</td>\n",
       "      <td>1.055333</td>\n",
       "      <td>1.074000</td>\n",
       "      <td>103003500</td>\n",
       "      <td>0</td>\n",
       "      <td>0.0</td>\n",
       "    </tr>\n",
       "  </tbody>\n",
       "</table>\n",
       "</div>"
      ],
      "text/plain": [
       "        Date      Open      High       Low     Close     Volume  Dividends  \\\n",
       "0 2010-06-29  1.266667  1.666667  1.169333  1.592667  281494500          0   \n",
       "1 2010-06-30  1.719333  2.028000  1.553333  1.588667  257806500          0   \n",
       "2 2010-07-01  1.666667  1.728000  1.351333  1.464000  123282000          0   \n",
       "3 2010-07-02  1.533333  1.540000  1.247333  1.280000   77097000          0   \n",
       "4 2010-07-06  1.333333  1.333333  1.055333  1.074000  103003500          0   \n",
       "\n",
       "   Stock Splits  \n",
       "0           0.0  \n",
       "1           0.0  \n",
       "2           0.0  \n",
       "3           0.0  \n",
       "4           0.0  "
      ]
     },
     "execution_count": 7,
     "metadata": {},
     "output_type": "execute_result"
    }
   ],
   "source": [
    "Tesla_data.reset_index(inplace=True)\n",
    "Tesla_data.head()"
   ]
  },
  {
   "cell_type": "markdown",
   "metadata": {},
   "source": [
    "## Question 2: Use Webscraping to Extract Tesla Revenue Data\n"
   ]
  },
  {
   "cell_type": "markdown",
   "metadata": {},
   "source": [
    "Use the `requests` library to download the webpage https://cf-courses-data.s3.us.cloud-object-storage.appdomain.cloud/IBMDeveloperSkillsNetwork-PY0220EN-SkillsNetwork/labs/project/revenue.htm Save the text of the response as a variable named `html_data`.\n"
   ]
  },
  {
   "cell_type": "code",
   "execution_count": 8,
   "metadata": {
    "tags": []
   },
   "outputs": [],
   "source": [
    "url= \" https://cf-courses-data.s3.us.cloud-object-storage.appdomain.cloud/IBMDeveloperSkillsNetwork-PY0220EN-SkillsNetwork/labs/project/revenue.htm\"\n",
    "html_data= requests.get(url).text   "
   ]
  },
  {
   "cell_type": "markdown",
   "metadata": {},
   "source": [
    "Parse the html data using `beautiful_soup`.\n"
   ]
  },
  {
   "cell_type": "code",
   "execution_count": 37,
   "metadata": {
    "tags": []
   },
   "outputs": [],
   "source": [
    "soup = BeautifulSoup(html_data , \"html\")"
   ]
  },
  {
   "cell_type": "markdown",
   "metadata": {},
   "source": [
    "Using `BeautifulSoup` or the `read_html` function extract the table with `Tesla Revenue` and store it into a dataframe named `tesla_revenue`. The dataframe should have columns `Date` and `Revenue`.\n"
   ]
  },
  {
   "cell_type": "markdown",
   "metadata": {},
   "source": [
    "<details><summary>Click here if you need help locating the table</summary>\n",
    "\n",
    "```\n",
    "    \n",
    "Below is the code to isolate the table, you will now need to loop through the rows and columns like in the previous lab\n",
    "    \n",
    "soup.find_all(\"tbody\")[1]\n",
    "    \n",
    "If you want to use the read_html function the table is located at index 1\n",
    "\n",
    "We are focusing on quarterly revenue in the lab.\n",
    "```\n",
    "\n",
    "</details>\n"
   ]
  },
  {
   "cell_type": "code",
   "execution_count": 74,
   "metadata": {
    "tags": []
   },
   "outputs": [],
   "source": [
    "df=pd.read_html(html_data,header=0)\n",
    "table=soup.find_all('table')\n",
    "second_table= table[1]\n",
    "tesla_revenue= pd.DataFrame(columns=[\"Date\",\"Revenue\"])\n",
    "for row in second_table.find(\"tbody\").find_all(\"tr\"):\n",
    "    col= row.find_all('td')\n",
    "    date= col[0].string\n",
    "    revenue= col[1].string\n",
    "    tesla_revenue= tesla_revenue.append({\"Date\":date, \"Revenue\":revenue}, ignore_index = True)\n",
    "tesla_revenue[\"Revenue\"]= tesla_revenue['Revenue'].str.replace('$','').str.replace(',','')"
   ]
  },
  {
   "cell_type": "markdown",
   "metadata": {},
   "source": [
    "Execute the following line to remove the comma and dollar sign from the `Revenue` column. \n"
   ]
  },
  {
   "cell_type": "code",
   "execution_count": 75,
   "metadata": {
    "tags": []
   },
   "outputs": [],
   "source": [
    "tesla_revenue[\"Revenue\"] = tesla_revenue['Revenue'].str.replace(',|\\$',\"\")"
   ]
  },
  {
   "cell_type": "markdown",
   "metadata": {},
   "source": [
    "Execute the following lines to remove an null or empty strings in the Revenue column.\n"
   ]
  },
  {
   "cell_type": "code",
   "execution_count": 76,
   "metadata": {
    "tags": []
   },
   "outputs": [],
   "source": [
    "tesla_revenue.dropna(inplace=True)\n",
    "\n",
    "tesla_revenue = tesla_revenue[tesla_revenue['Revenue'] != \"\"]"
   ]
  },
  {
   "cell_type": "markdown",
   "metadata": {},
   "source": [
    "Display the last 5 row of the `tesla_revenue` dataframe using the `tail` function. Take a screenshot of the results.\n"
   ]
  },
  {
   "cell_type": "code",
   "execution_count": 79,
   "metadata": {
    "tags": []
   },
   "outputs": [
    {
     "data": {
      "text/html": [
       "<div>\n",
       "<style scoped>\n",
       "    .dataframe tbody tr th:only-of-type {\n",
       "        vertical-align: middle;\n",
       "    }\n",
       "\n",
       "    .dataframe tbody tr th {\n",
       "        vertical-align: top;\n",
       "    }\n",
       "\n",
       "    .dataframe thead th {\n",
       "        text-align: right;\n",
       "    }\n",
       "</style>\n",
       "<table border=\"1\" class=\"dataframe\">\n",
       "  <thead>\n",
       "    <tr style=\"text-align: right;\">\n",
       "      <th></th>\n",
       "      <th>Date</th>\n",
       "      <th>Revenue</th>\n",
       "    </tr>\n",
       "  </thead>\n",
       "  <tbody>\n",
       "    <tr>\n",
       "      <th>48</th>\n",
       "      <td>2010-09-30</td>\n",
       "      <td>31</td>\n",
       "    </tr>\n",
       "    <tr>\n",
       "      <th>49</th>\n",
       "      <td>2010-06-30</td>\n",
       "      <td>28</td>\n",
       "    </tr>\n",
       "    <tr>\n",
       "      <th>50</th>\n",
       "      <td>2010-03-31</td>\n",
       "      <td>21</td>\n",
       "    </tr>\n",
       "    <tr>\n",
       "      <th>52</th>\n",
       "      <td>2009-09-30</td>\n",
       "      <td>46</td>\n",
       "    </tr>\n",
       "    <tr>\n",
       "      <th>53</th>\n",
       "      <td>2009-06-30</td>\n",
       "      <td>27</td>\n",
       "    </tr>\n",
       "  </tbody>\n",
       "</table>\n",
       "</div>"
      ],
      "text/plain": [
       "          Date Revenue\n",
       "48  2010-09-30      31\n",
       "49  2010-06-30      28\n",
       "50  2010-03-31      21\n",
       "52  2009-09-30      46\n",
       "53  2009-06-30      27"
      ]
     },
     "execution_count": 79,
     "metadata": {},
     "output_type": "execute_result"
    }
   ],
   "source": [
    "tesla_revenue.tail(5)"
   ]
  },
  {
   "cell_type": "markdown",
   "metadata": {},
   "source": [
    "## Question 3: Use yfinance to Extract Stock Data\n"
   ]
  },
  {
   "cell_type": "markdown",
   "metadata": {},
   "source": [
    "Using the `Ticker` function enter the ticker symbol of the stock we want to extract data on to create a ticker object. The stock is GameStop and its ticker symbol is `GME`.\n"
   ]
  },
  {
   "cell_type": "code",
   "execution_count": 45,
   "metadata": {
    "tags": []
   },
   "outputs": [],
   "source": [
    "gme = yf.Ticker(\"GME\")"
   ]
  },
  {
   "cell_type": "markdown",
   "metadata": {},
   "source": [
    "Using the ticker object and the function `history` extract stock information and save it in a dataframe named `gme_data`. Set the `period` parameter to `max` so we get information for the maximum amount of time.\n"
   ]
  },
  {
   "cell_type": "code",
   "execution_count": 48,
   "metadata": {
    "tags": []
   },
   "outputs": [],
   "source": [
    "gme_data = gme.history(period=\"max\")\n"
   ]
  },
  {
   "cell_type": "markdown",
   "metadata": {},
   "source": [
    "**Reset the index** using the `reset_index(inplace=True)` function on the gme_data DataFrame and display the first five rows of the `gme_data` dataframe using the `head` function. Take a screenshot of the results and code from the beginning of Question 3 to the results below.\n"
   ]
  },
  {
   "cell_type": "code",
   "execution_count": 49,
   "metadata": {
    "tags": []
   },
   "outputs": [
    {
     "data": {
      "text/html": [
       "<div>\n",
       "<style scoped>\n",
       "    .dataframe tbody tr th:only-of-type {\n",
       "        vertical-align: middle;\n",
       "    }\n",
       "\n",
       "    .dataframe tbody tr th {\n",
       "        vertical-align: top;\n",
       "    }\n",
       "\n",
       "    .dataframe thead th {\n",
       "        text-align: right;\n",
       "    }\n",
       "</style>\n",
       "<table border=\"1\" class=\"dataframe\">\n",
       "  <thead>\n",
       "    <tr style=\"text-align: right;\">\n",
       "      <th></th>\n",
       "      <th>Date</th>\n",
       "      <th>Open</th>\n",
       "      <th>High</th>\n",
       "      <th>Low</th>\n",
       "      <th>Close</th>\n",
       "      <th>Volume</th>\n",
       "      <th>Dividends</th>\n",
       "      <th>Stock Splits</th>\n",
       "    </tr>\n",
       "  </thead>\n",
       "  <tbody>\n",
       "    <tr>\n",
       "      <th>0</th>\n",
       "      <td>2002-02-13</td>\n",
       "      <td>1.620128</td>\n",
       "      <td>1.693350</td>\n",
       "      <td>1.603296</td>\n",
       "      <td>1.691667</td>\n",
       "      <td>76216000</td>\n",
       "      <td>0.0</td>\n",
       "      <td>0.0</td>\n",
       "    </tr>\n",
       "    <tr>\n",
       "      <th>1</th>\n",
       "      <td>2002-02-14</td>\n",
       "      <td>1.712707</td>\n",
       "      <td>1.716074</td>\n",
       "      <td>1.670626</td>\n",
       "      <td>1.683250</td>\n",
       "      <td>11021600</td>\n",
       "      <td>0.0</td>\n",
       "      <td>0.0</td>\n",
       "    </tr>\n",
       "    <tr>\n",
       "      <th>2</th>\n",
       "      <td>2002-02-15</td>\n",
       "      <td>1.683251</td>\n",
       "      <td>1.687459</td>\n",
       "      <td>1.658002</td>\n",
       "      <td>1.674834</td>\n",
       "      <td>8389600</td>\n",
       "      <td>0.0</td>\n",
       "      <td>0.0</td>\n",
       "    </tr>\n",
       "    <tr>\n",
       "      <th>3</th>\n",
       "      <td>2002-02-19</td>\n",
       "      <td>1.666418</td>\n",
       "      <td>1.666418</td>\n",
       "      <td>1.578047</td>\n",
       "      <td>1.607504</td>\n",
       "      <td>7410400</td>\n",
       "      <td>0.0</td>\n",
       "      <td>0.0</td>\n",
       "    </tr>\n",
       "    <tr>\n",
       "      <th>4</th>\n",
       "      <td>2002-02-20</td>\n",
       "      <td>1.615920</td>\n",
       "      <td>1.662210</td>\n",
       "      <td>1.603296</td>\n",
       "      <td>1.662210</td>\n",
       "      <td>6892800</td>\n",
       "      <td>0.0</td>\n",
       "      <td>0.0</td>\n",
       "    </tr>\n",
       "  </tbody>\n",
       "</table>\n",
       "</div>"
      ],
      "text/plain": [
       "        Date      Open      High       Low     Close    Volume  Dividends  \\\n",
       "0 2002-02-13  1.620128  1.693350  1.603296  1.691667  76216000        0.0   \n",
       "1 2002-02-14  1.712707  1.716074  1.670626  1.683250  11021600        0.0   \n",
       "2 2002-02-15  1.683251  1.687459  1.658002  1.674834   8389600        0.0   \n",
       "3 2002-02-19  1.666418  1.666418  1.578047  1.607504   7410400        0.0   \n",
       "4 2002-02-20  1.615920  1.662210  1.603296  1.662210   6892800        0.0   \n",
       "\n",
       "   Stock Splits  \n",
       "0           0.0  \n",
       "1           0.0  \n",
       "2           0.0  \n",
       "3           0.0  \n",
       "4           0.0  "
      ]
     },
     "execution_count": 49,
     "metadata": {},
     "output_type": "execute_result"
    }
   ],
   "source": [
    "gme_data.reset_index(inplace=True)\n",
    "gme_data.head()"
   ]
  },
  {
   "cell_type": "markdown",
   "metadata": {},
   "source": [
    "## Question 4: Use Webscraping to Extract GME Revenue Data\n"
   ]
  },
  {
   "cell_type": "markdown",
   "metadata": {},
   "source": [
    "Use the `requests` library to download the webpage https://cf-courses-data.s3.us.cloud-object-storage.appdomain.cloud/IBMDeveloperSkillsNetwork-PY0220EN-SkillsNetwork/labs/project/stock.html. Save the text of the response as a variable named `html_data`.\n"
   ]
  },
  {
   "cell_type": "code",
   "execution_count": 52,
   "metadata": {
    "tags": []
   },
   "outputs": [
    {
     "data": {
      "text/plain": [
       "'<!DOCTYPE html>\\n<!-- saved from url=(0105)https://web.archive.org/web/20200814131437/https://www.macrotrends.net/stocks/charts/GME/gamestop/revenue -->\\n<html class=\" js flexbox canvas canvastext webgl no-touch geolocation postmessage websqldatabase indexeddb hashchange history draganddrop websockets rgba hsla multiplebgs backgroundsize borderimage borderradius boxshadow textshadow opacity cssanimations csscolumns cssgradients cssreflections csstransforms csstransforms3d csstransitions fontface generatedcontent video audio localstorage sessionstorage webworkers no-applicationcache svg inlinesvg smil svgclippaths\" style=\"\"><!--<![endif]--><head><meta http-equiv=\"Content-Type\" content=\"text/html; charset=UTF-8\"><script type=\"text/javascript\" async=\"\" src=\"./GameStop Revenue 2006-2020 _ GME _ MacroTrends_files/analytics.js.download\"></script><script async=\"\" type=\"text/javascript\" src=\"./GameStop Revenue 2006-2020 _ GME _ MacroTrends_files/gpt.js.download\"></script><script async=\"\" src=\"./GameStop Revenue 2006-2020 _ GME _ MacroTrends_files/analytics.js(1).download\"></script><script async=\"\" src=\"./GameStop Revenue 2006-2020 _ GME _ MacroTrends_files/analytics.js(1).download\"></script><script src=\"./GameStop Revenue 2006-2020 _ GME _ MacroTrends_files/analytics.js(2).download\" type=\"text/javascript\"></script>\\n<script type=\"text/javascript\">window.addEventListener(\\'DOMContentLoaded\\',function(){var v=archive_analytics.values;v.service=\\'wb\\';v.server_name=\\'wwwb-app201.us.archive.org\\';v.server_ms=286;archive_analytics.send_pageview({});});</script>\\n<script type=\"text/javascript\" src=\"./GameStop Revenue 2006-2020 _ GME _ MacroTrends_files/bundle-playback.js.download\" charset=\"utf-8\"></script>\\n<script type=\"text/javascript\" src=\"./GameStop Revenue 2006-2020 _ GME _ MacroTrends_files/wombat.js.download\" charset=\"utf-8\"></script>\\n<script type=\"text/javascript\">\\n  __wm.init(\"https://web.archive.org/web\");\\n  __wm.wombat(\"https://www.macrotrends.net/stocks/charts/GME/gamestop/revenue\",\"20200814131437\",\"https://web.archive.org/\",\"web\",\"/_static/\",\\n\\t      \"1597410877\");\\n</script>\\n<link rel=\"stylesheet\" type=\"text/css\" href=\"./GameStop Revenue 2006-2020 _ GME _ MacroTrends_files/banner-styles.css\">\\n<link rel=\"stylesheet\" type=\"text/css\" href=\"./GameStop Revenue 2006-2020 _ GME _ MacroTrends_files/iconochive.css\">\\n<!-- End Wayback Rewrite JS Include -->\\n\\n        \\n        <meta http-equiv=\"X-UA-Compatible\" content=\"IE=edge,chrome=1\">\\n\\t\\t<link rel=\"canonical\" href=\"https://web.archive.org/web/20200814131437/https://www.macrotrends.net/stocks/charts/GME/gamestop/revenue\">\\n\\t\\t<title>GameStop Revenue 2006-2020 | GME | MacroTrends</title>\\n\\t\\t<meta name=\"description\" content=\"GameStop revenue from 2006 to 2020. Revenue can be defined as the amount of money a company receives from its customers in exchange for the sales of goods or services.  Revenue is the top line item on an income statement from which all costs and expenses are subtracted to arrive at net income.\">\\n\\t\\t<meta name=\"robots\" content=\"\">\\n\\t\\t\\t\\t\\n\\t\\t<link rel=\"shortcut icon\" href=\"https://web.archive.org/web/20200814131437im_/https://www.macrotrends.net/assets/images/icons/FAVICON/macro-trends_favicon.ico\" type=\"image/x-icon\">\\n\\n\\t\\t<meta name=\"msvalidate.01\" content=\"1228954C688F5907894001CD8E5E624B\">\\n\\t\\t<meta name=\"google-site-verification\" content=\"6MnD_3iDtAP1ZyoGK1YMyVIVck4r5Ws80I9xD3ue4_A\">\\n\\n\\t\\t<!-- Load in Roboto Font -->\\n\\t\\t<link rel=\"stylesheet\" href=\"./GameStop Revenue 2006-2020 _ GME _ MacroTrends_files/css\">\\n\\n\\t\\t<!-- Bootstrap -->\\n\\t\\t<link rel=\"stylesheet\" href=\"./GameStop Revenue 2006-2020 _ GME _ MacroTrends_files/bootstrap.min.css\"> <!--for Bootstrap CDN version-->\\n\\t\\t<link rel=\"stylesheet\" href=\"./GameStop Revenue 2006-2020 _ GME _ MacroTrends_files/bootstrap-theme.min.css\">\\n\\n\\t\\t<!-- Font Awesome -->\\n\\t\\t<link rel=\"stylesheet\" href=\"./GameStop Revenue 2006-2020 _ GME _ MacroTrends_files/font-awesome.min.css\"> <!--for Font Awesome CDN version-->\\n    \\t\\t\\n\\t\\t<!-- Jquery, Bootstrap and Menu Javascript -->\\t\\n\\t\\t<script src=\"./GameStop Revenue 2006-2020 _ GME _ MacroTrends_files/jquery-1.12.4.min.js.download\" integrity=\"\" crossorigin=\"anonymous\"></script>\\n\\t\\t<script src=\"./GameStop Revenue 2006-2020 _ GME _ MacroTrends_files/bootstrap.min.js.download\"></script>\\n\\t\\t\\t\\t\\n\\t\\t<!-- Modernizr for cross-browser support -->\\t\\t\\n\\t\\t<script type=\"text/javascript\" src=\"./GameStop Revenue 2006-2020 _ GME _ MacroTrends_files/modernizr-2.6.2-respond-1.1.0.min.js.download\"></script>\\n\\n\\t\\t<!-- Latest compiled and minified CSS -->\\n\\t\\t<link rel=\"stylesheet\" href=\"./GameStop Revenue 2006-2020 _ GME _ MacroTrends_files/fuelux.min.css\">\\n\\n\\t\\t<!-- Latest compiled and minified JavaScript -->\\n\\t\\t<script src=\"./GameStop Revenue 2006-2020 _ GME _ MacroTrends_files/fuelux.min.js.download\"></script>\\n\\t\\t\\n\\t\\t\\n\\t\\t <!-- Twitter Card data -->\\n\\t\\t  <meta name=\"twitter:card\" content=\"summary_large_image\">\\n\\t\\t  <meta name=\"twitter:site\" content=\"@tmacrotrends\">\\n\\t\\t  <meta name=\"twitter:title\" content=\"GameStop Revenue 2006-2020 | GME\">\\n\\t\\t  <meta name=\"twitter:description\" content=\"GameStop revenue from 2006 to 2020. Revenue can be defined as the amount of money a company receives from its customers in exchange for the sales of goods or services.  Revenue is the top line item on an income statement from which all costs and expenses are subtracted to arrive at net income.\">\\n\\n\\t\\t  <!-- Open Graph data -->\\n\\t\\t  <meta property=\"og:url\" content=\"https://web.archive.org/web/20200814131437/https://www.macrotrends.net/stocks/charts/GME/gamestop/revenue\">  \\n\\t\\t  <meta property=\"og:title\" content=\"GameStop Revenue 2006-2020 | GME\">\\n\\t\\t  <meta property=\"og:description\" content=\"GameStop revenue from 2006 to 2020. Revenue can be defined as the amount of money a company receives from its customers in exchange for the sales of goods or services.  Revenue is the top line item on an income statement from which all costs and expenses are subtracted to arrive at net income.\">\\n\\n\\t\\t<!-- JQXGRID STYLES AND JAVASCRIPT -->\\n\\t\\t<link rel=\"stylesheet\" href=\"./GameStop Revenue 2006-2020 _ GME _ MacroTrends_files/jqx.base.css\" type=\"text/css\">\\n\\t\\t<link rel=\"stylesheet\" href=\"./GameStop Revenue 2006-2020 _ GME _ MacroTrends_files/jqx.bootstrap.css\" type=\"text/css\">\\n\\n\\t\\t<!-- LOAD THESE SCRIPTS EARLY SO THE TICKER INPUT FIELD IS STYLED INSTANTLY -->\\n\\t\\t<script type=\"text/javascript\" src=\"./GameStop Revenue 2006-2020 _ GME _ MacroTrends_files/jqxcore.js.download\"></script>\\n\\t\\t<script type=\"text/javascript\" src=\"./GameStop Revenue 2006-2020 _ GME _ MacroTrends_files/jqxdata.js.download\"></script> \\n\\t\\t<script type=\"text/javascript\" src=\"./GameStop Revenue 2006-2020 _ GME _ MacroTrends_files/jqxinput.js.download\"></script> \\n\\n\\t\\t<!-- Styling for search box -->\\t\\n\\t\\t<link rel=\"stylesheet\" type=\"text/css\" href=\"./GameStop Revenue 2006-2020 _ GME _ MacroTrends_files/jquery.typeahead_pages.css\">\\n\\n\\t\\t<!-- Search box javascript -->\\n\\t\\t<script src=\"./GameStop Revenue 2006-2020 _ GME _ MacroTrends_files/jquery.typeahead.min.js.download\"></script>\\n\\t\\t\\n\\n\\t\\t<link href=\"./GameStop Revenue 2006-2020 _ GME _ MacroTrends_files/select2.min.css\" rel=\"stylesheet\">\\n\\t\\t<script src=\"./GameStop Revenue 2006-2020 _ GME _ MacroTrends_files/select2.min.js.download\"></script>\\n\\t\\n\\t<!-- ToolTips -->\\t\\n\\t\\t<script src=\"./GameStop Revenue 2006-2020 _ GME _ MacroTrends_files/tipped.js.download\"></script>\\n\\t\\t<link rel=\"stylesheet\" href=\"./GameStop Revenue 2006-2020 _ GME _ MacroTrends_files/tipped.css\">\\n\\t\\t\\n\\t\\t\\t\\n\\t\\t<script async=\"\" src=\"./GameStop Revenue 2006-2020 _ GME _ MacroTrends_files/uat.js.download\"></script>\\n\\t\\t<script type=\"text/javascript\">\\n\\t\\t\\tInvestingChannelQueue = window.InvestingChannelQueue || [];\\n\\t\\t\\tvar ic_page;\\n\\t\\t\\tInvestingChannelQueue.push(function() {ic_page = InvestingChannel.UAT.Run(\"df17ac1e-cc7f-11e8-82a5-0abbb61c4a6a\");});\\n\\t\\t</script>\\t\\n\\n\\t\\t<!-- Global site tag (gtag.js) - Google Analytics -->\\n\\t\\t<script async=\"\" src=\"./GameStop Revenue 2006-2020 _ GME _ MacroTrends_files/js\"></script>\\n\\t\\t<script>\\n\\t\\t  window.dataLayer = window.dataLayer || [];\\n\\t\\t  function gtag(){dataLayer.push(arguments);}\\n\\t\\t  gtag(\\'js\\', new Date());\\n\\n\\t\\t  gtag(\\'config\\', \\'UA-62099500-1\\');\\n\\t\\t</script>\\t\\t\\n\\n\\n \\t\\t<!-- Amcharts Files -->\\t\\t\\n\\t\\t<script src=\"./GameStop Revenue 2006-2020 _ GME _ MacroTrends_files/amcharts.js.download\" type=\"text/javascript\"></script>\\n        <script src=\"./GameStop Revenue 2006-2020 _ GME _ MacroTrends_files/serial.js.download\" type=\"text/javascript\"></script>\\n        <script src=\"./GameStop Revenue 2006-2020 _ GME _ MacroTrends_files/light.js.download\" type=\"text/javascript\"></script>\\n        <script src=\"./GameStop Revenue 2006-2020 _ GME _ MacroTrends_files/amstock.js.download\" type=\"text/javascript\"></script>  \\n\\t\\t<script type=\"text/javascript\" src=\"./GameStop Revenue 2006-2020 _ GME _ MacroTrends_files/export.min.js.download\"></script>\\n\\t\\t<script type=\"text/javascript\" src=\"./GameStop Revenue 2006-2020 _ GME _ MacroTrends_files/fabric.min.js.download\"></script>\\n\\t\\t<script type=\"text/javascript\" src=\"./GameStop Revenue 2006-2020 _ GME _ MacroTrends_files/FileSaver.js.download\"></script>\\n\\t\\t<link rel=\"stylesheet\" href=\"./GameStop Revenue 2006-2020 _ GME _ MacroTrends_files/export.css\" type=\"text/css\" media=\"all\">\\t\\t\\n\\n\\n\\t\\t<!--<script>\\n\\t\\t\\t(function(i,s,o,g,r,a,m){i[\\'GoogleAnalyticsObject\\']=r;i[r]=i[r]||function(){\\n\\t\\t\\t(i[r].q=i[r].q||[]).push(arguments)},i[r].l=1*new Date();a=s.createElement(o),\\n\\t\\t\\tm=s.getElementsByTagName(o)[0];a.async=1;a.src=g;m.parentNode.insertBefore(a,m)\\n\\t\\t\\t})(window,document,\\'script\\',\\'//www.google-analytics.com/analytics.js\\',\\'ga\\');\\n\\n\\t\\t\\tga(\\'create\\', \\'UA-62099500-1\\', \\'auto\\');\\n\\t\\t\\tga(\\'send\\', \\'pageview\\');\\n\\t\\t\\t\\n\\t\\t\\t\\n\\t\\t\\t\\n\\t\\t   \\n\\t\\t\\t//Send one event to GA at 30 seconds to control bounce rate\\n\\t\\t\\tsetTimeout(\"ga(\\'send\\',\\'event\\',\\'Engaged User\\',\\'30 Second Engagement\\')\",30000); \\n\\n\\n\\t\\t  //This code sends events to ga every 30 seconds when the window is in focus\\n\\t\\t\\tvar count = 0;\\n\\t\\t\\tvar myInterval;\\n\\t\\t\\t\\t\\t\\n\\t\\t\\t// Active\\n\\t\\t\\twindow.addEventListener(\\'load\\', startTimer);\\n\\t\\t\\twindow.addEventListener(\\'focus\\', startTimer);\\n\\n\\t\\t\\t// Inactive\\n\\t\\t\\twindow.addEventListener(\\'blur\\', stopTimer);\\n\\n\\t\\t\\tfunction timerHandler() {\\n\\t\\t\\t\\tcount++;\\n\\t\\t\\t\\t\\n\\t\\t\\t\\tif(count % 60 == 0 && count <= 1800) {\\n\\t\\t\\t\\t\\t\\n\\t\\t\\t\\t\\tvar interval = (count/60);\\n\\t\\t\\t\\t\\tinterval = interval.toFixed(0);\\n\\t\\t\\t\\t\\t\\n\\t\\t\\t\\t\\tvar action = interval + \" Minute Engagement\";\\n\\t\\t\\t\\t\\t\\n\\t\\t\\t\\t\\tga(\\'send\\',\\'event\\',\\'Engaged User\\',action);\\n\\n\\t\\t\\t\\t\\t\\n\\t\\t\\t\\t}\\n\\t\\t\\t\\n\\t\\t\\t}\\n\\n\\t\\t\\t// Start timer\\n\\t\\t\\tfunction startTimer() {\\n\\t\\t\\tmyInterval = window.setInterval(timerHandler, 1000);\\n\\t\\t\\t}\\n\\n\\t\\t\\t// Stop timer\\n\\t\\t\\tfunction stopTimer() {\\n\\t\\t\\twindow.clearInterval(myInterval);\\n\\t\\t\\t}\\n\\t\\t\\t\\n\\t\\t\\t\\n\\n\\t\\t</script>-->\\n\\t\\t\\n<style> \\n\\n#style-1::-webkit-scrollbar-track\\n{\\n\\t-webkit-box-shadow: inset 0 0 6px rgba(0,0,0,0.3);\\n\\tborder-radius: 3px;\\n\\tbackground-color: #F5F5F5;\\n}\\n\\n#style-1::-webkit-scrollbar\\n{\\n\\twidth: 18px;\\n\\tbackground-color: #F5F5F5;\\n}\\n\\n#style-1::-webkit-scrollbar-thumb\\n{\\n\\tborder-radius: 3px;\\n\\t-webkit-box-shadow: inset 0 0 6px rgba(0,0,0,.3);\\n\\tbackground-color: #5B9BD5;\\n}\\n\\nhtml {\\n\\twidth:100%;\\n\\tposition: relative;\\n\\tmin-height: 100%;\\n}\\n\\nbody {\\n\\t\\n\\twidth:100%;\\n\\n\\t/* Margin bottom by footer height */\\n\\t  margin-bottom: 80px;\\n\\t  color: #444;\\n\\t  background-color:#fff;\\n\\t  font-family: \\'Roboto\\', sans-serif;\\n\\t  font-size:14px;\\n}\\n\\n\\n\\n\\n\\n.header_content_container {\\n\\t\\n\\tmin-width: 1250px;\\n\\tpadding: 0px;\\n}\\n\\n.main_content_container {\\n\\t\\n\\tmin-width: 1366px;\\n\\tmax-width: 1366px;\\n\\tpadding: 0px 30px 100px 30px;\\n\\t\\n}\\n\\n.sub_main_content_container {\\n\\t\\n\\t\\n}\\n\\n#left_sidebar {\\n\\t\\n  width: 180px;\\n  float:left;\\n  height:3080px;\\n\\t\\n}\\n\\n#main_content {\\n\\t\\n\\tpadding:0px 20px 0px 0px;\\n\\twidth:826px;\\n    float:left;\\n\\t\\n}\\n\\n#right_sidebar {\\n\\t\\n  width: 300px;\\n  float:left;\\n  height:3080px;\\n\\t\\n}\\n\\n#sticky_ad_left {\\n\\t\\n  position: -webkit-sticky;\\n  position: sticky;\\n  top: 30px;\\n\\t\\n\\t\\n}\\n\\n#sticky_ad_right {\\n\\t\\n  position: -webkit-sticky;\\n  position: sticky;\\n  top: 30px;\\n\\t\\n\\t\\n}\\n\\n\\n\\n\\n\\n.footer {\\n  position: absolute;\\n  bottom: 0;\\n  width: 100%;\\n  /* Set the fixed height of the footer here */\\n  height: 100px;\\n  margin-top: 10px;\\t\\n  padding: 30px 20px 20px 20px;\\n  color:#fff !important;\\n  background-color:#444;\\n  text-align: center;\\n  font-size:16px;\\n}\\n\\n.footer a {\\n  color:#fff !important;\\n}\\n\\n.ticker_search_box {\\n\\t\\n\\tbackground-color:#F5F5F5;\\n\\tborder: 1px solid #E0E0E0;\\n\\tborder-bottom:none;\\n\\tpadding:10px 30px 10px 10px;\\n\\tmargin:0px 0px 0px 0px;\\n\\ttext-align:center;\\n\\t\\n}\\n\\n.related_tickers {\\n\\t\\n\\twidth:100%;\\n\\tbackground-color:#F5F5F5;\\n\\tborder: 1px solid #E0E0E0;\\n\\tborder-top: 0px;\\n\\tpadding:3px 30px 3px 10px;\\n\\tmargin:0px 0px 0px 0px;\\n\\ttext-align:center;\\n\\t\\n}\\n\\n.statement_type_select {\\n\\n\\twidth:100%;\\n\\theight:28px;\\n\\t\\n}\\n\\n.frequency_select {\\n\\n\\twidth:100%;\\n\\theight:28px;\\n\\tfont-weight:600;\\n\\t\\n}\\n\\n\\n.select2 {\\n\\t\\n\\ttext-align:left;\\n\\tfont-weight:600;\\n\\t\\n\\t}\\n\\t\\n#jqxInput {\\n\\n\\t\\twidth:100%;\\n\\t\\theight:28px;\\n\\t\\t\\n}\\n\\n\\n\\n.header__parent_container {\\n\\n\\twidth:100%;\\n\\theight:50px;\\n\\tpadding:15px 0px 10px -20px; \\n\\tmargin:0px 0px 0px 0px;\\n\\tbackground-color:#444;\\n\\n}\\n\\n.header_container {\\n\\n\\twidth:100%;\\n\\theight:50px;\\n\\tpadding:15px 0px 10px -20px; \\n\\tmargin:0px 0px 0px 0px;\\n\\tbackground-color:#444;\\n\\n}\\n\\n.header_logo {\\n\\t\\n\\tpadding-top:10px;\\n\\tmargin-left:50px;\\n\\t\\n}\\n\\n.menu_parent_container {\\n\\t\\n\\twidth:100%;\\n\\theight:34px;\\n\\tfont-size:16px;\\n\\tpadding:15px 0px 10px -20px; \\n\\tmargin:0px 0px 0px 0px;\\n\\tbackground-color:#0089de;\\n}\\n\\n.menu_container {\\n\\t\\n\\twidth:1280px;\\n\\theight:34px;\\n\\tfont-size:16px;\\n\\tpadding:11px 0px 0px -20px; \\n\\tmargin: 0 auto;\\n\\tbackground-color:#0089de;\\n\\tz-index:1000;\\n}\\n\\n.menu_item {\\n\\n\\theight:34px;\\n\\tfloat:left;\\n\\tfont-size:14px;\\n\\tfont-weight:bold;\\n\\tcolor:#fff;\\n\\ttext-align:center;\\n\\tpadding:7px 16px 0px 16px;\\t\\n\\n}\\n\\n.menu_item:hover\\n{\\n\\tbackground-color:#32a0e4;\\n\\tcursor: pointer;\\n}\\n\\n.menu_item a\\n{\\n\\tcolor:#fff;\\n\\tcursor: pointer;\\n}\\n\\n.menu_item a:hover\\n{\\n\\ttext-decoration:none;\\n\\tcursor: pointer;\\n}\\n\\n.leaderboard_ad {\\n\\n\\tmargin-top:20px;\\n\\tmargin-bottom:20px;\\n\\ttext-align:center;\\n\\tmin-height:100px;\\n\\n}\\n\\n#filter_result_count {\\n\\t\\n\\twidth:100%;\\n\\ttext-align:center;\\n\\tfont-size:24px;\\n\\tfont-weight:bold;\\n\\tpadding:10px 15px;\\n\\tbackground-color:#efefef;\\n\\tborder: 1px solid #dfdfdf;\\n\\tmargin:20px;\\n\\t\\n}\\n\\n\\nselect {\\n  color: #444;\\n  background-color: #FFF;\\n  border: 1px solid #AAA;\\n  border-radius: 4px;\\n  box-sizing: border-box;\\n  cursor: pointer;\\n  display: block;\\n  height:40px;\\n  line-height: 40px;\\n}\\n\\n.historical_data_table  {\\n    table-layout: fixed;\\n\\tmargin:20px;\\n}\\n\\n.historical_data_table tbody tr td {\\n\\t\\n\\tpadding:6px;\\n\\tvertical-align: middle !important;\\n\\n}\\n\\n\\n.descriptors {\\n\\t\\n\\ttext-align:center;\\n\\tfont-size:14px;\\n\\tpadding:15px;\\n\\t\\n}\\n\\n.td_metric_name {\\n\\t\\n\\twidth:110px;\\n\\tpadding-top:17px;\\n\\t\\n}\\n\\n.metric_link {\\n\\t\\n\\tfont-size:14px;\\n\\tfont-weight:bold;\\n\\n}\\n\\n.help_icon {\\n\\t\\n\\twidth:15px;\\n\\theight:18px; \\n\\tpadding-bottom:3px;\\n\\t\\n}\\n\\n.td_min_value {\\n\\t\\n\\twidth:75px;\\n\\ttext-align:center;\\n\\tfont-size:13px;\\n\\t\\n}\\n\\n.td_max_value {\\n\\t\\n\\twidth:75px;\\n\\ttext-align:center;\\n\\tfont-size:13px;\\n\\t\\n}\\n\\n#myCombobox .form-control {\\n\\t\\n\\tbackground-color: #99d5ff;\\n\\n\\t\\n}\\n\\n.dropdown-toggle {\\n\\t\\n\\theight:24px;\\n\\tpadding-top:0px;\\n\\tpadding-left:7px;\\n\\twidth:24px;\\n\\t\\n}\\n\\n.dropdown-menu-right {\\n\\t\\n\\tmin-width:75px;\\n\\tfont-size:13px;\\n\\t\\n}\\n\\n.form-control {\\n\\t\\n\\tfont-size:12px;\\t\\n\\tpadding:5px 10px;\\n\\theight:24px;\\n\\n\\t\\n}\\n\\n#myPills1 {\\n\\t\\n\\tmargin:0px 15px 10px 0px;\\n\\t\\n}\\n\\n#jqxgrid {\\n\\t\\n\\tborder-radius:0px;\\n\\t\\n}\\n\\n.jqx-widget-header {\\n\\t\\n    font-family: \\'Roboto\\', sans-serif;\\n\\tfont-size:13px;\\t\\n\\t\\n}\\n\\n.jqx-item {\\n\\t\\n    font-family: \\'Roboto\\', sans-serif;\\n\\tfont-size: 13px;\\n\\t\\n}\\n\\n.jqx-widget-content {\\n\\t\\n\\tborder-color: #E0E0E0;\\n\\t\\n}\\n\\n#jqxgrid .jqx-grid-cell {\\n\\t\\n\\tborder-color: #E0E0E0;\\n\\t\\n}\\n\\n#jqxgrid .jqx-grid-cell-pinned {\\n\\t\\n\\tborder-color: #E0E0E0;\\n\\tbackground-color: #F5F5F5;\\n\\t\\n}\\n\\n#jqxgrid .jqx-grid-column-header {\\n\\t\\n\\tborder-color: #E0E0E0;\\n\\tbackground-color: #F5F5F5;\\n\\t\\n}\\n\\n.clear_zero {\\n\\n\\theight:0px;\\n\\n}\\n\\n\\n\\n/* Styles for Popup Charts */\\n\\n.tpd-size-large {\\n\\t\\n\\tmargin:0px;\\t\\n\\tpadding: 0px;\\n}\\n\\n.popup_window_wrapper {\\n\\t\\n\\tmargin:15px;\\n\\t\\n}\\n\\n.popup_stock_name {\\n\\n\\tfont-size:16px;\\n\\tfont-weight:bold;\\n\\tmargin:5px;\\n\\n}\\n\\n.popup_stock_attributes {\\n\\n\\tfont-size:13px;\\n\\tfont-weight:bold;\\n\\tmargin:5px;\\n\\n}\\n\\n.popup_stock_description {\\n\\n\\tfont-size:12px;\\n\\tmargin:5px;\\n\\n}\\n\\n.jqx-input {\\n\\t\\n\\tfont-size:14px;\\n\\t\\n} \\n\\n.jqx-menu-item {\\n\\t\\n\\tfont-size:14px;\\n\\t\\n}\\n\\n.jqx-input {\\n\\t\\n\\tpadding:5px 10px;\\n\\t\\n}\\n\\n.nav-tabs {\\n    border: 1px solid #E0E0E0;\\n\\tbackground-color:#F5F5F5;\\n\\tpadding: 3px 5px 0px 5px;\\n\\tmargin: 0px 0px 10px 0px;\\n}\\n\\n.nav-tabs>li>a {\\n\\tfont-size:13px;\\n\\tpadding:7px 12px;\\n\\tfont-weight:600;\\n    margin-right: 0px;\\n    line-height: 1.42857143;\\n    border: 0px;\\n    border-radius: 0px 0px 0 0;\\n\\tbackground-color:#F5F5F5;\\n\\n}\\n\\n.nav-tabs>li>a .active {\\n    margin-right: 0px;\\n    line-height: 1.42857143;\\n    border: 1px solid #E0E0E0;\\n    border-radius: 0px 0px 0 0;\\n\\tbackground-color:#F5F5F5;\\n\\n}\\n\\n.nav-tabs>li>a:hover { \\n    background-color: #F5F5F5;\\n\\ttext-decoration: underline;\\n\\n}\\n\\n.donate_buttons {\\n\\n\\tmargin-left:20px;\\n\\t\\n\\t}\\n\\n.modal-body {\\n\\n\\tmargin:10px 40px 20px 40px;\\n\\ttext-align:left;\\n\\tfont-size:18px;\\n\\n}\\n\\n.modal-body li {\\n\\n\\tmargin-top:20px;\\n\\tfont-size:14px;\\n\\n}\\n\\n\\n.modal_title {\\n\\n\\n\\ttext-align:center;\\n\\tmargin-bottom:30px;\\n\\n}\\n\\n.modal-body th{\\n\\n\\tmargin-left:10px;\\n\\tfont-size:14px;\\n}\\n\\n.modal-body td {\\n\\n\\tcolor: #337ab7;\\n\\tmargin-left:10px;\\n\\tfont-size:14px;\\n}\\n\\n.modal_button {\\n\\n\\tmargin-top:50px;\\n\\ttext-align:center;\\n\\tfont-size:16px;\\n\\n}\\t\\n\\n\\n</style>\\t\\n\\n\\n<script type=\"text/javascript\" async=\"\" src=\"./GameStop Revenue 2006-2020 _ GME _ MacroTrends_files/js(1)\"></script><style type=\"text/css\">@-webkit-keyframes bounce{0%,20%,50%,80%,to{-webkit-transform:translateY(0);transform:translateY(0)}40%{-webkit-transform:translateY(-30px);transform:translateY(-30px)}60%{-webkit-transform:translateY(-15px);transform:translateY(-15px)}}@keyframes bounce{0%,20%,50%,80%,to{-webkit-transform:translateY(0);transform:translateY(0)}40%{-webkit-transform:translateY(-30px);transform:translateY(-30px)}60%{-webkit-transform:translateY(-15px);transform:translateY(-15px)}}.om-animation-bounce{-webkit-animation-duration:1s;animation-duration:1s;-webkit-animation-fill-mode:both;animation-fill-mode:both;-webkit-animation-name:bounce;animation-name:bounce}@-webkit-keyframes bounceIn{0%{opacity:0;-webkit-transform:scale(.3);transform:scale(.3)}50%{opacity:1;-webkit-transform:scale(1.05);transform:scale(1.05)}70%{-webkit-transform:scale(.9);transform:scale(.9)}to{opacity:1;-webkit-transform:scale(1);transform:scale(1)}}@keyframes bounceIn{0%{opacity:0;-webkit-transform:scale(.3);transform:scale(.3)}50%{opacity:1;-webkit-transform:scale(1.05);transform:scale(1.05)}70%{-webkit-transform:scale(.9);transform:scale(.9)}to{opacity:1;-webkit-transform:scale(1);transform:scale(1)}}.om-animation-bounce-in{-webkit-animation-duration:1s;animation-duration:1s;-webkit-animation-name:bounceIn;animation-name:bounceIn}@-webkit-keyframes bounceInDown{0%{opacity:0;-webkit-transform:translateY(-2000px);transform:translateY(-2000px)}60%{opacity:1;-webkit-transform:translateY(30px);transform:translateY(30px)}80%{-webkit-transform:translateY(-10px);transform:translateY(-10px)}to{-webkit-transform:translateY(0);transform:translateY(0)}}@keyframes bounceInDown{0%{opacity:0;-webkit-transform:translateY(-2000px);transform:translateY(-2000px)}60%{opacity:1;-webkit-transform:translateY(30px);transform:translateY(30px)}80%{-webkit-transform:translateY(-10px);transform:translateY(-10px)}to{-webkit-transform:translateY(0);transform:translateY(0)}}.om-animation-bounce-in-down{-webkit-animation-duration:1s;animation-duration:1s;-webkit-animation-name:bounceInDown;animation-name:bounceInDown}@-webkit-keyframes bounceInLeft{0%{opacity:0;-webkit-transform:translateX(-2000px);transform:translateX(-2000px)}60%{opacity:1;-webkit-transform:translateX(30px);transform:translateX(30px)}80%{-webkit-transform:translateX(-10px);transform:translateX(-10px)}to{-webkit-transform:translateX(0);transform:translateX(0)}}@keyframes bounceInLeft{0%{opacity:0;-webkit-transform:translateX(-2000px);transform:translateX(-2000px)}60%{opacity:1;-webkit-transform:translateX(30px);transform:translateX(30px)}80%{-webkit-transform:translateX(-10px);transform:translateX(-10px)}to{-webkit-transform:translateX(0);transform:translateX(0)}}.om-animation-bounce-in-left{-webkit-animation-duration:1s;animation-duration:1s;-webkit-animation-name:bounceInLeft;animation-name:bounceInLeft}@-webkit-keyframes bounceInRight{0%{opacity:0;-webkit-transform:translateX(2000px);transform:translateX(2000px)}60%{opacity:1;-webkit-transform:translateX(-30px);transform:translateX(-30px)}80%{-webkit-transform:translateX(10px);transform:translateX(10px)}to{-webkit-transform:translateX(0);transform:translateX(0)}}@keyframes bounceInRight{0%{opacity:0;-webkit-transform:translateX(2000px);transform:translateX(2000px)}60%{opacity:1;-webkit-transform:translateX(-30px);transform:translateX(-30px)}80%{-webkit-transform:translateX(10px);transform:translateX(10px)}to{-webkit-transform:translateX(0);transform:translateX(0)}}.om-animation-bounce-in-right{-webkit-animation-duration:1s;animation-duration:1s;-webkit-animation-name:bounceInRight;animation-name:bounceInRight}@-webkit-keyframes bounceInUp{0%{opacity:0;-webkit-transform:translateY(2000px);transform:translateY(2000px)}60%{opacity:1;-webkit-transform:translateY(-30px);transform:translateY(-30px)}80%{-webkit-transform:translateY(10px);transform:translateY(10px)}to{-webkit-transform:translateY(0);transform:translateY(0)}}@keyframes bounceInUp{0%{opacity:0;-webkit-transform:translateY(2000px);transform:translateY(2000px)}60%{opacity:1;-webkit-transform:translateY(-30px);transform:translateY(-30px)}80%{-webkit-transform:translateY(10px);transform:translateY(10px)}to{-webkit-transform:translateY(0);transform:translateY(0)}}.om-animation-bounce-in-up{-webkit-animation-duration:1s;animation-duration:1s;-webkit-animation-name:bounceInUp;animation-name:bounceInUp}@-webkit-keyframes flash{0%,50%,to{opacity:1}25%,75%{opacity:0}}@keyframes flash{0%,50%,to{opacity:1}25%,75%{opacity:0}}.om-animation-flash{-webkit-animation-duration:1s;animation-duration:1s;-webkit-animation-fill-mode:both;animation-fill-mode:both;-webkit-animation-name:flash;animation-name:flash}@-webkit-keyframes flip{0%{-webkit-transform:perspective(800px) translateZ(0) rotateY(0) scale(1);transform:perspective(800px) translateZ(0) rotateY(0) scale(1);-webkit-animation-timing-function:ease-out;animation-timing-function:ease-out}40%{-webkit-transform:perspective(800px) translateZ(150px) rotateY(170deg) scale(1);transform:perspective(800px) translateZ(150px) rotateY(170deg) scale(1);-webkit-animation-timing-function:ease-out;animation-timing-function:ease-out}50%{-webkit-transform:perspective(800px) translateZ(150px) rotateY(190deg) scale(1);transform:perspective(800px) translateZ(150px) rotateY(190deg) scale(1);-webkit-animation-timing-function:ease-in;animation-timing-function:ease-in}80%{-webkit-transform:perspective(800px) translateZ(0) rotateY(1turn) scale(.95);transform:perspective(800px) translateZ(0) rotateY(1turn) scale(.95);-webkit-animation-timing-function:ease-in;animation-timing-function:ease-in}to{-webkit-transform:perspective(800px) translateZ(0) rotateY(1turn) scale(1);transform:perspective(800px) translateZ(0) rotateY(1turn) scale(1);-webkit-animation-timing-function:ease-in;animation-timing-function:ease-in}}@keyframes flip{0%{-webkit-transform:perspective(800px) translateZ(0) rotateY(0) scale(1);transform:perspective(800px) translateZ(0) rotateY(0) scale(1);-webkit-animation-timing-function:ease-out;animation-timing-function:ease-out}40%{-webkit-transform:perspective(800px) translateZ(150px) rotateY(170deg) scale(1);transform:perspective(800px) translateZ(150px) rotateY(170deg) scale(1);-webkit-animation-timing-function:ease-out;animation-timing-function:ease-out}50%{-webkit-transform:perspective(800px) translateZ(150px) rotateY(190deg) scale(1);transform:perspective(800px) translateZ(150px) rotateY(190deg) scale(1);-webkit-animation-timing-function:ease-in;animation-timing-function:ease-in}80%{-webkit-transform:perspective(800px) translateZ(0) rotateY(1turn) scale(.95);transform:perspective(800px) translateZ(0) rotateY(1turn) scale(.95);-webkit-animation-timing-function:ease-in;animation-timing-function:ease-in}to{-webkit-transform:perspective(800px) translateZ(0) rotateY(1turn) scale(1);transform:perspective(800px) translateZ(0) rotateY(1turn) scale(1);-webkit-animation-timing-function:ease-in;animation-timing-function:ease-in}}.om-animation-flip{-webkit-animation-duration:1s;animation-duration:1s;-webkit-backface-visibility:visible;backface-visibility:visible;-webkit-animation-name:flip;animation-name:flip}@-webkit-keyframes flipInX{0%{-webkit-transform:perspective(800px) rotateX(90deg);transform:perspective(800px) rotateX(90deg);opacity:0}40%{-webkit-transform:perspective(800px) rotateX(-10deg);transform:perspective(800px) rotateX(-10deg)}70%{-webkit-transform:perspective(800px) rotateX(10deg);transform:perspective(800px) rotateX(10deg)}to{-webkit-transform:perspective(800px) rotateX(0deg);transform:perspective(800px) rotateX(0deg);opacity:1}}@keyframes flipInX{0%{-webkit-transform:perspective(800px) rotateX(90deg);transform:perspective(800px) rotateX(90deg);opacity:0}40%{-webkit-transform:perspective(800px) rotateX(-10deg);transform:perspective(800px) rotateX(-10deg)}70%{-webkit-transform:perspective(800px) rotateX(10deg);transform:perspective(800px) rotateX(10deg)}to{-webkit-transform:perspective(800px) rotateX(0deg);transform:perspective(800px) rotateX(0deg);opacity:1}}.om-animation-flip-down{-webkit-animation-duration:1s;animation-duration:1s;-webkit-backface-visibility:visible;backface-visibility:visible;-webkit-animation-name:flipInX;animation-name:flipInX}@-webkit-keyframes flipInY{0%{-webkit-transform:perspective(800px) rotateY(90deg);transform:perspective(800px) rotateY(90deg);opacity:0}40%{-webkit-transform:perspective(800px) rotateY(-10deg);transform:perspective(800px) rotateY(-10deg)}70%{-webkit-transform:perspective(800px) rotateY(10deg);transform:perspective(800px) rotateY(10deg)}to{-webkit-transform:perspective(800px) rotateY(0deg);transform:perspective(800px) rotateY(0deg);opacity:1}}@keyframes flipInY{0%{-webkit-transform:perspective(800px) rotateY(90deg);transform:perspective(800px) rotateY(90deg);opacity:0}40%{-webkit-transform:perspective(800px) rotateY(-10deg);transform:perspective(800px) rotateY(-10deg)}70%{-webkit-transform:perspective(800px) rotateY(10deg);transform:perspective(800px) rotateY(10deg)}to{-webkit-transform:perspective(800px) rotateY(0deg);transform:perspective(800px) rotateY(0deg);opacity:1}}.om-animation-flip-side{-webkit-animation-duration:1s;animation-duration:1s;-webkit-backface-visibility:visible;backface-visibility:visible;-webkit-animation-name:flipInY;animation-name:flipInY}@-webkit-keyframes lightSpeedIn{0%{-webkit-transform:translateX(100%) skewX(-30deg);transform:translateX(100%) skewX(-30deg);opacity:0}60%{-webkit-transform:translateX(-20%) skewX(30deg);transform:translateX(-20%) skewX(30deg);opacity:1}80%{-webkit-transform:translateX(0) skewX(-15deg);transform:translateX(0) skewX(-15deg);opacity:1}to{-webkit-transform:translateX(0) skewX(0deg);transform:translateX(0) skewX(0deg);opacity:1}}@keyframes lightSpeedIn{0%{-webkit-transform:translateX(100%) skewX(-30deg);transform:translateX(100%) skewX(-30deg);opacity:0}60%{-webkit-transform:translateX(-20%) skewX(30deg);transform:translateX(-20%) skewX(30deg);opacity:1}80%{-webkit-transform:translateX(0) skewX(-15deg);transform:translateX(0) skewX(-15deg);opacity:1}to{-webkit-transform:translateX(0) skewX(0deg);transform:translateX(0) skewX(0deg);opacity:1}}.om-animation-light-speed{-webkit-animation-duration:1s;animation-duration:1s;-webkit-animation-name:lightSpeedIn;animation-name:lightSpeedIn;-webkit-animation-timing-function:ease-out;animation-timing-function:ease-out}@-webkit-keyframes pulse{0%{-webkit-transform:scale(1);transform:scale(1)}50%{-webkit-transform:scale(1.1);transform:scale(1.1)}to{-webkit-transform:scale(1);transform:scale(1)}}@keyframes pulse{0%{-webkit-transform:scale(1);transform:scale(1)}50%{-webkit-transform:scale(1.1);transform:scale(1.1)}to{-webkit-transform:scale(1);transform:scale(1)}}.om-animation-pulse{-webkit-animation-duration:1s;animation-duration:1s;-webkit-animation-fill-mode:both;animation-fill-mode:both;-webkit-animation-name:pulse;animation-name:pulse}@-webkit-keyframes rollIn{0%{opacity:0;-webkit-transform:translateX(-100%) rotate(-120deg);transform:translateX(-100%) rotate(-120deg)}to{opacity:1;-webkit-transform:translateX(0) rotate(0deg);transform:translateX(0) rotate(0deg)}}@keyframes rollIn{0%{opacity:0;-webkit-transform:translateX(-100%) rotate(-120deg);transform:translateX(-100%) rotate(-120deg)}to{opacity:1;-webkit-transform:translateX(0) rotate(0deg);transform:translateX(0) rotate(0deg)}}.om-animation-roll-in{-webkit-animation-duration:1s;animation-duration:1s;-webkit-animation-name:rollIn;animation-name:rollIn}@-webkit-keyframes rotateIn{0%{-webkit-transform-origin:center center;transform-origin:center center;-webkit-transform:rotate(-200deg);transform:rotate(-200deg);opacity:0}to{-webkit-transform-origin:center center;transform-origin:center center;-webkit-transform:rotate(0);transform:rotate(0);opacity:1}}@keyframes rotateIn{0%{-webkit-transform-origin:center center;transform-origin:center center;-webkit-transform:rotate(-200deg);transform:rotate(-200deg);opacity:0}to{-webkit-transform-origin:center center;transform-origin:center center;-webkit-transform:rotate(0);transform:rotate(0);opacity:1}}.om-animation-rotate{-webkit-animation-duration:1s;animation-duration:1s;-webkit-animation-name:rotateIn;animation-name:rotateIn}@-webkit-keyframes rotateInDownLeft{0%{-webkit-transform-origin:left bottom;transform-origin:left bottom;-webkit-transform:rotate(-90deg);transform:rotate(-90deg);opacity:0}to{-webkit-transform-origin:left bottom;transform-origin:left bottom;-webkit-transform:rotate(0);transform:rotate(0);opacity:1}}@keyframes rotateInDownLeft{0%{-webkit-transform-origin:left bottom;transform-origin:left bottom;-webkit-transform:rotate(-90deg);transform:rotate(-90deg);opacity:0}to{-webkit-transform-origin:left bottom;transform-origin:left bottom;-webkit-transform:rotate(0);transform:rotate(0);opacity:1}}.om-animation-rotate-down-left{-webkit-animation-duration:1s;animation-duration:1s;-webkit-animation-name:rotateInDownLeft;animation-name:rotateInDownLeft}@-webkit-keyframes rotateInDownRight{0%{-webkit-transform-origin:right bottom;transform-origin:right bottom;-webkit-transform:rotate(90deg);transform:rotate(90deg);opacity:0}to{-webkit-transform-origin:right bottom;transform-origin:right bottom;-webkit-transform:rotate(0);transform:rotate(0);opacity:1}}@keyframes rotateInDownRight{0%{-webkit-transform-origin:right bottom;transform-origin:right bottom;-webkit-transform:rotate(90deg);transform:rotate(90deg);opacity:0}to{-webkit-transform-origin:right bottom;transform-origin:right bottom;-webkit-transform:rotate(0);transform:rotate(0);opacity:1}}.om-animation-rotate-down-right{-webkit-animation-duration:1s;animation-duration:1s;-webkit-animation-name:rotateInDownRight;animation-name:rotateInDownRight}@-webkit-keyframes rotateInUpLeft{0%{-webkit-transform-origin:left bottom;transform-origin:left bottom;-webkit-transform:rotate(90deg);transform:rotate(90deg);opacity:0}to{-webkit-transform-origin:left bottom;transform-origin:left bottom;-webkit-transform:rotate(0);transform:rotate(0);opacity:1}}@keyframes rotateInUpLeft{0%{-webkit-transform-origin:left bottom;transform-origin:left bottom;-webkit-transform:rotate(90deg);transform:rotate(90deg);opacity:0}to{-webkit-transform-origin:left bottom;transform-origin:left bottom;-webkit-transform:rotate(0);transform:rotate(0);opacity:1}}.om-animation-rotate-up-left{-webkit-animation-duration:1s;animation-duration:1s;-webkit-animation-name:rotateInUpLeft;animation-name:rotateInUpLeft}@-webkit-keyframes rotateInUpRight{0%{-webkit-transform-origin:right bottom;transform-origin:right bottom;-webkit-transform:rotate(-90deg);transform:rotate(-90deg);opacity:0}to{-webkit-transform-origin:right bottom;transform-origin:right bottom;-webkit-transform:rotate(0);transform:rotate(0);opacity:1}}@keyframes rotateInUpRight{0%{-webkit-transform-origin:right bottom;transform-origin:right bottom;-webkit-transform:rotate(-90deg);transform:rotate(-90deg);opacity:0}to{-webkit-transform-origin:right bottom;transform-origin:right bottom;-webkit-transform:rotate(0);transform:rotate(0);opacity:1}}.om-animation-rotate-up-right{-webkit-animation-duration:1s;animation-duration:1s;-webkit-animation-name:rotateInUpRight;animation-name:rotateInUpRight}@-webkit-keyframes rubberBand{0%{-webkit-transform:scale(1);transform:scale(1)}30%{-webkit-transform:scaleX(1.25) scaleY(.75);transform:scaleX(1.25) scaleY(.75)}40%{-webkit-transform:scaleX(.75) scaleY(1.25);transform:scaleX(.75) scaleY(1.25)}60%{-webkit-transform:scaleX(1.15) scaleY(.85);transform:scaleX(1.15) scaleY(.85)}to{-webkit-transform:scale(1);transform:scale(1)}}@keyframes rubberBand{0%{-webkit-transform:scale(1);transform:scale(1)}30%{-webkit-transform:scaleX(1.25) scaleY(.75);transform:scaleX(1.25) scaleY(.75)}40%{-webkit-transform:scaleX(.75) scaleY(1.25);transform:scaleX(.75) scaleY(1.25)}60%{-webkit-transform:scaleX(1.15) scaleY(.85);transform:scaleX(1.15) scaleY(.85)}to{-webkit-transform:scale(1);transform:scale(1)}}.om-animation-rubber-band{-webkit-animation-duration:1s;animation-duration:1s;-webkit-animation-fill-mode:both;animation-fill-mode:both;-webkit-animation-name:rubberBand;animation-name:rubberBand}@-webkit-keyframes shake{0%,to{-webkit-transform:translateX(0);transform:translateX(0)}10%,30%,50%,70%,90%{-webkit-transform:translateX(-10px);transform:translateX(-10px)}20%,40%,60%,80%{-webkit-transform:translateX(10px);transform:translateX(10px)}}@keyframes shake{0%,to{-webkit-transform:translateX(0);transform:translateX(0)}10%,30%,50%,70%,90%{-webkit-transform:translateX(-10px);transform:translateX(-10px)}20%,40%,60%,80%{-webkit-transform:translateX(10px);transform:translateX(10px)}}.om-animation-shake{-webkit-animation-duration:1s;animation-duration:1s;-webkit-animation-fill-mode:both;animation-fill-mode:both;-webkit-animation-name:shake;animation-name:shake}@-webkit-keyframes slideInDown{0%{opacity:0;-webkit-transform:translateY(-2000px);transform:translateY(-2000px)}to{-webkit-transform:translateY(0);transform:translateY(0)}}@keyframes slideInDown{0%{opacity:0;-webkit-transform:translateY(-2000px);transform:translateY(-2000px)}to{-webkit-transform:translateY(0);transform:translateY(0)}}.om-animation-slide-in-down{-webkit-animation-duration:1s;animation-duration:1s;-webkit-animation-name:slideInDown;animation-name:slideInDown}@-webkit-keyframes slideInLeft{0%{opacity:0;-webkit-transform:translateX(-2000px);transform:translateX(-2000px)}to{-webkit-transform:translateX(0);transform:translateX(0)}}@keyframes slideInLeft{0%{opacity:0;-webkit-transform:translateX(-2000px);transform:translateX(-2000px)}to{-webkit-transform:translateX(0);transform:translateX(0)}}.om-animation-slide-in-left{-webkit-animation-duration:1s;animation-duration:1s;-webkit-animation-name:slideInLeft;animation-name:slideInLeft}@-webkit-keyframes slideInRight{0%{opacity:0;-webkit-transform:translateX(2000px);transform:translateX(2000px)}to{-webkit-transform:translateX(0);transform:translateX(0)}}@keyframes slideInRight{0%{opacity:0;-webkit-transform:translateX(2000px);transform:translateX(2000px)}to{-webkit-transform:translateX(0);transform:translateX(0)}}.om-animation-slide-in-right{-webkit-animation-duration:1s;animation-duration:1s;-webkit-animation-name:slideInRight;animation-name:slideInRight}@-webkit-keyframes swing{20%{-webkit-transform:rotate(15deg);transform:rotate(15deg)}40%{-webkit-transform:rotate(-10deg);transform:rotate(-10deg)}60%{-webkit-transform:rotate(5deg);transform:rotate(5deg)}80%{-webkit-transform:rotate(-5deg);transform:rotate(-5deg)}to{-webkit-transform:rotate(0deg);transform:rotate(0deg)}}@keyframes swing{20%{-webkit-transform:rotate(15deg);transform:rotate(15deg)}40%{-webkit-transform:rotate(-10deg);transform:rotate(-10deg)}60%{-webkit-transform:rotate(5deg);transform:rotate(5deg)}80%{-webkit-transform:rotate(-5deg);transform:rotate(-5deg)}to{-webkit-transform:rotate(0deg);transform:rotate(0deg)}}.om-animation-swing{-webkit-animation-duration:1s;animation-duration:1s;-webkit-transform-origin:top center;transform-origin:top center;-webkit-animation-name:swing;animation-name:swing}@-webkit-keyframes tada{0%{-webkit-transform:scale(1);transform:scale(1)}10%,20%{-webkit-transform:scale(.9) rotate(-3deg);transform:scale(.9) rotate(-3deg)}30%,50%,70%,90%{-webkit-transform:scale(1.1) rotate(3deg);transform:scale(1.1) rotate(3deg)}40%,60%,80%{-webkit-transform:scale(1.1) rotate(-3deg);transform:scale(1.1) rotate(-3deg)}to{-webkit-transform:scale(1) rotate(0);transform:scale(1) rotate(0)}}@keyframes tada{0%{-webkit-transform:scale(1);transform:scale(1)}10%,20%{-webkit-transform:scale(.9) rotate(-3deg);transform:scale(.9) rotate(-3deg)}30%,50%,70%,90%{-webkit-transform:scale(1.1) rotate(3deg);transform:scale(1.1) rotate(3deg)}40%,60%,80%{-webkit-transform:scale(1.1) rotate(-3deg);transform:scale(1.1) rotate(-3deg)}to{-webkit-transform:scale(1) rotate(0);transform:scale(1) rotate(0)}}.om-animation-tada{-webkit-animation-duration:1s;animation-duration:1s;-webkit-animation-name:tada;animation-name:tada}@-webkit-keyframes wobble{0%{-webkit-transform:translateX(0);transform:translateX(0)}15%{-webkit-transform:translateX(-25%) rotate(-5deg);transform:translateX(-25%) rotate(-5deg)}30%{-webkit-transform:translateX(20%) rotate(3deg);transform:translateX(20%) rotate(3deg)}45%{-webkit-transform:translateX(-15%) rotate(-3deg);transform:translateX(-15%) rotate(-3deg)}60%{-webkit-transform:translateX(10%) rotate(2deg);transform:translateX(10%) rotate(2deg)}75%{-webkit-transform:translateX(-5%) rotate(-1deg);transform:translateX(-5%) rotate(-1deg)}to{-webkit-transform:translateX(0);transform:translateX(0)}}@keyframes wobble{0%{-webkit-transform:translateX(0);transform:translateX(0)}15%{-webkit-transform:translateX(-25%) rotate(-5deg);transform:translateX(-25%) rotate(-5deg)}30%{-webkit-transform:translateX(20%) rotate(3deg);transform:translateX(20%) rotate(3deg)}45%{-webkit-transform:translateX(-15%) rotate(-3deg);transform:translateX(-15%) rotate(-3deg)}60%{-webkit-transform:translateX(10%) rotate(2deg);transform:translateX(10%) rotate(2deg)}75%{-webkit-transform:translateX(-5%) rotate(-1deg);transform:translateX(-5%) rotate(-1deg)}to{-webkit-transform:translateX(0);transform:translateX(0)}}.om-animation-wobble{-webkit-animation-duration:1s;animation-duration:1s;-webkit-animation-name:wobble;animation-name:wobble}.om-content-lock{color:transparent!important;text-shadow:rgba(0,0,0,.5) 0 0 10px;-webkit-user-select:none;-moz-user-select:none;-ms-user-select:none;user-select:none;pointer-events:none;filter:url(\"data:image/svg+xml;utf9,<svg%20version=\\'1.1\\'%20xmlns=\\'http://www.w3.org/2000/svg\\'><filter%20id=\\'blur\\'><feGaussianBlur%20stdDeviation=\\'10\\'%20/></filter></svg>#blur\");-webkit-filter:blur(10px);-ms-filter:blur(10px);-o-filter:blur(10px);filter:blur(10px)}html.om-mobile-position,html.om-mobile-position body{position:fixed!important}html.om-ios-form,html.om-ios-form body{-webkit-transform:translateZ(0)!important;transform:translateZ(0)!important;-webkit-overflow-scrolling:touch!important;height:100%!important;overflow:auto!important}html.om-position-popup body{overflow:hidden!important}html.om-position-floating-top{transition:padding-top .5s ease!important}html.om-position-floating-bottom{transition:padding-bottom .5s ease!important}html.om-reset-dimensions{height:100%!important;width:100%!important}.om-verification-confirmation{font-family:Lato,Arial,Helvetica,sans-serif;position:fixed;border-radius:10px;bottom:20px;left:20px;padding:10px 20px;opacity:0;transition:opacity .3s ease-in;background:#85bf31;color:#fff;font-size:18px;font-weight:700;z-index:9999}</style><link rel=\"preload\" href=\"./GameStop Revenue 2006-2020 _ GME _ MacroTrends_files/f.txt\" as=\"script\"><script type=\"text/javascript\" src=\"./GameStop Revenue 2006-2020 _ GME _ MacroTrends_files/f.txt\"></script><script src=\"./GameStop Revenue 2006-2020 _ GME _ MacroTrends_files/pubads_impl_2020080501.js.download\" async=\"\"></script></head>\\n\\t<body class=\"fuelux\" data-new-gr-c-s-check-loaded=\"14.1050.0\" data-gr-ext-installed=\"\"><!-- BEGIN WAYBACK TOOLBAR INSERT -->\\n<style type=\"text/css\">\\nbody {\\n  margin-top:0 !important;\\n  padding-top:0 !important;\\n  /*min-width:800px !important;*/\\n}\\n</style>\\n<script>__wm.rw(0);</script>\\n<div id=\"wm-ipp-base\" lang=\"en\" style=\"display: block; direction: ltr;\">\\n</div><div id=\"wm-ipp-print\">The Wayback Machine - https://web.archive.org/web/20200814131437/https://www.macrotrends.net/stocks/charts/GME/gamestop/revenue</div>\\n<script type=\"text/javascript\">\\n__wm.bt(675,27,25,2,\"web\",\"https://www.macrotrends.net/stocks/charts/GME/gamestop/revenue\",\"20200814131437\",1996,\"/_static/\",[\"/_static/css/banner-styles.css?v=fantwOh2\",\"/_static/css/iconochive.css?v=qtvMKcIJ\"], false);\\n  __wm.rw(1);\\n</script>\\n<!-- END WAYBACK TOOLBAR INSERT -->\\n        <!--[if lt IE 7]>\\n            <p class=\"browsehappy\">You are using an <strong>outdated</strong> browser. Please <a href=\"https://browsehappy.com/\">upgrade your browser</a> to improve your experience.</p>\\n        <![endif]-->\\n\\n<div class=\"header_content_container container-fluid\">\\n\\n\\n<div class=\"header_parent_container\">\\n\\n<div class=\"header_container\">\\n\\n\\t<div class=\"header_logo col-xs-2\">\\n\\t\\t<a class=\"logo\" href=\"https://web.archive.org/web/20200814131437/https://www.macrotrends.net/\" title=\"MacroTrends Home Page\"><img src=\"./GameStop Revenue 2006-2020 _ GME _ MacroTrends_files/logo_bright1.png\"></a>\\n\\t</div>\\n\\n\\n\\t  <div class=\"col-xs-1 pull-right\" style=\"padding-top:8px; margin-right:10px; margin-left:0px; padding-left:0px;\">\\n\\t  \\n\\t  \\n\\t  </div>\\n\\t  \\n\\t  \\n\\n\\t  <div class=\"col-xs-5 pull-right\" style=\"padding-top:8px;\">\\n       <form>\\n        <div class=\"typeahead__container\" style=\"z-index: 1041; position: relative;\">\\n            <div class=\"typeahead__field\">\\n\\n            <span class=\"typeahead__query\">\\n                <span class=\"typeahead__cancel-button\">Ã\\x97</span><input class=\"js-typeahead\" name=\"q\" type=\"search\" placeholder=\"Search over 200,000 charts...\" autofocus=\"\" autocomplete=\"off\">\\n            </span>\\n            <span class=\"typeahead__button\">\\n                <button type=\"submit\">\\n                    <span class=\"typeahead__search-icon\"></span>\\n                </button>\\n            </span>\\n\\n            </div>\\n        <div class=\"typeahead__result\"></div></div><div class=\"typeahead__backdrop\" style=\"opacity: 0.6; position: fixed; inset: 0px; z-index: 1040; background-color: rgb(255, 255, 255);\"></div>\\n    </form>\\n\\t\\t\\n\\t  </div>\\n\\t  \\n\\t  </div>\\n\\n\\n\\n</div>\\n\\n<div class=\"menu_parent_container\">\\n\\n<div class=\"menu_container\">\\n\\t\\t\\n\\t<a href=\"https://web.archive.org/web/20200814131437/https://www.macrotrends.net/stocks/stock-screener\"><div class=\"menu_item\">Stock Screener</div></a>\\n\\t<a href=\"https://web.archive.org/web/20200814131437/https://www.macrotrends.net/stocks/research\"><div class=\"menu_item\">Stock Research</div></a>\\n\\t<a href=\"https://web.archive.org/web/20200814131437/https://www.macrotrends.net/charts/stock-indexes\"><div class=\"menu_item\">Market Indexes</div></a>\\n\\t<a href=\"https://web.archive.org/web/20200814131437/https://www.macrotrends.net/charts/precious-metals\"><div class=\"menu_item\">Precious Metals</div></a>\\n\\t<a href=\"https://web.archive.org/web/20200814131437/https://www.macrotrends.net/charts/energy\"><div class=\"menu_item\">Energy</div></a>\\n\\t<a href=\"https://web.archive.org/web/20200814131437/https://www.macrotrends.net/charts/commodities\"><div class=\"menu_item\">Commodities</div></a>\\n\\t<a href=\"https://web.archive.org/web/20200814131437/https://www.macrotrends.net/charts/exchange-rates\"><div class=\"menu_item\">Exchange Rates</div></a>\\n\\t<a href=\"https://web.archive.org/web/20200814131437/https://www.macrotrends.net/charts/interest-rates\"><div class=\"menu_item\">Interest Rates</div></a>\\n\\t<a href=\"https://web.archive.org/web/20200814131437/https://www.macrotrends.net/futures\"><div class=\"menu_item\">Futures</div></a>\\n\\t<a href=\"https://web.archive.org/web/20200814131437/https://www.macrotrends.net/charts/economy\"><div class=\"menu_item\">Economy</div></a>\\n\\t<a href=\"https://web.archive.org/web/20200814131437/https://www.macrotrends.net/countries/topic-overview\"><div class=\"menu_item\">Global Metrics</div></a>\\n\\n\\t\\t\\n</div>\\n\\n</div>\\n\\n</div>\\n\\n<div id=\"main_content_container\" class=\"main_content_container container-fluid\">\\n\\n\\n\\t<div id=\"ic_leaderboard\" class=\"adx_top_ad col-xs-12\" style=\"margin: 20px 20px 30px 20px; min-height:265px; text-align:center;\">\\n\\n\\t\\t<!--Smartad # 4058: Macrotrends - 970x250 Image - Placement 2-->\\n\\t\\t<iframe id=\"dianomi_leaderboard\" width=\"970\" height=\"250\" scrolling=\"NO\" src=\"./GameStop Revenue 2006-2020 _ GME _ MacroTrends_files/smartads.html\" style=\"height: 250px; border: none; overflow: hidden;\"></iframe>\\n\\t\\t\\t\\t \\t\\t\\n\\t</div>\\n\\t\\t\\t\\n\\t\\t\\t<div style=\"margin:20px;\">\\n\\t\\t\\t\\n\\t\\t\\t\\t<h2 style=\"margin-left:180px; font-weight:600; color:#444;\">GameStop Revenue 2006-2020 | GME</h2>\\n\\t\\t\\t\\n\\t\\t\\t</div>\\n\\t\\t\\t\\n\\t\\t\\t\\n\\t<div class=\"sub_main_content_container\">\\n\\t\\t\\n\\n\\t\\t\\t<div id=\"left_sidebar\">\\n\\t\\t\\t\\t\\t\\n\\t\\t\\t\\t<div id=\"sticky_ad_left\">\\n\\n\\t\\t\\t\\t\\t<div id=\"ic_160_600\">\\n\\n\\n\\t\\t\\t\\t\\t</div>\\n\\n\\n\\t\\t\\t\\t</div>\\t\\t\\t\\t\\t\\n\\n\\n\\t\\t\\t</div>\\n\\t\\t\\n\\n\\t\\t\\t<div id=\"main_content\">\\n\\t\\t\\t\\n\\t\\t\\t\\n\\t\\t\\t\\n<div class=\"navigation_tabs\" style=\"margin-bottom:20px;\">\\n\\t\\t\\t\\n\\t<ul class=\"nav nav-tabs\" id=\"myTabs\" style=\"font-size:15px;\">\\n\\n\\t\\t\\n\\t\\t\\t\\n\\t\\t\\t\\n\\t\\t\\t\\t<li><a href=\"https://web.archive.org/web/20200814131437/https://www.macrotrends.net/stocks/charts/GME/gamestop/stock-price-history\">Prices</a></li>\\n\\n\\t\\t\\t\\n\\t\\t\\n\\t\\t\\t\\n\\t\\t\\t\\n\\t\\t\\t\\t<li><a href=\"https://web.archive.org/web/20200814131437/https://www.macrotrends.net/stocks/charts/GME/gamestop/financial-statements\">Financials</a></li>\\n\\n\\t\\t\\t\\n\\t\\t\\n\\t\\t\\t\\n\\t\\t\\t\\n\\t\\t\\t\\t<li class=\"active\"><a href=\"https://web.archive.org/web/20200814131437/https://www.macrotrends.net/stocks/charts/GME/gamestop/revenue\">Revenue &amp; Profit</a></li>\\n\\n\\t\\t\\t\\n\\t\\t\\n\\t\\t\\t\\n\\t\\t\\t\\n\\t\\t\\t\\t<li><a href=\"https://web.archive.org/web/20200814131437/https://www.macrotrends.net/stocks/charts/GME/gamestop/total-assets\">Assets &amp; Liabilities</a></li>\\n\\n\\t\\t\\t\\n\\t\\t\\n\\t\\t\\t\\n\\t\\t\\t\\n\\t\\t\\t\\t<li><a href=\"https://web.archive.org/web/20200814131437/https://www.macrotrends.net/stocks/charts/GME/gamestop/profit-margins\">Margins</a></li>\\n\\n\\t\\t\\t\\n\\t\\t\\n\\t\\t\\t\\n\\t\\t\\t\\n\\t\\t\\t\\t<li><a href=\"https://web.archive.org/web/20200814131437/https://www.macrotrends.net/stocks/charts/GME/gamestop/pe-ratio\">Price Ratios</a></li>\\n\\n\\t\\t\\t\\n\\t\\t\\n\\t\\t\\t\\n\\t\\t\\t\\n\\t\\t\\t\\t<li><a href=\"https://web.archive.org/web/20200814131437/https://www.macrotrends.net/stocks/charts/GME/gamestop/current-ratio\">Other Ratios</a></li>\\n\\n\\t\\t\\t\\n\\t\\t\\n\\t\\t\\t\\n\\t\\t\\t\\n\\t\\t\\t\\t<li><a href=\"https://web.archive.org/web/20200814131437/https://www.macrotrends.net/stocks/charts/GME/gamestop/dividend-yield-history\">Other Metrics</a></li>\\n\\n\\t\\t\\t\\n\\t\\t\\n\\t</ul>\\n\\n\\n\\t<ul class=\"nav nav-tabs\" id=\"myTabs\" style=\"font-size:15px;\">\\n\\n\\t\\t\\n\\t\\t\\t\\n\\t\\t\\t\\n\\t\\t\\t\\t<li class=\"active\"><a href=\"https://web.archive.org/web/20200814131437/https://www.macrotrends.net/stocks/charts/GME/gamestop/revenue\">Revenue</a></li>\\n\\n\\n\\t\\t\\t\\t\\t\\t\\n\\t\\t\\n\\t\\t\\t\\n\\t\\t\\t\\t\\t\\t\\n\\t\\t\\t\\t<li><a href=\"https://web.archive.org/web/20200814131437/https://www.macrotrends.net/stocks/charts/GME/gamestop/gross-profit\">Gross Profit</a></li>\\t\\t\\t\\n\\n\\t\\t\\t\\t\\t\\t\\n\\t\\t\\n\\t\\t\\t\\n\\t\\t\\t\\t\\t\\t\\n\\t\\t\\t\\t<li><a href=\"https://web.archive.org/web/20200814131437/https://www.macrotrends.net/stocks/charts/GME/gamestop/operating-income\">Operating Income</a></li>\\t\\t\\t\\n\\n\\t\\t\\t\\t\\t\\t\\n\\t\\t\\n\\t\\t\\t\\n\\t\\t\\t\\t\\t\\t\\n\\t\\t\\t\\t<li><a href=\"https://web.archive.org/web/20200814131437/https://www.macrotrends.net/stocks/charts/GME/gamestop/ebitda\">EBITDA</a></li>\\t\\t\\t\\n\\n\\t\\t\\t\\t\\t\\t\\n\\t\\t\\n\\t\\t\\t\\n\\t\\t\\t\\t\\t\\t\\n\\t\\t\\t\\t<li><a href=\"https://web.archive.org/web/20200814131437/https://www.macrotrends.net/stocks/charts/GME/gamestop/net-income\">Net Income</a></li>\\t\\t\\t\\n\\n\\t\\t\\t\\t\\t\\t\\n\\t\\t\\n\\t\\t\\t\\n\\t\\t\\t\\t\\t\\t\\n\\t\\t\\t\\t<li><a href=\"https://web.archive.org/web/20200814131437/https://www.macrotrends.net/stocks/charts/GME/gamestop/eps-earnings-per-share-diluted\">EPS</a></li>\\t\\t\\t\\n\\n\\t\\t\\t\\t\\t\\t\\n\\t\\t\\n\\t\\t\\t\\n\\t\\t\\t\\t\\t\\t\\n\\t\\t\\t\\t<li><a href=\"https://web.archive.org/web/20200814131437/https://www.macrotrends.net/stocks/charts/GME/gamestop/shares-outstanding\">Shares Outstanding</a></li>\\t\\t\\t\\n\\n\\t\\t\\t\\t\\t\\t\\n\\t\\t\\n\\n\\t</ul>\\n\\t\\n\\t\\t\\t\\n</div>\\n\\t\\t\\t\\n\\n\\t\\t\\n\\n\\t\\t\\t<div style=\"background-color:#fff; margin: 0px 0px 20px 0px; padding:20px 30px; border:1px solid #dfdfdf;\">\\n\\t\\t\\t\\n\\t\\t\\t\\t<span style=\"color:#444; line-height: 1.8;\">GameStop revenue from 2006 to 2020. Revenue can be defined as the amount of money a company receives from its customers in exchange for the sales of goods or services.  Revenue is the top line item on an income statement from which all costs and expenses are subtracted to arrive at net income.</span>\\n\\t\\t\\t\\n\\t\\t\\t</div>\\n\\n\\t\\t\\n\\t\\t\\t\\n\\t\\t\\t<div style=\"background-color:#fff; margin: 30px 0px 30px 0px; text-align:center; min-height:90px;\">\\n\\n\\n\\t\\t\\t\\t<div id=\"ic_728_90\" style=\"margin:10px 20px;\">\\n\\n\\n\\t\\t\\t\\t</div>\\n\\t\\t\\t\\n\\t\\t\\t</div>\\t\\t\\n\\t\\t\\t\\n\\t\\t\\t\\n\\n\\t\\t\\t<div class=\"ticker_search_box\" style=\"text-align:center;\">\\t\\t\\t\\n\\n\\t\\t<div style=\"width:400px; margin-left:20px; border-bottom:none;\">\\n\\t\\t\\n\\t\\t\\n\\n\\t\\t\\n        <script type=\"text/javascript\">\\n            $(document).ready(function () {\\n\\t\\t\\t\\t                \\n\\t\\t\\t\\t\\tvar url = \"https://web.archive.org/web/20200814131437/https://www.macrotrends.net/assets/php/ticker_search_list.php\";\\n\\t\\t\\t\\t\\n                // prepare the data\\n                var source =\\n                {\\n                    datatype: \"json\",\\n                    datafields: [\\n                        { name: \\'n\\' },\\n\\t\\t\\t\\t\\t\\t{ name: \\'s\\'}\\n                    ],\\n                    url: url\\n                };\\n                var dataAdapter = new $.jqx.dataAdapter(source);\\n                // Create a jqxInput\\n                $(\"#jqxInput\").jqxInput({ source: dataAdapter, minLength: 1, placeHolder: \"Search for ticker or company name...\", items: 20, searchMode: \\'containsignorecase\\', displayMember: \"n\", valueMember: \"s\", width: \\'100%\\', height: 22, theme: \\'bootstrap\\'});\\n                $(\"#jqxInput\").on(\\'select\\', function (event) {\\n                    if (event.args) {\\n                        var item = event.args.item;\\n\\t\\t\\t\\t\\t\\t\\n\\t\\t\\t\\t\\t\\t//Have to split the ticker and slug back out since jqxinput only seems to allow one data value\\n\\t\\t\\t\\t\\t\\tvar itemArray = item.value.split(\"\\\\/\"); \\n\\t\\t\\t\\t\\t\\tvar ticker = itemArray[0];\\n\\t\\t\\t\\t\\t\\tvar slug = itemArray[1];\\n                        if (item) {\\n\\t\\t\\t\\t\\t\\t\\t\\n\\t\\t\\t\\t\\t\\t\\t\\t\\t\\t\\t\\t\\t\\t\\n\\t\\t\\t\\t\\t\\t\\t\\twindow.location = \"https://web.archive.org/web/20200814131437/https://www.macrotrends.net/stocks/charts/\" + ticker + \"/\" + slug + \"/revenue\";\\n\\t\\t\\t\\t\\t\\t\\t\\n\\t\\t\\t\\t\\t\\t\\t                        }\\n                    }\\n                });\\n            });\\n        </script>\\n        <input id=\"jqxInput\" role=\"textbox\" aria-autocomplete=\"both\" aria-disabled=\"false\" aria-readonly=\"false\" aria-multiline=\"false\" class=\"jqx-widget-content jqx-widget-content-bootstrap jqx-input jqx-input-bootstrap jqx-widget jqx-widget-bootstrap jqx-rc-all jqx-rc-all-bootstrap\" placeholder=\"Search for ticker or company name...\" style=\"width: 100%; height: 22px;\">\\n\\n\\t\\t</div>\\n\\t\\t\\t\\t\\n\\t\\t<div style=\"width:280px; margin-top: -32px; margin-left:80px; border-bottom:none; float:right;\">\\n\\t\\t\\n\\t\\t\\n<button id=\"compareStocks\" style=\"margin-right:15px;\" class=\"chart_buttons btn btn-success btn-sm\"><span class=\"glyphicon glyphicon-stats\"></span>&nbsp;&nbsp;<strong>Compare GME With Other Stocks</strong></button>&nbsp;&nbsp;\\n\\n</div>\\t\\n\\t\\t\\n\\t\\t</div>\\n\\t\\t\\n\\t\\t<div style=\"height:690px; background-color:#fff; border:1px solid #dfdfdf;\">\\n\\t\\t\\n<iframe id=\"chart_iframe\" title=\"Interactive chart: GameStop Revenue 2006-2020 | GME\" valign=\"middle\" margin=\"0px\" width=\"800\" height=\"680\" marginheight=\"0\" marginwidth=\"0\" frameborder=\"0\" vspace=\"0\" hspace=\"0\" scrolling=\"NO\" src=\"./GameStop Revenue 2006-2020 _ GME _ MacroTrends_files/fundamental_iframe.html\"></iframe>\\t\\n\\t\\n\\t\\t\\n\\t\\t</div>\\n\\n\\n\\t\\t\\n\\t\\t\\t\\t\\n\\t\\t<div style=\"background-color:#fff; margin: 30px 0px; padding:10px 30px; border:1px solid #dfdfdf;\">\\n\\t\\t\\n\\t\\t\\t<iframe id=\"dianomi_below_chart\" valign=\"middle\" width=\"100%\" height=\"300\" marginheight=\"0\" marginwidth=\"0\" frameborder=\"0\" vspace=\"0\" hspace=\"0\" scrolling=\"NO\" src=\"./GameStop Revenue 2006-2020 _ GME _ MacroTrends_files/smartads(1).html\"></iframe>\\t\\n\\t\\t\\n\\t\\t</div>\\n\\t\\t\\t\\n\\t\\t\\n\\n\\t\\t\\t\\n \\n\\t\\t\\t\\n\\t\\t\\t<div id=\"style-1\" style=\"background-color:#fff; height:510px; overflow:auto; margin: 30px 0px 30px 0px; padding:0px 30px 20px 0px; border:1px solid #dfdfdf;\">\\n\\t\\t\\t\\n\\t\\t\\t  \\t<div class=\"col-xs-6\">\\n\\t\\t\\t\\n\\t\\t\\t\\t<table class=\"historical_data_table table\">\\n\\t\\t\\t\\t<thead>\\n\\t\\t\\t\\t  <tr>\\n\\t\\t\\t\\t\\t<th colspan=\"2\" style=\"text-align:center\">GameStop Annual Revenue<br><span style=\"font-size:14px;\">(Millions of US $)</span></th>\\n\\t\\t\\t\\t  </tr>\\n\\t\\t\\t\\t</thead>\\t\\t\\t\\t\\t\\n\\t\\t\\t\\t<tbody>\\n\\t\\t\\t\\t\\t\\t\\t\\t\\n\\t\\t\\t\\t\\t\\t\\t\\t\\t\\t\\t\\t\\n\\t\\t\\t\\t<tr>\\n\\t\\t\\t\\t\\t<td style=\"text-align:center\">2020</td>\\n\\t\\t\\t\\t\\n\\t\\t\\t\\t\\n\\t\\t\\t\\t\\n\\t\\t\\t\\t\\t\\t\\t\\t\\t\\t<td style=\"text-align:center\">$6,466</td>\\n\\t\\t\\t\\t\\n\\t\\t\\t\\t\\t\\t\\t\\t\\n\\t\\t\\t\\t</tr>\\n\\t\\t\\t\\t  \\n\\t\\t\\t\\t\\t\\t\\t\\t\\t\\t\\t\\t\\n\\t\\t\\t\\t<tr>\\n\\t\\t\\t\\t\\t<td style=\"text-align:center\">2019</td>\\n\\t\\t\\t\\t\\n\\t\\t\\t\\t\\n\\t\\t\\t\\t\\n\\t\\t\\t\\t\\t\\t\\t\\t\\t\\t<td style=\"text-align:center\">$8,285</td>\\n\\t\\t\\t\\t\\n\\t\\t\\t\\t\\t\\t\\t\\t\\n\\t\\t\\t\\t</tr>\\n\\t\\t\\t\\t  \\n\\t\\t\\t\\t\\t\\t\\t\\t\\t\\t\\t\\t\\n\\t\\t\\t\\t<tr>\\n\\t\\t\\t\\t\\t<td style=\"text-align:center\">2018</td>\\n\\t\\t\\t\\t\\n\\t\\t\\t\\t\\n\\t\\t\\t\\t\\n\\t\\t\\t\\t\\t\\t\\t\\t\\t\\t<td style=\"text-align:center\">$8,547</td>\\n\\t\\t\\t\\t\\n\\t\\t\\t\\t\\t\\t\\t\\t\\n\\t\\t\\t\\t</tr>\\n\\t\\t\\t\\t  \\n\\t\\t\\t\\t\\t\\t\\t\\t\\t\\t\\t\\t\\n\\t\\t\\t\\t<tr>\\n\\t\\t\\t\\t\\t<td style=\"text-align:center\">2017</td>\\n\\t\\t\\t\\t\\n\\t\\t\\t\\t\\n\\t\\t\\t\\t\\n\\t\\t\\t\\t\\t\\t\\t\\t\\t\\t<td style=\"text-align:center\">$7,965</td>\\n\\t\\t\\t\\t\\n\\t\\t\\t\\t\\t\\t\\t\\t\\n\\t\\t\\t\\t</tr>\\n\\t\\t\\t\\t  \\n\\t\\t\\t\\t\\t\\t\\t\\t\\t\\t\\t\\t\\n\\t\\t\\t\\t<tr>\\n\\t\\t\\t\\t\\t<td style=\"text-align:center\">2016</td>\\n\\t\\t\\t\\t\\n\\t\\t\\t\\t\\n\\t\\t\\t\\t\\n\\t\\t\\t\\t\\t\\t\\t\\t\\t\\t<td style=\"text-align:center\">$9,364</td>\\n\\t\\t\\t\\t\\n\\t\\t\\t\\t\\t\\t\\t\\t\\n\\t\\t\\t\\t</tr>\\n\\t\\t\\t\\t  \\n\\t\\t\\t\\t\\t\\t\\t\\t\\t\\t\\t\\t\\n\\t\\t\\t\\t<tr>\\n\\t\\t\\t\\t\\t<td style=\"text-align:center\">2015</td>\\n\\t\\t\\t\\t\\n\\t\\t\\t\\t\\n\\t\\t\\t\\t\\n\\t\\t\\t\\t\\t\\t\\t\\t\\t\\t<td style=\"text-align:center\">$9,296</td>\\n\\t\\t\\t\\t\\n\\t\\t\\t\\t\\t\\t\\t\\t\\n\\t\\t\\t\\t</tr>\\n\\t\\t\\t\\t  \\n\\t\\t\\t\\t\\t\\t\\t\\t\\t\\t\\t\\t\\n\\t\\t\\t\\t<tr>\\n\\t\\t\\t\\t\\t<td style=\"text-align:center\">2014</td>\\n\\t\\t\\t\\t\\n\\t\\t\\t\\t\\n\\t\\t\\t\\t\\n\\t\\t\\t\\t\\t\\t\\t\\t\\t\\t<td style=\"text-align:center\">$9,040</td>\\n\\t\\t\\t\\t\\n\\t\\t\\t\\t\\t\\t\\t\\t\\n\\t\\t\\t\\t</tr>\\n\\t\\t\\t\\t  \\n\\t\\t\\t\\t\\t\\t\\t\\t\\t\\t\\t\\t\\n\\t\\t\\t\\t<tr>\\n\\t\\t\\t\\t\\t<td style=\"text-align:center\">2013</td>\\n\\t\\t\\t\\t\\n\\t\\t\\t\\t\\n\\t\\t\\t\\t\\n\\t\\t\\t\\t\\t\\t\\t\\t\\t\\t<td style=\"text-align:center\">$8,887</td>\\n\\t\\t\\t\\t\\n\\t\\t\\t\\t\\t\\t\\t\\t\\n\\t\\t\\t\\t</tr>\\n\\t\\t\\t\\t  \\n\\t\\t\\t\\t\\t\\t\\t\\t\\t\\t\\t\\t\\n\\t\\t\\t\\t<tr>\\n\\t\\t\\t\\t\\t<td style=\"text-align:center\">2012</td>\\n\\t\\t\\t\\t\\n\\t\\t\\t\\t\\n\\t\\t\\t\\t\\n\\t\\t\\t\\t\\t\\t\\t\\t\\t\\t<td style=\"text-align:center\">$9,551</td>\\n\\t\\t\\t\\t\\n\\t\\t\\t\\t\\t\\t\\t\\t\\n\\t\\t\\t\\t</tr>\\n\\t\\t\\t\\t  \\n\\t\\t\\t\\t\\t\\t\\t\\t\\t\\t\\t\\t\\n\\t\\t\\t\\t<tr>\\n\\t\\t\\t\\t\\t<td style=\"text-align:center\">2011</td>\\n\\t\\t\\t\\t\\n\\t\\t\\t\\t\\n\\t\\t\\t\\t\\n\\t\\t\\t\\t\\t\\t\\t\\t\\t\\t<td style=\"text-align:center\">$9,474</td>\\n\\t\\t\\t\\t\\n\\t\\t\\t\\t\\t\\t\\t\\t\\n\\t\\t\\t\\t</tr>\\n\\t\\t\\t\\t  \\n\\t\\t\\t\\t\\t\\t\\t\\t\\t\\t\\t\\t\\n\\t\\t\\t\\t<tr>\\n\\t\\t\\t\\t\\t<td style=\"text-align:center\">2010</td>\\n\\t\\t\\t\\t\\n\\t\\t\\t\\t\\n\\t\\t\\t\\t\\n\\t\\t\\t\\t\\t\\t\\t\\t\\t\\t<td style=\"text-align:center\">$9,078</td>\\n\\t\\t\\t\\t\\n\\t\\t\\t\\t\\t\\t\\t\\t\\n\\t\\t\\t\\t</tr>\\n\\t\\t\\t\\t  \\n\\t\\t\\t\\t\\t\\t\\t\\t\\t\\t\\t\\t\\n\\t\\t\\t\\t<tr>\\n\\t\\t\\t\\t\\t<td style=\"text-align:center\">2009</td>\\n\\t\\t\\t\\t\\n\\t\\t\\t\\t\\n\\t\\t\\t\\t\\n\\t\\t\\t\\t\\t\\t\\t\\t\\t\\t<td style=\"text-align:center\">$8,806</td>\\n\\t\\t\\t\\t\\n\\t\\t\\t\\t\\t\\t\\t\\t\\n\\t\\t\\t\\t</tr>\\n\\t\\t\\t\\t  \\n\\t\\t\\t\\t\\t\\t\\t\\t\\t\\t\\t\\t\\n\\t\\t\\t\\t<tr>\\n\\t\\t\\t\\t\\t<td style=\"text-align:center\">2008</td>\\n\\t\\t\\t\\t\\n\\t\\t\\t\\t\\n\\t\\t\\t\\t\\n\\t\\t\\t\\t\\t\\t\\t\\t\\t\\t<td style=\"text-align:center\">$7,094</td>\\n\\t\\t\\t\\t\\n\\t\\t\\t\\t\\t\\t\\t\\t\\n\\t\\t\\t\\t</tr>\\n\\t\\t\\t\\t  \\n\\t\\t\\t\\t\\t\\t\\t\\t\\t\\t\\t\\t\\n\\t\\t\\t\\t<tr>\\n\\t\\t\\t\\t\\t<td style=\"text-align:center\">2007</td>\\n\\t\\t\\t\\t\\n\\t\\t\\t\\t\\n\\t\\t\\t\\t\\n\\t\\t\\t\\t\\t\\t\\t\\t\\t\\t<td style=\"text-align:center\">$5,319</td>\\n\\t\\t\\t\\t\\n\\t\\t\\t\\t\\t\\t\\t\\t\\n\\t\\t\\t\\t</tr>\\n\\t\\t\\t\\t  \\n\\t\\t\\t\\t\\t\\t\\t\\t\\t\\t\\t\\t\\n\\t\\t\\t\\t<tr>\\n\\t\\t\\t\\t\\t<td style=\"text-align:center\">2006</td>\\n\\t\\t\\t\\t\\n\\t\\t\\t\\t\\n\\t\\t\\t\\t\\n\\t\\t\\t\\t\\t\\t\\t\\t\\t\\t<td style=\"text-align:center\">$3,092</td>\\n\\t\\t\\t\\t\\n\\t\\t\\t\\t\\t\\t\\t\\t\\n\\t\\t\\t\\t</tr>\\n\\t\\t\\t\\t  \\n\\t\\t\\t\\t\\t\\t\\t\\t\\t\\t\\t\\t\\n\\t\\t\\t\\t<tr>\\n\\t\\t\\t\\t\\t<td style=\"text-align:center\">2005</td>\\n\\t\\t\\t\\t\\n\\t\\t\\t\\t\\n\\t\\t\\t\\t\\n\\t\\t\\t\\t\\t\\t\\t\\t\\t\\t<td style=\"text-align:center\">$1,843</td>\\n\\t\\t\\t\\t\\n\\t\\t\\t\\t\\t\\t\\t\\t\\n\\t\\t\\t\\t</tr>\\n\\t\\t\\t\\t  \\n\\t\\t\\t\\t  \\n\\t\\t\\t\\t</tbody>\\n\\t\\t\\t  </table>\\n\\t\\t\\t  \\n\\t\\t\\t  </div>\\n\\n\\t\\t\\t  <div class=\"col-xs-6\">\\n\\t\\t\\t\\n\\t\\t\\t\\t<table class=\"historical_data_table table\">\\n\\t\\t\\t\\t<thead>\\n\\t\\t\\t\\t  <tr>\\n\\t\\t\\t\\t\\t<th colspan=\"2\" style=\"text-align:center\">GameStop Quarterly Revenue<br><span style=\"font-size:14px;\">(Millions of US $)</span></th>\\n\\t\\t\\t\\t  </tr>\\n\\t\\t\\t\\t</thead>\\t\\t\\t\\t\\n\\t\\t\\t\\t<tbody>\\n\\t\\t\\t\\t\\n\\t\\t\\t\\t\\t\\t\\t\\t\\t\\t\\t\\t\\n\\t\\t\\t\\t<tr>\\n\\t\\t\\t\\t\\t<td style=\"text-align:center\">2020-04-30</td>\\n\\t\\t\\t\\t\\n\\t\\t\\t\\t\\n\\t\\t\\t\\t\\n\\t\\t\\t\\t\\t\\t\\t\\t\\t\\t\\n\\t\\t\\t\\t\\t\\t\\t\\t\\t\\t\\n\\t\\t\\t\\t\\t\\t<td style=\"text-align:center\">$1,021</td>\\n\\t\\t\\t\\t\\t\\t\\n\\t\\t\\t\\t\\t\\t\\t\\t\\t\\n\\t\\t\\t\\t\\t\\t\\t\\t\\n\\t\\t\\t\\t  </tr>\\n\\t\\t\\t\\t  \\n\\t\\t\\t\\t\\t\\t\\t\\t\\t\\t\\t\\t\\n\\t\\t\\t\\t<tr>\\n\\t\\t\\t\\t\\t<td style=\"text-align:center\">2020-01-31</td>\\n\\t\\t\\t\\t\\n\\t\\t\\t\\t\\n\\t\\t\\t\\t\\n\\t\\t\\t\\t\\t\\t\\t\\t\\t\\t\\n\\t\\t\\t\\t\\t\\t\\t\\t\\t\\t\\n\\t\\t\\t\\t\\t\\t<td style=\"text-align:center\">$2,194</td>\\n\\t\\t\\t\\t\\t\\t\\n\\t\\t\\t\\t\\t\\t\\t\\t\\t\\n\\t\\t\\t\\t\\t\\t\\t\\t\\n\\t\\t\\t\\t  </tr>\\n\\t\\t\\t\\t  \\n\\t\\t\\t\\t\\t\\t\\t\\t\\t\\t\\t\\t\\n\\t\\t\\t\\t<tr>\\n\\t\\t\\t\\t\\t<td style=\"text-align:center\">2019-10-31</td>\\n\\t\\t\\t\\t\\n\\t\\t\\t\\t\\n\\t\\t\\t\\t\\n\\t\\t\\t\\t\\t\\t\\t\\t\\t\\t\\n\\t\\t\\t\\t\\t\\t\\t\\t\\t\\t\\n\\t\\t\\t\\t\\t\\t<td style=\"text-align:center\">$1,439</td>\\n\\t\\t\\t\\t\\t\\t\\n\\t\\t\\t\\t\\t\\t\\t\\t\\t\\n\\t\\t\\t\\t\\t\\t\\t\\t\\n\\t\\t\\t\\t  </tr>\\n\\t\\t\\t\\t  \\n\\t\\t\\t\\t\\t\\t\\t\\t\\t\\t\\t\\t\\n\\t\\t\\t\\t<tr>\\n\\t\\t\\t\\t\\t<td style=\"text-align:center\">2019-07-31</td>\\n\\t\\t\\t\\t\\n\\t\\t\\t\\t\\n\\t\\t\\t\\t\\n\\t\\t\\t\\t\\t\\t\\t\\t\\t\\t\\n\\t\\t\\t\\t\\t\\t\\t\\t\\t\\t\\n\\t\\t\\t\\t\\t\\t<td style=\"text-align:center\">$1,286</td>\\n\\t\\t\\t\\t\\t\\t\\n\\t\\t\\t\\t\\t\\t\\t\\t\\t\\n\\t\\t\\t\\t\\t\\t\\t\\t\\n\\t\\t\\t\\t  </tr>\\n\\t\\t\\t\\t  \\n\\t\\t\\t\\t\\t\\t\\t\\t\\t\\t\\t\\t\\n\\t\\t\\t\\t<tr>\\n\\t\\t\\t\\t\\t<td style=\"text-align:center\">2019-04-30</td>\\n\\t\\t\\t\\t\\n\\t\\t\\t\\t\\n\\t\\t\\t\\t\\n\\t\\t\\t\\t\\t\\t\\t\\t\\t\\t\\n\\t\\t\\t\\t\\t\\t\\t\\t\\t\\t\\n\\t\\t\\t\\t\\t\\t<td style=\"text-align:center\">$1,548</td>\\n\\t\\t\\t\\t\\t\\t\\n\\t\\t\\t\\t\\t\\t\\t\\t\\t\\n\\t\\t\\t\\t\\t\\t\\t\\t\\n\\t\\t\\t\\t  </tr>\\n\\t\\t\\t\\t  \\n\\t\\t\\t\\t\\t\\t\\t\\t\\t\\t\\t\\t\\n\\t\\t\\t\\t<tr>\\n\\t\\t\\t\\t\\t<td style=\"text-align:center\">2019-01-31</td>\\n\\t\\t\\t\\t\\n\\t\\t\\t\\t\\n\\t\\t\\t\\t\\n\\t\\t\\t\\t\\t\\t\\t\\t\\t\\t\\n\\t\\t\\t\\t\\t\\t\\t\\t\\t\\t\\n\\t\\t\\t\\t\\t\\t<td style=\"text-align:center\">$3,063</td>\\n\\t\\t\\t\\t\\t\\t\\n\\t\\t\\t\\t\\t\\t\\t\\t\\t\\n\\t\\t\\t\\t\\t\\t\\t\\t\\n\\t\\t\\t\\t  </tr>\\n\\t\\t\\t\\t  \\n\\t\\t\\t\\t\\t\\t\\t\\t\\t\\t\\t\\t\\n\\t\\t\\t\\t<tr>\\n\\t\\t\\t\\t\\t<td style=\"text-align:center\">2018-10-31</td>\\n\\t\\t\\t\\t\\n\\t\\t\\t\\t\\n\\t\\t\\t\\t\\n\\t\\t\\t\\t\\t\\t\\t\\t\\t\\t\\n\\t\\t\\t\\t\\t\\t\\t\\t\\t\\t\\n\\t\\t\\t\\t\\t\\t<td style=\"text-align:center\">$1,935</td>\\n\\t\\t\\t\\t\\t\\t\\n\\t\\t\\t\\t\\t\\t\\t\\t\\t\\n\\t\\t\\t\\t\\t\\t\\t\\t\\n\\t\\t\\t\\t  </tr>\\n\\t\\t\\t\\t  \\n\\t\\t\\t\\t\\t\\t\\t\\t\\t\\t\\t\\t\\n\\t\\t\\t\\t<tr>\\n\\t\\t\\t\\t\\t<td style=\"text-align:center\">2018-07-31</td>\\n\\t\\t\\t\\t\\n\\t\\t\\t\\t\\n\\t\\t\\t\\t\\n\\t\\t\\t\\t\\t\\t\\t\\t\\t\\t\\n\\t\\t\\t\\t\\t\\t\\t\\t\\t\\t\\n\\t\\t\\t\\t\\t\\t<td style=\"text-align:center\">$1,501</td>\\n\\t\\t\\t\\t\\t\\t\\n\\t\\t\\t\\t\\t\\t\\t\\t\\t\\n\\t\\t\\t\\t\\t\\t\\t\\t\\n\\t\\t\\t\\t  </tr>\\n\\t\\t\\t\\t  \\n\\t\\t\\t\\t\\t\\t\\t\\t\\t\\t\\t\\t\\n\\t\\t\\t\\t<tr>\\n\\t\\t\\t\\t\\t<td style=\"text-align:center\">2018-04-30</td>\\n\\t\\t\\t\\t\\n\\t\\t\\t\\t\\n\\t\\t\\t\\t\\n\\t\\t\\t\\t\\t\\t\\t\\t\\t\\t\\n\\t\\t\\t\\t\\t\\t\\t\\t\\t\\t\\n\\t\\t\\t\\t\\t\\t<td style=\"text-align:center\">$1,786</td>\\n\\t\\t\\t\\t\\t\\t\\n\\t\\t\\t\\t\\t\\t\\t\\t\\t\\n\\t\\t\\t\\t\\t\\t\\t\\t\\n\\t\\t\\t\\t  </tr>\\n\\t\\t\\t\\t  \\n\\t\\t\\t\\t\\t\\t\\t\\t\\t\\t\\t\\t\\n\\t\\t\\t\\t<tr>\\n\\t\\t\\t\\t\\t<td style=\"text-align:center\">2018-01-31</td>\\n\\t\\t\\t\\t\\n\\t\\t\\t\\t\\n\\t\\t\\t\\t\\n\\t\\t\\t\\t\\t\\t\\t\\t\\t\\t\\n\\t\\t\\t\\t\\t\\t\\t\\t\\t\\t\\n\\t\\t\\t\\t\\t\\t<td style=\"text-align:center\">$2,825</td>\\n\\t\\t\\t\\t\\t\\t\\n\\t\\t\\t\\t\\t\\t\\t\\t\\t\\n\\t\\t\\t\\t\\t\\t\\t\\t\\n\\t\\t\\t\\t  </tr>\\n\\t\\t\\t\\t  \\n\\t\\t\\t\\t\\t\\t\\t\\t\\t\\t\\t\\t\\n\\t\\t\\t\\t<tr>\\n\\t\\t\\t\\t\\t<td style=\"text-align:center\">2017-10-31</td>\\n\\t\\t\\t\\t\\n\\t\\t\\t\\t\\n\\t\\t\\t\\t\\n\\t\\t\\t\\t\\t\\t\\t\\t\\t\\t\\n\\t\\t\\t\\t\\t\\t\\t\\t\\t\\t\\n\\t\\t\\t\\t\\t\\t<td style=\"text-align:center\">$1,989</td>\\n\\t\\t\\t\\t\\t\\t\\n\\t\\t\\t\\t\\t\\t\\t\\t\\t\\n\\t\\t\\t\\t\\t\\t\\t\\t\\n\\t\\t\\t\\t  </tr>\\n\\t\\t\\t\\t  \\n\\t\\t\\t\\t\\t\\t\\t\\t\\t\\t\\t\\t\\n\\t\\t\\t\\t<tr>\\n\\t\\t\\t\\t\\t<td style=\"text-align:center\">2017-07-31</td>\\n\\t\\t\\t\\t\\n\\t\\t\\t\\t\\n\\t\\t\\t\\t\\n\\t\\t\\t\\t\\t\\t\\t\\t\\t\\t\\n\\t\\t\\t\\t\\t\\t\\t\\t\\t\\t\\n\\t\\t\\t\\t\\t\\t<td style=\"text-align:center\">$1,688</td>\\n\\t\\t\\t\\t\\t\\t\\n\\t\\t\\t\\t\\t\\t\\t\\t\\t\\n\\t\\t\\t\\t\\t\\t\\t\\t\\n\\t\\t\\t\\t  </tr>\\n\\t\\t\\t\\t  \\n\\t\\t\\t\\t\\t\\t\\t\\t\\t\\t\\t\\t\\n\\t\\t\\t\\t<tr>\\n\\t\\t\\t\\t\\t<td style=\"text-align:center\">2017-04-30</td>\\n\\t\\t\\t\\t\\n\\t\\t\\t\\t\\n\\t\\t\\t\\t\\n\\t\\t\\t\\t\\t\\t\\t\\t\\t\\t\\n\\t\\t\\t\\t\\t\\t\\t\\t\\t\\t\\n\\t\\t\\t\\t\\t\\t<td style=\"text-align:center\">$2,046</td>\\n\\t\\t\\t\\t\\t\\t\\n\\t\\t\\t\\t\\t\\t\\t\\t\\t\\n\\t\\t\\t\\t\\t\\t\\t\\t\\n\\t\\t\\t\\t  </tr>\\n\\t\\t\\t\\t  \\n\\t\\t\\t\\t\\t\\t\\t\\t\\t\\t\\t\\t\\n\\t\\t\\t\\t<tr>\\n\\t\\t\\t\\t\\t<td style=\"text-align:center\">2017-01-31</td>\\n\\t\\t\\t\\t\\n\\t\\t\\t\\t\\n\\t\\t\\t\\t\\n\\t\\t\\t\\t\\t\\t\\t\\t\\t\\t\\n\\t\\t\\t\\t\\t\\t\\t\\t\\t\\t\\n\\t\\t\\t\\t\\t\\t<td style=\"text-align:center\">$2,403</td>\\n\\t\\t\\t\\t\\t\\t\\n\\t\\t\\t\\t\\t\\t\\t\\t\\t\\n\\t\\t\\t\\t\\t\\t\\t\\t\\n\\t\\t\\t\\t  </tr>\\n\\t\\t\\t\\t  \\n\\t\\t\\t\\t\\t\\t\\t\\t\\t\\t\\t\\t\\n\\t\\t\\t\\t<tr>\\n\\t\\t\\t\\t\\t<td style=\"text-align:center\">2016-10-31</td>\\n\\t\\t\\t\\t\\n\\t\\t\\t\\t\\n\\t\\t\\t\\t\\n\\t\\t\\t\\t\\t\\t\\t\\t\\t\\t\\n\\t\\t\\t\\t\\t\\t\\t\\t\\t\\t\\n\\t\\t\\t\\t\\t\\t<td style=\"text-align:center\">$1,959</td>\\n\\t\\t\\t\\t\\t\\t\\n\\t\\t\\t\\t\\t\\t\\t\\t\\t\\n\\t\\t\\t\\t\\t\\t\\t\\t\\n\\t\\t\\t\\t  </tr>\\n\\t\\t\\t\\t  \\n\\t\\t\\t\\t\\t\\t\\t\\t\\t\\t\\t\\t\\n\\t\\t\\t\\t<tr>\\n\\t\\t\\t\\t\\t<td style=\"text-align:center\">2016-07-31</td>\\n\\t\\t\\t\\t\\n\\t\\t\\t\\t\\n\\t\\t\\t\\t\\n\\t\\t\\t\\t\\t\\t\\t\\t\\t\\t\\n\\t\\t\\t\\t\\t\\t\\t\\t\\t\\t\\n\\t\\t\\t\\t\\t\\t<td style=\"text-align:center\">$1,632</td>\\n\\t\\t\\t\\t\\t\\t\\n\\t\\t\\t\\t\\t\\t\\t\\t\\t\\n\\t\\t\\t\\t\\t\\t\\t\\t\\n\\t\\t\\t\\t  </tr>\\n\\t\\t\\t\\t  \\n\\t\\t\\t\\t\\t\\t\\t\\t\\t\\t\\t\\t\\n\\t\\t\\t\\t<tr>\\n\\t\\t\\t\\t\\t<td style=\"text-align:center\">2016-04-30</td>\\n\\t\\t\\t\\t\\n\\t\\t\\t\\t\\n\\t\\t\\t\\t\\n\\t\\t\\t\\t\\t\\t\\t\\t\\t\\t\\n\\t\\t\\t\\t\\t\\t\\t\\t\\t\\t\\n\\t\\t\\t\\t\\t\\t<td style=\"text-align:center\">$1,972</td>\\n\\t\\t\\t\\t\\t\\t\\n\\t\\t\\t\\t\\t\\t\\t\\t\\t\\n\\t\\t\\t\\t\\t\\t\\t\\t\\n\\t\\t\\t\\t  </tr>\\n\\t\\t\\t\\t  \\n\\t\\t\\t\\t\\t\\t\\t\\t\\t\\t\\t\\t\\n\\t\\t\\t\\t<tr>\\n\\t\\t\\t\\t\\t<td style=\"text-align:center\">2016-01-31</td>\\n\\t\\t\\t\\t\\n\\t\\t\\t\\t\\n\\t\\t\\t\\t\\n\\t\\t\\t\\t\\t\\t\\t\\t\\t\\t\\n\\t\\t\\t\\t\\t\\t\\t\\t\\t\\t\\n\\t\\t\\t\\t\\t\\t<td style=\"text-align:center\">$3,525</td>\\n\\t\\t\\t\\t\\t\\t\\n\\t\\t\\t\\t\\t\\t\\t\\t\\t\\n\\t\\t\\t\\t\\t\\t\\t\\t\\n\\t\\t\\t\\t  </tr>\\n\\t\\t\\t\\t  \\n\\t\\t\\t\\t\\t\\t\\t\\t\\t\\t\\t\\t\\n\\t\\t\\t\\t<tr>\\n\\t\\t\\t\\t\\t<td style=\"text-align:center\">2015-10-31</td>\\n\\t\\t\\t\\t\\n\\t\\t\\t\\t\\n\\t\\t\\t\\t\\n\\t\\t\\t\\t\\t\\t\\t\\t\\t\\t\\n\\t\\t\\t\\t\\t\\t\\t\\t\\t\\t\\n\\t\\t\\t\\t\\t\\t<td style=\"text-align:center\">$2,016</td>\\n\\t\\t\\t\\t\\t\\t\\n\\t\\t\\t\\t\\t\\t\\t\\t\\t\\n\\t\\t\\t\\t\\t\\t\\t\\t\\n\\t\\t\\t\\t  </tr>\\n\\t\\t\\t\\t  \\n\\t\\t\\t\\t\\t\\t\\t\\t\\t\\t\\t\\t\\n\\t\\t\\t\\t<tr>\\n\\t\\t\\t\\t\\t<td style=\"text-align:center\">2015-07-31</td>\\n\\t\\t\\t\\t\\n\\t\\t\\t\\t\\n\\t\\t\\t\\t\\n\\t\\t\\t\\t\\t\\t\\t\\t\\t\\t\\n\\t\\t\\t\\t\\t\\t\\t\\t\\t\\t\\n\\t\\t\\t\\t\\t\\t<td style=\"text-align:center\">$1,762</td>\\n\\t\\t\\t\\t\\t\\t\\n\\t\\t\\t\\t\\t\\t\\t\\t\\t\\n\\t\\t\\t\\t\\t\\t\\t\\t\\n\\t\\t\\t\\t  </tr>\\n\\t\\t\\t\\t  \\n\\t\\t\\t\\t\\t\\t\\t\\t\\t\\t\\t\\t\\n\\t\\t\\t\\t<tr>\\n\\t\\t\\t\\t\\t<td style=\"text-align:center\">2015-04-30</td>\\n\\t\\t\\t\\t\\n\\t\\t\\t\\t\\n\\t\\t\\t\\t\\n\\t\\t\\t\\t\\t\\t\\t\\t\\t\\t\\n\\t\\t\\t\\t\\t\\t\\t\\t\\t\\t\\n\\t\\t\\t\\t\\t\\t<td style=\"text-align:center\">$2,061</td>\\n\\t\\t\\t\\t\\t\\t\\n\\t\\t\\t\\t\\t\\t\\t\\t\\t\\n\\t\\t\\t\\t\\t\\t\\t\\t\\n\\t\\t\\t\\t  </tr>\\n\\t\\t\\t\\t  \\n\\t\\t\\t\\t\\t\\t\\t\\t\\t\\t\\t\\t\\n\\t\\t\\t\\t<tr>\\n\\t\\t\\t\\t\\t<td style=\"text-align:center\">2015-01-31</td>\\n\\t\\t\\t\\t\\n\\t\\t\\t\\t\\n\\t\\t\\t\\t\\n\\t\\t\\t\\t\\t\\t\\t\\t\\t\\t\\n\\t\\t\\t\\t\\t\\t\\t\\t\\t\\t\\n\\t\\t\\t\\t\\t\\t<td style=\"text-align:center\">$3,476</td>\\n\\t\\t\\t\\t\\t\\t\\n\\t\\t\\t\\t\\t\\t\\t\\t\\t\\n\\t\\t\\t\\t\\t\\t\\t\\t\\n\\t\\t\\t\\t  </tr>\\n\\t\\t\\t\\t  \\n\\t\\t\\t\\t\\t\\t\\t\\t\\t\\t\\t\\t\\n\\t\\t\\t\\t<tr>\\n\\t\\t\\t\\t\\t<td style=\"text-align:center\">2014-10-31</td>\\n\\t\\t\\t\\t\\n\\t\\t\\t\\t\\n\\t\\t\\t\\t\\n\\t\\t\\t\\t\\t\\t\\t\\t\\t\\t\\n\\t\\t\\t\\t\\t\\t\\t\\t\\t\\t\\n\\t\\t\\t\\t\\t\\t<td style=\"text-align:center\">$2,092</td>\\n\\t\\t\\t\\t\\t\\t\\n\\t\\t\\t\\t\\t\\t\\t\\t\\t\\n\\t\\t\\t\\t\\t\\t\\t\\t\\n\\t\\t\\t\\t  </tr>\\n\\t\\t\\t\\t  \\n\\t\\t\\t\\t\\t\\t\\t\\t\\t\\t\\t\\t\\n\\t\\t\\t\\t<tr>\\n\\t\\t\\t\\t\\t<td style=\"text-align:center\">2014-07-31</td>\\n\\t\\t\\t\\t\\n\\t\\t\\t\\t\\n\\t\\t\\t\\t\\n\\t\\t\\t\\t\\t\\t\\t\\t\\t\\t\\n\\t\\t\\t\\t\\t\\t\\t\\t\\t\\t\\n\\t\\t\\t\\t\\t\\t<td style=\"text-align:center\">$1,731</td>\\n\\t\\t\\t\\t\\t\\t\\n\\t\\t\\t\\t\\t\\t\\t\\t\\t\\n\\t\\t\\t\\t\\t\\t\\t\\t\\n\\t\\t\\t\\t  </tr>\\n\\t\\t\\t\\t  \\n\\t\\t\\t\\t\\t\\t\\t\\t\\t\\t\\t\\t\\n\\t\\t\\t\\t<tr>\\n\\t\\t\\t\\t\\t<td style=\"text-align:center\">2014-04-30</td>\\n\\t\\t\\t\\t\\n\\t\\t\\t\\t\\n\\t\\t\\t\\t\\n\\t\\t\\t\\t\\t\\t\\t\\t\\t\\t\\n\\t\\t\\t\\t\\t\\t\\t\\t\\t\\t\\n\\t\\t\\t\\t\\t\\t<td style=\"text-align:center\">$1,996</td>\\n\\t\\t\\t\\t\\t\\t\\n\\t\\t\\t\\t\\t\\t\\t\\t\\t\\n\\t\\t\\t\\t\\t\\t\\t\\t\\n\\t\\t\\t\\t  </tr>\\n\\t\\t\\t\\t  \\n\\t\\t\\t\\t\\t\\t\\t\\t\\t\\t\\t\\t\\n\\t\\t\\t\\t<tr>\\n\\t\\t\\t\\t\\t<td style=\"text-align:center\">2014-01-31</td>\\n\\t\\t\\t\\t\\n\\t\\t\\t\\t\\n\\t\\t\\t\\t\\n\\t\\t\\t\\t\\t\\t\\t\\t\\t\\t\\n\\t\\t\\t\\t\\t\\t\\t\\t\\t\\t\\n\\t\\t\\t\\t\\t\\t<td style=\"text-align:center\">$3,684</td>\\n\\t\\t\\t\\t\\t\\t\\n\\t\\t\\t\\t\\t\\t\\t\\t\\t\\n\\t\\t\\t\\t\\t\\t\\t\\t\\n\\t\\t\\t\\t  </tr>\\n\\t\\t\\t\\t  \\n\\t\\t\\t\\t\\t\\t\\t\\t\\t\\t\\t\\t\\n\\t\\t\\t\\t<tr>\\n\\t\\t\\t\\t\\t<td style=\"text-align:center\">2013-10-31</td>\\n\\t\\t\\t\\t\\n\\t\\t\\t\\t\\n\\t\\t\\t\\t\\n\\t\\t\\t\\t\\t\\t\\t\\t\\t\\t\\n\\t\\t\\t\\t\\t\\t\\t\\t\\t\\t\\n\\t\\t\\t\\t\\t\\t<td style=\"text-align:center\">$2,107</td>\\n\\t\\t\\t\\t\\t\\t\\n\\t\\t\\t\\t\\t\\t\\t\\t\\t\\n\\t\\t\\t\\t\\t\\t\\t\\t\\n\\t\\t\\t\\t  </tr>\\n\\t\\t\\t\\t  \\n\\t\\t\\t\\t\\t\\t\\t\\t\\t\\t\\t\\t\\n\\t\\t\\t\\t<tr>\\n\\t\\t\\t\\t\\t<td style=\"text-align:center\">2013-07-31</td>\\n\\t\\t\\t\\t\\n\\t\\t\\t\\t\\n\\t\\t\\t\\t\\n\\t\\t\\t\\t\\t\\t\\t\\t\\t\\t\\n\\t\\t\\t\\t\\t\\t\\t\\t\\t\\t\\n\\t\\t\\t\\t\\t\\t<td style=\"text-align:center\">$1,384</td>\\n\\t\\t\\t\\t\\t\\t\\n\\t\\t\\t\\t\\t\\t\\t\\t\\t\\n\\t\\t\\t\\t\\t\\t\\t\\t\\n\\t\\t\\t\\t  </tr>\\n\\t\\t\\t\\t  \\n\\t\\t\\t\\t\\t\\t\\t\\t\\t\\t\\t\\t\\n\\t\\t\\t\\t<tr>\\n\\t\\t\\t\\t\\t<td style=\"text-align:center\">2013-04-30</td>\\n\\t\\t\\t\\t\\n\\t\\t\\t\\t\\n\\t\\t\\t\\t\\n\\t\\t\\t\\t\\t\\t\\t\\t\\t\\t\\n\\t\\t\\t\\t\\t\\t\\t\\t\\t\\t\\n\\t\\t\\t\\t\\t\\t<td style=\"text-align:center\">$1,865</td>\\n\\t\\t\\t\\t\\t\\t\\n\\t\\t\\t\\t\\t\\t\\t\\t\\t\\n\\t\\t\\t\\t\\t\\t\\t\\t\\n\\t\\t\\t\\t  </tr>\\n\\t\\t\\t\\t  \\n\\t\\t\\t\\t\\t\\t\\t\\t\\t\\t\\t\\t\\n\\t\\t\\t\\t<tr>\\n\\t\\t\\t\\t\\t<td style=\"text-align:center\">2013-01-31</td>\\n\\t\\t\\t\\t\\n\\t\\t\\t\\t\\n\\t\\t\\t\\t\\n\\t\\t\\t\\t\\t\\t\\t\\t\\t\\t\\n\\t\\t\\t\\t\\t\\t\\t\\t\\t\\t\\n\\t\\t\\t\\t\\t\\t<td style=\"text-align:center\">$3,562</td>\\n\\t\\t\\t\\t\\t\\t\\n\\t\\t\\t\\t\\t\\t\\t\\t\\t\\n\\t\\t\\t\\t\\t\\t\\t\\t\\n\\t\\t\\t\\t  </tr>\\n\\t\\t\\t\\t  \\n\\t\\t\\t\\t\\t\\t\\t\\t\\t\\t\\t\\t\\n\\t\\t\\t\\t<tr>\\n\\t\\t\\t\\t\\t<td style=\"text-align:center\">2012-10-31</td>\\n\\t\\t\\t\\t\\n\\t\\t\\t\\t\\n\\t\\t\\t\\t\\n\\t\\t\\t\\t\\t\\t\\t\\t\\t\\t\\n\\t\\t\\t\\t\\t\\t\\t\\t\\t\\t\\n\\t\\t\\t\\t\\t\\t<td style=\"text-align:center\">$1,773</td>\\n\\t\\t\\t\\t\\t\\t\\n\\t\\t\\t\\t\\t\\t\\t\\t\\t\\n\\t\\t\\t\\t\\t\\t\\t\\t\\n\\t\\t\\t\\t  </tr>\\n\\t\\t\\t\\t  \\n\\t\\t\\t\\t\\t\\t\\t\\t\\t\\t\\t\\t\\n\\t\\t\\t\\t<tr>\\n\\t\\t\\t\\t\\t<td style=\"text-align:center\">2012-07-31</td>\\n\\t\\t\\t\\t\\n\\t\\t\\t\\t\\n\\t\\t\\t\\t\\n\\t\\t\\t\\t\\t\\t\\t\\t\\t\\t\\n\\t\\t\\t\\t\\t\\t\\t\\t\\t\\t\\n\\t\\t\\t\\t\\t\\t<td style=\"text-align:center\">$1,550</td>\\n\\t\\t\\t\\t\\t\\t\\n\\t\\t\\t\\t\\t\\t\\t\\t\\t\\n\\t\\t\\t\\t\\t\\t\\t\\t\\n\\t\\t\\t\\t  </tr>\\n\\t\\t\\t\\t  \\n\\t\\t\\t\\t\\t\\t\\t\\t\\t\\t\\t\\t\\n\\t\\t\\t\\t<tr>\\n\\t\\t\\t\\t\\t<td style=\"text-align:center\">2012-04-30</td>\\n\\t\\t\\t\\t\\n\\t\\t\\t\\t\\n\\t\\t\\t\\t\\n\\t\\t\\t\\t\\t\\t\\t\\t\\t\\t\\n\\t\\t\\t\\t\\t\\t\\t\\t\\t\\t\\n\\t\\t\\t\\t\\t\\t<td style=\"text-align:center\">$2,002</td>\\n\\t\\t\\t\\t\\t\\t\\n\\t\\t\\t\\t\\t\\t\\t\\t\\t\\n\\t\\t\\t\\t\\t\\t\\t\\t\\n\\t\\t\\t\\t  </tr>\\n\\t\\t\\t\\t  \\n\\t\\t\\t\\t\\t\\t\\t\\t\\t\\t\\t\\t\\n\\t\\t\\t\\t<tr>\\n\\t\\t\\t\\t\\t<td style=\"text-align:center\">2012-01-31</td>\\n\\t\\t\\t\\t\\n\\t\\t\\t\\t\\n\\t\\t\\t\\t\\n\\t\\t\\t\\t\\t\\t\\t\\t\\t\\t\\n\\t\\t\\t\\t\\t\\t\\t\\t\\t\\t\\n\\t\\t\\t\\t\\t\\t<td style=\"text-align:center\">$3,579</td>\\n\\t\\t\\t\\t\\t\\t\\n\\t\\t\\t\\t\\t\\t\\t\\t\\t\\n\\t\\t\\t\\t\\t\\t\\t\\t\\n\\t\\t\\t\\t  </tr>\\n\\t\\t\\t\\t  \\n\\t\\t\\t\\t\\t\\t\\t\\t\\t\\t\\t\\t\\n\\t\\t\\t\\t<tr>\\n\\t\\t\\t\\t\\t<td style=\"text-align:center\">2011-10-31</td>\\n\\t\\t\\t\\t\\n\\t\\t\\t\\t\\n\\t\\t\\t\\t\\n\\t\\t\\t\\t\\t\\t\\t\\t\\t\\t\\n\\t\\t\\t\\t\\t\\t\\t\\t\\t\\t\\n\\t\\t\\t\\t\\t\\t<td style=\"text-align:center\">$1,947</td>\\n\\t\\t\\t\\t\\t\\t\\n\\t\\t\\t\\t\\t\\t\\t\\t\\t\\n\\t\\t\\t\\t\\t\\t\\t\\t\\n\\t\\t\\t\\t  </tr>\\n\\t\\t\\t\\t  \\n\\t\\t\\t\\t\\t\\t\\t\\t\\t\\t\\t\\t\\n\\t\\t\\t\\t<tr>\\n\\t\\t\\t\\t\\t<td style=\"text-align:center\">2011-07-31</td>\\n\\t\\t\\t\\t\\n\\t\\t\\t\\t\\n\\t\\t\\t\\t\\n\\t\\t\\t\\t\\t\\t\\t\\t\\t\\t\\n\\t\\t\\t\\t\\t\\t\\t\\t\\t\\t\\n\\t\\t\\t\\t\\t\\t<td style=\"text-align:center\">$1,744</td>\\n\\t\\t\\t\\t\\t\\t\\n\\t\\t\\t\\t\\t\\t\\t\\t\\t\\n\\t\\t\\t\\t\\t\\t\\t\\t\\n\\t\\t\\t\\t  </tr>\\n\\t\\t\\t\\t  \\n\\t\\t\\t\\t\\t\\t\\t\\t\\t\\t\\t\\t\\n\\t\\t\\t\\t<tr>\\n\\t\\t\\t\\t\\t<td style=\"text-align:center\">2011-04-30</td>\\n\\t\\t\\t\\t\\n\\t\\t\\t\\t\\n\\t\\t\\t\\t\\n\\t\\t\\t\\t\\t\\t\\t\\t\\t\\t\\n\\t\\t\\t\\t\\t\\t\\t\\t\\t\\t\\n\\t\\t\\t\\t\\t\\t<td style=\"text-align:center\">$2,281</td>\\n\\t\\t\\t\\t\\t\\t\\n\\t\\t\\t\\t\\t\\t\\t\\t\\t\\n\\t\\t\\t\\t\\t\\t\\t\\t\\n\\t\\t\\t\\t  </tr>\\n\\t\\t\\t\\t  \\n\\t\\t\\t\\t\\t\\t\\t\\t\\t\\t\\t\\t\\n\\t\\t\\t\\t<tr>\\n\\t\\t\\t\\t\\t<td style=\"text-align:center\">2011-01-31</td>\\n\\t\\t\\t\\t\\n\\t\\t\\t\\t\\n\\t\\t\\t\\t\\n\\t\\t\\t\\t\\t\\t\\t\\t\\t\\t\\n\\t\\t\\t\\t\\t\\t\\t\\t\\t\\t\\n\\t\\t\\t\\t\\t\\t<td style=\"text-align:center\">$3,693</td>\\n\\t\\t\\t\\t\\t\\t\\n\\t\\t\\t\\t\\t\\t\\t\\t\\t\\n\\t\\t\\t\\t\\t\\t\\t\\t\\n\\t\\t\\t\\t  </tr>\\n\\t\\t\\t\\t  \\n\\t\\t\\t\\t\\t\\t\\t\\t\\t\\t\\t\\t\\n\\t\\t\\t\\t<tr>\\n\\t\\t\\t\\t\\t<td style=\"text-align:center\">2010-10-31</td>\\n\\t\\t\\t\\t\\n\\t\\t\\t\\t\\n\\t\\t\\t\\t\\n\\t\\t\\t\\t\\t\\t\\t\\t\\t\\t\\n\\t\\t\\t\\t\\t\\t\\t\\t\\t\\t\\n\\t\\t\\t\\t\\t\\t<td style=\"text-align:center\">$1,899</td>\\n\\t\\t\\t\\t\\t\\t\\n\\t\\t\\t\\t\\t\\t\\t\\t\\t\\n\\t\\t\\t\\t\\t\\t\\t\\t\\n\\t\\t\\t\\t  </tr>\\n\\t\\t\\t\\t  \\n\\t\\t\\t\\t\\t\\t\\t\\t\\t\\t\\t\\t\\n\\t\\t\\t\\t<tr>\\n\\t\\t\\t\\t\\t<td style=\"text-align:center\">2010-07-31</td>\\n\\t\\t\\t\\t\\n\\t\\t\\t\\t\\n\\t\\t\\t\\t\\n\\t\\t\\t\\t\\t\\t\\t\\t\\t\\t\\n\\t\\t\\t\\t\\t\\t\\t\\t\\t\\t\\n\\t\\t\\t\\t\\t\\t<td style=\"text-align:center\">$1,799</td>\\n\\t\\t\\t\\t\\t\\t\\n\\t\\t\\t\\t\\t\\t\\t\\t\\t\\n\\t\\t\\t\\t\\t\\t\\t\\t\\n\\t\\t\\t\\t  </tr>\\n\\t\\t\\t\\t  \\n\\t\\t\\t\\t\\t\\t\\t\\t\\t\\t\\t\\t\\n\\t\\t\\t\\t<tr>\\n\\t\\t\\t\\t\\t<td style=\"text-align:center\">2010-04-30</td>\\n\\t\\t\\t\\t\\n\\t\\t\\t\\t\\n\\t\\t\\t\\t\\n\\t\\t\\t\\t\\t\\t\\t\\t\\t\\t\\n\\t\\t\\t\\t\\t\\t\\t\\t\\t\\t\\n\\t\\t\\t\\t\\t\\t<td style=\"text-align:center\">$2,083</td>\\n\\t\\t\\t\\t\\t\\t\\n\\t\\t\\t\\t\\t\\t\\t\\t\\t\\n\\t\\t\\t\\t\\t\\t\\t\\t\\n\\t\\t\\t\\t  </tr>\\n\\t\\t\\t\\t  \\n\\t\\t\\t\\t\\t\\t\\t\\t\\t\\t\\t\\t\\n\\t\\t\\t\\t<tr>\\n\\t\\t\\t\\t\\t<td style=\"text-align:center\">2010-01-31</td>\\n\\t\\t\\t\\t\\n\\t\\t\\t\\t\\n\\t\\t\\t\\t\\n\\t\\t\\t\\t\\t\\t\\t\\t\\t\\t\\n\\t\\t\\t\\t\\t\\t\\t\\t\\t\\t\\n\\t\\t\\t\\t\\t\\t<td style=\"text-align:center\">$3,524</td>\\n\\t\\t\\t\\t\\t\\t\\n\\t\\t\\t\\t\\t\\t\\t\\t\\t\\n\\t\\t\\t\\t\\t\\t\\t\\t\\n\\t\\t\\t\\t  </tr>\\n\\t\\t\\t\\t  \\n\\t\\t\\t\\t\\t\\t\\t\\t\\t\\t\\t\\t\\n\\t\\t\\t\\t<tr>\\n\\t\\t\\t\\t\\t<td style=\"text-align:center\">2009-10-31</td>\\n\\t\\t\\t\\t\\n\\t\\t\\t\\t\\n\\t\\t\\t\\t\\n\\t\\t\\t\\t\\t\\t\\t\\t\\t\\t\\n\\t\\t\\t\\t\\t\\t\\t\\t\\t\\t\\n\\t\\t\\t\\t\\t\\t<td style=\"text-align:center\">$1,835</td>\\n\\t\\t\\t\\t\\t\\t\\n\\t\\t\\t\\t\\t\\t\\t\\t\\t\\n\\t\\t\\t\\t\\t\\t\\t\\t\\n\\t\\t\\t\\t  </tr>\\n\\t\\t\\t\\t  \\n\\t\\t\\t\\t\\t\\t\\t\\t\\t\\t\\t\\t\\n\\t\\t\\t\\t<tr>\\n\\t\\t\\t\\t\\t<td style=\"text-align:center\">2009-07-31</td>\\n\\t\\t\\t\\t\\n\\t\\t\\t\\t\\n\\t\\t\\t\\t\\n\\t\\t\\t\\t\\t\\t\\t\\t\\t\\t\\n\\t\\t\\t\\t\\t\\t\\t\\t\\t\\t\\n\\t\\t\\t\\t\\t\\t<td style=\"text-align:center\">$1,739</td>\\n\\t\\t\\t\\t\\t\\t\\n\\t\\t\\t\\t\\t\\t\\t\\t\\t\\n\\t\\t\\t\\t\\t\\t\\t\\t\\n\\t\\t\\t\\t  </tr>\\n\\t\\t\\t\\t  \\n\\t\\t\\t\\t\\t\\t\\t\\t\\t\\t\\t\\t\\n\\t\\t\\t\\t<tr>\\n\\t\\t\\t\\t\\t<td style=\"text-align:center\">2009-04-30</td>\\n\\t\\t\\t\\t\\n\\t\\t\\t\\t\\n\\t\\t\\t\\t\\n\\t\\t\\t\\t\\t\\t\\t\\t\\t\\t\\n\\t\\t\\t\\t\\t\\t\\t\\t\\t\\t\\n\\t\\t\\t\\t\\t\\t<td style=\"text-align:center\">$1,981</td>\\n\\t\\t\\t\\t\\t\\t\\n\\t\\t\\t\\t\\t\\t\\t\\t\\t\\n\\t\\t\\t\\t\\t\\t\\t\\t\\n\\t\\t\\t\\t  </tr>\\n\\t\\t\\t\\t  \\n\\t\\t\\t\\t\\t\\t\\t\\t\\t\\t\\t\\t\\n\\t\\t\\t\\t<tr>\\n\\t\\t\\t\\t\\t<td style=\"text-align:center\">2009-01-31</td>\\n\\t\\t\\t\\t\\n\\t\\t\\t\\t\\n\\t\\t\\t\\t\\n\\t\\t\\t\\t\\t\\t\\t\\t\\t\\t\\n\\t\\t\\t\\t\\t\\t\\t\\t\\t\\t\\n\\t\\t\\t\\t\\t\\t<td style=\"text-align:center\">$3,492</td>\\n\\t\\t\\t\\t\\t\\t\\n\\t\\t\\t\\t\\t\\t\\t\\t\\t\\n\\t\\t\\t\\t\\t\\t\\t\\t\\n\\t\\t\\t\\t  </tr>\\n\\t\\t\\t\\t  \\n\\t\\t\\t\\t\\t\\t\\t\\t\\t\\t\\t\\t\\n\\t\\t\\t\\t<tr>\\n\\t\\t\\t\\t\\t<td style=\"text-align:center\">2008-10-31</td>\\n\\t\\t\\t\\t\\n\\t\\t\\t\\t\\n\\t\\t\\t\\t\\n\\t\\t\\t\\t\\t\\t\\t\\t\\t\\t\\n\\t\\t\\t\\t\\t\\t\\t\\t\\t\\t\\n\\t\\t\\t\\t\\t\\t<td style=\"text-align:center\">$1,696</td>\\n\\t\\t\\t\\t\\t\\t\\n\\t\\t\\t\\t\\t\\t\\t\\t\\t\\n\\t\\t\\t\\t\\t\\t\\t\\t\\n\\t\\t\\t\\t  </tr>\\n\\t\\t\\t\\t  \\n\\t\\t\\t\\t\\t\\t\\t\\t\\t\\t\\t\\t\\n\\t\\t\\t\\t<tr>\\n\\t\\t\\t\\t\\t<td style=\"text-align:center\">2008-07-31</td>\\n\\t\\t\\t\\t\\n\\t\\t\\t\\t\\n\\t\\t\\t\\t\\n\\t\\t\\t\\t\\t\\t\\t\\t\\t\\t\\n\\t\\t\\t\\t\\t\\t\\t\\t\\t\\t\\n\\t\\t\\t\\t\\t\\t<td style=\"text-align:center\">$1,804</td>\\n\\t\\t\\t\\t\\t\\t\\n\\t\\t\\t\\t\\t\\t\\t\\t\\t\\n\\t\\t\\t\\t\\t\\t\\t\\t\\n\\t\\t\\t\\t  </tr>\\n\\t\\t\\t\\t  \\n\\t\\t\\t\\t\\t\\t\\t\\t\\t\\t\\t\\t\\n\\t\\t\\t\\t<tr>\\n\\t\\t\\t\\t\\t<td style=\"text-align:center\">2008-04-30</td>\\n\\t\\t\\t\\t\\n\\t\\t\\t\\t\\n\\t\\t\\t\\t\\n\\t\\t\\t\\t\\t\\t\\t\\t\\t\\t\\n\\t\\t\\t\\t\\t\\t\\t\\t\\t\\t\\n\\t\\t\\t\\t\\t\\t<td style=\"text-align:center\">$1,814</td>\\n\\t\\t\\t\\t\\t\\t\\n\\t\\t\\t\\t\\t\\t\\t\\t\\t\\n\\t\\t\\t\\t\\t\\t\\t\\t\\n\\t\\t\\t\\t  </tr>\\n\\t\\t\\t\\t  \\n\\t\\t\\t\\t\\t\\t\\t\\t\\t\\t\\t\\t\\n\\t\\t\\t\\t<tr>\\n\\t\\t\\t\\t\\t<td style=\"text-align:center\">2008-01-31</td>\\n\\t\\t\\t\\t\\n\\t\\t\\t\\t\\n\\t\\t\\t\\t\\n\\t\\t\\t\\t\\t\\t\\t\\t\\t\\t\\n\\t\\t\\t\\t\\t\\t\\t\\t\\t\\t\\n\\t\\t\\t\\t\\t\\t<td style=\"text-align:center\">$2,866</td>\\n\\t\\t\\t\\t\\t\\t\\n\\t\\t\\t\\t\\t\\t\\t\\t\\t\\n\\t\\t\\t\\t\\t\\t\\t\\t\\n\\t\\t\\t\\t  </tr>\\n\\t\\t\\t\\t  \\n\\t\\t\\t\\t\\t\\t\\t\\t\\t\\t\\t\\t\\n\\t\\t\\t\\t<tr>\\n\\t\\t\\t\\t\\t<td style=\"text-align:center\">2007-10-31</td>\\n\\t\\t\\t\\t\\n\\t\\t\\t\\t\\n\\t\\t\\t\\t\\n\\t\\t\\t\\t\\t\\t\\t\\t\\t\\t\\n\\t\\t\\t\\t\\t\\t\\t\\t\\t\\t\\n\\t\\t\\t\\t\\t\\t<td style=\"text-align:center\">$1,611</td>\\n\\t\\t\\t\\t\\t\\t\\n\\t\\t\\t\\t\\t\\t\\t\\t\\t\\n\\t\\t\\t\\t\\t\\t\\t\\t\\n\\t\\t\\t\\t  </tr>\\n\\t\\t\\t\\t  \\n\\t\\t\\t\\t\\t\\t\\t\\t\\t\\t\\t\\t\\n\\t\\t\\t\\t<tr>\\n\\t\\t\\t\\t\\t<td style=\"text-align:center\">2007-07-31</td>\\n\\t\\t\\t\\t\\n\\t\\t\\t\\t\\n\\t\\t\\t\\t\\n\\t\\t\\t\\t\\t\\t\\t\\t\\t\\t\\n\\t\\t\\t\\t\\t\\t\\t\\t\\t\\t\\n\\t\\t\\t\\t\\t\\t<td style=\"text-align:center\">$1,338</td>\\n\\t\\t\\t\\t\\t\\t\\n\\t\\t\\t\\t\\t\\t\\t\\t\\t\\n\\t\\t\\t\\t\\t\\t\\t\\t\\n\\t\\t\\t\\t  </tr>\\n\\t\\t\\t\\t  \\n\\t\\t\\t\\t\\t\\t\\t\\t\\t\\t\\t\\t\\n\\t\\t\\t\\t<tr>\\n\\t\\t\\t\\t\\t<td style=\"text-align:center\">2007-04-30</td>\\n\\t\\t\\t\\t\\n\\t\\t\\t\\t\\n\\t\\t\\t\\t\\n\\t\\t\\t\\t\\t\\t\\t\\t\\t\\t\\n\\t\\t\\t\\t\\t\\t\\t\\t\\t\\t\\n\\t\\t\\t\\t\\t\\t<td style=\"text-align:center\">$1,279</td>\\n\\t\\t\\t\\t\\t\\t\\n\\t\\t\\t\\t\\t\\t\\t\\t\\t\\n\\t\\t\\t\\t\\t\\t\\t\\t\\n\\t\\t\\t\\t  </tr>\\n\\t\\t\\t\\t  \\n\\t\\t\\t\\t\\t\\t\\t\\t\\t\\t\\t\\t\\n\\t\\t\\t\\t<tr>\\n\\t\\t\\t\\t\\t<td style=\"text-align:center\">2007-01-31</td>\\n\\t\\t\\t\\t\\n\\t\\t\\t\\t\\n\\t\\t\\t\\t\\n\\t\\t\\t\\t\\t\\t\\t\\t\\t\\t\\n\\t\\t\\t\\t\\t\\t\\t\\t\\t\\t\\n\\t\\t\\t\\t\\t\\t<td style=\"text-align:center\">$2,304</td>\\n\\t\\t\\t\\t\\t\\t\\n\\t\\t\\t\\t\\t\\t\\t\\t\\t\\n\\t\\t\\t\\t\\t\\t\\t\\t\\n\\t\\t\\t\\t  </tr>\\n\\t\\t\\t\\t  \\n\\t\\t\\t\\t\\t\\t\\t\\t\\t\\t\\t\\t\\n\\t\\t\\t\\t<tr>\\n\\t\\t\\t\\t\\t<td style=\"text-align:center\">2006-10-31</td>\\n\\t\\t\\t\\t\\n\\t\\t\\t\\t\\n\\t\\t\\t\\t\\n\\t\\t\\t\\t\\t\\t\\t\\t\\t\\t\\n\\t\\t\\t\\t\\t\\t\\t\\t\\t\\t\\n\\t\\t\\t\\t\\t\\t<td style=\"text-align:center\">$1,012</td>\\n\\t\\t\\t\\t\\t\\t\\n\\t\\t\\t\\t\\t\\t\\t\\t\\t\\n\\t\\t\\t\\t\\t\\t\\t\\t\\n\\t\\t\\t\\t  </tr>\\n\\t\\t\\t\\t  \\n\\t\\t\\t\\t\\t\\t\\t\\t\\t\\t\\t\\t\\n\\t\\t\\t\\t<tr>\\n\\t\\t\\t\\t\\t<td style=\"text-align:center\">2006-07-31</td>\\n\\t\\t\\t\\t\\n\\t\\t\\t\\t\\n\\t\\t\\t\\t\\n\\t\\t\\t\\t\\t\\t\\t\\t\\t\\t\\n\\t\\t\\t\\t\\t\\t\\t\\t\\t\\t\\n\\t\\t\\t\\t\\t\\t<td style=\"text-align:center\">$963</td>\\n\\t\\t\\t\\t\\t\\t\\n\\t\\t\\t\\t\\t\\t\\t\\t\\t\\n\\t\\t\\t\\t\\t\\t\\t\\t\\n\\t\\t\\t\\t  </tr>\\n\\t\\t\\t\\t  \\n\\t\\t\\t\\t\\t\\t\\t\\t\\t\\t\\t\\t\\n\\t\\t\\t\\t<tr>\\n\\t\\t\\t\\t\\t<td style=\"text-align:center\">2006-04-30</td>\\n\\t\\t\\t\\t\\n\\t\\t\\t\\t\\n\\t\\t\\t\\t\\n\\t\\t\\t\\t\\t\\t\\t\\t\\t\\t\\n\\t\\t\\t\\t\\t\\t\\t\\t\\t\\t\\n\\t\\t\\t\\t\\t\\t<td style=\"text-align:center\">$1,040</td>\\n\\t\\t\\t\\t\\t\\t\\n\\t\\t\\t\\t\\t\\t\\t\\t\\t\\n\\t\\t\\t\\t\\t\\t\\t\\t\\n\\t\\t\\t\\t  </tr>\\n\\t\\t\\t\\t  \\n\\t\\t\\t\\t\\t\\t\\t\\t\\t\\t\\t\\t\\n\\t\\t\\t\\t<tr>\\n\\t\\t\\t\\t\\t<td style=\"text-align:center\">2006-01-31</td>\\n\\t\\t\\t\\t\\n\\t\\t\\t\\t\\n\\t\\t\\t\\t\\n\\t\\t\\t\\t\\t\\t\\t\\t\\t\\t\\n\\t\\t\\t\\t\\t\\t\\t\\t\\t\\t\\n\\t\\t\\t\\t\\t\\t<td style=\"text-align:center\">$1,667</td>\\n\\t\\t\\t\\t\\t\\t\\n\\t\\t\\t\\t\\t\\t\\t\\t\\t\\n\\t\\t\\t\\t\\t\\t\\t\\t\\n\\t\\t\\t\\t  </tr>\\n\\t\\t\\t\\t  \\n\\t\\t\\t\\t\\t\\t\\t\\t\\t\\t\\t\\t\\n\\t\\t\\t\\t<tr>\\n\\t\\t\\t\\t\\t<td style=\"text-align:center\">2005-10-31</td>\\n\\t\\t\\t\\t\\n\\t\\t\\t\\t\\n\\t\\t\\t\\t\\n\\t\\t\\t\\t\\t\\t\\t\\t\\t\\t\\n\\t\\t\\t\\t\\t\\t\\t\\t\\t\\t\\n\\t\\t\\t\\t\\t\\t<td style=\"text-align:center\">$534</td>\\n\\t\\t\\t\\t\\t\\t\\n\\t\\t\\t\\t\\t\\t\\t\\t\\t\\n\\t\\t\\t\\t\\t\\t\\t\\t\\n\\t\\t\\t\\t  </tr>\\n\\t\\t\\t\\t  \\n\\t\\t\\t\\t\\t\\t\\t\\t\\t\\t\\t\\t\\n\\t\\t\\t\\t<tr>\\n\\t\\t\\t\\t\\t<td style=\"text-align:center\">2005-07-31</td>\\n\\t\\t\\t\\t\\n\\t\\t\\t\\t\\n\\t\\t\\t\\t\\n\\t\\t\\t\\t\\t\\t\\t\\t\\t\\t\\n\\t\\t\\t\\t\\t\\t\\t\\t\\t\\t\\n\\t\\t\\t\\t\\t\\t<td style=\"text-align:center\">$416</td>\\n\\t\\t\\t\\t\\t\\t\\n\\t\\t\\t\\t\\t\\t\\t\\t\\t\\n\\t\\t\\t\\t\\t\\t\\t\\t\\n\\t\\t\\t\\t  </tr>\\n\\t\\t\\t\\t  \\n\\t\\t\\t\\t\\t\\t\\t\\t\\t\\t\\t\\t\\n\\t\\t\\t\\t<tr>\\n\\t\\t\\t\\t\\t<td style=\"text-align:center\">2005-04-30</td>\\n\\t\\t\\t\\t\\n\\t\\t\\t\\t\\n\\t\\t\\t\\t\\n\\t\\t\\t\\t\\t\\t\\t\\t\\t\\t\\n\\t\\t\\t\\t\\t\\t\\t\\t\\t\\t\\n\\t\\t\\t\\t\\t\\t<td style=\"text-align:center\">$475</td>\\n\\t\\t\\t\\t\\t\\t\\n\\t\\t\\t\\t\\t\\t\\t\\t\\t\\n\\t\\t\\t\\t\\t\\t\\t\\t\\n\\t\\t\\t\\t  </tr>\\n\\t\\t\\t\\t  \\n\\t\\t\\t\\t\\t\\t\\t\\t\\t\\t\\t\\t\\n\\t\\t\\t\\t<tr>\\n\\t\\t\\t\\t\\t<td style=\"text-align:center\">2005-01-31</td>\\n\\t\\t\\t\\t\\n\\t\\t\\t\\t\\n\\t\\t\\t\\t\\n\\t\\t\\t\\t\\t\\t\\t\\t\\t\\t\\n\\t\\t\\t\\t\\t\\t\\t\\t\\t\\t\\n\\t\\t\\t\\t\\t\\t<td style=\"text-align:center\">$709</td>\\n\\t\\t\\t\\t\\t\\t\\n\\t\\t\\t\\t\\t\\t\\t\\t\\t\\n\\t\\t\\t\\t\\t\\t\\t\\t\\n\\t\\t\\t\\t  </tr>\\n\\t\\t\\t\\t  \\n\\t\\t\\t\\t  \\n\\t\\t\\t\\t</tbody>\\n\\t\\t\\t  </table>\\n\\t\\t\\t  \\n\\t\\t\\t  </div>\\n\\t\\t\\t  \\n\\n\\t\\t\\t\\n</div>\\t\\t\\t\\n\\t\\t\\t\\n\\t\\t\\t\\n\\t\\t\\n\\t\\t<div style=\"background-color:#fff; margin: 0px 0px 20px 0px; padding:5px 50px 5px 10px; border:1px solid #dfdfdf;\">\\n\\n\\t\\t\\t  <table class=\"historical_data_table table\">\\n\\t\\t\\t\\t<thead>\\n\\t\\t\\t\\t  <tr>\\n\\t\\t\\t\\t\\t<th style=\"text-align:center\">Sector</th>\\n\\t\\t\\t\\t\\t<th style=\"text-align:center\">Industry</th>\\n\\t\\t\\t\\t\\t<th style=\"text-align:center\">Market Cap</th>\\n\\t\\t\\t\\t\\t<th style=\"text-align:center\">Revenue</th>\\n\\t\\t\\t\\t  </tr>\\n\\t\\t\\t\\t</thead>\\n\\t\\t\\t\\t<tbody>\\n\\t\\t\\t\\t  <tr>\\n\\t\\t\\t\\t\\t<td style=\"text-align:center\"><a href=\"https://web.archive.org/web/20200814131437/https://www.macrotrends.net/stocks/sector/3/retail-wholesale\">Retail/Wholesale</a></td>\\n\\t\\t\\t\\t\\t<td style=\"text-align:center\"><a href=\"https://web.archive.org/web/20200814131437/https://www.macrotrends.net/stocks/industry/156/\">Retail - Consumer Electronics</a></td>\\n\\t\\t\\t\\t\\t<td style=\"text-align:center\">$0.293B</td>\\n\\t\\t\\t\\t\\t<td style=\"text-align:center\">$6.466B</td>\\n\\t\\t\\t\\t  </tr>\\n\\t\\t\\t\\t  <tr>\\n\\t\\t\\t\\t\\t  <td colspan=\"4\" style=\"padding:15px;\">\\n\\t\\t\\t\\t\\t\\t<span>GameStop Corp. is the world\\'s largest video game and entertainment software retailer. The company operates 4,816 retail stores across the United States and in fifteen countries worldwide. The company also operates two e-commerce sites, GameStop.com and EBgames.com, and publishes Game Informer? magazine, a leading multi-platform video game publication. GameStop Corp. sells new and used video game software, hardware and accessories for next generation video game systems from Sony, Nintendo, and Microsoft. In addition, the company sells PC entertainment software, related accessories and other merchandise.</span>\\n\\t\\t\\t\\t\\t  </td>\\n\\t\\t\\t\\t  </tr>\\n\\t\\t\\t\\t</tbody>\\n\\t\\t\\t  </table>\\t\\t\\t\\n\\t\\t\\t</div>\\t\\n\\t\\n\\t\\t\\n\\t\\t<div style=\"background-color:#fff; margin: 20px 0px 30px 0px; padding:5px 50px 5px 10px; border:1px solid #dfdfdf;\">\\n\\t\\t\\t\\n\\n\\t\\t\\t\\t<table class=\"historical_data_table table\">\\n\\t\\t\\t\\t<thead>\\n\\t\\t\\t\\t  <tr>\\n\\t\\t\\t\\t\\t<th style=\"text-align:center; width:40%;\">Stock Name</th>\\n\\t\\t\\t\\t\\t<th style=\"text-align:center; width:20%;\">Country</th>\\n\\t\\t\\t\\t\\t<th style=\"text-align:center; width:20%;\">Market Cap</th>\\n\\t\\t\\t\\t\\t<th style=\"text-align:center; width:20%;\">PE Ratio</th>\\n\\t\\t\\t\\t  </tr>\\n\\t\\t\\t\\t</thead>\\n\\t\\t\\t\\t<tbody>\\t\\t\\t\\n\\n\\t\\t\\t\\t\\t\\t\\n\\t\\t\\t\\t\\t\\t\\n\\t\\t\\t\\t<tr>\\n\\t\\t\\t\\t\\t<td style=\"text-align:left\"><a href=\"https://web.archive.org/web/20200814131437/https://www.macrotrends.net/stocks/charts/BBY/best-buy/revenue\">Best Buy (BBY)</a></td>\\n\\t\\t\\t\\t\\t<td style=\"text-align:center\">United States</td>\\n\\t\\t\\t\\t\\t<td style=\"text-align:center\">$27.033B</td>\\n\\t\\t\\t\\t\\t<td style=\"text-align:center\">18.16</td>\\n\\t\\t\\t\\t </tr>\\n\\n\\t\\t\\t\\t\\t\\t\\n\\t\\t\\t\\t\\t\\t\\n\\t\\t\\t\\t<tr>\\n\\t\\t\\t\\t\\t<td style=\"text-align:left\"><a href=\"https://web.archive.org/web/20200814131437/https://www.macrotrends.net/stocks/charts/AAN/aarons,-/revenue\">Aaron\\'s,  (AAN)</a></td>\\n\\t\\t\\t\\t\\t<td style=\"text-align:center\">United States</td>\\n\\t\\t\\t\\t\\t<td style=\"text-align:center\">$3.975B</td>\\n\\t\\t\\t\\t\\t<td style=\"text-align:center\">15.14</td>\\n\\t\\t\\t\\t </tr>\\n\\n\\t\\t\\t\\t\\t\\t\\n\\t\\t\\t\\t\\t\\t\\n\\t\\t\\t\\t<tr>\\n\\t\\t\\t\\t\\t<td style=\"text-align:left\"><a href=\"https://web.archive.org/web/20200814131437/https://www.macrotrends.net/stocks/charts/GMELY/gome-retail-holdings/revenue\">GOME Retail Holdings (GMELY)</a></td>\\n\\t\\t\\t\\t\\t<td style=\"text-align:center\">China</td>\\n\\t\\t\\t\\t\\t<td style=\"text-align:center\">$1.684B</td>\\n\\t\\t\\t\\t\\t<td style=\"text-align:center\">0.00</td>\\n\\t\\t\\t\\t </tr>\\n\\n\\t\\t\\t\\t\\t\\t\\n\\t\\t\\t\\t\\t\\t\\n\\t\\t\\t\\t<tr>\\n\\t\\t\\t\\t\\t<td style=\"text-align:left\"><a href=\"https://web.archive.org/web/20200814131437/https://www.macrotrends.net/stocks/charts/SYX/systemax/revenue\">Systemax (SYX)</a></td>\\n\\t\\t\\t\\t\\t<td style=\"text-align:center\">United States</td>\\n\\t\\t\\t\\t\\t<td style=\"text-align:center\">$0.873B</td>\\n\\t\\t\\t\\t\\t<td style=\"text-align:center\">18.34</td>\\n\\t\\t\\t\\t </tr>\\n\\n\\t\\t\\t\\t\\t\\t\\n\\t\\t\\t\\t\\t\\t\\n\\t\\t\\t\\t<tr>\\n\\t\\t\\t\\t\\t<td style=\"text-align:left\"><a href=\"https://web.archive.org/web/20200814131437/https://www.macrotrends.net/stocks/charts/CONN/conns/revenue\">Conn\\'s (CONN)</a></td>\\n\\t\\t\\t\\t\\t<td style=\"text-align:center\">United States</td>\\n\\t\\t\\t\\t\\t<td style=\"text-align:center\">$0.325B</td>\\n\\t\\t\\t\\t\\t<td style=\"text-align:center\">0.00</td>\\n\\t\\t\\t\\t </tr>\\n\\n\\t\\t\\t\\t\\t\\t\\n\\t\\t\\t\\t\\t\\t\\n\\t\\t\\t\\t<tr>\\n\\t\\t\\t\\t\\t<td style=\"text-align:left\"><a href=\"https://web.archive.org/web/20200814131437/https://www.macrotrends.net/stocks/charts/TAIT/taitron-components/revenue\">Taitron Components (TAIT)</a></td>\\n\\t\\t\\t\\t\\t<td style=\"text-align:center\">United States</td>\\n\\t\\t\\t\\t\\t<td style=\"text-align:center\">$0.016B</td>\\n\\t\\t\\t\\t\\t<td style=\"text-align:center\">10.50</td>\\n\\t\\t\\t\\t </tr>\\n\\n\\t\\t\\t\\t\\t\\t\\n\\t\\t\\t\\t</tbody>\\n\\t\\t\\t  </table>\\t\\t\\t\\n\\t\\t\\t\\n\\t\\t\\t</div>\\n\\t\\t\\t\\n\\t\\t\\t\\n\\n\\t\\t\\t</div>\\n\\t\\t\\t\\n\\n\\t\\t\\t<div id=\"right_sidebar\" \"=\"\">\\n\\n\\t\\t\\t\\t<!--<a href=\"/stocks/stock-screener\" style=\"text-decoration:none; color: #fff; \">\\n\\t\\t\\t\\t\\t<div style=\"margin:0px; padding: 20px; width:300px; background-color: #01579b; min-height:150px; text-align:center;\">\\n\\n\\t\\t\\t\\t\\t\\t<h2 style=\"font-weight:600;\">Try our new<br />stock screener!</h2></a>\\n\\n\\t\\t\\t\\t\\t</div>\\n\\t\\t\\t\\t</a>-->\\n\\n\\t\\t\\t\\t<!--<div style=\"margin-top:0px; min-height:250px;\">\\n\\n\\t\\t\\t\\t\\t<script src=\\'//ads.investingchannel.com/adtags/Macrotrends/fundamentalanalysis/300x600.js?zhpos=300_2&multi_size=false\\' type=\\'text/javascript\\' charset=\\'utf-8\\'></script>\\n\\n\\t\\t\\t\\t</div>-->\\n\\t\\t\\t\\t\\n\\t\\t\\t\\t\\t\\t\\t\\n\\t\\t\\t\\t\\n\\t\\t\\t\\t\\n\\t\\t\\t\\t\\n\\t\\t\\t\\t\\t\\t\\n\\n\\n\\n\\t\\t\\t<div style=\"margin-top:0px; min-height:250px;\">\\n\\n\\t\\t\\t\\t\\t<div id=\"ic_300_250\">\\n\\n\\t\\t\\t\\t\\t\\n\\t\\t\\t\\t\\t</div>\\n\\n\\t\\t\\t\\t</div>\\n\\t\\t\\t\\n\\t\\t\\t<div id=\"sticky_ad_right\">\\n\\t\\t\\t\\n\\t\\t\\t\\t<div style=\"margin-top:30px; min-height:250px;\">\\n\\n\\t\\t\\t\\t\\t<div id=\"ic_300_600\">\\n\\n\\n\\t\\t\\t\\t\\t</div>\\n\\n\\t\\t\\t\\t</div>\\n\\n\\t\\t\\t\\t</div>\\n\\n\\n\\t\\t\\t\\t\\t\\n\\t\\t\\t\\t\\n\\n\\t\\t\\t\\t\\n\\t\\t\\t</div>\\n\\t\\t\\t\\n\\t\\t\\t\\n\\t\\t\\t\\n\\t\\t\\t\\t\\t\\t\\n\\t\\t</div>\\n\\t\\t</div>\\n\\n<footer class=\"footer\">\\n\\n\\t\\t<span>Â© 2010-2020 Macrotrends LLC</span>&nbsp;&nbsp;|&nbsp;&nbsp;\\n\\t\\t  <a href=\"https://web.archive.org/web/20200814131437/https://www.macrotrends.net/terms\">Terms of Service</a>\\n\\t\\t  &nbsp;&nbsp;|&nbsp;&nbsp;\\n\\t\\t  <a href=\"https://web.archive.org/web/20200814131437/https://www.macrotrends.net/privacy\">Privacy Policy</a>&nbsp;&nbsp;|&nbsp;&nbsp;\\n\\t\\t  <a href=\"https://web.archive.org/web/20200814131437/mailto:info@macrotrends.net\">Contact Us</a>&nbsp;&nbsp;|&nbsp;&nbsp;\\n\\t\\t  <a href=\"https://web.archive.org/web/20200814131437/https://www.macrotrends.net/ccpa\">Do Not Sell My Personal Information</a>\\n\\t\\t  <br>\\n\\t\\t  <span>Fundamental data from </span><a target=\"_blank\" rel=\"nofollow\" href=\"https://web.archive.org/web/20200814131437/https://www.zacksdata.com/\">Zacks Investment Research, Inc.</a>\\n\\n\\n</footer>\\n\\n<div class=\"modal\" id=\"smallWidthModal1\" tabindex=\"-1\" role=\"dialog\" aria-labelledby=\"exampleModalLabel\" aria-hidden=\"true\">\\n  <div class=\"modal-dialog modal-lg\">\\n    <div class=\"modal-content\">\\n      <div class=\"modal-body\">\\n\\t  \\t  \\n\\t\\t<div class=\"modal_title\"><h2><strong>We Need Your Support!</strong></h2></div>\\n\\n\\t\\t<p>Backlinks from other websites are the lifeblood of our site and a primary source of new traffic.</p><p>\\n\\t\\t\\n</p><p>If you use our chart images on your site or blog, we ask that you provide attribution via a \"dofollow\" link back to this page.  We have provided a few examples below that you can copy and paste to your site:</p>\\n\\n<br>\\n\\n<table class=\"table\">\\n<thead>\\n<tr>\\n<th>Link Preview</th>\\n<th>HTML Code (Click to Copy)</th>\\n</tr>\\n</thead>\\n<tbody>\\n<tr>\\n<td><a>GameStop Revenue 2006-2020 | GME</a></td>\\n<td><input type=\"text\" class=\"modal_link\" size=\"60\" value=\"&lt;a href=&#39;https://www.macrotrends.net/stocks/charts/GME/gamestop/revenue&#39;&gt;GameStop Revenue 2006-2020 | GME&lt;/a&gt;\"></td>\\n</tr>\\n<tr>\\n<td><a>Macrotrends</a></td>\\n<td><input type=\"text\" class=\"modal_link\" size=\"60\" value=\"&lt;a href=&#39;https://www.macrotrends.net/stocks/charts/GME/gamestop/revenue&#39;&gt;Macrotrends&lt;/a&gt;\"></td>\\n</tr>\\n<tr>\\n<td><a>Source</a></td>\\n<td><input type=\"text\" class=\"modal_link\" size=\"60\" value=\"&lt;a href=&#39;https://www.macrotrends.net/stocks/charts/GME/gamestop/revenue&#39;&gt;Source&lt;/a&gt;\"></td>\\n</tr>\\n\\n\\n\\n</tbody>\\n</table>\\n\\n<br>\\n\\n<p style=\"text-align:center\">Your image export is now complete.  Please check your download folder. </p>\\n\\n      </div>\\n      <div class=\"modal-footer\">\\n        <button type=\"button\" class=\"btn btn-primary\" data-dismiss=\"modal\">Close Window</button>\\n      </div>\\n    </div>\\n  </div>\\n</div>\\n\\n\\n<div class=\"modal\" id=\"smallWidthModal2\" tabindex=\"-1\" role=\"dialog\" aria-labelledby=\"exampleModalLabel\" aria-hidden=\"true\">\\n  <div class=\"modal-dialog modal-lg\">\\n    <div class=\"modal-content\">\\n      <div class=\"modal-body\">\\n\\t  \\t  \\n\\t\\t<div class=\"modal_title\"><h2><strong>We Need Your Support!</strong></h2></div>\\n\\n\\t\\t<p>Backlinks from other websites are the lifeblood of our site and a primary source of new traffic.</p><p>\\n\\t\\t\\n</p><p>If you use our datasets on your site or blog, we ask that you provide attribution via a \"dofollow\" link back to this page.  We have provided a few examples below that you can copy and paste to your site:</p>\\n\\n<br>\\n\\n<table class=\"table\">\\n<thead>\\n<tr>\\n<th>Link Preview</th>\\n<th>HTML Code (Click to Copy)</th>\\n</tr>\\n</thead>\\n<tbody>\\n<tr>\\n<td><a>GameStop Revenue 2006-2020 | GME</a></td>\\n<td><input type=\"text\" class=\"modal_link\" size=\"50\" value=\"&lt;a href=&#39;https://www.macrotrends.net/stocks/charts/GME/gamestop/revenue&#39;&gt;GameStop Revenue 2006-2020 | GME&lt;/a&gt;\"></td>\\n</tr>\\n<tr>\\n<td><a>Macrotrends</a></td>\\n<td><input type=\"text\" class=\"modal_link\" size=\"50\" value=\"&lt;a href=&#39;https://www.macrotrends.net/stocks/charts/GME/gamestop/revenue&#39;&gt;Macrotrends&lt;/a&gt;\"></td>\\n</tr>\\n<tr>\\n<td><a>Source</a></td>\\n<td><input type=\"text\" class=\"modal_link\" size=\"50\" value=\"&lt;a href=&#39;https://www.macrotrends.net/stocks/charts/GME/gamestop/revenue&#39;&gt;Source&lt;/a&gt;\"></td>\\n</tr>\\n\\n\\n\\n</tbody>\\n</table>\\n\\n<br>\\n\\n<p style=\"text-align:center\">Your data export is now complete.  Please check your download folder. </p>\\n\\n      </div>\\n      <div class=\"modal-footer\">\\n        <button type=\"button\" class=\"btn btn-primary\" data-dismiss=\"modal\">Close Window</button>\\n      </div>\\n    </div>\\n  </div>\\n</div>\\t\\n\\n\\n<script type=\"text/javascript\">\\n\\t$.typeahead({\\n\\t\\tinput: \\'.js-typeahead\\',\\n\\t\\tminLength: 1,\\n\\t\\tfilter: false,  //Disables typahead filter to just show everything in the results from the database\\n\\t\\tdebug: false,\\n\\t\\thighlight: true,\\n\\t\\tmaxItem: 10,\\n\\t\\tdynamic: true,\\n\\t\\tdelay: 200,\\n\\t\\tsearchOnFocus: true,\\n\\t\\tbackdrop: {\\n\\t\\t\\t\"background-color\": \"#fff\"\\n\\t\\t},\\n\\t\\thref: \"{{url}}\",\\n\\t\\temptyTemplate: \"no result for {{query}}\",\\n\\t\\tdisplay: [\"name\"],\\n\\t\\tsource: {\\n\\t\\t\\tusers: {\\n\\t\\t\\t\\tajax: {\\n\\t\\t\\t\\t\\turl: \\'/assets/php/all_pages_query.php\\',\\n\\t\\t\\t\\t\\tdata: {\\n\\t\\t\\t\\t\\t\\tq: \\'{{query}}\\'\\n\\t\\t\\t\\t\\t}\\n\\t\\t\\t\\t}\\n\\t\\t\\t}\\n\\t\\t}\\n\\t});\\n</script>\\t\\t\\t\\t\\t\\t\\n\\n\\n<script>\\n\\n$(document).ready(function() {\\n\\t\\n\\t// Selects all of the text in the chart export window when clicked\\n\\t$(\".modal_link\").focus(function() {\\n\\t\\tvar $this = $(this);\\n\\t\\t$this.select();\\n\\n\\t\\t// Work around Chrome\\'s little problem\\n\\t\\t$this.mouseup(function() {\\n\\t\\t\\t// Prevent further mouseup intervention\\n\\t\\t\\t$this.unbind(\"mouseup\");\\n\\t\\t\\treturn false;\\n\\t\\t});\\n\\t});\\t\\n\\t\\n\\t\\n\\t$(\\'[data-toggle=\"tooltip\"]\\').tooltip();\\n\\t\\n    $(\\'.statement_type_select\\').select2({\\n\\t\\n\\ttheme: \"classic\",\\n\\tminimumResultsForSearch: 20\\n\\t\\n\\t});\\n\\n    $(\\'.frequency_select\\').select2({\\n\\t\\n\\ttheme: \"classic\",\\n\\tminimumResultsForSearch: 20\\n\\t\\n\\t});\\n\\t\\n\\t\\n});\\n\\n$( \"#compareStocks\" ).click(function() {\\n\\t\\n\\t\\n\\twindow.location.href = \\'/stocks/stock-comparison?s=revenue&axis=single&comp=GME\\';\\n\\t\\n\\t\\n});\\n\\n$( \"#chartExport\" ).click(function() {\\n\\t\\n\\t\\twindow.$(\\'#smallWidthModal1\\').modal();\\n\\n\\t\\t//Turn off scroll bar for image export\\n\\t\\tchart.chartScrollbarSettings.enabled = false;\\n\\t\\tchart.validateNow(); \\n\\t\\t\\n\\t\\t\\n\\t\\tchart.export.capture({},function() {\\n\\t\\t\\tthis.toPNG({},function(data) {\\n\\t\\t\\t\\t// Download the image to the browser\\n\\t\\t\\t\\tthis.download( data, \"image/png\", \"GME-revenue-2020-08-14-macrotrends.png\" );\\n\\t\\t\\t\\t\\n\\t\\t\\t\\t});\\n\\n\\t\\t//Turn scroll bar back on again\\n\\t\\tchart.chartScrollbarSettings.enabled = true;\\n\\t\\tchart.validateNow(); \\n\\t\\t\\t\\t\\n\\t});\\n\\n});\\n\\n$( \".statement_type_select\" ).change(function() {\\n  \\n  window.location.href = \\'https://web.archive.org/web/20200814131437/https://testing.macrotrends.net/assets/php/income_statement_testing.php?t=TAIT&type=\\' + this.value + \\'&freq=Q\\';\\n\\n});\\n\\n$( \".frequency_select\" ).change(function() {\\n  \\n  window.location.href = \\'/assets/php/new_chart_page.php?t=TAIT&type=revenue&freq=\\' + this.value;\\n\\n});\\n\\n</script>\\n\\n<!--<div class=\"modal\" id=\"contribute_modal\" tabindex=\"-1\" role=\"dialog\" aria-labelledby=\"exampleModalLabel\" aria-hidden=\"false\">\\n  <div class=\"modal-dialog modal-lg\">\\n    <div class=\"modal-content\">\\n      <div class=\"modal-body\" style=\"margin:20px 40px 20px 40px; text-align:left;font-size:18px;\">\\n\\t  \\t  \\n\\n\\n<div class=\"row\">\\n\\n<div class=\"col-xs-6\">\\n\\n<script src=\"https://donorbox.org/widget.js\" paypalExpress=\"true\"></script><iframe src=\"https://donorbox.org/embed/macrotrends-donations?hide_donation_meter=true\" height=\"685px\" width=\"100%\" style=\"max-width:500px; min-width:310px; max-height:none!important\" seamless=\"seamless\" name=\"donorbox\" frameborder=\"0\" scrolling=\"no\" allowpaymentrequest></iframe>\\n\\n</div>\\n\\n<div class=\"col-xs-6\">\\n\\n\\t\\t<div class=\"modal_title\"><h1><strong>We Need Your Support!</strong></h1></div>\\n\\n\\t\\t<p><strong>Macrotrends has been subscription-free since 2010 and we want to keep it that way.</strong></p>\\n\\n<p>Our goal has always been to serve as an easily accessible, high quality source of investment research for both professionals and amateurs alike.</p>\\n\\n<p>Any amount that you can contribute will help ensure we can keep the site completely free for many years to come.</p>\\n\\n<p style=\"margin-top:20px;\">Regards,</p>\\n<p>The Macrotrends Team</p>\\n\\n</div>\\n\\n</div>\\n\\n</div>\\n\\n      <div class=\"modal-footer\" style=\"text-align:center;\">\\n        <button type=\"button\" class=\"btn btn-success\" data-dismiss=\"modal\">Maybe Next Time...</button>\\n      </div>\\n    </div>\\n  </div>\\n</div>\\t\\n\\n\\n<script src=\"/ads.js\" type=\"text/javascript\"></script>\\n\\n<script>\\n\\n$(document).ready(function() {\\n\\t\\n\\tvar botPattern = \"(googlebot\\\\/|Googlebot-Mobile|Googlebot-Image|Google favicon|Mediapartners-Google|bingbot|slurp|java|wget|curl|Commons-HttpClient|Python-urllib|libwww|httpunit|nutch|phpcrawl|msnbot|jyxobot|FAST-WebCrawler|FAST Enterprise Crawler|biglotron|teoma|convera|seekbot|gigablast|exabot|ngbot|ia_archiver|GingerCrawler|webmon |httrack|webcrawler|grub.org|UsineNouvelleCrawler|antibot|netresearchserver|speedy|fluffy|bibnum.bnf|findlink|msrbot|panscient|yacybot|AISearchBot|IOI|ips-agent|tagoobot|MJ12bot|dotbot|woriobot|yanga|buzzbot|mlbot|yandexbot|purebot|Linguee Bot|Voyager|CyberPatrol|voilabot|baiduspider|citeseerxbot|spbot|twengabot|postrank|turnitinbot|scribdbot|page2rss|sitebot|linkdex|Adidxbot|blekkobot|ezooms|dotbot|Mail.RU_Bot|discobot|heritrix|findthatfile|europarchive.org|NerdByNature.Bot|sistrix crawler|ahrefsbot|Aboundex|domaincrawler|wbsearchbot|summify|ccbot|edisterbot|seznambot|ec2linkfinder|gslfbot|aihitbot|intelium_bot|facebookexternalhit|yeti|RetrevoPageAnalyzer|lb-spider|sogou|lssbot|careerbot|wotbox|wocbot|ichiro|DuckDuckBot|lssrocketcrawler|drupact|webcompanycrawler|acoonbot|openindexspider|gnam gnam spider|web-archive-net.com.bot|backlinkcrawler|coccoc|integromedb|content crawler spider|toplistbot|seokicks-robot|it2media-domain-crawler|ip-web-crawler.com|siteexplorer.info|elisabot|proximic|changedetection|blexbot|arabot|WeSEE:Search|niki-bot|CrystalSemanticsBot|rogerbot|360Spider|psbot|InterfaxScanBot|Lipperhey SEO Service|CC Metadata Scaper|g00g1e.net|GrapeshotCrawler|urlappendbot|brainobot|fr-crawler|binlar|SimpleCrawler|Livelapbot|Twitterbot|cXensebot|smtbot|bnf.fr_bot|A6-Indexer|ADmantX|Facebot|Twitterbot|OrangeBot|memorybot|AdvBot|MegaIndex|SemanticScholarBot|ltx71|nerdybot|xovibot|BUbiNG|Qwantify|archive.org_bot|Applebot|TweetmemeBot|crawler4j|findxbot|SemrushBot|yoozBot|lipperhey|y!j-asr|Domain Re-Animator Bot|AddThis)\";\\n\\n\\tvar re = new RegExp(botPattern, \\'i\\');\\n\\n\\tif (re.test(navigator.userAgent)) {\\n\\t\\t\\n\\t} else {\\n\\t\\t\\n\\t\\t//Check to see whether they are running an ad blocker\\n\\t\\tif(document.getElementById(\\'12mORwMnaEkJXlxz\\')){\\n\\t\\t  var ad_blocker = \\'N\\';\\n\\t\\t} else {\\n\\t\\t  var ad_blocker = \\'Y\\';\\n\\t\\t}\\n\\n\\t\\t$.post(\\'https://api.ipstack.com/check?access_key=14fe63e83d5cfefa0b3d4cec498479ba&output=json&fields=ip,continent_name,country_name,region_name,city\\', \\n\\t\\tfunction(ip_data){\\n\\t\\t\\t\\n\\t\\t\\t$.post(\\'https://www.macrotrends.net/assets/php/page_view_tracking.php\\', {ip: ip_data.ip,continent: ip_data.continent_name, country: ip_data.country_name, state: ip_data.region_name, city: ip_data.city, screen_width: screen.width, ads: ad_blocker, page_type: \\'stock\\'}, \\n\\t\\t\\t\\tfunction(data){\\n\\t\\t\\t\\t\\t/*\\t\\t\\t\\t\\t\\n\\t\\t\\t\\t\\tif(data % 20 === 0) {\\n\\t\\t\\t\\t\\t\\t\\n\\t\\t\\t\\t\\t\\t//$(\\'#contribute_modal\\').modal();\\n\\t\\t\\t\\t\\t\\t\\n\\t\\t\\t\\t\\t}\\n\\t\\t\\t\\t\\t*/\\n\\t\\t\\t\\t});\\n\\t\\t\\n\\t\\t});\\n\\n\\n\\t}\\n\\t\\n\\n});\\n\\n\\n$.post(\\'https://api.ipstack.com/check?access_key=14fe63e83d5cfefa0b3d4cec498479ba&output=json&fields=ip,continent_name,country_name,region_name,city\\', \\nfunction(ip_data){\\n\\t\\n\\t$(\".contribute_user_id\").val(ip_data.ip);\\n\\t\\n});\\n\\n$( \".donate_buttons\" ).click(function() {\\n  \\n\\tvar payment = $(this).attr(\"value\");\\n\\n\\t$.post(\\'https://api.ipstack.com/check?access_key=14fe63e83d5cfefa0b3d4cec498479ba&output=json&fields=ip,continent_name,country_name,region_name,city\\', \\n\\t\\tfunction(ip_data){\\n\\t\\t\\t\\t\\t\\n\\t\\t$.post(\\'https://www.macrotrends.net/assets/php/page_view_tracking.php\\', {ip: ip_data.ip, paid: payment}); \\n\\t\\n\\t});\\n\\t\\t \\n});\\n\\n</script>\\n\\n-->\\n\\n<script>    \\n// Begin editable configuration\\n  window.ABD = {\\n    bannerSuppress: false, // Optionally suppress the banner asking the user to disable their adblocker.\\n    bannerTheme: \\'blue\\', // The bannerTheme of the banner (e.g. \\'blue\\', \\'black\\', \\'gray\\')\\n    bannerSnoozeTime: 86400, // Set in seconds\\n    remoteURL: \"https://web.archive.org/web/20200814131437/https://abd.investingchannel.com\", // Remote ABD URL for JS bundle fetch and event reporting.\\n    proxyURL: \"/proxy.php\" // Proxy URL to use for event and bundle fetching if the remote URL is unreachable.\\n  };\\n// End editable configuration\\n\\nfunction getBundle(e,n,r){var o=new XMLHttpRequest;o.addEventListener(\"load\",n),o.addEventListener(\"error\",r),o.open(\"GET\",e),o.send()}function handleSuccess(){if(200!=this.status)throw new Error(\"ABD was able to reach the server but received a non 200:OK response.\");var e=document.createElement(\"script\");e.innerHTML=this.responseText,document.body.appendChild(e)}function handleErrorInitial(){getBundle(window.ABD.proxyURL+\"?remoteURL=\"+encodeURIComponent(window.ABD.remoteURL+\"/js/bundle.js\"),handleSuccess,handleErrorProxy)}function handleErrorProxy(){throw new Error(\"ABD was unable to fetch the JS component from the remote site or local proxy.\")}getBundle(window.ABD.remoteURL+\"/js/bundle.js\",handleSuccess,handleErrorInitial);\\n\\n</script>\\n\\n\\t\\n\\n\\n\\n<script type=\"text/javascript\">\\nvar clicky_site_ids = clicky_site_ids || [];\\nclicky_site_ids.push(100827248);\\n(function() {\\n  var s = document.createElement(\\'script\\');\\n  s.type = \\'text/javascript\\';\\n  s.async = true;\\n  s.src = \\'//web.archive.org/web/20200814131437/https://static.getclicky.com/js\\';\\n  ( document.getElementsByTagName(\\'head\\')[0] || document.getElementsByTagName(\\'body\\')[0] ).appendChild( s );\\n})();\\n</script>\\n<noscript><p><img alt=\"Clicky\" width=\"1\" height=\"1\" src=\"//web.archive.org/web/20200814131437im_/https://in.getclicky.com/100827248ns.gif\"/></p></noscript>\\n\\n\\n<!--<script type=\"text/javascript\">\\n    window._mfq = window._mfq || [];\\n    (function() {\\n        var mf = document.createElement(\"script\");\\n        mf.type = \"text/javascript\"; mf.async = true;\\n        mf.src = \"//cdn.mouseflow.com/projects/de879dfd-36cc-4d5e-adcd-3e97d4a41e06.js\";\\n        document.getElementsByTagName(\"head\")[0].appendChild(mf);\\n    })();\\n</script>-->\\n\\n\\n\\n<!-- This site is converting visitors into subscribers and customers with OptinMonster - https://optinmonster.com-->\\n<script type=\"text/javascript\" src=\"./GameStop Revenue 2006-2020 _ GME _ MacroTrends_files/api.min.js.download\" data-account=\"6392\" data-user=\"15772\" async=\"\"></script>\\n<!-- / OptinMonster -->\\n\\n\\n\\n\\n\\n\\n\\t\\n<!--\\n     FILE ARCHIVED ON 13:14:37 Aug 14, 2020 AND RETRIEVED FROM THE\\n     INTERNET ARCHIVE ON 08:06:04 Feb 24, 2022.\\n     JAVASCRIPT APPENDED BY WAYBACK MACHINE, COPYRIGHT INTERNET ARCHIVE.\\n\\n     ALL OTHER CONTENT MAY ALSO BE PROTECTED BY COPYRIGHT (17 U.S.C.\\n     SECTION 108(a)(3)).\\n-->\\n<!--\\nplayback timings (ms):\\n  captures_list: 147.271\\n  exclusion.robots: 0.161\\n  exclusion.robots.policy: 0.154\\n  cdx.remote: 0.078\\n  esindex: 0.008\\n  LoadShardBlock: 111.691 (3)\\n  PetaboxLoader3.datanode: 195.902 (4)\\n  CDXLines.iter: 18.257 (3)\\n  load_resource: 122.531\\n  PetaboxLoader3.resolve: 30.75\\n--><script> </script><script type=\"text/javascript\" async=\"\" src=\"./GameStop Revenue 2006-2020 _ GME _ MacroTrends_files/in.php\"></script></body><grammarly-desktop-integration data-grammarly-shadow-root=\"true\"></grammarly-desktop-integration></html>'"
      ]
     },
     "execution_count": 52,
     "metadata": {},
     "output_type": "execute_result"
    }
   ],
   "source": [
    "htmal_data = \"https://cf-courses-data.s3.us.cloud-object-storage.appdomain.cloud/IBMDeveloperSkillsNetwork-PY0220EN-SkillsNetwork/labs/project/stock.html\"\n",
    "requests.get(htmal_data).text"
   ]
  },
  {
   "cell_type": "markdown",
   "metadata": {},
   "source": [
    "Parse the html data using `beautiful_soup`.\n"
   ]
  },
  {
   "cell_type": "code",
   "execution_count": 53,
   "metadata": {
    "tags": []
   },
   "outputs": [],
   "source": [
    "soup = BeautifulSoup(html_data , \"html\")"
   ]
  },
  {
   "cell_type": "markdown",
   "metadata": {},
   "source": [
    "Using `BeautifulSoup` or the `read_html` function extract the table with `GameStop Revenue` and store it into a dataframe named `gme_revenue`. The dataframe should have columns `Date` and `Revenue`. Make sure the comma and dollar sign is removed from the `Revenue` column using a method similar to what you did in Question 2.\n"
   ]
  },
  {
   "cell_type": "markdown",
   "metadata": {},
   "source": [
    "<details><summary>Click here if you need help locating the table</summary>\n",
    "\n",
    "```\n",
    "    \n",
    "Below is the code to isolate the table, you will now need to loop through the rows and columns like in the previous lab\n",
    "    \n",
    "soup.find_all(\"tbody\")[1]\n",
    "    \n",
    "If you want to use the read_html function the table is located at index 1\n",
    "\n",
    "\n",
    "```\n",
    "\n",
    "</details>\n"
   ]
  },
  {
   "cell_type": "code",
   "execution_count": 87,
   "metadata": {
    "tags": []
   },
   "outputs": [],
   "source": [
    "df=pd.read_html(html_data,header=0)\n",
    "table=soup.find_all('table')\n",
    "second_table= table[1]\n",
    "gme_revenue= pd.DataFrame(columns=[\"Date\",\"Revenue\"])\n",
    "for row in second_table.find(\"tbody\").find_all(\"tr\"):\n",
    "    col= row.find_all('td')\n",
    "    date= col[0].string\n",
    "    revenue= col[1].string\n",
    "    gme_revenue= gme_revenue.append({\"Date\":date, \"Revenue\":revenue}, ignore_index = True)\n",
    "gme_revenue[\"Revenue\"]= gme_revenue['Revenue'].str.replace('$','').str.replace(',','')\n",
    "\n",
    "gme_revenue.dropna(subset=['Revenue'], inplace=True)\n"
   ]
  },
  {
   "cell_type": "markdown",
   "metadata": {},
   "source": [
    "Display the last five rows of the `gme_revenue` dataframe using the `tail` function. Take a screenshot of the results.\n"
   ]
  },
  {
   "cell_type": "code",
   "execution_count": 89,
   "metadata": {
    "tags": []
   },
   "outputs": [
    {
     "data": {
      "text/html": [
       "<div>\n",
       "<style scoped>\n",
       "    .dataframe tbody tr th:only-of-type {\n",
       "        vertical-align: middle;\n",
       "    }\n",
       "\n",
       "    .dataframe tbody tr th {\n",
       "        vertical-align: top;\n",
       "    }\n",
       "\n",
       "    .dataframe thead th {\n",
       "        text-align: right;\n",
       "    }\n",
       "</style>\n",
       "<table border=\"1\" class=\"dataframe\">\n",
       "  <thead>\n",
       "    <tr style=\"text-align: right;\">\n",
       "      <th></th>\n",
       "      <th>Date</th>\n",
       "      <th>Revenue</th>\n",
       "    </tr>\n",
       "  </thead>\n",
       "  <tbody>\n",
       "    <tr>\n",
       "      <th>48</th>\n",
       "      <td>2010-09-30</td>\n",
       "      <td>31</td>\n",
       "    </tr>\n",
       "    <tr>\n",
       "      <th>49</th>\n",
       "      <td>2010-06-30</td>\n",
       "      <td>28</td>\n",
       "    </tr>\n",
       "    <tr>\n",
       "      <th>50</th>\n",
       "      <td>2010-03-31</td>\n",
       "      <td>21</td>\n",
       "    </tr>\n",
       "    <tr>\n",
       "      <th>52</th>\n",
       "      <td>2009-09-30</td>\n",
       "      <td>46</td>\n",
       "    </tr>\n",
       "    <tr>\n",
       "      <th>53</th>\n",
       "      <td>2009-06-30</td>\n",
       "      <td>27</td>\n",
       "    </tr>\n",
       "  </tbody>\n",
       "</table>\n",
       "</div>"
      ],
      "text/plain": [
       "          Date Revenue\n",
       "48  2010-09-30      31\n",
       "49  2010-06-30      28\n",
       "50  2010-03-31      21\n",
       "52  2009-09-30      46\n",
       "53  2009-06-30      27"
      ]
     },
     "execution_count": 89,
     "metadata": {},
     "output_type": "execute_result"
    }
   ],
   "source": [
    "gme_revenue.tail()"
   ]
  },
  {
   "cell_type": "markdown",
   "metadata": {},
   "source": [
    "## Question 5: Plot Tesla Stock Graph\n"
   ]
  },
  {
   "cell_type": "markdown",
   "metadata": {},
   "source": [
    "Use the `make_graph` function to graph the Tesla Stock Data, also provide a title for the graph. The structure to call the `make_graph` function is `make_graph(tesla_data, tesla_revenue, 'Tesla')`. Note the graph will only show data upto June 2021.\n"
   ]
  },
  {
   "cell_type": "code",
   "execution_count": 99,
   "metadata": {
    "tags": []
   },
   "outputs": [
    {
     "data": {
      "application/vnd.plotly.v1+json": {
       "config": {
        "plotlyServerURL": "https://plot.ly"
       },
       "data": [
        {
         "name": "Share Price",
         "type": "scatter",
         "x": [
          "2020-01-02T00:00:00",
          "2020-01-03T00:00:00",
          "2020-01-06T00:00:00",
          "2020-01-07T00:00:00",
          "2020-01-08T00:00:00",
          "2020-01-09T00:00:00",
          "2020-01-10T00:00:00",
          "2020-01-13T00:00:00",
          "2020-01-14T00:00:00",
          "2020-01-15T00:00:00",
          "2020-01-16T00:00:00",
          "2020-01-17T00:00:00",
          "2020-01-21T00:00:00",
          "2020-01-22T00:00:00",
          "2020-01-23T00:00:00",
          "2020-01-24T00:00:00",
          "2020-01-27T00:00:00",
          "2020-01-28T00:00:00",
          "2020-01-29T00:00:00",
          "2020-01-30T00:00:00",
          "2020-01-31T00:00:00",
          "2020-02-03T00:00:00",
          "2020-02-04T00:00:00",
          "2020-02-05T00:00:00",
          "2020-02-06T00:00:00",
          "2020-02-07T00:00:00",
          "2020-02-10T00:00:00",
          "2020-02-11T00:00:00",
          "2020-02-12T00:00:00",
          "2020-02-13T00:00:00",
          "2020-02-14T00:00:00",
          "2020-02-18T00:00:00",
          "2020-02-19T00:00:00",
          "2020-02-20T00:00:00",
          "2020-02-21T00:00:00",
          "2020-02-24T00:00:00",
          "2020-02-25T00:00:00",
          "2020-02-26T00:00:00",
          "2020-02-27T00:00:00",
          "2020-02-28T00:00:00",
          "2020-03-02T00:00:00",
          "2020-03-03T00:00:00",
          "2020-03-04T00:00:00",
          "2020-03-05T00:00:00",
          "2020-03-06T00:00:00",
          "2020-03-09T00:00:00",
          "2020-03-10T00:00:00",
          "2020-03-11T00:00:00",
          "2020-03-12T00:00:00",
          "2020-03-13T00:00:00",
          "2020-03-16T00:00:00",
          "2020-03-17T00:00:00",
          "2020-03-18T00:00:00",
          "2020-03-19T00:00:00",
          "2020-03-20T00:00:00",
          "2020-03-23T00:00:00",
          "2020-03-24T00:00:00",
          "2020-03-25T00:00:00",
          "2020-03-26T00:00:00",
          "2020-03-27T00:00:00",
          "2020-03-30T00:00:00",
          "2020-03-31T00:00:00",
          "2020-04-01T00:00:00",
          "2020-04-02T00:00:00",
          "2020-04-03T00:00:00",
          "2020-04-06T00:00:00",
          "2020-04-07T00:00:00",
          "2020-04-08T00:00:00",
          "2020-04-09T00:00:00",
          "2020-04-13T00:00:00",
          "2020-04-14T00:00:00",
          "2020-04-15T00:00:00",
          "2020-04-16T00:00:00",
          "2020-04-17T00:00:00",
          "2020-04-20T00:00:00",
          "2020-04-21T00:00:00",
          "2020-04-22T00:00:00",
          "2020-04-23T00:00:00",
          "2020-04-24T00:00:00",
          "2020-04-27T00:00:00",
          "2020-04-28T00:00:00",
          "2020-04-29T00:00:00",
          "2020-04-30T00:00:00",
          "2020-05-01T00:00:00",
          "2020-05-04T00:00:00",
          "2020-05-05T00:00:00",
          "2020-05-06T00:00:00",
          "2020-05-07T00:00:00",
          "2020-05-08T00:00:00",
          "2020-05-11T00:00:00",
          "2020-05-12T00:00:00",
          "2020-05-13T00:00:00",
          "2020-05-14T00:00:00",
          "2020-05-15T00:00:00",
          "2020-05-18T00:00:00",
          "2020-05-19T00:00:00",
          "2020-05-20T00:00:00",
          "2020-05-21T00:00:00",
          "2020-05-22T00:00:00",
          "2020-05-26T00:00:00",
          "2020-05-27T00:00:00",
          "2020-05-28T00:00:00",
          "2020-05-29T00:00:00",
          "2020-06-01T00:00:00",
          "2020-06-02T00:00:00",
          "2020-06-03T00:00:00",
          "2020-06-04T00:00:00",
          "2020-06-05T00:00:00",
          "2020-06-08T00:00:00",
          "2020-06-09T00:00:00",
          "2020-06-10T00:00:00",
          "2020-06-11T00:00:00",
          "2020-06-12T00:00:00",
          "2020-06-15T00:00:00",
          "2020-06-16T00:00:00",
          "2020-06-17T00:00:00",
          "2020-06-18T00:00:00",
          "2020-06-19T00:00:00",
          "2020-06-22T00:00:00",
          "2020-06-23T00:00:00",
          "2020-06-24T00:00:00",
          "2020-06-25T00:00:00",
          "2020-06-26T00:00:00",
          "2020-06-29T00:00:00",
          "2020-06-30T00:00:00",
          "2020-07-01T00:00:00",
          "2020-07-02T00:00:00",
          "2020-07-06T00:00:00",
          "2020-07-07T00:00:00",
          "2020-07-08T00:00:00",
          "2020-07-09T00:00:00",
          "2020-07-10T00:00:00",
          "2020-07-13T00:00:00",
          "2020-07-14T00:00:00",
          "2020-07-15T00:00:00",
          "2020-07-16T00:00:00",
          "2020-07-17T00:00:00",
          "2020-07-20T00:00:00",
          "2020-07-21T00:00:00",
          "2020-07-22T00:00:00",
          "2020-07-23T00:00:00",
          "2020-07-24T00:00:00",
          "2020-07-27T00:00:00",
          "2020-07-28T00:00:00",
          "2020-07-29T00:00:00",
          "2020-07-30T00:00:00",
          "2020-07-31T00:00:00",
          "2020-08-03T00:00:00",
          "2020-08-04T00:00:00",
          "2020-08-05T00:00:00",
          "2020-08-06T00:00:00",
          "2020-08-07T00:00:00",
          "2020-08-10T00:00:00",
          "2020-08-11T00:00:00",
          "2020-08-12T00:00:00",
          "2020-08-13T00:00:00",
          "2020-08-14T00:00:00",
          "2020-08-17T00:00:00",
          "2020-08-18T00:00:00",
          "2020-08-19T00:00:00",
          "2020-08-20T00:00:00",
          "2020-08-21T00:00:00",
          "2020-08-24T00:00:00",
          "2020-08-25T00:00:00",
          "2020-08-26T00:00:00",
          "2020-08-27T00:00:00",
          "2020-08-28T00:00:00",
          "2020-08-31T00:00:00",
          "2020-09-01T00:00:00",
          "2020-09-02T00:00:00",
          "2020-09-03T00:00:00",
          "2020-09-04T00:00:00",
          "2020-09-08T00:00:00",
          "2020-09-09T00:00:00",
          "2020-09-10T00:00:00",
          "2020-09-11T00:00:00",
          "2020-09-14T00:00:00",
          "2020-09-15T00:00:00",
          "2020-09-16T00:00:00",
          "2020-09-17T00:00:00",
          "2020-09-18T00:00:00",
          "2020-09-21T00:00:00",
          "2020-09-22T00:00:00",
          "2020-09-23T00:00:00",
          "2020-09-24T00:00:00",
          "2020-09-25T00:00:00",
          "2020-09-28T00:00:00",
          "2020-09-29T00:00:00",
          "2020-09-30T00:00:00",
          "2020-10-01T00:00:00",
          "2020-10-02T00:00:00",
          "2020-10-05T00:00:00",
          "2020-10-06T00:00:00",
          "2020-10-07T00:00:00",
          "2020-10-08T00:00:00",
          "2020-10-09T00:00:00",
          "2020-10-12T00:00:00",
          "2020-10-13T00:00:00",
          "2020-10-14T00:00:00",
          "2020-10-15T00:00:00",
          "2020-10-16T00:00:00",
          "2020-10-19T00:00:00",
          "2020-10-20T00:00:00",
          "2020-10-21T00:00:00",
          "2020-10-22T00:00:00",
          "2020-10-23T00:00:00",
          "2020-10-26T00:00:00",
          "2020-10-27T00:00:00",
          "2020-10-28T00:00:00",
          "2020-10-29T00:00:00",
          "2020-10-30T00:00:00",
          "2020-11-02T00:00:00",
          "2020-11-03T00:00:00",
          "2020-11-04T00:00:00",
          "2020-11-05T00:00:00",
          "2020-11-06T00:00:00",
          "2020-11-09T00:00:00",
          "2020-11-10T00:00:00",
          "2020-11-11T00:00:00",
          "2020-11-12T00:00:00",
          "2020-11-13T00:00:00",
          "2020-11-16T00:00:00",
          "2020-11-17T00:00:00",
          "2020-11-18T00:00:00",
          "2020-11-19T00:00:00",
          "2020-11-20T00:00:00",
          "2020-11-23T00:00:00",
          "2020-11-24T00:00:00",
          "2020-11-25T00:00:00",
          "2020-11-27T00:00:00",
          "2020-11-30T00:00:00",
          "2020-12-01T00:00:00",
          "2020-12-02T00:00:00",
          "2020-12-03T00:00:00",
          "2020-12-04T00:00:00",
          "2020-12-07T00:00:00",
          "2020-12-08T00:00:00",
          "2020-12-09T00:00:00",
          "2020-12-10T00:00:00",
          "2020-12-11T00:00:00",
          "2020-12-14T00:00:00",
          "2020-12-15T00:00:00",
          "2020-12-16T00:00:00",
          "2020-12-17T00:00:00",
          "2020-12-18T00:00:00",
          "2020-12-21T00:00:00",
          "2020-12-22T00:00:00",
          "2020-12-23T00:00:00",
          "2020-12-24T00:00:00",
          "2020-12-28T00:00:00",
          "2020-12-29T00:00:00",
          "2020-12-30T00:00:00",
          "2020-12-31T00:00:00",
          "2021-01-04T00:00:00",
          "2021-01-05T00:00:00",
          "2021-01-06T00:00:00",
          "2021-01-07T00:00:00",
          "2021-01-08T00:00:00",
          "2021-01-11T00:00:00",
          "2021-01-12T00:00:00",
          "2021-01-13T00:00:00",
          "2021-01-14T00:00:00",
          "2021-01-15T00:00:00",
          "2021-01-19T00:00:00",
          "2021-01-20T00:00:00",
          "2021-01-21T00:00:00",
          "2021-01-22T00:00:00",
          "2021-01-25T00:00:00",
          "2021-01-26T00:00:00",
          "2021-01-27T00:00:00",
          "2021-01-28T00:00:00",
          "2021-01-29T00:00:00",
          "2021-02-01T00:00:00",
          "2021-02-02T00:00:00",
          "2021-02-03T00:00:00",
          "2021-02-04T00:00:00",
          "2021-02-05T00:00:00",
          "2021-02-08T00:00:00",
          "2021-02-09T00:00:00",
          "2021-02-10T00:00:00",
          "2021-02-11T00:00:00",
          "2021-02-12T00:00:00",
          "2021-02-16T00:00:00",
          "2021-02-17T00:00:00",
          "2021-02-18T00:00:00",
          "2021-02-19T00:00:00",
          "2021-02-22T00:00:00",
          "2021-02-23T00:00:00",
          "2021-02-24T00:00:00",
          "2021-02-25T00:00:00",
          "2021-02-26T00:00:00",
          "2021-03-01T00:00:00",
          "2021-03-02T00:00:00",
          "2021-03-03T00:00:00",
          "2021-03-04T00:00:00",
          "2021-03-05T00:00:00",
          "2021-03-08T00:00:00",
          "2021-03-09T00:00:00",
          "2021-03-10T00:00:00",
          "2021-03-11T00:00:00",
          "2021-03-12T00:00:00",
          "2021-03-15T00:00:00",
          "2021-03-16T00:00:00",
          "2021-03-17T00:00:00",
          "2021-03-18T00:00:00",
          "2021-03-19T00:00:00",
          "2021-03-22T00:00:00",
          "2021-03-23T00:00:00",
          "2021-03-24T00:00:00",
          "2021-03-25T00:00:00",
          "2021-03-26T00:00:00",
          "2021-03-29T00:00:00",
          "2021-03-30T00:00:00",
          "2021-03-31T00:00:00",
          "2021-04-01T00:00:00",
          "2021-04-05T00:00:00",
          "2021-04-06T00:00:00",
          "2021-04-07T00:00:00",
          "2021-04-08T00:00:00",
          "2021-04-09T00:00:00",
          "2021-04-12T00:00:00",
          "2021-04-13T00:00:00",
          "2021-04-14T00:00:00",
          "2021-04-15T00:00:00",
          "2021-04-16T00:00:00",
          "2021-04-19T00:00:00",
          "2021-04-20T00:00:00",
          "2021-04-21T00:00:00",
          "2021-04-22T00:00:00",
          "2021-04-23T00:00:00",
          "2021-04-26T00:00:00",
          "2021-04-27T00:00:00",
          "2021-04-28T00:00:00",
          "2021-04-29T00:00:00",
          "2021-04-30T00:00:00",
          "2021-05-03T00:00:00",
          "2021-05-04T00:00:00",
          "2021-05-05T00:00:00",
          "2021-05-06T00:00:00",
          "2021-05-07T00:00:00",
          "2021-05-10T00:00:00",
          "2021-05-11T00:00:00",
          "2021-05-12T00:00:00",
          "2021-05-13T00:00:00",
          "2021-05-14T00:00:00",
          "2021-05-17T00:00:00",
          "2021-05-18T00:00:00",
          "2021-05-19T00:00:00",
          "2021-05-20T00:00:00",
          "2021-05-21T00:00:00",
          "2021-05-24T00:00:00",
          "2021-05-25T00:00:00",
          "2021-05-26T00:00:00",
          "2021-05-27T00:00:00",
          "2021-05-28T00:00:00",
          "2021-06-01T00:00:00",
          "2021-06-02T00:00:00",
          "2021-06-03T00:00:00",
          "2021-06-04T00:00:00",
          "2021-06-07T00:00:00",
          "2021-06-08T00:00:00",
          "2021-06-09T00:00:00",
          "2021-06-10T00:00:00",
          "2021-06-11T00:00:00",
          "2021-06-14T00:00:00"
         ],
         "xaxis": "x",
         "y": [
          28.68400001525879,
          29.534000396728516,
          30.1026668548584,
          31.270666122436523,
          32.80933380126953,
          32.089332580566406,
          31.876667022705078,
          34.990665435791016,
          35.861331939697266,
          34.56666564941406,
          34.232666015625,
          34.03333282470703,
          36.47999954223633,
          37.97066879272461,
          38.14666748046875,
          37.654666900634766,
          37.201332092285156,
          37.793331146240234,
          38.732666015625,
          42.72066879272461,
          43.371334075927734,
          52,
          59.137332916259766,
          48.97999954223633,
          49.930667877197266,
          49.871334075927734,
          51.41866683959961,
          51.62533187866211,
          51.15266799926758,
          53.599998474121094,
          53.33533477783203,
          57.22666549682617,
          61.16133117675781,
          59.96066665649414,
          60.06666564941406,
          55.58599853515625,
          53.32733154296875,
          51.91999816894531,
          45.266666412353516,
          44.53266525268555,
          49.574668884277344,
          49.70066833496094,
          49.96666717529297,
          48.30266571044922,
          46.89866638183594,
          40.53333282470703,
          43.02199935913086,
          42.28200149536133,
          37.369998931884766,
          36.44133377075195,
          29.67133331298828,
          28.68000030517578,
          24.08133316040039,
          28.50933265686035,
          28.50200080871582,
          28.952667236328125,
          33.66666793823242,
          35.95000076293945,
          35.21066665649414,
          34.29066848754883,
          33.47533416748047,
          34.93333435058594,
          32.104000091552734,
          30.29800033569336,
          32.000667572021484,
          34.41600036621094,
          36.36333465576172,
          36.589332580566406,
          38.20000076293945,
          43.39666748046875,
          47.32600021362305,
          48.65533447265625,
          49.680667877197266,
          50.259334564208984,
          49.75733184814453,
          45.781333923339844,
          48.807334899902344,
          47.04199981689453,
          48.34333419799805,
          53.25,
          51.27466583251953,
          53.367332458496094,
          52.12533187866211,
          46.75466537475586,
          50.74599838256836,
          51.2140007019043,
          52.172000885009766,
          52.00266647338867,
          54.62799835205078,
          54.08599853515625,
          53.96066665649414,
          52.73066711425781,
          53.55533218383789,
          53.27799987792969,
          54.242000579833984,
          53.867332458496094,
          54.37066650390625,
          55.17333221435547,
          54.45866775512695,
          54.591331481933594,
          54.68199920654297,
          53.72066879272461,
          55.66666793823242,
          59.87333297729492,
          58.770668029785156,
          58.86399841308594,
          57.62533187866211,
          59.04399871826172,
          63.327999114990234,
          62.711334228515625,
          68.336669921875,
          64.85600280761719,
          62.35200119018555,
          66.05999755859375,
          65.47533416748047,
          66.11933135986328,
          66.9306640625,
          66.72666931152344,
          66.28800201416016,
          66.78533172607422,
          64.0566635131836,
          65.73200225830078,
          63.982666015625,
          67.29000091552734,
          71.98733520507812,
          74.64199829101562,
          80.57733154296875,
          91.43866729736328,
          92.65733337402344,
          91.05867004394531,
          92.9520034790039,
          102.97666931152344,
          99.80400085449219,
          101.12000274658203,
          103.06732940673828,
          100.04266357421875,
          100.05599975585938,
          109.53333282470703,
          104.55733489990234,
          106.15533447265625,
          100.87133026123047,
          94.46666717529297,
          102.63999938964844,
          98.43267059326172,
          99.94066619873047,
          99.16600036621094,
          95.38400268554688,
          99,
          99.13333129882812,
          99.00133514404297,
          99.30533599853516,
          96.84733581542969,
          94.57133483886719,
          91.6259994506836,
          103.65066528320312,
          108.06666564941406,
          110.04733276367188,
          122.3759994506836,
          125.80599975585938,
          125.23533630371094,
          133.45533752441406,
          136.6653289794922,
          134.27999877929688,
          134.8893280029297,
          143.54466247558594,
          149.25,
          147.55999755859375,
          166.10667419433594,
          158.35000610351562,
          149.1233367919922,
          135.6666717529297,
          139.44000244140625,
          110.06999969482422,
          122.09333038330078,
          123.77999877929688,
          124.23999786376953,
          139.8733367919922,
          149.9199981689453,
          147.25332641601562,
          141.14332580566406,
          147.38333129882812,
          149.79666137695312,
          141.41000366210938,
          126.78666687011719,
          129.26333618164062,
          135.77999877929688,
          140.39999389648438,
          139.69000244140625,
          143.00332641601562,
          149.3866729736328,
          138.3633270263672,
          141.89332580566406,
          137.9933319091797,
          141.76666259765625,
          141.97332763671875,
          144.6666717529297,
          147.43333435058594,
          148.88333129882812,
          153.76666259765625,
          149.6266632080078,
          146.55667114257812,
          143.61000061035156,
          140.64666748046875,
          140.8800048828125,
          141.92999267578125,
          140.2100067138672,
          140.0933380126953,
          141.55999755859375,
          135.33999633789062,
          136.94332885742188,
          129.34666442871094,
          133.50332641601562,
          141.3000030517578,
          140.32666015625,
          146.02999877929688,
          143.31666564941406,
          140.4199981689453,
          136.7866668701172,
          139.0433349609375,
          137.25332641601562,
          136.1666717529297,
          136.02999877929688,
          147.20333862304688,
          162.2133331298828,
          166.42333984375,
          163.20333862304688,
          173.9499969482422,
          185.1266632080078,
          191.3333282470703,
          195.25332641601562,
          189.1999969482422,
          194.9199981689453,
          189.60667419433594,
          197.7933349609375,
          199.67999267578125,
          213.9199981689453,
          216.6266632080078,
          201.4933319091797,
          209.02333068847656,
          203.3300018310547,
          213.27667236328125,
          211.0833282470703,
          207.58999633789062,
          218.63333129882812,
          231.6666717529297,
          216.6199951171875,
          213.44667053222656,
          215.32666015625,
          220.58999633789062,
          221.22999572753906,
          221.99667358398438,
          231.5933380126953,
          235.22332763671875,
          243.2566680908203,
          245.0366668701172,
          251.9933319091797,
          272.0133361816406,
          293.3399963378906,
          270.39666748046875,
          283.14666748046875,
          284.8033447265625,
          281.6666564941406,
          275.38665771484375,
          281.51666259765625,
          283.48333740234375,
          281.663330078125,
          282.21331787109375,
          293.6000061035156,
          294.36334228515625,
          288.0533447265625,
          278.4766540527344,
          264.510009765625,
          279.9366760253906,
          290.92999267578125,
          284.89666748046875,
          283.3299865722656,
          284.07666015625,
          287.8066711425781,
          283.1533203125,
          268.2733459472656,
          270.5533447265625,
          272.0400085449219,
          265.40667724609375,
          266.04998779296875,
          262.4599914550781,
          260.4333190917969,
          238.1666717529297,
          232.94667053222656,
          247.33999633789062,
          227.4066619873047,
          225.1666717529297,
          239.47666931152344,
          228.81333923339844,
          217.73333740234375,
          207.14666748046875,
          199.31666564941406,
          187.6666717529297,
          224.52667236328125,
          222.68666076660156,
          233.1999969482422,
          231.2433319091797,
          235.97999572753906,
          225.6266632080078,
          233.93666076660156,
          217.72000122070312,
          218.2899932861328,
          223.3333282470703,
          220.72000122070312,
          210.08999633789062,
          213.4633331298828,
          206.23666381835938,
          203.76333618164062,
          211.8733367919922,
          222.64332580566406,
          220.5833282470703,
          230.35000610351562,
          230.5399932861328,
          223.6566619873047,
          227.93333435058594,
          225.67333984375,
          233.9933319091797,
          254.10667419433594,
          244.07666015625,
          246.28334045410156,
          246.5933380126953,
          238.2100067138672,
          239.663330078125,
          248.0399932861328,
          239.89666748046875,
          243.13333129882812,
          246.06666564941406,
          234.913330078125,
          231.46665954589844,
          225.6666717529297,
          236.47999572753906,
          228.3000030517578,
          224.53334045410156,
          223.64666748046875,
          221.17999267578125,
          224.1233367919922,
          209.67999267578125,
          205.73333740234375,
          196.6300048828125,
          190.56333923339844,
          196.5800018310547,
          192.27667236328125,
          192.6233367919922,
          187.82000732421875,
          195.5933380126953,
          193.6266632080078,
          202.14666748046875,
          201.56333923339844,
          206.3766632080078,
          210.28334045410156,
          208.4066619873047,
          207.96665954589844,
          201.7066650390625,
          190.94667053222656,
          199.68333435058594,
          201.7100067138672,
          201.19667053222656,
          199.5933380126953,
          203.3733367919922,
          203.29666137695312,
          205.89666748046875
         ],
         "yaxis": "y"
        },
        {
         "name": "Volume",
         "type": "scatter",
         "x": [
          "2020-01-02T00:00:00",
          "2020-01-03T00:00:00",
          "2020-01-06T00:00:00",
          "2020-01-07T00:00:00",
          "2020-01-08T00:00:00",
          "2020-01-09T00:00:00",
          "2020-01-10T00:00:00",
          "2020-01-13T00:00:00",
          "2020-01-14T00:00:00",
          "2020-01-15T00:00:00",
          "2020-01-16T00:00:00",
          "2020-01-17T00:00:00",
          "2020-01-21T00:00:00",
          "2020-01-22T00:00:00",
          "2020-01-23T00:00:00",
          "2020-01-24T00:00:00",
          "2020-01-27T00:00:00",
          "2020-01-28T00:00:00",
          "2020-01-29T00:00:00",
          "2020-01-30T00:00:00",
          "2020-01-31T00:00:00",
          "2020-02-03T00:00:00",
          "2020-02-04T00:00:00",
          "2020-02-05T00:00:00",
          "2020-02-06T00:00:00",
          "2020-02-07T00:00:00",
          "2020-02-10T00:00:00",
          "2020-02-11T00:00:00",
          "2020-02-12T00:00:00",
          "2020-02-13T00:00:00",
          "2020-02-14T00:00:00",
          "2020-02-18T00:00:00",
          "2020-02-19T00:00:00",
          "2020-02-20T00:00:00",
          "2020-02-21T00:00:00",
          "2020-02-24T00:00:00",
          "2020-02-25T00:00:00",
          "2020-02-26T00:00:00",
          "2020-02-27T00:00:00",
          "2020-02-28T00:00:00",
          "2020-03-02T00:00:00",
          "2020-03-03T00:00:00",
          "2020-03-04T00:00:00",
          "2020-03-05T00:00:00",
          "2020-03-06T00:00:00",
          "2020-03-09T00:00:00",
          "2020-03-10T00:00:00",
          "2020-03-11T00:00:00",
          "2020-03-12T00:00:00",
          "2020-03-13T00:00:00",
          "2020-03-16T00:00:00",
          "2020-03-17T00:00:00",
          "2020-03-18T00:00:00",
          "2020-03-19T00:00:00",
          "2020-03-20T00:00:00",
          "2020-03-23T00:00:00",
          "2020-03-24T00:00:00",
          "2020-03-25T00:00:00",
          "2020-03-26T00:00:00",
          "2020-03-27T00:00:00",
          "2020-03-30T00:00:00",
          "2020-03-31T00:00:00",
          "2020-04-01T00:00:00",
          "2020-04-02T00:00:00",
          "2020-04-03T00:00:00",
          "2020-04-06T00:00:00",
          "2020-04-07T00:00:00",
          "2020-04-08T00:00:00",
          "2020-04-09T00:00:00",
          "2020-04-13T00:00:00",
          "2020-04-14T00:00:00",
          "2020-04-15T00:00:00",
          "2020-04-16T00:00:00",
          "2020-04-17T00:00:00",
          "2020-04-20T00:00:00",
          "2020-04-21T00:00:00",
          "2020-04-22T00:00:00",
          "2020-04-23T00:00:00",
          "2020-04-24T00:00:00",
          "2020-04-27T00:00:00",
          "2020-04-28T00:00:00",
          "2020-04-29T00:00:00",
          "2020-04-30T00:00:00",
          "2020-05-01T00:00:00",
          "2020-05-04T00:00:00",
          "2020-05-05T00:00:00",
          "2020-05-06T00:00:00",
          "2020-05-07T00:00:00",
          "2020-05-08T00:00:00",
          "2020-05-11T00:00:00",
          "2020-05-12T00:00:00",
          "2020-05-13T00:00:00",
          "2020-05-14T00:00:00",
          "2020-05-15T00:00:00",
          "2020-05-18T00:00:00",
          "2020-05-19T00:00:00",
          "2020-05-20T00:00:00",
          "2020-05-21T00:00:00",
          "2020-05-22T00:00:00",
          "2020-05-26T00:00:00",
          "2020-05-27T00:00:00",
          "2020-05-28T00:00:00",
          "2020-05-29T00:00:00",
          "2020-06-01T00:00:00",
          "2020-06-02T00:00:00",
          "2020-06-03T00:00:00",
          "2020-06-04T00:00:00",
          "2020-06-05T00:00:00",
          "2020-06-08T00:00:00",
          "2020-06-09T00:00:00",
          "2020-06-10T00:00:00",
          "2020-06-11T00:00:00",
          "2020-06-12T00:00:00",
          "2020-06-15T00:00:00",
          "2020-06-16T00:00:00",
          "2020-06-17T00:00:00",
          "2020-06-18T00:00:00",
          "2020-06-19T00:00:00",
          "2020-06-22T00:00:00",
          "2020-06-23T00:00:00",
          "2020-06-24T00:00:00",
          "2020-06-25T00:00:00",
          "2020-06-26T00:00:00",
          "2020-06-29T00:00:00",
          "2020-06-30T00:00:00",
          "2020-07-01T00:00:00",
          "2020-07-02T00:00:00",
          "2020-07-06T00:00:00",
          "2020-07-07T00:00:00",
          "2020-07-08T00:00:00",
          "2020-07-09T00:00:00",
          "2020-07-10T00:00:00",
          "2020-07-13T00:00:00",
          "2020-07-14T00:00:00",
          "2020-07-15T00:00:00",
          "2020-07-16T00:00:00",
          "2020-07-17T00:00:00",
          "2020-07-20T00:00:00",
          "2020-07-21T00:00:00",
          "2020-07-22T00:00:00",
          "2020-07-23T00:00:00",
          "2020-07-24T00:00:00",
          "2020-07-27T00:00:00",
          "2020-07-28T00:00:00",
          "2020-07-29T00:00:00",
          "2020-07-30T00:00:00",
          "2020-07-31T00:00:00",
          "2020-08-03T00:00:00",
          "2020-08-04T00:00:00",
          "2020-08-05T00:00:00",
          "2020-08-06T00:00:00",
          "2020-08-07T00:00:00",
          "2020-08-10T00:00:00",
          "2020-08-11T00:00:00",
          "2020-08-12T00:00:00",
          "2020-08-13T00:00:00",
          "2020-08-14T00:00:00",
          "2020-08-17T00:00:00",
          "2020-08-18T00:00:00",
          "2020-08-19T00:00:00",
          "2020-08-20T00:00:00",
          "2020-08-21T00:00:00",
          "2020-08-24T00:00:00",
          "2020-08-25T00:00:00",
          "2020-08-26T00:00:00",
          "2020-08-27T00:00:00",
          "2020-08-28T00:00:00",
          "2020-08-31T00:00:00",
          "2020-09-01T00:00:00",
          "2020-09-02T00:00:00",
          "2020-09-03T00:00:00",
          "2020-09-04T00:00:00",
          "2020-09-08T00:00:00",
          "2020-09-09T00:00:00",
          "2020-09-10T00:00:00",
          "2020-09-11T00:00:00",
          "2020-09-14T00:00:00",
          "2020-09-15T00:00:00",
          "2020-09-16T00:00:00",
          "2020-09-17T00:00:00",
          "2020-09-18T00:00:00",
          "2020-09-21T00:00:00",
          "2020-09-22T00:00:00",
          "2020-09-23T00:00:00",
          "2020-09-24T00:00:00",
          "2020-09-25T00:00:00",
          "2020-09-28T00:00:00",
          "2020-09-29T00:00:00",
          "2020-09-30T00:00:00",
          "2020-10-01T00:00:00",
          "2020-10-02T00:00:00",
          "2020-10-05T00:00:00",
          "2020-10-06T00:00:00",
          "2020-10-07T00:00:00",
          "2020-10-08T00:00:00",
          "2020-10-09T00:00:00",
          "2020-10-12T00:00:00",
          "2020-10-13T00:00:00",
          "2020-10-14T00:00:00",
          "2020-10-15T00:00:00",
          "2020-10-16T00:00:00",
          "2020-10-19T00:00:00",
          "2020-10-20T00:00:00",
          "2020-10-21T00:00:00",
          "2020-10-22T00:00:00",
          "2020-10-23T00:00:00",
          "2020-10-26T00:00:00",
          "2020-10-27T00:00:00",
          "2020-10-28T00:00:00",
          "2020-10-29T00:00:00",
          "2020-10-30T00:00:00",
          "2020-11-02T00:00:00",
          "2020-11-03T00:00:00",
          "2020-11-04T00:00:00",
          "2020-11-05T00:00:00",
          "2020-11-06T00:00:00",
          "2020-11-09T00:00:00",
          "2020-11-10T00:00:00",
          "2020-11-11T00:00:00",
          "2020-11-12T00:00:00",
          "2020-11-13T00:00:00",
          "2020-11-16T00:00:00",
          "2020-11-17T00:00:00",
          "2020-11-18T00:00:00",
          "2020-11-19T00:00:00",
          "2020-11-20T00:00:00",
          "2020-11-23T00:00:00",
          "2020-11-24T00:00:00",
          "2020-11-25T00:00:00",
          "2020-11-27T00:00:00",
          "2020-11-30T00:00:00",
          "2020-12-01T00:00:00",
          "2020-12-02T00:00:00",
          "2020-12-03T00:00:00",
          "2020-12-04T00:00:00",
          "2020-12-07T00:00:00",
          "2020-12-08T00:00:00",
          "2020-12-09T00:00:00",
          "2020-12-10T00:00:00",
          "2020-12-11T00:00:00",
          "2020-12-14T00:00:00",
          "2020-12-15T00:00:00",
          "2020-12-16T00:00:00",
          "2020-12-17T00:00:00",
          "2020-12-18T00:00:00",
          "2020-12-21T00:00:00",
          "2020-12-22T00:00:00",
          "2020-12-23T00:00:00",
          "2020-12-24T00:00:00",
          "2020-12-28T00:00:00",
          "2020-12-29T00:00:00",
          "2020-12-30T00:00:00",
          "2020-12-31T00:00:00",
          "2021-01-04T00:00:00",
          "2021-01-05T00:00:00",
          "2021-01-06T00:00:00",
          "2021-01-07T00:00:00",
          "2021-01-08T00:00:00",
          "2021-01-11T00:00:00",
          "2021-01-12T00:00:00",
          "2021-01-13T00:00:00",
          "2021-01-14T00:00:00",
          "2021-01-15T00:00:00",
          "2021-01-19T00:00:00",
          "2021-01-20T00:00:00",
          "2021-01-21T00:00:00",
          "2021-01-22T00:00:00",
          "2021-01-25T00:00:00",
          "2021-01-26T00:00:00",
          "2021-01-27T00:00:00",
          "2021-01-28T00:00:00",
          "2021-01-29T00:00:00",
          "2021-02-01T00:00:00",
          "2021-02-02T00:00:00",
          "2021-02-03T00:00:00",
          "2021-02-04T00:00:00",
          "2021-02-05T00:00:00",
          "2021-02-08T00:00:00",
          "2021-02-09T00:00:00",
          "2021-02-10T00:00:00",
          "2021-02-11T00:00:00",
          "2021-02-12T00:00:00",
          "2021-02-16T00:00:00",
          "2021-02-17T00:00:00",
          "2021-02-18T00:00:00",
          "2021-02-19T00:00:00",
          "2021-02-22T00:00:00",
          "2021-02-23T00:00:00",
          "2021-02-24T00:00:00",
          "2021-02-25T00:00:00",
          "2021-02-26T00:00:00",
          "2021-03-01T00:00:00",
          "2021-03-02T00:00:00",
          "2021-03-03T00:00:00",
          "2021-03-04T00:00:00",
          "2021-03-05T00:00:00",
          "2021-03-08T00:00:00",
          "2021-03-09T00:00:00",
          "2021-03-10T00:00:00",
          "2021-03-11T00:00:00",
          "2021-03-12T00:00:00",
          "2021-03-15T00:00:00",
          "2021-03-16T00:00:00",
          "2021-03-17T00:00:00",
          "2021-03-18T00:00:00",
          "2021-03-19T00:00:00",
          "2021-03-22T00:00:00",
          "2021-03-23T00:00:00",
          "2021-03-24T00:00:00",
          "2021-03-25T00:00:00",
          "2021-03-26T00:00:00",
          "2021-03-29T00:00:00",
          "2021-03-30T00:00:00",
          "2021-03-31T00:00:00",
          "2021-04-01T00:00:00",
          "2021-04-05T00:00:00",
          "2021-04-06T00:00:00",
          "2021-04-07T00:00:00",
          "2021-04-08T00:00:00",
          "2021-04-09T00:00:00",
          "2021-04-12T00:00:00",
          "2021-04-13T00:00:00",
          "2021-04-14T00:00:00",
          "2021-04-15T00:00:00",
          "2021-04-16T00:00:00",
          "2021-04-19T00:00:00",
          "2021-04-20T00:00:00",
          "2021-04-21T00:00:00",
          "2021-04-22T00:00:00",
          "2021-04-23T00:00:00",
          "2021-04-26T00:00:00",
          "2021-04-27T00:00:00",
          "2021-04-28T00:00:00",
          "2021-04-29T00:00:00",
          "2021-04-30T00:00:00"
         ],
         "xaxis": "x2",
         "y": [
          142981500,
          266677500,
          151995000,
          268231500,
          467164500,
          426606000,
          194392500,
          397764000,
          434943000,
          260532000,
          326050500,
          204436500,
          267052500,
          470535000,
          294765000,
          215304000,
          204121500,
          176827500,
          267022500,
          435085500,
          235789500,
          705975000,
          914082000,
          726357000,
          598212000,
          255952500,
          370338000,
          175462500,
          180337500,
          394339500,
          235405500,
          245725500,
          381345000,
          264523500,
          214722000,
          227883000,
          259357500,
          211282500,
          364158000,
          363343500,
          302925000,
          386760000,
          225735000,
          162790500,
          189943500,
          256105500,
          233916000,
          199837500,
          283636500,
          339604500,
          307342500,
          359919000,
          356793000,
          452932500,
          424282500,
          246817500,
          343428000,
          318340500,
          260710500,
          215661000,
          179971500,
          266572500,
          200298000,
          297876000,
          338431500,
          223527000,
          268797000,
          189840000,
          204750000,
          337131000,
          458647500,
          353655000,
          309868500,
          196923000,
          221199000,
          303136500,
          212482500,
          198550500,
          198180000,
          310221000,
          228330000,
          243240000,
          427078500,
          487977000,
          288556500,
          254875500,
          166848000,
          172915500,
          241297500,
          247794000,
          238603500,
          285982500,
          205233000,
          157776000,
          174987000,
          144547500,
          109639500,
          183819000,
          149812500,
          121345500,
          173242500,
          108834000,
          176467500,
          224092500,
          203484000,
          119242500,
          133315500,
          117178500,
          212620500,
          170823000,
          278451000,
          238747500,
          251451000,
          235458000,
          210766500,
          148362000,
          146278500,
          130195500,
          95436000,
          95479500,
          164394000,
          138817500,
          132823500,
          135396000,
          253777500,
          199903500,
          258751500,
          308548500,
          322345500,
          244669500,
          175764000,
          350064000,
          584781000,
          351271500,
          245517000,
          214512000,
          139950000,
          256821000,
          241608000,
          212416500,
          364927500,
          290949000,
          240730500,
          237130500,
          141403500,
          114315000,
          183123000,
          132139500,
          126225000,
          74217000,
          89884500,
          133446000,
          112834500,
          129387000,
          327441000,
          306379500,
          188664000,
          303634500,
          247117500,
          183079500,
          309177000,
          322344000,
          300954000,
          159883500,
          213591000,
          355395000,
          301218000,
          355123200,
          269523300,
          288528300,
          262788300,
          330965700,
          346397100,
          238397400,
          254791800,
          182152500,
          249061800,
          291894600,
          216837900,
          230337600,
          259220400,
          328430400,
          238742400,
          285222600,
          289683300,
          201625500,
          149158800,
          150657900,
          144436800,
          152224500,
          214290000,
          134168400,
          147438900,
          129383100,
          121263300,
          86777100,
          116373300,
          103391100,
          143639100,
          107017200,
          98327700,
          108863400,
          94968900,
          97111500,
          119979600,
          101151000,
          84717600,
          68059500,
          76354200,
          67965900,
          127533900,
          87063300,
          103055100,
          96429300,
          85243500,
          65118000,
          104499000,
          90852600,
          52073100,
          59565300,
          59313300,
          80515800,
          183564900,
          234132000,
          187425900,
          98735700,
          150780900,
          160945500,
          146790600,
          112683300,
          189009300,
          120310500,
          143327100,
          127656000,
          88203900,
          168929100,
          192795000,
          213873600,
          201249600,
          139425000,
          156121800,
          135214500,
          126287400,
          168810300,
          666378600,
          174135900,
          155148000,
          99519000,
          68596800,
          96835800,
          68732400,
          128538000,
          148949700,
          145914600,
          96735600,
          134100000,
          154496700,
          225166500,
          177904800,
          138812100,
          99937500,
          93798900,
          116332800,
          76101000,
          76997700,
          61563300,
          60199500,
          123520200,
          69394800,
          82002000,
          79134000,
          104972400,
          76174200,
          73038600,
          55030500,
          47438100,
          55699800,
          60485100,
          45473100,
          108648300,
          64868400,
          71304900,
          59406900,
          77989500,
          53871300,
          56874900,
          111809100,
          199820700,
          110301000,
          117071700,
          123267600,
          81408600,
          71196600,
          90624000,
          197758500,
          268189500,
          155361000,
          202569900,
          181817100,
          108761700,
          100751400,
          88006800,
          96587100,
          121117500,
          99674400,
          128682000,
          118536600,
          91475700,
          101385600,
          117674700,
          101558400,
          85911000,
          118297200,
          100011900,
          105895200,
          125528400,
          84815400,
          78928200,
          71772900,
          64311300,
          87407100,
          133958400,
          147052200,
          83546700,
          83938500,
          119058600,
          106827000,
          93646500,
          106770900,
          85110000,
          93115500,
          88311000,
          66813000,
          86536200,
          122276100
         ],
         "yaxis": "y2"
        }
       ],
       "layout": {
        "annotations": [
         {
          "font": {
           "size": 16
          },
          "showarrow": false,
          "text": "Historical Share Price",
          "x": 0.5,
          "xanchor": "center",
          "xref": "paper",
          "y": 0.9999999999999999,
          "yanchor": "bottom",
          "yref": "paper"
         },
         {
          "font": {
           "size": 16
          },
          "showarrow": false,
          "text": "Historical Revenue",
          "x": 0.5,
          "xanchor": "center",
          "xref": "paper",
          "y": 0.35,
          "yanchor": "bottom",
          "yref": "paper"
         }
        ],
        "autosize": true,
        "showlegend": false,
        "template": {
         "data": {
          "bar": [
           {
            "error_x": {
             "color": "#2a3f5f"
            },
            "error_y": {
             "color": "#2a3f5f"
            },
            "marker": {
             "line": {
              "color": "#E5ECF6",
              "width": 0.5
             },
             "pattern": {
              "fillmode": "overlay",
              "size": 10,
              "solidity": 0.2
             }
            },
            "type": "bar"
           }
          ],
          "barpolar": [
           {
            "marker": {
             "line": {
              "color": "#E5ECF6",
              "width": 0.5
             },
             "pattern": {
              "fillmode": "overlay",
              "size": 10,
              "solidity": 0.2
             }
            },
            "type": "barpolar"
           }
          ],
          "carpet": [
           {
            "aaxis": {
             "endlinecolor": "#2a3f5f",
             "gridcolor": "white",
             "linecolor": "white",
             "minorgridcolor": "white",
             "startlinecolor": "#2a3f5f"
            },
            "baxis": {
             "endlinecolor": "#2a3f5f",
             "gridcolor": "white",
             "linecolor": "white",
             "minorgridcolor": "white",
             "startlinecolor": "#2a3f5f"
            },
            "type": "carpet"
           }
          ],
          "choropleth": [
           {
            "colorbar": {
             "outlinewidth": 0,
             "ticks": ""
            },
            "type": "choropleth"
           }
          ],
          "contour": [
           {
            "colorbar": {
             "outlinewidth": 0,
             "ticks": ""
            },
            "colorscale": [
             [
              0,
              "#0d0887"
             ],
             [
              0.1111111111111111,
              "#46039f"
             ],
             [
              0.2222222222222222,
              "#7201a8"
             ],
             [
              0.3333333333333333,
              "#9c179e"
             ],
             [
              0.4444444444444444,
              "#bd3786"
             ],
             [
              0.5555555555555556,
              "#d8576b"
             ],
             [
              0.6666666666666666,
              "#ed7953"
             ],
             [
              0.7777777777777778,
              "#fb9f3a"
             ],
             [
              0.8888888888888888,
              "#fdca26"
             ],
             [
              1,
              "#f0f921"
             ]
            ],
            "type": "contour"
           }
          ],
          "contourcarpet": [
           {
            "colorbar": {
             "outlinewidth": 0,
             "ticks": ""
            },
            "type": "contourcarpet"
           }
          ],
          "heatmap": [
           {
            "colorbar": {
             "outlinewidth": 0,
             "ticks": ""
            },
            "colorscale": [
             [
              0,
              "#0d0887"
             ],
             [
              0.1111111111111111,
              "#46039f"
             ],
             [
              0.2222222222222222,
              "#7201a8"
             ],
             [
              0.3333333333333333,
              "#9c179e"
             ],
             [
              0.4444444444444444,
              "#bd3786"
             ],
             [
              0.5555555555555556,
              "#d8576b"
             ],
             [
              0.6666666666666666,
              "#ed7953"
             ],
             [
              0.7777777777777778,
              "#fb9f3a"
             ],
             [
              0.8888888888888888,
              "#fdca26"
             ],
             [
              1,
              "#f0f921"
             ]
            ],
            "type": "heatmap"
           }
          ],
          "heatmapgl": [
           {
            "colorbar": {
             "outlinewidth": 0,
             "ticks": ""
            },
            "colorscale": [
             [
              0,
              "#0d0887"
             ],
             [
              0.1111111111111111,
              "#46039f"
             ],
             [
              0.2222222222222222,
              "#7201a8"
             ],
             [
              0.3333333333333333,
              "#9c179e"
             ],
             [
              0.4444444444444444,
              "#bd3786"
             ],
             [
              0.5555555555555556,
              "#d8576b"
             ],
             [
              0.6666666666666666,
              "#ed7953"
             ],
             [
              0.7777777777777778,
              "#fb9f3a"
             ],
             [
              0.8888888888888888,
              "#fdca26"
             ],
             [
              1,
              "#f0f921"
             ]
            ],
            "type": "heatmapgl"
           }
          ],
          "histogram": [
           {
            "marker": {
             "pattern": {
              "fillmode": "overlay",
              "size": 10,
              "solidity": 0.2
             }
            },
            "type": "histogram"
           }
          ],
          "histogram2d": [
           {
            "colorbar": {
             "outlinewidth": 0,
             "ticks": ""
            },
            "colorscale": [
             [
              0,
              "#0d0887"
             ],
             [
              0.1111111111111111,
              "#46039f"
             ],
             [
              0.2222222222222222,
              "#7201a8"
             ],
             [
              0.3333333333333333,
              "#9c179e"
             ],
             [
              0.4444444444444444,
              "#bd3786"
             ],
             [
              0.5555555555555556,
              "#d8576b"
             ],
             [
              0.6666666666666666,
              "#ed7953"
             ],
             [
              0.7777777777777778,
              "#fb9f3a"
             ],
             [
              0.8888888888888888,
              "#fdca26"
             ],
             [
              1,
              "#f0f921"
             ]
            ],
            "type": "histogram2d"
           }
          ],
          "histogram2dcontour": [
           {
            "colorbar": {
             "outlinewidth": 0,
             "ticks": ""
            },
            "colorscale": [
             [
              0,
              "#0d0887"
             ],
             [
              0.1111111111111111,
              "#46039f"
             ],
             [
              0.2222222222222222,
              "#7201a8"
             ],
             [
              0.3333333333333333,
              "#9c179e"
             ],
             [
              0.4444444444444444,
              "#bd3786"
             ],
             [
              0.5555555555555556,
              "#d8576b"
             ],
             [
              0.6666666666666666,
              "#ed7953"
             ],
             [
              0.7777777777777778,
              "#fb9f3a"
             ],
             [
              0.8888888888888888,
              "#fdca26"
             ],
             [
              1,
              "#f0f921"
             ]
            ],
            "type": "histogram2dcontour"
           }
          ],
          "mesh3d": [
           {
            "colorbar": {
             "outlinewidth": 0,
             "ticks": ""
            },
            "type": "mesh3d"
           }
          ],
          "parcoords": [
           {
            "line": {
             "colorbar": {
              "outlinewidth": 0,
              "ticks": ""
             }
            },
            "type": "parcoords"
           }
          ],
          "pie": [
           {
            "automargin": true,
            "type": "pie"
           }
          ],
          "scatter": [
           {
            "fillpattern": {
             "fillmode": "overlay",
             "size": 10,
             "solidity": 0.2
            },
            "type": "scatter"
           }
          ],
          "scatter3d": [
           {
            "line": {
             "colorbar": {
              "outlinewidth": 0,
              "ticks": ""
             }
            },
            "marker": {
             "colorbar": {
              "outlinewidth": 0,
              "ticks": ""
             }
            },
            "type": "scatter3d"
           }
          ],
          "scattercarpet": [
           {
            "marker": {
             "colorbar": {
              "outlinewidth": 0,
              "ticks": ""
             }
            },
            "type": "scattercarpet"
           }
          ],
          "scattergeo": [
           {
            "marker": {
             "colorbar": {
              "outlinewidth": 0,
              "ticks": ""
             }
            },
            "type": "scattergeo"
           }
          ],
          "scattergl": [
           {
            "marker": {
             "colorbar": {
              "outlinewidth": 0,
              "ticks": ""
             }
            },
            "type": "scattergl"
           }
          ],
          "scattermapbox": [
           {
            "marker": {
             "colorbar": {
              "outlinewidth": 0,
              "ticks": ""
             }
            },
            "type": "scattermapbox"
           }
          ],
          "scatterpolar": [
           {
            "marker": {
             "colorbar": {
              "outlinewidth": 0,
              "ticks": ""
             }
            },
            "type": "scatterpolar"
           }
          ],
          "scatterpolargl": [
           {
            "marker": {
             "colorbar": {
              "outlinewidth": 0,
              "ticks": ""
             }
            },
            "type": "scatterpolargl"
           }
          ],
          "scatterternary": [
           {
            "marker": {
             "colorbar": {
              "outlinewidth": 0,
              "ticks": ""
             }
            },
            "type": "scatterternary"
           }
          ],
          "surface": [
           {
            "colorbar": {
             "outlinewidth": 0,
             "ticks": ""
            },
            "colorscale": [
             [
              0,
              "#0d0887"
             ],
             [
              0.1111111111111111,
              "#46039f"
             ],
             [
              0.2222222222222222,
              "#7201a8"
             ],
             [
              0.3333333333333333,
              "#9c179e"
             ],
             [
              0.4444444444444444,
              "#bd3786"
             ],
             [
              0.5555555555555556,
              "#d8576b"
             ],
             [
              0.6666666666666666,
              "#ed7953"
             ],
             [
              0.7777777777777778,
              "#fb9f3a"
             ],
             [
              0.8888888888888888,
              "#fdca26"
             ],
             [
              1,
              "#f0f921"
             ]
            ],
            "type": "surface"
           }
          ],
          "table": [
           {
            "cells": {
             "fill": {
              "color": "#EBF0F8"
             },
             "line": {
              "color": "white"
             }
            },
            "header": {
             "fill": {
              "color": "#C8D4E3"
             },
             "line": {
              "color": "white"
             }
            },
            "type": "table"
           }
          ]
         },
         "layout": {
          "annotationdefaults": {
           "arrowcolor": "#2a3f5f",
           "arrowhead": 0,
           "arrowwidth": 1
          },
          "autotypenumbers": "strict",
          "coloraxis": {
           "colorbar": {
            "outlinewidth": 0,
            "ticks": ""
           }
          },
          "colorscale": {
           "diverging": [
            [
             0,
             "#8e0152"
            ],
            [
             0.1,
             "#c51b7d"
            ],
            [
             0.2,
             "#de77ae"
            ],
            [
             0.3,
             "#f1b6da"
            ],
            [
             0.4,
             "#fde0ef"
            ],
            [
             0.5,
             "#f7f7f7"
            ],
            [
             0.6,
             "#e6f5d0"
            ],
            [
             0.7,
             "#b8e186"
            ],
            [
             0.8,
             "#7fbc41"
            ],
            [
             0.9,
             "#4d9221"
            ],
            [
             1,
             "#276419"
            ]
           ],
           "sequential": [
            [
             0,
             "#0d0887"
            ],
            [
             0.1111111111111111,
             "#46039f"
            ],
            [
             0.2222222222222222,
             "#7201a8"
            ],
            [
             0.3333333333333333,
             "#9c179e"
            ],
            [
             0.4444444444444444,
             "#bd3786"
            ],
            [
             0.5555555555555556,
             "#d8576b"
            ],
            [
             0.6666666666666666,
             "#ed7953"
            ],
            [
             0.7777777777777778,
             "#fb9f3a"
            ],
            [
             0.8888888888888888,
             "#fdca26"
            ],
            [
             1,
             "#f0f921"
            ]
           ],
           "sequentialminus": [
            [
             0,
             "#0d0887"
            ],
            [
             0.1111111111111111,
             "#46039f"
            ],
            [
             0.2222222222222222,
             "#7201a8"
            ],
            [
             0.3333333333333333,
             "#9c179e"
            ],
            [
             0.4444444444444444,
             "#bd3786"
            ],
            [
             0.5555555555555556,
             "#d8576b"
            ],
            [
             0.6666666666666666,
             "#ed7953"
            ],
            [
             0.7777777777777778,
             "#fb9f3a"
            ],
            [
             0.8888888888888888,
             "#fdca26"
            ],
            [
             1,
             "#f0f921"
            ]
           ]
          },
          "colorway": [
           "#636efa",
           "#EF553B",
           "#00cc96",
           "#ab63fa",
           "#FFA15A",
           "#19d3f3",
           "#FF6692",
           "#B6E880",
           "#FF97FF",
           "#FECB52"
          ],
          "font": {
           "color": "#2a3f5f"
          },
          "geo": {
           "bgcolor": "white",
           "lakecolor": "white",
           "landcolor": "#E5ECF6",
           "showlakes": true,
           "showland": true,
           "subunitcolor": "white"
          },
          "hoverlabel": {
           "align": "left"
          },
          "hovermode": "closest",
          "mapbox": {
           "style": "light"
          },
          "paper_bgcolor": "white",
          "plot_bgcolor": "#E5ECF6",
          "polar": {
           "angularaxis": {
            "gridcolor": "white",
            "linecolor": "white",
            "ticks": ""
           },
           "bgcolor": "#E5ECF6",
           "radialaxis": {
            "gridcolor": "white",
            "linecolor": "white",
            "ticks": ""
           }
          },
          "scene": {
           "xaxis": {
            "backgroundcolor": "#E5ECF6",
            "gridcolor": "white",
            "gridwidth": 2,
            "linecolor": "white",
            "showbackground": true,
            "ticks": "",
            "zerolinecolor": "white"
           },
           "yaxis": {
            "backgroundcolor": "#E5ECF6",
            "gridcolor": "white",
            "gridwidth": 2,
            "linecolor": "white",
            "showbackground": true,
            "ticks": "",
            "zerolinecolor": "white"
           },
           "zaxis": {
            "backgroundcolor": "#E5ECF6",
            "gridcolor": "white",
            "gridwidth": 2,
            "linecolor": "white",
            "showbackground": true,
            "ticks": "",
            "zerolinecolor": "white"
           }
          },
          "shapedefaults": {
           "line": {
            "color": "#2a3f5f"
           }
          },
          "ternary": {
           "aaxis": {
            "gridcolor": "white",
            "linecolor": "white",
            "ticks": ""
           },
           "baxis": {
            "gridcolor": "white",
            "linecolor": "white",
            "ticks": ""
           },
           "bgcolor": "#E5ECF6",
           "caxis": {
            "gridcolor": "white",
            "linecolor": "white",
            "ticks": ""
           }
          },
          "title": {
           "x": 0.05
          },
          "xaxis": {
           "automargin": true,
           "gridcolor": "white",
           "linecolor": "white",
           "ticks": "",
           "title": {
            "standoff": 15
           },
           "zerolinecolor": "white",
           "zerolinewidth": 2
          },
          "yaxis": {
           "automargin": true,
           "gridcolor": "white",
           "linecolor": "white",
           "ticks": "",
           "title": {
            "standoff": 15
           },
           "zerolinecolor": "white",
           "zerolinewidth": 2
          }
         }
        },
        "title": {
         "text": "TSLA"
        },
        "xaxis": {
         "anchor": "y",
         "autorange": true,
         "domain": [
          0,
          1
         ],
         "matches": "x2",
         "range": [
          "2020-01-02",
          "2021-06-14"
         ],
         "rangeslider": {
          "autorange": true,
          "range": [
           "2020-01-02",
           "2021-06-14"
          ],
          "visible": true,
          "yaxis": {
           "_template": null,
           "rangemode": "match"
          }
         },
         "showticklabels": false,
         "title": {
          "text": "Date"
         },
         "type": "date"
        },
        "xaxis2": {
         "anchor": "y2",
         "autorange": true,
         "domain": [
          0,
          1
         ],
         "range": [
          "2020-01-02",
          "2021-06-14"
         ],
         "title": {
          "text": "Date"
         },
         "type": "date"
        },
        "yaxis": {
         "anchor": "x",
         "autorange": true,
         "domain": [
          0.6499999999999999,
          0.9999999999999999
         ],
         "range": [
          9.065665986802841,
          309.3790094587538
         ],
         "title": {
          "text": "Price ($US)"
         },
         "type": "linear"
        },
        "yaxis2": {
         "anchor": "x2",
         "autorange": true,
         "domain": [
          0,
          0.35
         ],
         "range": [
          -2782950,
          962338050
         ],
         "title": {
          "text": "Revenue ($US Millions)"
         },
         "type": "linear"
        }
       }
      },
      "image/png": "[encoded data removed]",
      "text/html": [
       "<div>                            <div id=\"3730cdf4-9270-4792-af13-9e48bc64fda3\" class=\"plotly-graph-div\" style=\"height:900px; width:100%;\"></div>            <script type=\"text/javascript\">                require([\"plotly\"], function(Plotly) {                    window.PLOTLYENV=window.PLOTLYENV || {};                                    if (document.getElementById(\"3730cdf4-9270-4792-af13-9e48bc64fda3\")) {                    Plotly.newPlot(                        \"3730cdf4-9270-4792-af13-9e48bc64fda3\",                        [{\"name\":\"Share Price\",\"x\":[\"2020-01-02T00:00:00\",\"2020-01-03T00:00:00\",\"2020-01-06T00:00:00\",\"2020-01-07T00:00:00\",\"2020-01-08T00:00:00\",\"2020-01-09T00:00:00\",\"2020-01-10T00:00:00\",\"2020-01-13T00:00:00\",\"2020-01-14T00:00:00\",\"2020-01-15T00:00:00\",\"2020-01-16T00:00:00\",\"2020-01-17T00:00:00\",\"2020-01-21T00:00:00\",\"2020-01-22T00:00:00\",\"2020-01-23T00:00:00\",\"2020-01-24T00:00:00\",\"2020-01-27T00:00:00\",\"2020-01-28T00:00:00\",\"2020-01-29T00:00:00\",\"2020-01-30T00:00:00\",\"2020-01-31T00:00:00\",\"2020-02-03T00:00:00\",\"2020-02-04T00:00:00\",\"2020-02-05T00:00:00\",\"2020-02-06T00:00:00\",\"2020-02-07T00:00:00\",\"2020-02-10T00:00:00\",\"2020-02-11T00:00:00\",\"2020-02-12T00:00:00\",\"2020-02-13T00:00:00\",\"2020-02-14T00:00:00\",\"2020-02-18T00:00:00\",\"2020-02-19T00:00:00\",\"2020-02-20T00:00:00\",\"2020-02-21T00:00:00\",\"2020-02-24T00:00:00\",\"2020-02-25T00:00:00\",\"2020-02-26T00:00:00\",\"2020-02-27T00:00:00\",\"2020-02-28T00:00:00\",\"2020-03-02T00:00:00\",\"2020-03-03T00:00:00\",\"2020-03-04T00:00:00\",\"2020-03-05T00:00:00\",\"2020-03-06T00:00:00\",\"2020-03-09T00:00:00\",\"2020-03-10T00:00:00\",\"2020-03-11T00:00:00\",\"2020-03-12T00:00:00\",\"2020-03-13T00:00:00\",\"2020-03-16T00:00:00\",\"2020-03-17T00:00:00\",\"2020-03-18T00:00:00\",\"2020-03-19T00:00:00\",\"2020-03-20T00:00:00\",\"2020-03-23T00:00:00\",\"2020-03-24T00:00:00\",\"2020-03-25T00:00:00\",\"2020-03-26T00:00:00\",\"2020-03-27T00:00:00\",\"2020-03-30T00:00:00\",\"2020-03-31T00:00:00\",\"2020-04-01T00:00:00\",\"2020-04-02T00:00:00\",\"2020-04-03T00:00:00\",\"2020-04-06T00:00:00\",\"2020-04-07T00:00:00\",\"2020-04-08T00:00:00\",\"2020-04-09T00:00:00\",\"2020-04-13T00:00:00\",\"2020-04-14T00:00:00\",\"2020-04-15T00:00:00\",\"2020-04-16T00:00:00\",\"2020-04-17T00:00:00\",\"2020-04-20T00:00:00\",\"2020-04-21T00:00:00\",\"2020-04-22T00:00:00\",\"2020-04-23T00:00:00\",\"2020-04-24T00:00:00\",\"2020-04-27T00:00:00\",\"2020-04-28T00:00:00\",\"2020-04-29T00:00:00\",\"2020-04-30T00:00:00\",\"2020-05-01T00:00:00\",\"2020-05-04T00:00:00\",\"2020-05-05T00:00:00\",\"2020-05-06T00:00:00\",\"2020-05-07T00:00:00\",\"2020-05-08T00:00:00\",\"2020-05-11T00:00:00\",\"2020-05-12T00:00:00\",\"2020-05-13T00:00:00\",\"2020-05-14T00:00:00\",\"2020-05-15T00:00:00\",\"2020-05-18T00:00:00\",\"2020-05-19T00:00:00\",\"2020-05-20T00:00:00\",\"2020-05-21T00:00:00\",\"2020-05-22T00:00:00\",\"2020-05-26T00:00:00\",\"2020-05-27T00:00:00\",\"2020-05-28T00:00:00\",\"2020-05-29T00:00:00\",\"2020-06-01T00:00:00\",\"2020-06-02T00:00:00\",\"2020-06-03T00:00:00\",\"2020-06-04T00:00:00\",\"2020-06-05T00:00:00\",\"2020-06-08T00:00:00\",\"2020-06-09T00:00:00\",\"2020-06-10T00:00:00\",\"2020-06-11T00:00:00\",\"2020-06-12T00:00:00\",\"2020-06-15T00:00:00\",\"2020-06-16T00:00:00\",\"2020-06-17T00:00:00\",\"2020-06-18T00:00:00\",\"2020-06-19T00:00:00\",\"2020-06-22T00:00:00\",\"2020-06-23T00:00:00\",\"2020-06-24T00:00:00\",\"2020-06-25T00:00:00\",\"2020-06-26T00:00:00\",\"2020-06-29T00:00:00\",\"2020-06-30T00:00:00\",\"2020-07-01T00:00:00\",\"2020-07-02T00:00:00\",\"2020-07-06T00:00:00\",\"2020-07-07T00:00:00\",\"2020-07-08T00:00:00\",\"2020-07-09T00:00:00\",\"2020-07-10T00:00:00\",\"2020-07-13T00:00:00\",\"2020-07-14T00:00:00\",\"2020-07-15T00:00:00\",\"2020-07-16T00:00:00\",\"2020-07-17T00:00:00\",\"2020-07-20T00:00:00\",\"2020-07-21T00:00:00\",\"2020-07-22T00:00:00\",\"2020-07-23T00:00:00\",\"2020-07-24T00:00:00\",\"2020-07-27T00:00:00\",\"2020-07-28T00:00:00\",\"2020-07-29T00:00:00\",\"2020-07-30T00:00:00\",\"2020-07-31T00:00:00\",\"2020-08-03T00:00:00\",\"2020-08-04T00:00:00\",\"2020-08-05T00:00:00\",\"2020-08-06T00:00:00\",\"2020-08-07T00:00:00\",\"2020-08-10T00:00:00\",\"2020-08-11T00:00:00\",\"2020-08-12T00:00:00\",\"2020-08-13T00:00:00\",\"2020-08-14T00:00:00\",\"2020-08-17T00:00:00\",\"2020-08-18T00:00:00\",\"2020-08-19T00:00:00\",\"2020-08-20T00:00:00\",\"2020-08-21T00:00:00\",\"2020-08-24T00:00:00\",\"2020-08-25T00:00:00\",\"2020-08-26T00:00:00\",\"2020-08-27T00:00:00\",\"2020-08-28T00:00:00\",\"2020-08-31T00:00:00\",\"2020-09-01T00:00:00\",\"2020-09-02T00:00:00\",\"2020-09-03T00:00:00\",\"2020-09-04T00:00:00\",\"2020-09-08T00:00:00\",\"2020-09-09T00:00:00\",\"2020-09-10T00:00:00\",\"2020-09-11T00:00:00\",\"2020-09-14T00:00:00\",\"2020-09-15T00:00:00\",\"2020-09-16T00:00:00\",\"2020-09-17T00:00:00\",\"2020-09-18T00:00:00\",\"2020-09-21T00:00:00\",\"2020-09-22T00:00:00\",\"2020-09-23T00:00:00\",\"2020-09-24T00:00:00\",\"2020-09-25T00:00:00\",\"2020-09-28T00:00:00\",\"2020-09-29T00:00:00\",\"2020-09-30T00:00:00\",\"2020-10-01T00:00:00\",\"2020-10-02T00:00:00\",\"2020-10-05T00:00:00\",\"2020-10-06T00:00:00\",\"2020-10-07T00:00:00\",\"2020-10-08T00:00:00\",\"2020-10-09T00:00:00\",\"2020-10-12T00:00:00\",\"2020-10-13T00:00:00\",\"2020-10-14T00:00:00\",\"2020-10-15T00:00:00\",\"2020-10-16T00:00:00\",\"2020-10-19T00:00:00\",\"2020-10-20T00:00:00\",\"2020-10-21T00:00:00\",\"2020-10-22T00:00:00\",\"2020-10-23T00:00:00\",\"2020-10-26T00:00:00\",\"2020-10-27T00:00:00\",\"2020-10-28T00:00:00\",\"2020-10-29T00:00:00\",\"2020-10-30T00:00:00\",\"2020-11-02T00:00:00\",\"2020-11-03T00:00:00\",\"2020-11-04T00:00:00\",\"2020-11-05T00:00:00\",\"2020-11-06T00:00:00\",\"2020-11-09T00:00:00\",\"2020-11-10T00:00:00\",\"2020-11-11T00:00:00\",\"2020-11-12T00:00:00\",\"2020-11-13T00:00:00\",\"2020-11-16T00:00:00\",\"2020-11-17T00:00:00\",\"2020-11-18T00:00:00\",\"2020-11-19T00:00:00\",\"2020-11-20T00:00:00\",\"2020-11-23T00:00:00\",\"2020-11-24T00:00:00\",\"2020-11-25T00:00:00\",\"2020-11-27T00:00:00\",\"2020-11-30T00:00:00\",\"2020-12-01T00:00:00\",\"2020-12-02T00:00:00\",\"2020-12-03T00:00:00\",\"2020-12-04T00:00:00\",\"2020-12-07T00:00:00\",\"2020-12-08T00:00:00\",\"2020-12-09T00:00:00\",\"2020-12-10T00:00:00\",\"2020-12-11T00:00:00\",\"2020-12-14T00:00:00\",\"2020-12-15T00:00:00\",\"2020-12-16T00:00:00\",\"2020-12-17T00:00:00\",\"2020-12-18T00:00:00\",\"2020-12-21T00:00:00\",\"2020-12-22T00:00:00\",\"2020-12-23T00:00:00\",\"2020-12-24T00:00:00\",\"2020-12-28T00:00:00\",\"2020-12-29T00:00:00\",\"2020-12-30T00:00:00\",\"2020-12-31T00:00:00\",\"2021-01-04T00:00:00\",\"2021-01-05T00:00:00\",\"2021-01-06T00:00:00\",\"2021-01-07T00:00:00\",\"2021-01-08T00:00:00\",\"2021-01-11T00:00:00\",\"2021-01-12T00:00:00\",\"2021-01-13T00:00:00\",\"2021-01-14T00:00:00\",\"2021-01-15T00:00:00\",\"2021-01-19T00:00:00\",\"2021-01-20T00:00:00\",\"2021-01-21T00:00:00\",\"2021-01-22T00:00:00\",\"2021-01-25T00:00:00\",\"2021-01-26T00:00:00\",\"2021-01-27T00:00:00\",\"2021-01-28T00:00:00\",\"2021-01-29T00:00:00\",\"2021-02-01T00:00:00\",\"2021-02-02T00:00:00\",\"2021-02-03T00:00:00\",\"2021-02-04T00:00:00\",\"2021-02-05T00:00:00\",\"2021-02-08T00:00:00\",\"2021-02-09T00:00:00\",\"2021-02-10T00:00:00\",\"2021-02-11T00:00:00\",\"2021-02-12T00:00:00\",\"2021-02-16T00:00:00\",\"2021-02-17T00:00:00\",\"2021-02-18T00:00:00\",\"2021-02-19T00:00:00\",\"2021-02-22T00:00:00\",\"2021-02-23T00:00:00\",\"2021-02-24T00:00:00\",\"2021-02-25T00:00:00\",\"2021-02-26T00:00:00\",\"2021-03-01T00:00:00\",\"2021-03-02T00:00:00\",\"2021-03-03T00:00:00\",\"2021-03-04T00:00:00\",\"2021-03-05T00:00:00\",\"2021-03-08T00:00:00\",\"2021-03-09T00:00:00\",\"2021-03-10T00:00:00\",\"2021-03-11T00:00:00\",\"2021-03-12T00:00:00\",\"2021-03-15T00:00:00\",\"2021-03-16T00:00:00\",\"2021-03-17T00:00:00\",\"2021-03-18T00:00:00\",\"2021-03-19T00:00:00\",\"2021-03-22T00:00:00\",\"2021-03-23T00:00:00\",\"2021-03-24T00:00:00\",\"2021-03-25T00:00:00\",\"2021-03-26T00:00:00\",\"2021-03-29T00:00:00\",\"2021-03-30T00:00:00\",\"2021-03-31T00:00:00\",\"2021-04-01T00:00:00\",\"2021-04-05T00:00:00\",\"2021-04-06T00:00:00\",\"2021-04-07T00:00:00\",\"2021-04-08T00:00:00\",\"2021-04-09T00:00:00\",\"2021-04-12T00:00:00\",\"2021-04-13T00:00:00\",\"2021-04-14T00:00:00\",\"2021-04-15T00:00:00\",\"2021-04-16T00:00:00\",\"2021-04-19T00:00:00\",\"2021-04-20T00:00:00\",\"2021-04-21T00:00:00\",\"2021-04-22T00:00:00\",\"2021-04-23T00:00:00\",\"2021-04-26T00:00:00\",\"2021-04-27T00:00:00\",\"2021-04-28T00:00:00\",\"2021-04-29T00:00:00\",\"2021-04-30T00:00:00\",\"2021-05-03T00:00:00\",\"2021-05-04T00:00:00\",\"2021-05-05T00:00:00\",\"2021-05-06T00:00:00\",\"2021-05-07T00:00:00\",\"2021-05-10T00:00:00\",\"2021-05-11T00:00:00\",\"2021-05-12T00:00:00\",\"2021-05-13T00:00:00\",\"2021-05-14T00:00:00\",\"2021-05-17T00:00:00\",\"2021-05-18T00:00:00\",\"2021-05-19T00:00:00\",\"2021-05-20T00:00:00\",\"2021-05-21T00:00:00\",\"2021-05-24T00:00:00\",\"2021-05-25T00:00:00\",\"2021-05-26T00:00:00\",\"2021-05-27T00:00:00\",\"2021-05-28T00:00:00\",\"2021-06-01T00:00:00\",\"2021-06-02T00:00:00\",\"2021-06-03T00:00:00\",\"2021-06-04T00:00:00\",\"2021-06-07T00:00:00\",\"2021-06-08T00:00:00\",\"2021-06-09T00:00:00\",\"2021-06-10T00:00:00\",\"2021-06-11T00:00:00\",\"2021-06-14T00:00:00\"],\"y\":[28.68400001525879,29.534000396728516,30.1026668548584,31.270666122436523,32.80933380126953,32.089332580566406,31.876667022705078,34.990665435791016,35.861331939697266,34.56666564941406,34.232666015625,34.03333282470703,36.47999954223633,37.97066879272461,38.14666748046875,37.654666900634766,37.201332092285156,37.793331146240234,38.732666015625,42.72066879272461,43.371334075927734,52.0,59.137332916259766,48.97999954223633,49.930667877197266,49.871334075927734,51.41866683959961,51.62533187866211,51.15266799926758,53.599998474121094,53.33533477783203,57.22666549682617,61.16133117675781,59.96066665649414,60.06666564941406,55.58599853515625,53.32733154296875,51.91999816894531,45.266666412353516,44.53266525268555,49.574668884277344,49.70066833496094,49.96666717529297,48.30266571044922,46.89866638183594,40.53333282470703,43.02199935913086,42.28200149536133,37.369998931884766,36.44133377075195,29.67133331298828,28.68000030517578,24.08133316040039,28.50933265686035,28.50200080871582,28.952667236328125,33.66666793823242,35.95000076293945,35.21066665649414,34.29066848754883,33.47533416748047,34.93333435058594,32.104000091552734,30.29800033569336,32.000667572021484,34.41600036621094,36.36333465576172,36.589332580566406,38.20000076293945,43.39666748046875,47.32600021362305,48.65533447265625,49.680667877197266,50.259334564208984,49.75733184814453,45.781333923339844,48.807334899902344,47.04199981689453,48.34333419799805,53.25,51.27466583251953,53.367332458496094,52.12533187866211,46.75466537475586,50.74599838256836,51.2140007019043,52.172000885009766,52.00266647338867,54.62799835205078,54.08599853515625,53.96066665649414,52.73066711425781,53.55533218383789,53.27799987792969,54.242000579833984,53.867332458496094,54.37066650390625,55.17333221435547,54.45866775512695,54.591331481933594,54.68199920654297,53.72066879272461,55.66666793823242,59.87333297729492,58.770668029785156,58.86399841308594,57.62533187866211,59.04399871826172,63.327999114990234,62.711334228515625,68.336669921875,64.85600280761719,62.35200119018555,66.05999755859375,65.47533416748047,66.11933135986328,66.9306640625,66.72666931152344,66.28800201416016,66.78533172607422,64.0566635131836,65.73200225830078,63.982666015625,67.29000091552734,71.98733520507812,74.64199829101562,80.57733154296875,91.43866729736328,92.65733337402344,91.05867004394531,92.9520034790039,102.97666931152344,99.80400085449219,101.12000274658203,103.06732940673828,100.04266357421875,100.05599975585938,109.53333282470703,104.55733489990234,106.15533447265625,100.87133026123047,94.46666717529297,102.63999938964844,98.43267059326172,99.94066619873047,99.16600036621094,95.38400268554688,99.0,99.13333129882812,99.00133514404297,99.30533599853516,96.84733581542969,94.57133483886719,91.6259994506836,103.65066528320312,108.06666564941406,110.04733276367188,122.3759994506836,125.80599975585938,125.23533630371094,133.45533752441406,136.6653289794922,134.27999877929688,134.8893280029297,143.54466247558594,149.25,147.55999755859375,166.10667419433594,158.35000610351562,149.1233367919922,135.6666717529297,139.44000244140625,110.06999969482422,122.09333038330078,123.77999877929688,124.23999786376953,139.8733367919922,149.9199981689453,147.25332641601562,141.14332580566406,147.38333129882812,149.79666137695312,141.41000366210938,126.78666687011719,129.26333618164062,135.77999877929688,140.39999389648438,139.69000244140625,143.00332641601562,149.3866729736328,138.3633270263672,141.89332580566406,137.9933319091797,141.76666259765625,141.97332763671875,144.6666717529297,147.43333435058594,148.88333129882812,153.76666259765625,149.6266632080078,146.55667114257812,143.61000061035156,140.64666748046875,140.8800048828125,141.92999267578125,140.2100067138672,140.0933380126953,141.55999755859375,135.33999633789062,136.94332885742188,129.34666442871094,133.50332641601562,141.3000030517578,140.32666015625,146.02999877929688,143.31666564941406,140.4199981689453,136.7866668701172,139.0433349609375,137.25332641601562,136.1666717529297,136.02999877929688,147.20333862304688,162.2133331298828,166.42333984375,163.20333862304688,173.9499969482422,185.1266632080078,191.3333282470703,195.25332641601562,189.1999969482422,194.9199981689453,189.60667419433594,197.7933349609375,199.67999267578125,213.9199981689453,216.6266632080078,201.4933319091797,209.02333068847656,203.3300018310547,213.27667236328125,211.0833282470703,207.58999633789062,218.63333129882812,231.6666717529297,216.6199951171875,213.44667053222656,215.32666015625,220.58999633789062,221.22999572753906,221.99667358398438,231.5933380126953,235.22332763671875,243.2566680908203,245.0366668701172,251.9933319091797,272.0133361816406,293.3399963378906,270.39666748046875,283.14666748046875,284.8033447265625,281.6666564941406,275.38665771484375,281.51666259765625,283.48333740234375,281.663330078125,282.21331787109375,293.6000061035156,294.36334228515625,288.0533447265625,278.4766540527344,264.510009765625,279.9366760253906,290.92999267578125,284.89666748046875,283.3299865722656,284.07666015625,287.8066711425781,283.1533203125,268.2733459472656,270.5533447265625,272.0400085449219,265.40667724609375,266.04998779296875,262.4599914550781,260.4333190917969,238.1666717529297,232.94667053222656,247.33999633789062,227.4066619873047,225.1666717529297,239.47666931152344,228.81333923339844,217.73333740234375,207.14666748046875,199.31666564941406,187.6666717529297,224.52667236328125,222.68666076660156,233.1999969482422,231.2433319091797,235.97999572753906,225.6266632080078,233.93666076660156,217.72000122070312,218.2899932861328,223.3333282470703,220.72000122070312,210.08999633789062,213.4633331298828,206.23666381835938,203.76333618164062,211.8733367919922,222.64332580566406,220.5833282470703,230.35000610351562,230.5399932861328,223.6566619873047,227.93333435058594,225.67333984375,233.9933319091797,254.10667419433594,244.07666015625,246.28334045410156,246.5933380126953,238.2100067138672,239.663330078125,248.0399932861328,239.89666748046875,243.13333129882812,246.06666564941406,234.913330078125,231.46665954589844,225.6666717529297,236.47999572753906,228.3000030517578,224.53334045410156,223.64666748046875,221.17999267578125,224.1233367919922,209.67999267578125,205.73333740234375,196.6300048828125,190.56333923339844,196.5800018310547,192.27667236328125,192.6233367919922,187.82000732421875,195.5933380126953,193.6266632080078,202.14666748046875,201.56333923339844,206.3766632080078,210.28334045410156,208.4066619873047,207.96665954589844,201.7066650390625,190.94667053222656,199.68333435058594,201.7100067138672,201.19667053222656,199.5933380126953,203.3733367919922,203.29666137695312,205.89666748046875],\"type\":\"scatter\",\"xaxis\":\"x\",\"yaxis\":\"y\"},{\"name\":\"Volume\",\"x\":[\"2020-01-02T00:00:00\",\"2020-01-03T00:00:00\",\"2020-01-06T00:00:00\",\"2020-01-07T00:00:00\",\"2020-01-08T00:00:00\",\"2020-01-09T00:00:00\",\"2020-01-10T00:00:00\",\"2020-01-13T00:00:00\",\"2020-01-14T00:00:00\",\"2020-01-15T00:00:00\",\"2020-01-16T00:00:00\",\"2020-01-17T00:00:00\",\"2020-01-21T00:00:00\",\"2020-01-22T00:00:00\",\"2020-01-23T00:00:00\",\"2020-01-24T00:00:00\",\"2020-01-27T00:00:00\",\"2020-01-28T00:00:00\",\"2020-01-29T00:00:00\",\"2020-01-30T00:00:00\",\"2020-01-31T00:00:00\",\"2020-02-03T00:00:00\",\"2020-02-04T00:00:00\",\"2020-02-05T00:00:00\",\"2020-02-06T00:00:00\",\"2020-02-07T00:00:00\",\"2020-02-10T00:00:00\",\"2020-02-11T00:00:00\",\"2020-02-12T00:00:00\",\"2020-02-13T00:00:00\",\"2020-02-14T00:00:00\",\"2020-02-18T00:00:00\",\"2020-02-19T00:00:00\",\"2020-02-20T00:00:00\",\"2020-02-21T00:00:00\",\"2020-02-24T00:00:00\",\"2020-02-25T00:00:00\",\"2020-02-26T00:00:00\",\"2020-02-27T00:00:00\",\"2020-02-28T00:00:00\",\"2020-03-02T00:00:00\",\"2020-03-03T00:00:00\",\"2020-03-04T00:00:00\",\"2020-03-05T00:00:00\",\"2020-03-06T00:00:00\",\"2020-03-09T00:00:00\",\"2020-03-10T00:00:00\",\"2020-03-11T00:00:00\",\"2020-03-12T00:00:00\",\"2020-03-13T00:00:00\",\"2020-03-16T00:00:00\",\"2020-03-17T00:00:00\",\"2020-03-18T00:00:00\",\"2020-03-19T00:00:00\",\"2020-03-20T00:00:00\",\"2020-03-23T00:00:00\",\"2020-03-24T00:00:00\",\"2020-03-25T00:00:00\",\"2020-03-26T00:00:00\",\"2020-03-27T00:00:00\",\"2020-03-30T00:00:00\",\"2020-03-31T00:00:00\",\"2020-04-01T00:00:00\",\"2020-04-02T00:00:00\",\"2020-04-03T00:00:00\",\"2020-04-06T00:00:00\",\"2020-04-07T00:00:00\",\"2020-04-08T00:00:00\",\"2020-04-09T00:00:00\",\"2020-04-13T00:00:00\",\"2020-04-14T00:00:00\",\"2020-04-15T00:00:00\",\"2020-04-16T00:00:00\",\"2020-04-17T00:00:00\",\"2020-04-20T00:00:00\",\"2020-04-21T00:00:00\",\"2020-04-22T00:00:00\",\"2020-04-23T00:00:00\",\"2020-04-24T00:00:00\",\"2020-04-27T00:00:00\",\"2020-04-28T00:00:00\",\"2020-04-29T00:00:00\",\"2020-04-30T00:00:00\",\"2020-05-01T00:00:00\",\"2020-05-04T00:00:00\",\"2020-05-05T00:00:00\",\"2020-05-06T00:00:00\",\"2020-05-07T00:00:00\",\"2020-05-08T00:00:00\",\"2020-05-11T00:00:00\",\"2020-05-12T00:00:00\",\"2020-05-13T00:00:00\",\"2020-05-14T00:00:00\",\"2020-05-15T00:00:00\",\"2020-05-18T00:00:00\",\"2020-05-19T00:00:00\",\"2020-05-20T00:00:00\",\"2020-05-21T00:00:00\",\"2020-05-22T00:00:00\",\"2020-05-26T00:00:00\",\"2020-05-27T00:00:00\",\"2020-05-28T00:00:00\",\"2020-05-29T00:00:00\",\"2020-06-01T00:00:00\",\"2020-06-02T00:00:00\",\"2020-06-03T00:00:00\",\"2020-06-04T00:00:00\",\"2020-06-05T00:00:00\",\"2020-06-08T00:00:00\",\"2020-06-09T00:00:00\",\"2020-06-10T00:00:00\",\"2020-06-11T00:00:00\",\"2020-06-12T00:00:00\",\"2020-06-15T00:00:00\",\"2020-06-16T00:00:00\",\"2020-06-17T00:00:00\",\"2020-06-18T00:00:00\",\"2020-06-19T00:00:00\",\"2020-06-22T00:00:00\",\"2020-06-23T00:00:00\",\"2020-06-24T00:00:00\",\"2020-06-25T00:00:00\",\"2020-06-26T00:00:00\",\"2020-06-29T00:00:00\",\"2020-06-30T00:00:00\",\"2020-07-01T00:00:00\",\"2020-07-02T00:00:00\",\"2020-07-06T00:00:00\",\"2020-07-07T00:00:00\",\"2020-07-08T00:00:00\",\"2020-07-09T00:00:00\",\"2020-07-10T00:00:00\",\"2020-07-13T00:00:00\",\"2020-07-14T00:00:00\",\"2020-07-15T00:00:00\",\"2020-07-16T00:00:00\",\"2020-07-17T00:00:00\",\"2020-07-20T00:00:00\",\"2020-07-21T00:00:00\",\"2020-07-22T00:00:00\",\"2020-07-23T00:00:00\",\"2020-07-24T00:00:00\",\"2020-07-27T00:00:00\",\"2020-07-28T00:00:00\",\"2020-07-29T00:00:00\",\"2020-07-30T00:00:00\",\"2020-07-31T00:00:00\",\"2020-08-03T00:00:00\",\"2020-08-04T00:00:00\",\"2020-08-05T00:00:00\",\"2020-08-06T00:00:00\",\"2020-08-07T00:00:00\",\"2020-08-10T00:00:00\",\"2020-08-11T00:00:00\",\"2020-08-12T00:00:00\",\"2020-08-13T00:00:00\",\"2020-08-14T00:00:00\",\"2020-08-17T00:00:00\",\"2020-08-18T00:00:00\",\"2020-08-19T00:00:00\",\"2020-08-20T00:00:00\",\"2020-08-21T00:00:00\",\"2020-08-24T00:00:00\",\"2020-08-25T00:00:00\",\"2020-08-26T00:00:00\",\"2020-08-27T00:00:00\",\"2020-08-28T00:00:00\",\"2020-08-31T00:00:00\",\"2020-09-01T00:00:00\",\"2020-09-02T00:00:00\",\"2020-09-03T00:00:00\",\"2020-09-04T00:00:00\",\"2020-09-08T00:00:00\",\"2020-09-09T00:00:00\",\"2020-09-10T00:00:00\",\"2020-09-11T00:00:00\",\"2020-09-14T00:00:00\",\"2020-09-15T00:00:00\",\"2020-09-16T00:00:00\",\"2020-09-17T00:00:00\",\"2020-09-18T00:00:00\",\"2020-09-21T00:00:00\",\"2020-09-22T00:00:00\",\"2020-09-23T00:00:00\",\"2020-09-24T00:00:00\",\"2020-09-25T00:00:00\",\"2020-09-28T00:00:00\",\"2020-09-29T00:00:00\",\"2020-09-30T00:00:00\",\"2020-10-01T00:00:00\",\"2020-10-02T00:00:00\",\"2020-10-05T00:00:00\",\"2020-10-06T00:00:00\",\"2020-10-07T00:00:00\",\"2020-10-08T00:00:00\",\"2020-10-09T00:00:00\",\"2020-10-12T00:00:00\",\"2020-10-13T00:00:00\",\"2020-10-14T00:00:00\",\"2020-10-15T00:00:00\",\"2020-10-16T00:00:00\",\"2020-10-19T00:00:00\",\"2020-10-20T00:00:00\",\"2020-10-21T00:00:00\",\"2020-10-22T00:00:00\",\"2020-10-23T00:00:00\",\"2020-10-26T00:00:00\",\"2020-10-27T00:00:00\",\"2020-10-28T00:00:00\",\"2020-10-29T00:00:00\",\"2020-10-30T00:00:00\",\"2020-11-02T00:00:00\",\"2020-11-03T00:00:00\",\"2020-11-04T00:00:00\",\"2020-11-05T00:00:00\",\"2020-11-06T00:00:00\",\"2020-11-09T00:00:00\",\"2020-11-10T00:00:00\",\"2020-11-11T00:00:00\",\"2020-11-12T00:00:00\",\"2020-11-13T00:00:00\",\"2020-11-16T00:00:00\",\"2020-11-17T00:00:00\",\"2020-11-18T00:00:00\",\"2020-11-19T00:00:00\",\"2020-11-20T00:00:00\",\"2020-11-23T00:00:00\",\"2020-11-24T00:00:00\",\"2020-11-25T00:00:00\",\"2020-11-27T00:00:00\",\"2020-11-30T00:00:00\",\"2020-12-01T00:00:00\",\"2020-12-02T00:00:00\",\"2020-12-03T00:00:00\",\"2020-12-04T00:00:00\",\"2020-12-07T00:00:00\",\"2020-12-08T00:00:00\",\"2020-12-09T00:00:00\",\"2020-12-10T00:00:00\",\"2020-12-11T00:00:00\",\"2020-12-14T00:00:00\",\"2020-12-15T00:00:00\",\"2020-12-16T00:00:00\",\"2020-12-17T00:00:00\",\"2020-12-18T00:00:00\",\"2020-12-21T00:00:00\",\"2020-12-22T00:00:00\",\"2020-12-23T00:00:00\",\"2020-12-24T00:00:00\",\"2020-12-28T00:00:00\",\"2020-12-29T00:00:00\",\"2020-12-30T00:00:00\",\"2020-12-31T00:00:00\",\"2021-01-04T00:00:00\",\"2021-01-05T00:00:00\",\"2021-01-06T00:00:00\",\"2021-01-07T00:00:00\",\"2021-01-08T00:00:00\",\"2021-01-11T00:00:00\",\"2021-01-12T00:00:00\",\"2021-01-13T00:00:00\",\"2021-01-14T00:00:00\",\"2021-01-15T00:00:00\",\"2021-01-19T00:00:00\",\"2021-01-20T00:00:00\",\"2021-01-21T00:00:00\",\"2021-01-22T00:00:00\",\"2021-01-25T00:00:00\",\"2021-01-26T00:00:00\",\"2021-01-27T00:00:00\",\"2021-01-28T00:00:00\",\"2021-01-29T00:00:00\",\"2021-02-01T00:00:00\",\"2021-02-02T00:00:00\",\"2021-02-03T00:00:00\",\"2021-02-04T00:00:00\",\"2021-02-05T00:00:00\",\"2021-02-08T00:00:00\",\"2021-02-09T00:00:00\",\"2021-02-10T00:00:00\",\"2021-02-11T00:00:00\",\"2021-02-12T00:00:00\",\"2021-02-16T00:00:00\",\"2021-02-17T00:00:00\",\"2021-02-18T00:00:00\",\"2021-02-19T00:00:00\",\"2021-02-22T00:00:00\",\"2021-02-23T00:00:00\",\"2021-02-24T00:00:00\",\"2021-02-25T00:00:00\",\"2021-02-26T00:00:00\",\"2021-03-01T00:00:00\",\"2021-03-02T00:00:00\",\"2021-03-03T00:00:00\",\"2021-03-04T00:00:00\",\"2021-03-05T00:00:00\",\"2021-03-08T00:00:00\",\"2021-03-09T00:00:00\",\"2021-03-10T00:00:00\",\"2021-03-11T00:00:00\",\"2021-03-12T00:00:00\",\"2021-03-15T00:00:00\",\"2021-03-16T00:00:00\",\"2021-03-17T00:00:00\",\"2021-03-18T00:00:00\",\"2021-03-19T00:00:00\",\"2021-03-22T00:00:00\",\"2021-03-23T00:00:00\",\"2021-03-24T00:00:00\",\"2021-03-25T00:00:00\",\"2021-03-26T00:00:00\",\"2021-03-29T00:00:00\",\"2021-03-30T00:00:00\",\"2021-03-31T00:00:00\",\"2021-04-01T00:00:00\",\"2021-04-05T00:00:00\",\"2021-04-06T00:00:00\",\"2021-04-07T00:00:00\",\"2021-04-08T00:00:00\",\"2021-04-09T00:00:00\",\"2021-04-12T00:00:00\",\"2021-04-13T00:00:00\",\"2021-04-14T00:00:00\",\"2021-04-15T00:00:00\",\"2021-04-16T00:00:00\",\"2021-04-19T00:00:00\",\"2021-04-20T00:00:00\",\"2021-04-21T00:00:00\",\"2021-04-22T00:00:00\",\"2021-04-23T00:00:00\",\"2021-04-26T00:00:00\",\"2021-04-27T00:00:00\",\"2021-04-28T00:00:00\",\"2021-04-29T00:00:00\",\"2021-04-30T00:00:00\"],\"y\":[142981500.0,266677500.0,151995000.0,268231500.0,467164500.0,426606000.0,194392500.0,397764000.0,434943000.0,260532000.0,326050500.0,204436500.0,267052500.0,470535000.0,294765000.0,215304000.0,204121500.0,176827500.0,267022500.0,435085500.0,235789500.0,705975000.0,914082000.0,726357000.0,598212000.0,255952500.0,370338000.0,175462500.0,180337500.0,394339500.0,235405500.0,245725500.0,381345000.0,264523500.0,214722000.0,227883000.0,259357500.0,211282500.0,364158000.0,363343500.0,302925000.0,386760000.0,225735000.0,162790500.0,189943500.0,256105500.0,233916000.0,199837500.0,283636500.0,339604500.0,307342500.0,359919000.0,356793000.0,452932500.0,424282500.0,246817500.0,343428000.0,318340500.0,260710500.0,215661000.0,179971500.0,266572500.0,200298000.0,297876000.0,338431500.0,223527000.0,268797000.0,189840000.0,204750000.0,337131000.0,458647500.0,353655000.0,309868500.0,196923000.0,221199000.0,303136500.0,212482500.0,198550500.0,198180000.0,310221000.0,228330000.0,243240000.0,427078500.0,487977000.0,288556500.0,254875500.0,166848000.0,172915500.0,241297500.0,247794000.0,238603500.0,285982500.0,205233000.0,157776000.0,174987000.0,144547500.0,109639500.0,183819000.0,149812500.0,121345500.0,173242500.0,108834000.0,176467500.0,224092500.0,203484000.0,119242500.0,133315500.0,117178500.0,212620500.0,170823000.0,278451000.0,238747500.0,251451000.0,235458000.0,210766500.0,148362000.0,146278500.0,130195500.0,95436000.0,95479500.0,164394000.0,138817500.0,132823500.0,135396000.0,253777500.0,199903500.0,258751500.0,308548500.0,322345500.0,244669500.0,175764000.0,350064000.0,584781000.0,351271500.0,245517000.0,214512000.0,139950000.0,256821000.0,241608000.0,212416500.0,364927500.0,290949000.0,240730500.0,237130500.0,141403500.0,114315000.0,183123000.0,132139500.0,126225000.0,74217000.0,89884500.0,133446000.0,112834500.0,129387000.0,327441000.0,306379500.0,188664000.0,303634500.0,247117500.0,183079500.0,309177000.0,322344000.0,300954000.0,159883500.0,213591000.0,355395000.0,301218000.0,355123200.0,269523300.0,288528300.0,262788300.0,330965700.0,346397100.0,238397400.0,254791800.0,182152500.0,249061800.0,291894600.0,216837900.0,230337600.0,259220400.0,328430400.0,238742400.0,285222600.0,289683300.0,201625500.0,149158800.0,150657900.0,144436800.0,152224500.0,214290000.0,134168400.0,147438900.0,129383100.0,121263300.0,86777100.0,116373300.0,103391100.0,143639100.0,107017200.0,98327700.0,108863400.0,94968900.0,97111500.0,119979600.0,101151000.0,84717600.0,68059500.0,76354200.0,67965900.0,127533900.0,87063300.0,103055100.0,96429300.0,85243500.0,65118000.0,104499000.0,90852600.0,52073100.0,59565300.0,59313300.0,80515800.0,183564900.0,234132000.0,187425900.0,98735700.0,150780900.0,160945500.0,146790600.0,112683300.0,189009300.0,120310500.0,143327100.0,127656000.0,88203900.0,168929100.0,192795000.0,213873600.0,201249600.0,139425000.0,156121800.0,135214500.0,126287400.0,168810300.0,666378600.0,174135900.0,155148000.0,99519000.0,68596800.0,96835800.0,68732400.0,128538000.0,148949700.0,145914600.0,96735600.0,134100000.0,154496700.0,225166500.0,177904800.0,138812100.0,99937500.0,93798900.0,116332800.0,76101000.0,76997700.0,61563300.0,60199500.0,123520200.0,69394800.0,82002000.0,79134000.0,104972400.0,76174200.0,73038600.0,55030500.0,47438100.0,55699800.0,60485100.0,45473100.0,108648300.0,64868400.0,71304900.0,59406900.0,77989500.0,53871300.0,56874900.0,111809100.0,199820700.0,110301000.0,117071700.0,123267600.0,81408600.0,71196600.0,90624000.0,197758500.0,268189500.0,155361000.0,202569900.0,181817100.0,108761700.0,100751400.0,88006800.0,96587100.0,121117500.0,99674400.0,128682000.0,118536600.0,91475700.0,101385600.0,117674700.0,101558400.0,85911000.0,118297200.0,100011900.0,105895200.0,125528400.0,84815400.0,78928200.0,71772900.0,64311300.0,87407100.0,133958400.0,147052200.0,83546700.0,83938500.0,119058600.0,106827000.0,93646500.0,106770900.0,85110000.0,93115500.0,88311000.0,66813000.0,86536200.0,122276100.0],\"type\":\"scatter\",\"xaxis\":\"x2\",\"yaxis\":\"y2\"}],                        {\"template\":{\"data\":{\"histogram2dcontour\":[{\"type\":\"histogram2dcontour\",\"colorbar\":{\"outlinewidth\":0,\"ticks\":\"\"},\"colorscale\":[[0.0,\"#0d0887\"],[0.1111111111111111,\"#46039f\"],[0.2222222222222222,\"#7201a8\"],[0.3333333333333333,\"#9c179e\"],[0.4444444444444444,\"#bd3786\"],[0.5555555555555556,\"#d8576b\"],[0.6666666666666666,\"#ed7953\"],[0.7777777777777778,\"#fb9f3a\"],[0.8888888888888888,\"#fdca26\"],[1.0,\"#f0f921\"]]}],\"choropleth\":[{\"type\":\"choropleth\",\"colorbar\":{\"outlinewidth\":0,\"ticks\":\"\"}}],\"histogram2d\":[{\"type\":\"histogram2d\",\"colorbar\":{\"outlinewidth\":0,\"ticks\":\"\"},\"colorscale\":[[0.0,\"#0d0887\"],[0.1111111111111111,\"#46039f\"],[0.2222222222222222,\"#7201a8\"],[0.3333333333333333,\"#9c179e\"],[0.4444444444444444,\"#bd3786\"],[0.5555555555555556,\"#d8576b\"],[0.6666666666666666,\"#ed7953\"],[0.7777777777777778,\"#fb9f3a\"],[0.8888888888888888,\"#fdca26\"],[1.0,\"#f0f921\"]]}],\"heatmap\":[{\"type\":\"heatmap\",\"colorbar\":{\"outlinewidth\":0,\"ticks\":\"\"},\"colorscale\":[[0.0,\"#0d0887\"],[0.1111111111111111,\"#46039f\"],[0.2222222222222222,\"#7201a8\"],[0.3333333333333333,\"#9c179e\"],[0.4444444444444444,\"#bd3786\"],[0.5555555555555556,\"#d8576b\"],[0.6666666666666666,\"#ed7953\"],[0.7777777777777778,\"#fb9f3a\"],[0.8888888888888888,\"#fdca26\"],[1.0,\"#f0f921\"]]}],\"heatmapgl\":[{\"type\":\"heatmapgl\",\"colorbar\":{\"outlinewidth\":0,\"ticks\":\"\"},\"colorscale\":[[0.0,\"#0d0887\"],[0.1111111111111111,\"#46039f\"],[0.2222222222222222,\"#7201a8\"],[0.3333333333333333,\"#9c179e\"],[0.4444444444444444,\"#bd3786\"],[0.5555555555555556,\"#d8576b\"],[0.6666666666666666,\"#ed7953\"],[0.7777777777777778,\"#fb9f3a\"],[0.8888888888888888,\"#fdca26\"],[1.0,\"#f0f921\"]]}],\"contourcarpet\":[{\"type\":\"contourcarpet\",\"colorbar\":{\"outlinewidth\":0,\"ticks\":\"\"}}],\"contour\":[{\"type\":\"contour\",\"colorbar\":{\"outlinewidth\":0,\"ticks\":\"\"},\"colorscale\":[[0.0,\"#0d0887\"],[0.1111111111111111,\"#46039f\"],[0.2222222222222222,\"#7201a8\"],[0.3333333333333333,\"#9c179e\"],[0.4444444444444444,\"#bd3786\"],[0.5555555555555556,\"#d8576b\"],[0.6666666666666666,\"#ed7953\"],[0.7777777777777778,\"#fb9f3a\"],[0.8888888888888888,\"#fdca26\"],[1.0,\"#f0f921\"]]}],\"surface\":[{\"type\":\"surface\",\"colorbar\":{\"outlinewidth\":0,\"ticks\":\"\"},\"colorscale\":[[0.0,\"#0d0887\"],[0.1111111111111111,\"#46039f\"],[0.2222222222222222,\"#7201a8\"],[0.3333333333333333,\"#9c179e\"],[0.4444444444444444,\"#bd3786\"],[0.5555555555555556,\"#d8576b\"],[0.6666666666666666,\"#ed7953\"],[0.7777777777777778,\"#fb9f3a\"],[0.8888888888888888,\"#fdca26\"],[1.0,\"#f0f921\"]]}],\"mesh3d\":[{\"type\":\"mesh3d\",\"colorbar\":{\"outlinewidth\":0,\"ticks\":\"\"}}],\"scatter\":[{\"fillpattern\":{\"fillmode\":\"overlay\",\"size\":10,\"solidity\":0.2},\"type\":\"scatter\"}],\"parcoords\":[{\"type\":\"parcoords\",\"line\":{\"colorbar\":{\"outlinewidth\":0,\"ticks\":\"\"}}}],\"scatterpolargl\":[{\"type\":\"scatterpolargl\",\"marker\":{\"colorbar\":{\"outlinewidth\":0,\"ticks\":\"\"}}}],\"bar\":[{\"error_x\":{\"color\":\"#2a3f5f\"},\"error_y\":{\"color\":\"#2a3f5f\"},\"marker\":{\"line\":{\"color\":\"#E5ECF6\",\"width\":0.5},\"pattern\":{\"fillmode\":\"overlay\",\"size\":10,\"solidity\":0.2}},\"type\":\"bar\"}],\"scattergeo\":[{\"type\":\"scattergeo\",\"marker\":{\"colorbar\":{\"outlinewidth\":0,\"ticks\":\"\"}}}],\"scatterpolar\":[{\"type\":\"scatterpolar\",\"marker\":{\"colorbar\":{\"outlinewidth\":0,\"ticks\":\"\"}}}],\"histogram\":[{\"marker\":{\"pattern\":{\"fillmode\":\"overlay\",\"size\":10,\"solidity\":0.2}},\"type\":\"histogram\"}],\"scattergl\":[{\"type\":\"scattergl\",\"marker\":{\"colorbar\":{\"outlinewidth\":0,\"ticks\":\"\"}}}],\"scatter3d\":[{\"type\":\"scatter3d\",\"line\":{\"colorbar\":{\"outlinewidth\":0,\"ticks\":\"\"}},\"marker\":{\"colorbar\":{\"outlinewidth\":0,\"ticks\":\"\"}}}],\"scattermapbox\":[{\"type\":\"scattermapbox\",\"marker\":{\"colorbar\":{\"outlinewidth\":0,\"ticks\":\"\"}}}],\"scatterternary\":[{\"type\":\"scatterternary\",\"marker\":{\"colorbar\":{\"outlinewidth\":0,\"ticks\":\"\"}}}],\"scattercarpet\":[{\"type\":\"scattercarpet\",\"marker\":{\"colorbar\":{\"outlinewidth\":0,\"ticks\":\"\"}}}],\"carpet\":[{\"aaxis\":{\"endlinecolor\":\"#2a3f5f\",\"gridcolor\":\"white\",\"linecolor\":\"white\",\"minorgridcolor\":\"white\",\"startlinecolor\":\"#2a3f5f\"},\"baxis\":{\"endlinecolor\":\"#2a3f5f\",\"gridcolor\":\"white\",\"linecolor\":\"white\",\"minorgridcolor\":\"white\",\"startlinecolor\":\"#2a3f5f\"},\"type\":\"carpet\"}],\"table\":[{\"cells\":{\"fill\":{\"color\":\"#EBF0F8\"},\"line\":{\"color\":\"white\"}},\"header\":{\"fill\":{\"color\":\"#C8D4E3\"},\"line\":{\"color\":\"white\"}},\"type\":\"table\"}],\"barpolar\":[{\"marker\":{\"line\":{\"color\":\"#E5ECF6\",\"width\":0.5},\"pattern\":{\"fillmode\":\"overlay\",\"size\":10,\"solidity\":0.2}},\"type\":\"barpolar\"}],\"pie\":[{\"automargin\":true,\"type\":\"pie\"}]},\"layout\":{\"autotypenumbers\":\"strict\",\"colorway\":[\"#636efa\",\"#EF553B\",\"#00cc96\",\"#ab63fa\",\"#FFA15A\",\"#19d3f3\",\"#FF6692\",\"#B6E880\",\"#FF97FF\",\"#FECB52\"],\"font\":{\"color\":\"#2a3f5f\"},\"hovermode\":\"closest\",\"hoverlabel\":{\"align\":\"left\"},\"paper_bgcolor\":\"white\",\"plot_bgcolor\":\"#E5ECF6\",\"polar\":{\"bgcolor\":\"#E5ECF6\",\"angularaxis\":{\"gridcolor\":\"white\",\"linecolor\":\"white\",\"ticks\":\"\"},\"radialaxis\":{\"gridcolor\":\"white\",\"linecolor\":\"white\",\"ticks\":\"\"}},\"ternary\":{\"bgcolor\":\"#E5ECF6\",\"aaxis\":{\"gridcolor\":\"white\",\"linecolor\":\"white\",\"ticks\":\"\"},\"baxis\":{\"gridcolor\":\"white\",\"linecolor\":\"white\",\"ticks\":\"\"},\"caxis\":{\"gridcolor\":\"white\",\"linecolor\":\"white\",\"ticks\":\"\"}},\"coloraxis\":{\"colorbar\":{\"outlinewidth\":0,\"ticks\":\"\"}},\"colorscale\":{\"sequential\":[[0.0,\"#0d0887\"],[0.1111111111111111,\"#46039f\"],[0.2222222222222222,\"#7201a8\"],[0.3333333333333333,\"#9c179e\"],[0.4444444444444444,\"#bd3786\"],[0.5555555555555556,\"#d8576b\"],[0.6666666666666666,\"#ed7953\"],[0.7777777777777778,\"#fb9f3a\"],[0.8888888888888888,\"#fdca26\"],[1.0,\"#f0f921\"]],\"sequentialminus\":[[0.0,\"#0d0887\"],[0.1111111111111111,\"#46039f\"],[0.2222222222222222,\"#7201a8\"],[0.3333333333333333,\"#9c179e\"],[0.4444444444444444,\"#bd3786\"],[0.5555555555555556,\"#d8576b\"],[0.6666666666666666,\"#ed7953\"],[0.7777777777777778,\"#fb9f3a\"],[0.8888888888888888,\"#fdca26\"],[1.0,\"#f0f921\"]],\"diverging\":[[0,\"#8e0152\"],[0.1,\"#c51b7d\"],[0.2,\"#de77ae\"],[0.3,\"#f1b6da\"],[0.4,\"#fde0ef\"],[0.5,\"#f7f7f7\"],[0.6,\"#e6f5d0\"],[0.7,\"#b8e186\"],[0.8,\"#7fbc41\"],[0.9,\"#4d9221\"],[1,\"#276419\"]]},\"xaxis\":{\"gridcolor\":\"white\",\"linecolor\":\"white\",\"ticks\":\"\",\"title\":{\"standoff\":15},\"zerolinecolor\":\"white\",\"automargin\":true,\"zerolinewidth\":2},\"yaxis\":{\"gridcolor\":\"white\",\"linecolor\":\"white\",\"ticks\":\"\",\"title\":{\"standoff\":15},\"zerolinecolor\":\"white\",\"automargin\":true,\"zerolinewidth\":2},\"scene\":{\"xaxis\":{\"backgroundcolor\":\"#E5ECF6\",\"gridcolor\":\"white\",\"linecolor\":\"white\",\"showbackground\":true,\"ticks\":\"\",\"zerolinecolor\":\"white\",\"gridwidth\":2},\"yaxis\":{\"backgroundcolor\":\"#E5ECF6\",\"gridcolor\":\"white\",\"linecolor\":\"white\",\"showbackground\":true,\"ticks\":\"\",\"zerolinecolor\":\"white\",\"gridwidth\":2},\"zaxis\":{\"backgroundcolor\":\"#E5ECF6\",\"gridcolor\":\"white\",\"linecolor\":\"white\",\"showbackground\":true,\"ticks\":\"\",\"zerolinecolor\":\"white\",\"gridwidth\":2}},\"shapedefaults\":{\"line\":{\"color\":\"#2a3f5f\"}},\"annotationdefaults\":{\"arrowcolor\":\"#2a3f5f\",\"arrowhead\":0,\"arrowwidth\":1},\"geo\":{\"bgcolor\":\"white\",\"landcolor\":\"#E5ECF6\",\"subunitcolor\":\"white\",\"showland\":true,\"showlakes\":true,\"lakecolor\":\"white\"},\"title\":{\"x\":0.05},\"mapbox\":{\"style\":\"light\"}}},\"xaxis\":{\"anchor\":\"y\",\"domain\":[0.0,1.0],\"matches\":\"x2\",\"showticklabels\":false,\"title\":{\"text\":\"Date\"},\"rangeslider\":{\"visible\":true}},\"yaxis\":{\"anchor\":\"x\",\"domain\":[0.6499999999999999,0.9999999999999999],\"title\":{\"text\":\"Price ($US)\"}},\"xaxis2\":{\"anchor\":\"y2\",\"domain\":[0.0,1.0],\"title\":{\"text\":\"Date\"}},\"yaxis2\":{\"anchor\":\"x2\",\"domain\":[0.0,0.35],\"title\":{\"text\":\"Revenue ($US Millions)\"}},\"annotations\":[{\"font\":{\"size\":16},\"showarrow\":false,\"text\":\"Historical Share Price\",\"x\":0.5,\"xanchor\":\"center\",\"xref\":\"paper\",\"y\":0.9999999999999999,\"yanchor\":\"bottom\",\"yref\":\"paper\"},{\"font\":{\"size\":16},\"showarrow\":false,\"text\":\"Historical Revenue\",\"x\":0.5,\"xanchor\":\"center\",\"xref\":\"paper\",\"y\":0.35,\"yanchor\":\"bottom\",\"yref\":\"paper\"}],\"showlegend\":false,\"height\":900,\"title\":{\"text\":\"TSLA\"}},                        {\"responsive\": true}                    ).then(function(){\n",
       "                            \n",
       "var gd = document.getElementById('3730cdf4-9270-4792-af13-9e48bc64fda3');\n",
       "var x = new MutationObserver(function (mutations, observer) {{\n",
       "        var display = window.getComputedStyle(gd).display;\n",
       "        if (!display || display === 'none') {{\n",
       "            console.log([gd, 'removed!']);\n",
       "            Plotly.purge(gd);\n",
       "            observer.disconnect();\n",
       "        }}\n",
       "}});\n",
       "\n",
       "// Listen for the removal of the full notebook cells\n",
       "var notebookContainer = gd.closest('#notebook-container');\n",
       "if (notebookContainer) {{\n",
       "    x.observe(notebookContainer, {childList: true});\n",
       "}}\n",
       "\n",
       "// Listen for the clearing of the current output cell\n",
       "var outputEl = gd.closest('.output');\n",
       "if (outputEl) {{\n",
       "    x.observe(outputEl, {childList: true});\n",
       "}}\n",
       "\n",
       "                        })                };                });            </script>        </div>"
      ]
     },
     "metadata": {},
     "output_type": "display_data"
    }
   ],
   "source": [
    "Tesla_data = yf.download(\"TSLA\", start=\"2020-01-01\", end=\"2021-09-30\", progress=False)\n",
    "tesla_revenue = yf.download(\"TSLA\", start=\"2020-01-01\", end=\"2021-09-30\", progress=False)\n",
    "Tesla_data.reset_index(inplace=True)\n",
    "tesla_revenue.reset_index(inplace=True)\n",
    "\n",
    "def make_graph(Tesla_data, tesla_revenue, stock):\n",
    "    fig = make_subplots(rows=2, cols=1, \n",
    "                        shared_xaxes=True, \n",
    "                        subplot_titles=(\"Historical Share Price\", \"Historical Revenue\"), \n",
    "                        vertical_spacing=.3)\n",
    "    \n",
    "    Tesla_data_specific = Tesla_data[stock_data.Date <= '2021-06-14']\n",
    "    tesla_revenue_specific = tesla_revenue[revenue_data.Date <= '2021-04-30']\n",
    "    \n",
    "    fig.add_trace(go.Scatter(\n",
    "        x=pd.to_datetime(Tesla_data_specific.Date, infer_datetime_format=True),\n",
    "        y=Tesla_data_specific.Close.astype(\"float\"), name=\"Share Price\"), row=1, col=1)\n",
    "    \n",
    "    fig.add_trace(go.Scatter(x=pd.to_datetime(tesla_revenue_specific.Date, infer_datetime_format=True), \n",
    "                             y=tesla_revenue_specific.Volume.astype(\"float\"),\n",
    "                             name=\"Volume\"), row=2, col=1)\n",
    "    \n",
    "    fig.update_xaxes(title_text=\"Date\", row=1, col=1)\n",
    "    fig.update_xaxes(title_text=\"Date\", row=2, col=1)\n",
    "    fig.update_yaxes(title_text=\"Price ($US)\", row=1, col=1)\n",
    "    fig.update_yaxes(title_text=\"Revenue ($US Millions)\", row=2, col=1)\n",
    "    \n",
    "    fig.update_layout(showlegend=False,\n",
    "                      height=900,\n",
    "                      title=stock,\n",
    "                      xaxis_rangeslider_visible=True)\n",
    "    \n",
    "    fig.show()\n",
    "    \n",
    "make_graph(Tesla_data, tesla_revenue, 'TSLA')"
   ]
  },
  {
   "cell_type": "markdown",
   "metadata": {},
   "source": [
    "## Question 6: Plot GameStop Stock Graph\n"
   ]
  },
  {
   "cell_type": "markdown",
   "metadata": {},
   "source": [
    "Use the `make_graph` function to graph the GameStop Stock Data, also provide a title for the graph. The structure to call the `make_graph` function is `make_graph(gme_data, gme_revenue, 'GameStop')`. Note the graph will only show data upto June 2021.\n"
   ]
  },
  {
   "cell_type": "code",
   "execution_count": 105,
   "metadata": {
    "tags": []
   },
   "outputs": [
    {
     "data": {
      "application/vnd.plotly.v1+json": {
       "config": {
        "plotlyServerURL": "https://plot.ly"
       },
       "data": [
        {
         "name": "Share Price",
         "type": "scatter",
         "x": [
          "2020-01-02T00:00:00",
          "2020-01-03T00:00:00",
          "2020-01-06T00:00:00",
          "2020-01-07T00:00:00",
          "2020-01-08T00:00:00",
          "2020-01-09T00:00:00",
          "2020-01-10T00:00:00",
          "2020-01-13T00:00:00",
          "2020-01-14T00:00:00",
          "2020-01-15T00:00:00",
          "2020-01-16T00:00:00",
          "2020-01-17T00:00:00",
          "2020-01-21T00:00:00",
          "2020-01-22T00:00:00",
          "2020-01-23T00:00:00",
          "2020-01-24T00:00:00",
          "2020-01-27T00:00:00",
          "2020-01-28T00:00:00",
          "2020-01-29T00:00:00",
          "2020-01-30T00:00:00",
          "2020-01-31T00:00:00",
          "2020-02-03T00:00:00",
          "2020-02-04T00:00:00",
          "2020-02-05T00:00:00",
          "2020-02-06T00:00:00",
          "2020-02-07T00:00:00",
          "2020-02-10T00:00:00",
          "2020-02-11T00:00:00",
          "2020-02-12T00:00:00",
          "2020-02-13T00:00:00",
          "2020-02-14T00:00:00",
          "2020-02-18T00:00:00",
          "2020-02-19T00:00:00",
          "2020-02-20T00:00:00",
          "2020-02-21T00:00:00",
          "2020-02-24T00:00:00",
          "2020-02-25T00:00:00",
          "2020-02-26T00:00:00",
          "2020-02-27T00:00:00",
          "2020-02-28T00:00:00",
          "2020-03-02T00:00:00",
          "2020-03-03T00:00:00",
          "2020-03-04T00:00:00",
          "2020-03-05T00:00:00",
          "2020-03-06T00:00:00",
          "2020-03-09T00:00:00",
          "2020-03-10T00:00:00",
          "2020-03-11T00:00:00",
          "2020-03-12T00:00:00",
          "2020-03-13T00:00:00",
          "2020-03-16T00:00:00",
          "2020-03-17T00:00:00",
          "2020-03-18T00:00:00",
          "2020-03-19T00:00:00",
          "2020-03-20T00:00:00",
          "2020-03-23T00:00:00",
          "2020-03-24T00:00:00",
          "2020-03-25T00:00:00",
          "2020-03-26T00:00:00",
          "2020-03-27T00:00:00",
          "2020-03-30T00:00:00",
          "2020-03-31T00:00:00",
          "2020-04-01T00:00:00",
          "2020-04-02T00:00:00",
          "2020-04-03T00:00:00",
          "2020-04-06T00:00:00",
          "2020-04-07T00:00:00",
          "2020-04-08T00:00:00",
          "2020-04-09T00:00:00",
          "2020-04-13T00:00:00",
          "2020-04-14T00:00:00",
          "2020-04-15T00:00:00",
          "2020-04-16T00:00:00",
          "2020-04-17T00:00:00",
          "2020-04-20T00:00:00",
          "2020-04-21T00:00:00",
          "2020-04-22T00:00:00",
          "2020-04-23T00:00:00",
          "2020-04-24T00:00:00",
          "2020-04-27T00:00:00",
          "2020-04-28T00:00:00",
          "2020-04-29T00:00:00",
          "2020-04-30T00:00:00",
          "2020-05-01T00:00:00",
          "2020-05-04T00:00:00",
          "2020-05-05T00:00:00",
          "2020-05-06T00:00:00",
          "2020-05-07T00:00:00",
          "2020-05-08T00:00:00",
          "2020-05-11T00:00:00",
          "2020-05-12T00:00:00",
          "2020-05-13T00:00:00",
          "2020-05-14T00:00:00",
          "2020-05-15T00:00:00",
          "2020-05-18T00:00:00",
          "2020-05-19T00:00:00",
          "2020-05-20T00:00:00",
          "2020-05-21T00:00:00",
          "2020-05-22T00:00:00",
          "2020-05-26T00:00:00",
          "2020-05-27T00:00:00",
          "2020-05-28T00:00:00",
          "2020-05-29T00:00:00",
          "2020-06-01T00:00:00",
          "2020-06-02T00:00:00",
          "2020-06-03T00:00:00",
          "2020-06-04T00:00:00",
          "2020-06-05T00:00:00",
          "2020-06-08T00:00:00",
          "2020-06-09T00:00:00",
          "2020-06-10T00:00:00",
          "2020-06-11T00:00:00",
          "2020-06-12T00:00:00",
          "2020-06-15T00:00:00",
          "2020-06-16T00:00:00",
          "2020-06-17T00:00:00",
          "2020-06-18T00:00:00",
          "2020-06-19T00:00:00",
          "2020-06-22T00:00:00",
          "2020-06-23T00:00:00",
          "2020-06-24T00:00:00",
          "2020-06-25T00:00:00",
          "2020-06-26T00:00:00",
          "2020-06-29T00:00:00",
          "2020-06-30T00:00:00",
          "2020-07-01T00:00:00",
          "2020-07-02T00:00:00",
          "2020-07-06T00:00:00",
          "2020-07-07T00:00:00",
          "2020-07-08T00:00:00",
          "2020-07-09T00:00:00",
          "2020-07-10T00:00:00",
          "2020-07-13T00:00:00",
          "2020-07-14T00:00:00",
          "2020-07-15T00:00:00",
          "2020-07-16T00:00:00",
          "2020-07-17T00:00:00",
          "2020-07-20T00:00:00",
          "2020-07-21T00:00:00",
          "2020-07-22T00:00:00",
          "2020-07-23T00:00:00",
          "2020-07-24T00:00:00",
          "2020-07-27T00:00:00",
          "2020-07-28T00:00:00",
          "2020-07-29T00:00:00",
          "2020-07-30T00:00:00",
          "2020-07-31T00:00:00",
          "2020-08-03T00:00:00",
          "2020-08-04T00:00:00",
          "2020-08-05T00:00:00",
          "2020-08-06T00:00:00",
          "2020-08-07T00:00:00",
          "2020-08-10T00:00:00",
          "2020-08-11T00:00:00",
          "2020-08-12T00:00:00",
          "2020-08-13T00:00:00",
          "2020-08-14T00:00:00",
          "2020-08-17T00:00:00",
          "2020-08-18T00:00:00",
          "2020-08-19T00:00:00",
          "2020-08-20T00:00:00",
          "2020-08-21T00:00:00",
          "2020-08-24T00:00:00",
          "2020-08-25T00:00:00",
          "2020-08-26T00:00:00",
          "2020-08-27T00:00:00",
          "2020-08-28T00:00:00",
          "2020-08-31T00:00:00",
          "2020-09-01T00:00:00",
          "2020-09-02T00:00:00",
          "2020-09-03T00:00:00",
          "2020-09-04T00:00:00",
          "2020-09-08T00:00:00",
          "2020-09-09T00:00:00",
          "2020-09-10T00:00:00",
          "2020-09-11T00:00:00",
          "2020-09-14T00:00:00",
          "2020-09-15T00:00:00",
          "2020-09-16T00:00:00",
          "2020-09-17T00:00:00",
          "2020-09-18T00:00:00",
          "2020-09-21T00:00:00",
          "2020-09-22T00:00:00",
          "2020-09-23T00:00:00",
          "2020-09-24T00:00:00",
          "2020-09-25T00:00:00",
          "2020-09-28T00:00:00",
          "2020-09-29T00:00:00",
          "2020-09-30T00:00:00",
          "2020-10-01T00:00:00",
          "2020-10-02T00:00:00",
          "2020-10-05T00:00:00",
          "2020-10-06T00:00:00",
          "2020-10-07T00:00:00",
          "2020-10-08T00:00:00",
          "2020-10-09T00:00:00",
          "2020-10-12T00:00:00",
          "2020-10-13T00:00:00",
          "2020-10-14T00:00:00",
          "2020-10-15T00:00:00",
          "2020-10-16T00:00:00",
          "2020-10-19T00:00:00",
          "2020-10-20T00:00:00",
          "2020-10-21T00:00:00",
          "2020-10-22T00:00:00",
          "2020-10-23T00:00:00",
          "2020-10-26T00:00:00",
          "2020-10-27T00:00:00",
          "2020-10-28T00:00:00",
          "2020-10-29T00:00:00",
          "2020-10-30T00:00:00",
          "2020-11-02T00:00:00",
          "2020-11-03T00:00:00",
          "2020-11-04T00:00:00",
          "2020-11-05T00:00:00",
          "2020-11-06T00:00:00",
          "2020-11-09T00:00:00",
          "2020-11-10T00:00:00",
          "2020-11-11T00:00:00",
          "2020-11-12T00:00:00",
          "2020-11-13T00:00:00",
          "2020-11-16T00:00:00",
          "2020-11-17T00:00:00",
          "2020-11-18T00:00:00",
          "2020-11-19T00:00:00",
          "2020-11-20T00:00:00",
          "2020-11-23T00:00:00",
          "2020-11-24T00:00:00",
          "2020-11-25T00:00:00",
          "2020-11-27T00:00:00",
          "2020-11-30T00:00:00",
          "2020-12-01T00:00:00",
          "2020-12-02T00:00:00",
          "2020-12-03T00:00:00",
          "2020-12-04T00:00:00",
          "2020-12-07T00:00:00",
          "2020-12-08T00:00:00",
          "2020-12-09T00:00:00",
          "2020-12-10T00:00:00",
          "2020-12-11T00:00:00",
          "2020-12-14T00:00:00",
          "2020-12-15T00:00:00",
          "2020-12-16T00:00:00",
          "2020-12-17T00:00:00",
          "2020-12-18T00:00:00",
          "2020-12-21T00:00:00",
          "2020-12-22T00:00:00",
          "2020-12-23T00:00:00",
          "2020-12-24T00:00:00",
          "2020-12-28T00:00:00",
          "2020-12-29T00:00:00",
          "2020-12-30T00:00:00",
          "2020-12-31T00:00:00",
          "2021-01-04T00:00:00",
          "2021-01-05T00:00:00",
          "2021-01-06T00:00:00",
          "2021-01-07T00:00:00",
          "2021-01-08T00:00:00",
          "2021-01-11T00:00:00",
          "2021-01-12T00:00:00",
          "2021-01-13T00:00:00",
          "2021-01-14T00:00:00",
          "2021-01-15T00:00:00",
          "2021-01-19T00:00:00",
          "2021-01-20T00:00:00",
          "2021-01-21T00:00:00",
          "2021-01-22T00:00:00",
          "2021-01-25T00:00:00",
          "2021-01-26T00:00:00",
          "2021-01-27T00:00:00",
          "2021-01-28T00:00:00",
          "2021-01-29T00:00:00",
          "2021-02-01T00:00:00",
          "2021-02-02T00:00:00",
          "2021-02-03T00:00:00",
          "2021-02-04T00:00:00",
          "2021-02-05T00:00:00",
          "2021-02-08T00:00:00",
          "2021-02-09T00:00:00",
          "2021-02-10T00:00:00",
          "2021-02-11T00:00:00",
          "2021-02-12T00:00:00",
          "2021-02-16T00:00:00",
          "2021-02-17T00:00:00",
          "2021-02-18T00:00:00",
          "2021-02-19T00:00:00",
          "2021-02-22T00:00:00",
          "2021-02-23T00:00:00",
          "2021-02-24T00:00:00",
          "2021-02-25T00:00:00",
          "2021-02-26T00:00:00",
          "2021-03-01T00:00:00",
          "2021-03-02T00:00:00",
          "2021-03-03T00:00:00",
          "2021-03-04T00:00:00",
          "2021-03-05T00:00:00",
          "2021-03-08T00:00:00",
          "2021-03-09T00:00:00",
          "2021-03-10T00:00:00",
          "2021-03-11T00:00:00",
          "2021-03-12T00:00:00",
          "2021-03-15T00:00:00",
          "2021-03-16T00:00:00",
          "2021-03-17T00:00:00",
          "2021-03-18T00:00:00",
          "2021-03-19T00:00:00",
          "2021-03-22T00:00:00",
          "2021-03-23T00:00:00",
          "2021-03-24T00:00:00",
          "2021-03-25T00:00:00",
          "2021-03-26T00:00:00",
          "2021-03-29T00:00:00",
          "2021-03-30T00:00:00",
          "2021-03-31T00:00:00",
          "2021-04-01T00:00:00",
          "2021-04-05T00:00:00",
          "2021-04-06T00:00:00",
          "2021-04-07T00:00:00",
          "2021-04-08T00:00:00",
          "2021-04-09T00:00:00",
          "2021-04-12T00:00:00",
          "2021-04-13T00:00:00",
          "2021-04-14T00:00:00",
          "2021-04-15T00:00:00",
          "2021-04-16T00:00:00",
          "2021-04-19T00:00:00",
          "2021-04-20T00:00:00",
          "2021-04-21T00:00:00",
          "2021-04-22T00:00:00",
          "2021-04-23T00:00:00",
          "2021-04-26T00:00:00",
          "2021-04-27T00:00:00",
          "2021-04-28T00:00:00",
          "2021-04-29T00:00:00",
          "2021-04-30T00:00:00",
          "2021-05-03T00:00:00",
          "2021-05-04T00:00:00",
          "2021-05-05T00:00:00",
          "2021-05-06T00:00:00",
          "2021-05-07T00:00:00",
          "2021-05-10T00:00:00",
          "2021-05-11T00:00:00",
          "2021-05-12T00:00:00",
          "2021-05-13T00:00:00",
          "2021-05-14T00:00:00",
          "2021-05-17T00:00:00",
          "2021-05-18T00:00:00",
          "2021-05-19T00:00:00",
          "2021-05-20T00:00:00",
          "2021-05-21T00:00:00",
          "2021-05-24T00:00:00",
          "2021-05-25T00:00:00",
          "2021-05-26T00:00:00",
          "2021-05-27T00:00:00",
          "2021-05-28T00:00:00",
          "2021-06-01T00:00:00",
          "2021-06-02T00:00:00",
          "2021-06-03T00:00:00",
          "2021-06-04T00:00:00",
          "2021-06-07T00:00:00",
          "2021-06-08T00:00:00",
          "2021-06-09T00:00:00",
          "2021-06-10T00:00:00",
          "2021-06-11T00:00:00",
          "2021-06-14T00:00:00"
         ],
         "xaxis": "x",
         "y": [
          1.5774999856948853,
          1.4700000286102295,
          1.462499976158142,
          1.3799999952316284,
          1.4299999475479126,
          1.3875000476837158,
          1.3574999570846558,
          1.3574999570846558,
          1.1775000095367432,
          1.152500033378601,
          1.1549999713897705,
          1.1875,
          1.1475000381469727,
          1.1399999856948853,
          1.1549999713897705,
          1.0800000429153442,
          1.0700000524520874,
          1.0525000095367432,
          1.0325000286102295,
          0.9825000166893005,
          0.9599999785423279,
          0.987500011920929,
          1.0175000429153442,
          1.0449999570846558,
          1.034999966621399,
          0.9524999856948853,
          0.9850000143051147,
          1.0049999952316284,
          1.0475000143051147,
          1.027500033378601,
          1.0049999952316284,
          1.0149999856948853,
          1.037500023841858,
          1.034999966621399,
          1.0099999904632568,
          0.925000011920929,
          0.8899999856948853,
          0.8475000262260437,
          0.8675000071525574,
          0.8999999761581421,
          0.9574999809265137,
          0.9075000286102295,
          0.9424999952316284,
          0.9900000095367432,
          0.9800000190734863,
          0.925000011920929,
          1.0575000047683716,
          1.034999966621399,
          0.9950000047683716,
          1.1475000381469727,
          1.0924999713897705,
          1.0575000047683716,
          0.9424999952316284,
          1.0475000143051147,
          0.9399999976158142,
          0.9524999856948853,
          1.0399999618530273,
          1.0425000190734863,
          1.1024999618530273,
          1.0549999475479126,
          0.9125000238418579,
          0.875,
          0.8125,
          0.7124999761581421,
          0.699999988079071,
          0.7724999785423279,
          0.8174999952316284,
          0.8525000214576721,
          0.9725000262260437,
          1.184999942779541,
          1.4874999523162842,
          1.3174999952316284,
          1.2575000524520874,
          1.2200000286102295,
          1.402500033378601,
          1.1950000524520874,
          1.222499966621399,
          1.1749999523162842,
          1.1924999952316284,
          1.4550000429153442,
          1.409999966621399,
          1.5099999904632568,
          1.4325000047683716,
          1.5125000476837158,
          1.3700000047683716,
          1.347499966621399,
          1.2324999570846558,
          1.2174999713897705,
          1.2450000047683716,
          1.190000057220459,
          1.1349999904632568,
          1.0525000095367432,
          1.0325000286102295,
          1.0549999475479126,
          1.1449999809265137,
          1.1100000143051147,
          1.1074999570846558,
          1.1100000143051147,
          1.0449999570846558,
          1.1050000190734863,
          1.1725000143051147,
          1.0824999809265137,
          1.0149999856948853,
          1.0325000286102295,
          1.0449999570846558,
          1.1100000143051147,
          1.1174999475479126,
          1.034999966621399,
          1.252500057220459,
          1.2400000095367432,
          1.2675000429153442,
          1.0924999713897705,
          1.1799999475479126,
          1.1725000143051147,
          1.159999966621399,
          1.190000057220459,
          1.2374999523162842,
          1.2200000286102295,
          1.2174999713897705,
          1.2074999809265137,
          1.1024999618530273,
          1.1150000095367432,
          1.087499976158142,
          1.0950000286102295,
          1.0850000381469727,
          1.1100000143051147,
          1.0724999904632568,
          1.059999942779541,
          1.0225000381469727,
          1.065000057220459,
          1.0525000095367432,
          1.0850000381469727,
          1.065000057220459,
          1.0199999809265137,
          1.0475000143051147,
          1.0425000190734863,
          0.9900000095367432,
          0.9624999761581421,
          1.002500057220459,
          1.027500033378601,
          1.027500033378601,
          1.0075000524520874,
          1.002500057220459,
          0.9850000143051147,
          1.0149999856948853,
          1.024999976158142,
          1.002500057220459,
          1.037500023841858,
          1.1074999570846558,
          1.1575000286102295,
          1.1074999570846558,
          1.0399999618530273,
          1.0824999809265137,
          1.087499976158142,
          1.1299999952316284,
          1.159999966621399,
          1.1875,
          1.1575000286102295,
          1.2024999856948853,
          1.1799999475479126,
          1.152500033378601,
          1.2575000524520874,
          1.2174999713897705,
          1.2450000047683716,
          1.277500033378601,
          1.3125,
          1.347499966621399,
          1.6699999570846558,
          1.912500023841858,
          1.9275000095367432,
          1.9550000429153442,
          1.912500023841858,
          1.9249999523162842,
          1.837499976158142,
          1.5575000047683716,
          1.5225000381469727,
          1.7274999618530273,
          1.7725000381469727,
          2.1700000762939453,
          2.299999952316284,
          2.367500066757202,
          2.1875,
          2.640000104904175,
          2.509999990463257,
          2.2850000858306885,
          2.505000114440918,
          2.5225000381469727,
          2.5875000953674316,
          2.549999952316284,
          2.442500114440918,
          2.3475000858306885,
          2.365000009536743,
          2.2825000286102295,
          2.3399999141693115,
          3.372499942779541,
          3.005000114440918,
          2.950000047683716,
          2.9700000286102295,
          3.0625,
          3.4574999809265137,
          3.327500104904175,
          3.4774999618530273,
          3.4649999141693115,
          3.5250000953674316,
          3.7274999618530273,
          3.75,
          3.362499952316284,
          3.172499895095825,
          2.9549999237060547,
          2.932499885559082,
          2.617500066757202,
          2.6875,
          2.8924999237060547,
          2.7274999618530273,
          2.862499952316284,
          2.9649999141693115,
          2.872499942779541,
          2.7750000953674316,
          2.9375,
          2.7825000286102295,
          2.752500057220459,
          3.015000104904175,
          2.9075000286102295,
          2.8924999237060547,
          3.115000009536743,
          3.177500009536743,
          3.4749999046325684,
          3.4175000190734863,
          3.6875,
          4.019999980926514,
          4.139999866485596,
          3.950000047683716,
          4.144999980926514,
          4.03000020980835,
          4.224999904632568,
          4.087500095367432,
          4.235000133514404,
          3.4149999618530273,
          3.5299999713897705,
          3.327500104904175,
          3.180000066757202,
          3.4625000953674316,
          3.4625000953674316,
          3.7074999809265137,
          3.9075000286102295,
          3.882499933242798,
          4.864999771118164,
          5.142499923706055,
          5.037499904632568,
          5.247499942779541,
          4.84499979019165,
          4.815000057220459,
          4.710000038146973,
          4.3125,
          4.34250020980835,
          4.590000152587891,
          4.519999980926514,
          4.422500133514404,
          4.985000133514404,
          4.987500190734863,
          7.849999904632568,
          9.977499961853027,
          8.875,
          9.84000015258789,
          9.779999732971191,
          10.757499694824219,
          16.252500534057617,
          19.197500228881836,
          36.994998931884766,
          86.87750244140625,
          48.400001525878906,
          81.25,
          56.25,
          22.5,
          23.102500915527344,
          13.375,
          15.942500114440918,
          15,
          12.577500343322754,
          12.800000190734863,
          12.774999618530273,
          13.100000381469727,
          12.3774995803833,
          11.484999656677246,
          10.172499656677246,
          10.147500038146973,
          11.5,
          11.242500305175781,
          22.927499771118164,
          27.1825008392334,
          25.434999465942383,
          30.100000381469727,
          29.545000076293945,
          31.045000076293945,
          33.087501525878906,
          34.435001373291016,
          48.625,
          61.724998474121094,
          66.25,
          65,
          66.125,
          55.03499984741211,
          52.04249954223633,
          52.45249938964844,
          50.4375,
          50.067501068115234,
          48.622501373291016,
          45.4375,
          30.084999084472656,
          45.9375,
          45.25,
          45.32500076293945,
          48.6150016784668,
          47.45500183105469,
          47.86249923706055,
          46.73749923706055,
          46.125,
          44.49250030517578,
          42.564998626708984,
          39.59000015258789,
          35.272499084472656,
          35.247501373291016,
          41.63249969482422,
          39.11000061035156,
          38.67250061035156,
          41.092498779296875,
          39.63249969482422,
          39.627498626708984,
          37.79249954223633,
          37.79499816894531,
          42.23249816894531,
          44.442501068115234,
          44.64500045776367,
          44.04750061035156,
          43.397499084472656,
          40.54999923706055,
          40.182498931884766,
          39.869998931884766,
          40.252498626708984,
          40.27750015258789,
          35.80500030517578,
          36.72999954223633,
          36.1974983215332,
          41.125,
          39.97999954223633,
          45.150001525878906,
          45.16749954223633,
          42.20750045776367,
          42.622501373291016,
          44.1974983215332,
          45.002498626708984,
          52.35749816894531,
          60.63999938964844,
          63.532501220703125,
          55.5,
          62.255001068115234,
          70.55999755859375,
          64.54499816894531,
          62.09000015258789,
          70.00250244140625,
          75,
          75.63999938964844,
          55.09749984741211,
          58.334999084472656,
          57.36000061035156
         ],
         "yaxis": "y"
        },
        {
         "name": "Volume",
         "type": "scatter",
         "x": [
          "2020-01-02T00:00:00",
          "2020-01-03T00:00:00",
          "2020-01-06T00:00:00",
          "2020-01-07T00:00:00",
          "2020-01-08T00:00:00",
          "2020-01-09T00:00:00",
          "2020-01-10T00:00:00",
          "2020-01-13T00:00:00",
          "2020-01-14T00:00:00",
          "2020-01-15T00:00:00",
          "2020-01-16T00:00:00",
          "2020-01-17T00:00:00",
          "2020-01-21T00:00:00",
          "2020-01-22T00:00:00",
          "2020-01-23T00:00:00",
          "2020-01-24T00:00:00",
          "2020-01-27T00:00:00",
          "2020-01-28T00:00:00",
          "2020-01-29T00:00:00",
          "2020-01-30T00:00:00",
          "2020-01-31T00:00:00",
          "2020-02-03T00:00:00",
          "2020-02-04T00:00:00",
          "2020-02-05T00:00:00",
          "2020-02-06T00:00:00",
          "2020-02-07T00:00:00",
          "2020-02-10T00:00:00",
          "2020-02-11T00:00:00",
          "2020-02-12T00:00:00",
          "2020-02-13T00:00:00",
          "2020-02-14T00:00:00",
          "2020-02-18T00:00:00",
          "2020-02-19T00:00:00",
          "2020-02-20T00:00:00",
          "2020-02-21T00:00:00",
          "2020-02-24T00:00:00",
          "2020-02-25T00:00:00",
          "2020-02-26T00:00:00",
          "2020-02-27T00:00:00",
          "2020-02-28T00:00:00",
          "2020-03-02T00:00:00",
          "2020-03-03T00:00:00",
          "2020-03-04T00:00:00",
          "2020-03-05T00:00:00",
          "2020-03-06T00:00:00",
          "2020-03-09T00:00:00",
          "2020-03-10T00:00:00",
          "2020-03-11T00:00:00",
          "2020-03-12T00:00:00",
          "2020-03-13T00:00:00",
          "2020-03-16T00:00:00",
          "2020-03-17T00:00:00",
          "2020-03-18T00:00:00",
          "2020-03-19T00:00:00",
          "2020-03-20T00:00:00",
          "2020-03-23T00:00:00",
          "2020-03-24T00:00:00",
          "2020-03-25T00:00:00",
          "2020-03-26T00:00:00",
          "2020-03-27T00:00:00",
          "2020-03-30T00:00:00",
          "2020-03-31T00:00:00",
          "2020-04-01T00:00:00",
          "2020-04-02T00:00:00",
          "2020-04-03T00:00:00",
          "2020-04-06T00:00:00",
          "2020-04-07T00:00:00",
          "2020-04-08T00:00:00",
          "2020-04-09T00:00:00",
          "2020-04-13T00:00:00",
          "2020-04-14T00:00:00",
          "2020-04-15T00:00:00",
          "2020-04-16T00:00:00",
          "2020-04-17T00:00:00",
          "2020-04-20T00:00:00",
          "2020-04-21T00:00:00",
          "2020-04-22T00:00:00",
          "2020-04-23T00:00:00",
          "2020-04-24T00:00:00",
          "2020-04-27T00:00:00",
          "2020-04-28T00:00:00",
          "2020-04-29T00:00:00",
          "2020-04-30T00:00:00",
          "2020-05-01T00:00:00",
          "2020-05-04T00:00:00",
          "2020-05-05T00:00:00",
          "2020-05-06T00:00:00",
          "2020-05-07T00:00:00",
          "2020-05-08T00:00:00",
          "2020-05-11T00:00:00",
          "2020-05-12T00:00:00",
          "2020-05-13T00:00:00",
          "2020-05-14T00:00:00",
          "2020-05-15T00:00:00",
          "2020-05-18T00:00:00",
          "2020-05-19T00:00:00",
          "2020-05-20T00:00:00",
          "2020-05-21T00:00:00",
          "2020-05-22T00:00:00",
          "2020-05-26T00:00:00",
          "2020-05-27T00:00:00",
          "2020-05-28T00:00:00",
          "2020-05-29T00:00:00",
          "2020-06-01T00:00:00",
          "2020-06-02T00:00:00",
          "2020-06-03T00:00:00",
          "2020-06-04T00:00:00",
          "2020-06-05T00:00:00",
          "2020-06-08T00:00:00",
          "2020-06-09T00:00:00",
          "2020-06-10T00:00:00",
          "2020-06-11T00:00:00",
          "2020-06-12T00:00:00",
          "2020-06-15T00:00:00",
          "2020-06-16T00:00:00",
          "2020-06-17T00:00:00",
          "2020-06-18T00:00:00",
          "2020-06-19T00:00:00",
          "2020-06-22T00:00:00",
          "2020-06-23T00:00:00",
          "2020-06-24T00:00:00",
          "2020-06-25T00:00:00",
          "2020-06-26T00:00:00",
          "2020-06-29T00:00:00",
          "2020-06-30T00:00:00",
          "2020-07-01T00:00:00",
          "2020-07-02T00:00:00",
          "2020-07-06T00:00:00",
          "2020-07-07T00:00:00",
          "2020-07-08T00:00:00",
          "2020-07-09T00:00:00",
          "2020-07-10T00:00:00",
          "2020-07-13T00:00:00",
          "2020-07-14T00:00:00",
          "2020-07-15T00:00:00",
          "2020-07-16T00:00:00",
          "2020-07-17T00:00:00",
          "2020-07-20T00:00:00",
          "2020-07-21T00:00:00",
          "2020-07-22T00:00:00",
          "2020-07-23T00:00:00",
          "2020-07-24T00:00:00",
          "2020-07-27T00:00:00",
          "2020-07-28T00:00:00",
          "2020-07-29T00:00:00",
          "2020-07-30T00:00:00",
          "2020-07-31T00:00:00",
          "2020-08-03T00:00:00",
          "2020-08-04T00:00:00",
          "2020-08-05T00:00:00",
          "2020-08-06T00:00:00",
          "2020-08-07T00:00:00",
          "2020-08-10T00:00:00",
          "2020-08-11T00:00:00",
          "2020-08-12T00:00:00",
          "2020-08-13T00:00:00",
          "2020-08-14T00:00:00",
          "2020-08-17T00:00:00",
          "2020-08-18T00:00:00",
          "2020-08-19T00:00:00",
          "2020-08-20T00:00:00",
          "2020-08-21T00:00:00",
          "2020-08-24T00:00:00",
          "2020-08-25T00:00:00",
          "2020-08-26T00:00:00",
          "2020-08-27T00:00:00",
          "2020-08-28T00:00:00",
          "2020-08-31T00:00:00",
          "2020-09-01T00:00:00",
          "2020-09-02T00:00:00",
          "2020-09-03T00:00:00",
          "2020-09-04T00:00:00",
          "2020-09-08T00:00:00",
          "2020-09-09T00:00:00",
          "2020-09-10T00:00:00",
          "2020-09-11T00:00:00",
          "2020-09-14T00:00:00",
          "2020-09-15T00:00:00",
          "2020-09-16T00:00:00",
          "2020-09-17T00:00:00",
          "2020-09-18T00:00:00",
          "2020-09-21T00:00:00",
          "2020-09-22T00:00:00",
          "2020-09-23T00:00:00",
          "2020-09-24T00:00:00",
          "2020-09-25T00:00:00",
          "2020-09-28T00:00:00",
          "2020-09-29T00:00:00",
          "2020-09-30T00:00:00",
          "2020-10-01T00:00:00",
          "2020-10-02T00:00:00",
          "2020-10-05T00:00:00",
          "2020-10-06T00:00:00",
          "2020-10-07T00:00:00",
          "2020-10-08T00:00:00",
          "2020-10-09T00:00:00",
          "2020-10-12T00:00:00",
          "2020-10-13T00:00:00",
          "2020-10-14T00:00:00",
          "2020-10-15T00:00:00",
          "2020-10-16T00:00:00",
          "2020-10-19T00:00:00",
          "2020-10-20T00:00:00",
          "2020-10-21T00:00:00",
          "2020-10-22T00:00:00",
          "2020-10-23T00:00:00",
          "2020-10-26T00:00:00",
          "2020-10-27T00:00:00",
          "2020-10-28T00:00:00",
          "2020-10-29T00:00:00",
          "2020-10-30T00:00:00",
          "2020-11-02T00:00:00",
          "2020-11-03T00:00:00",
          "2020-11-04T00:00:00",
          "2020-11-05T00:00:00",
          "2020-11-06T00:00:00",
          "2020-11-09T00:00:00",
          "2020-11-10T00:00:00",
          "2020-11-11T00:00:00",
          "2020-11-12T00:00:00",
          "2020-11-13T00:00:00",
          "2020-11-16T00:00:00",
          "2020-11-17T00:00:00",
          "2020-11-18T00:00:00",
          "2020-11-19T00:00:00",
          "2020-11-20T00:00:00",
          "2020-11-23T00:00:00",
          "2020-11-24T00:00:00",
          "2020-11-25T00:00:00",
          "2020-11-27T00:00:00",
          "2020-11-30T00:00:00",
          "2020-12-01T00:00:00",
          "2020-12-02T00:00:00",
          "2020-12-03T00:00:00",
          "2020-12-04T00:00:00",
          "2020-12-07T00:00:00",
          "2020-12-08T00:00:00",
          "2020-12-09T00:00:00",
          "2020-12-10T00:00:00",
          "2020-12-11T00:00:00",
          "2020-12-14T00:00:00",
          "2020-12-15T00:00:00",
          "2020-12-16T00:00:00",
          "2020-12-17T00:00:00",
          "2020-12-18T00:00:00",
          "2020-12-21T00:00:00",
          "2020-12-22T00:00:00",
          "2020-12-23T00:00:00",
          "2020-12-24T00:00:00",
          "2020-12-28T00:00:00",
          "2020-12-29T00:00:00",
          "2020-12-30T00:00:00",
          "2020-12-31T00:00:00",
          "2021-01-04T00:00:00",
          "2021-01-05T00:00:00",
          "2021-01-06T00:00:00",
          "2021-01-07T00:00:00",
          "2021-01-08T00:00:00",
          "2021-01-11T00:00:00",
          "2021-01-12T00:00:00",
          "2021-01-13T00:00:00",
          "2021-01-14T00:00:00",
          "2021-01-15T00:00:00",
          "2021-01-19T00:00:00",
          "2021-01-20T00:00:00",
          "2021-01-21T00:00:00",
          "2021-01-22T00:00:00",
          "2021-01-25T00:00:00",
          "2021-01-26T00:00:00",
          "2021-01-27T00:00:00",
          "2021-01-28T00:00:00",
          "2021-01-29T00:00:00",
          "2021-02-01T00:00:00",
          "2021-02-02T00:00:00",
          "2021-02-03T00:00:00",
          "2021-02-04T00:00:00",
          "2021-02-05T00:00:00",
          "2021-02-08T00:00:00",
          "2021-02-09T00:00:00",
          "2021-02-10T00:00:00",
          "2021-02-11T00:00:00",
          "2021-02-12T00:00:00",
          "2021-02-16T00:00:00",
          "2021-02-17T00:00:00",
          "2021-02-18T00:00:00",
          "2021-02-19T00:00:00",
          "2021-02-22T00:00:00",
          "2021-02-23T00:00:00",
          "2021-02-24T00:00:00",
          "2021-02-25T00:00:00",
          "2021-02-26T00:00:00",
          "2021-03-01T00:00:00",
          "2021-03-02T00:00:00",
          "2021-03-03T00:00:00",
          "2021-03-04T00:00:00",
          "2021-03-05T00:00:00",
          "2021-03-08T00:00:00",
          "2021-03-09T00:00:00",
          "2021-03-10T00:00:00",
          "2021-03-11T00:00:00",
          "2021-03-12T00:00:00",
          "2021-03-15T00:00:00",
          "2021-03-16T00:00:00",
          "2021-03-17T00:00:00",
          "2021-03-18T00:00:00",
          "2021-03-19T00:00:00",
          "2021-03-22T00:00:00",
          "2021-03-23T00:00:00",
          "2021-03-24T00:00:00",
          "2021-03-25T00:00:00",
          "2021-03-26T00:00:00",
          "2021-03-29T00:00:00",
          "2021-03-30T00:00:00",
          "2021-03-31T00:00:00",
          "2021-04-01T00:00:00",
          "2021-04-05T00:00:00",
          "2021-04-06T00:00:00",
          "2021-04-07T00:00:00",
          "2021-04-08T00:00:00",
          "2021-04-09T00:00:00",
          "2021-04-12T00:00:00",
          "2021-04-13T00:00:00",
          "2021-04-14T00:00:00",
          "2021-04-15T00:00:00",
          "2021-04-16T00:00:00",
          "2021-04-19T00:00:00",
          "2021-04-20T00:00:00",
          "2021-04-21T00:00:00",
          "2021-04-22T00:00:00",
          "2021-04-23T00:00:00",
          "2021-04-26T00:00:00",
          "2021-04-27T00:00:00",
          "2021-04-28T00:00:00",
          "2021-04-29T00:00:00",
          "2021-04-30T00:00:00"
         ],
         "xaxis": "x2",
         "y": [
          17814400,
          14175600,
          13579200,
          20912000,
          22517600,
          10572000,
          11125600,
          14500800,
          50247600,
          19924400,
          17148400,
          16078000,
          14128400,
          10510000,
          7520800,
          16654400,
          8490000,
          8579600,
          6210400,
          12026000,
          11566800,
          8102400,
          14252400,
          10566800,
          6041200,
          10969200,
          11108000,
          13660000,
          19282400,
          8326800,
          6330800,
          5870400,
          10372400,
          6249200,
          6782800,
          14265200,
          17791600,
          18899200,
          15518000,
          18768800,
          12833600,
          17130000,
          17030400,
          14397600,
          8387200,
          10928000,
          19452800,
          17656400,
          20493600,
          23148800,
          19466800,
          14248800,
          14606800,
          20158000,
          30888800,
          24039200,
          27222400,
          14368400,
          24742800,
          28099200,
          13402400,
          9203600,
          18274800,
          16257200,
          15321600,
          13362000,
          11347600,
          11538000,
          23634400,
          27378000,
          54026400,
          29999600,
          13487600,
          22612800,
          24340000,
          16568400,
          10711200,
          9063600,
          8944800,
          29100400,
          20800800,
          13478400,
          8693200,
          16022400,
          16272400,
          8423600,
          13478400,
          10003200,
          9410400,
          6796800,
          10556800,
          11531600,
          8019600,
          7762400,
          9456800,
          7362800,
          10174400,
          7887600,
          9519600,
          14182800,
          12586400,
          8735600,
          15846800,
          10446400,
          9477600,
          12149600,
          14057200,
          25097600,
          40534800,
          32293600,
          42425600,
          24944000,
          17512800,
          15636000,
          12485200,
          14374000,
          13695200,
          29466400,
          12715600,
          12821600,
          11904800,
          9803200,
          15204800,
          8524800,
          15556000,
          9214800,
          7550400,
          8563600,
          9826400,
          8211200,
          7970400,
          5643200,
          16864800,
          9046400,
          5896400,
          5320400,
          12263600,
          13604400,
          13351600,
          10094000,
          12948800,
          8863600,
          9890800,
          18221600,
          11518400,
          9594000,
          7517600,
          10070400,
          41445600,
          19677200,
          7604800,
          13364400,
          18247200,
          12555200,
          12230400,
          8513200,
          13897600,
          9484000,
          15337600,
          10450400,
          9764800,
          42570400,
          18341600,
          11994800,
          11118800,
          13537600,
          16947600,
          151904000,
          92634400,
          52044400,
          57378000,
          30648000,
          39266400,
          36272400,
          62233200,
          24244800,
          40476000,
          22974000,
          77025200,
          68106800,
          69630000,
          30559200,
          139010000,
          42604800,
          31755200,
          30060800,
          27057200,
          20950400,
          24316000,
          18216400,
          17362000,
          11220000,
          18141600,
          13234400,
          305814400,
          308611200,
          94622800,
          40718800,
          43045600,
          159579200,
          46606400,
          52676400,
          26416000,
          21447600,
          64848800,
          26029200,
          53505200,
          28924000,
          25554400,
          16663200,
          46187600,
          20908000,
          29818000,
          23231600,
          18820800,
          22072800,
          24979600,
          15304000,
          19530400,
          17413200,
          14143600,
          39099200,
          26712800,
          12676800,
          47150400,
          33581600,
          38396400,
          28732800,
          35440400,
          50016800,
          127934000,
          50615600,
          31533600,
          25180000,
          35890800,
          29545200,
          64480800,
          97431600,
          30235600,
          29987600,
          40028400,
          32759200,
          23460400,
          32779600,
          66475200,
          39504400,
          122610800,
          103321200,
          25048800,
          35863600,
          36965600,
          23737600,
          27690800,
          40090000,
          19846000,
          24224800,
          24517200,
          25928000,
          59632000,
          28242800,
          578006800,
          374869600,
          187465600,
          298887600,
          133887200,
          224867600,
          788631600,
          711496000,
          714352000,
          373586800,
          235263200,
          202264400,
          149528800,
          312732400,
          170794000,
          249709200,
          325380000,
          102749200,
          107372400,
          145820000,
          52226800,
          58293200,
          32700000,
          36747200,
          95962400,
          59312800,
          77904000,
          30260800,
          332446800,
          601235200,
          368776800,
          199176000,
          135132000,
          77095600,
          130427600,
          122934800,
          254262400,
          156397200,
          286282400,
          113250000,
          103383600,
          96401600,
          141691600,
          65926400,
          47059600,
          98709200,
          40246000,
          57716400,
          96711600,
          203849200,
          149722800,
          40168800,
          68379600,
          33575200,
          37337200,
          56282000,
          24873200,
          19073200,
          40189600,
          37849600,
          66734400,
          27227600,
          84552400,
          31427200,
          20858800,
          42080800,
          18634400,
          15251200,
          17383200,
          16116400,
          42128400,
          35730800,
          23155600,
          15041200,
          17734400
         ],
         "yaxis": "y2"
        }
       ],
       "layout": {
        "annotations": [
         {
          "font": {
           "size": 16
          },
          "showarrow": false,
          "text": "Historical Share Price",
          "x": 0.5,
          "xanchor": "center",
          "xref": "paper",
          "y": 0.9999999999999999,
          "yanchor": "bottom",
          "yref": "paper"
         },
         {
          "font": {
           "size": 16
          },
          "showarrow": false,
          "text": "Historical Revenue",
          "x": 0.5,
          "xanchor": "center",
          "xref": "paper",
          "y": 0.35,
          "yanchor": "bottom",
          "yref": "paper"
         }
        ],
        "autosize": true,
        "showlegend": false,
        "template": {
         "data": {
          "bar": [
           {
            "error_x": {
             "color": "#2a3f5f"
            },
            "error_y": {
             "color": "#2a3f5f"
            },
            "marker": {
             "line": {
              "color": "#E5ECF6",
              "width": 0.5
             },
             "pattern": {
              "fillmode": "overlay",
              "size": 10,
              "solidity": 0.2
             }
            },
            "type": "bar"
           }
          ],
          "barpolar": [
           {
            "marker": {
             "line": {
              "color": "#E5ECF6",
              "width": 0.5
             },
             "pattern": {
              "fillmode": "overlay",
              "size": 10,
              "solidity": 0.2
             }
            },
            "type": "barpolar"
           }
          ],
          "carpet": [
           {
            "aaxis": {
             "endlinecolor": "#2a3f5f",
             "gridcolor": "white",
             "linecolor": "white",
             "minorgridcolor": "white",
             "startlinecolor": "#2a3f5f"
            },
            "baxis": {
             "endlinecolor": "#2a3f5f",
             "gridcolor": "white",
             "linecolor": "white",
             "minorgridcolor": "white",
             "startlinecolor": "#2a3f5f"
            },
            "type": "carpet"
           }
          ],
          "choropleth": [
           {
            "colorbar": {
             "outlinewidth": 0,
             "ticks": ""
            },
            "type": "choropleth"
           }
          ],
          "contour": [
           {
            "colorbar": {
             "outlinewidth": 0,
             "ticks": ""
            },
            "colorscale": [
             [
              0,
              "#0d0887"
             ],
             [
              0.1111111111111111,
              "#46039f"
             ],
             [
              0.2222222222222222,
              "#7201a8"
             ],
             [
              0.3333333333333333,
              "#9c179e"
             ],
             [
              0.4444444444444444,
              "#bd3786"
             ],
             [
              0.5555555555555556,
              "#d8576b"
             ],
             [
              0.6666666666666666,
              "#ed7953"
             ],
             [
              0.7777777777777778,
              "#fb9f3a"
             ],
             [
              0.8888888888888888,
              "#fdca26"
             ],
             [
              1,
              "#f0f921"
             ]
            ],
            "type": "contour"
           }
          ],
          "contourcarpet": [
           {
            "colorbar": {
             "outlinewidth": 0,
             "ticks": ""
            },
            "type": "contourcarpet"
           }
          ],
          "heatmap": [
           {
            "colorbar": {
             "outlinewidth": 0,
             "ticks": ""
            },
            "colorscale": [
             [
              0,
              "#0d0887"
             ],
             [
              0.1111111111111111,
              "#46039f"
             ],
             [
              0.2222222222222222,
              "#7201a8"
             ],
             [
              0.3333333333333333,
              "#9c179e"
             ],
             [
              0.4444444444444444,
              "#bd3786"
             ],
             [
              0.5555555555555556,
              "#d8576b"
             ],
             [
              0.6666666666666666,
              "#ed7953"
             ],
             [
              0.7777777777777778,
              "#fb9f3a"
             ],
             [
              0.8888888888888888,
              "#fdca26"
             ],
             [
              1,
              "#f0f921"
             ]
            ],
            "type": "heatmap"
           }
          ],
          "heatmapgl": [
           {
            "colorbar": {
             "outlinewidth": 0,
             "ticks": ""
            },
            "colorscale": [
             [
              0,
              "#0d0887"
             ],
             [
              0.1111111111111111,
              "#46039f"
             ],
             [
              0.2222222222222222,
              "#7201a8"
             ],
             [
              0.3333333333333333,
              "#9c179e"
             ],
             [
              0.4444444444444444,
              "#bd3786"
             ],
             [
              0.5555555555555556,
              "#d8576b"
             ],
             [
              0.6666666666666666,
              "#ed7953"
             ],
             [
              0.7777777777777778,
              "#fb9f3a"
             ],
             [
              0.8888888888888888,
              "#fdca26"
             ],
             [
              1,
              "#f0f921"
             ]
            ],
            "type": "heatmapgl"
           }
          ],
          "histogram": [
           {
            "marker": {
             "pattern": {
              "fillmode": "overlay",
              "size": 10,
              "solidity": 0.2
             }
            },
            "type": "histogram"
           }
          ],
          "histogram2d": [
           {
            "colorbar": {
             "outlinewidth": 0,
             "ticks": ""
            },
            "colorscale": [
             [
              0,
              "#0d0887"
             ],
             [
              0.1111111111111111,
              "#46039f"
             ],
             [
              0.2222222222222222,
              "#7201a8"
             ],
             [
              0.3333333333333333,
              "#9c179e"
             ],
             [
              0.4444444444444444,
              "#bd3786"
             ],
             [
              0.5555555555555556,
              "#d8576b"
             ],
             [
              0.6666666666666666,
              "#ed7953"
             ],
             [
              0.7777777777777778,
              "#fb9f3a"
             ],
             [
              0.8888888888888888,
              "#fdca26"
             ],
             [
              1,
              "#f0f921"
             ]
            ],
            "type": "histogram2d"
           }
          ],
          "histogram2dcontour": [
           {
            "colorbar": {
             "outlinewidth": 0,
             "ticks": ""
            },
            "colorscale": [
             [
              0,
              "#0d0887"
             ],
             [
              0.1111111111111111,
              "#46039f"
             ],
             [
              0.2222222222222222,
              "#7201a8"
             ],
             [
              0.3333333333333333,
              "#9c179e"
             ],
             [
              0.4444444444444444,
              "#bd3786"
             ],
             [
              0.5555555555555556,
              "#d8576b"
             ],
             [
              0.6666666666666666,
              "#ed7953"
             ],
             [
              0.7777777777777778,
              "#fb9f3a"
             ],
             [
              0.8888888888888888,
              "#fdca26"
             ],
             [
              1,
              "#f0f921"
             ]
            ],
            "type": "histogram2dcontour"
           }
          ],
          "mesh3d": [
           {
            "colorbar": {
             "outlinewidth": 0,
             "ticks": ""
            },
            "type": "mesh3d"
           }
          ],
          "parcoords": [
           {
            "line": {
             "colorbar": {
              "outlinewidth": 0,
              "ticks": ""
             }
            },
            "type": "parcoords"
           }
          ],
          "pie": [
           {
            "automargin": true,
            "type": "pie"
           }
          ],
          "scatter": [
           {
            "fillpattern": {
             "fillmode": "overlay",
             "size": 10,
             "solidity": 0.2
            },
            "type": "scatter"
           }
          ],
          "scatter3d": [
           {
            "line": {
             "colorbar": {
              "outlinewidth": 0,
              "ticks": ""
             }
            },
            "marker": {
             "colorbar": {
              "outlinewidth": 0,
              "ticks": ""
             }
            },
            "type": "scatter3d"
           }
          ],
          "scattercarpet": [
           {
            "marker": {
             "colorbar": {
              "outlinewidth": 0,
              "ticks": ""
             }
            },
            "type": "scattercarpet"
           }
          ],
          "scattergeo": [
           {
            "marker": {
             "colorbar": {
              "outlinewidth": 0,
              "ticks": ""
             }
            },
            "type": "scattergeo"
           }
          ],
          "scattergl": [
           {
            "marker": {
             "colorbar": {
              "outlinewidth": 0,
              "ticks": ""
             }
            },
            "type": "scattergl"
           }
          ],
          "scattermapbox": [
           {
            "marker": {
             "colorbar": {
              "outlinewidth": 0,
              "ticks": ""
             }
            },
            "type": "scattermapbox"
           }
          ],
          "scatterpolar": [
           {
            "marker": {
             "colorbar": {
              "outlinewidth": 0,
              "ticks": ""
             }
            },
            "type": "scatterpolar"
           }
          ],
          "scatterpolargl": [
           {
            "marker": {
             "colorbar": {
              "outlinewidth": 0,
              "ticks": ""
             }
            },
            "type": "scatterpolargl"
           }
          ],
          "scatterternary": [
           {
            "marker": {
             "colorbar": {
              "outlinewidth": 0,
              "ticks": ""
             }
            },
            "type": "scatterternary"
           }
          ],
          "surface": [
           {
            "colorbar": {
             "outlinewidth": 0,
             "ticks": ""
            },
            "colorscale": [
             [
              0,
              "#0d0887"
             ],
             [
              0.1111111111111111,
              "#46039f"
             ],
             [
              0.2222222222222222,
              "#7201a8"
             ],
             [
              0.3333333333333333,
              "#9c179e"
             ],
             [
              0.4444444444444444,
              "#bd3786"
             ],
             [
              0.5555555555555556,
              "#d8576b"
             ],
             [
              0.6666666666666666,
              "#ed7953"
             ],
             [
              0.7777777777777778,
              "#fb9f3a"
             ],
             [
              0.8888888888888888,
              "#fdca26"
             ],
             [
              1,
              "#f0f921"
             ]
            ],
            "type": "surface"
           }
          ],
          "table": [
           {
            "cells": {
             "fill": {
              "color": "#EBF0F8"
             },
             "line": {
              "color": "white"
             }
            },
            "header": {
             "fill": {
              "color": "#C8D4E3"
             },
             "line": {
              "color": "white"
             }
            },
            "type": "table"
           }
          ]
         },
         "layout": {
          "annotationdefaults": {
           "arrowcolor": "#2a3f5f",
           "arrowhead": 0,
           "arrowwidth": 1
          },
          "autotypenumbers": "strict",
          "coloraxis": {
           "colorbar": {
            "outlinewidth": 0,
            "ticks": ""
           }
          },
          "colorscale": {
           "diverging": [
            [
             0,
             "#8e0152"
            ],
            [
             0.1,
             "#c51b7d"
            ],
            [
             0.2,
             "#de77ae"
            ],
            [
             0.3,
             "#f1b6da"
            ],
            [
             0.4,
             "#fde0ef"
            ],
            [
             0.5,
             "#f7f7f7"
            ],
            [
             0.6,
             "#e6f5d0"
            ],
            [
             0.7,
             "#b8e186"
            ],
            [
             0.8,
             "#7fbc41"
            ],
            [
             0.9,
             "#4d9221"
            ],
            [
             1,
             "#276419"
            ]
           ],
           "sequential": [
            [
             0,
             "#0d0887"
            ],
            [
             0.1111111111111111,
             "#46039f"
            ],
            [
             0.2222222222222222,
             "#7201a8"
            ],
            [
             0.3333333333333333,
             "#9c179e"
            ],
            [
             0.4444444444444444,
             "#bd3786"
            ],
            [
             0.5555555555555556,
             "#d8576b"
            ],
            [
             0.6666666666666666,
             "#ed7953"
            ],
            [
             0.7777777777777778,
             "#fb9f3a"
            ],
            [
             0.8888888888888888,
             "#fdca26"
            ],
            [
             1,
             "#f0f921"
            ]
           ],
           "sequentialminus": [
            [
             0,
             "#0d0887"
            ],
            [
             0.1111111111111111,
             "#46039f"
            ],
            [
             0.2222222222222222,
             "#7201a8"
            ],
            [
             0.3333333333333333,
             "#9c179e"
            ],
            [
             0.4444444444444444,
             "#bd3786"
            ],
            [
             0.5555555555555556,
             "#d8576b"
            ],
            [
             0.6666666666666666,
             "#ed7953"
            ],
            [
             0.7777777777777778,
             "#fb9f3a"
            ],
            [
             0.8888888888888888,
             "#fdca26"
            ],
            [
             1,
             "#f0f921"
            ]
           ]
          },
          "colorway": [
           "#636efa",
           "#EF553B",
           "#00cc96",
           "#ab63fa",
           "#FFA15A",
           "#19d3f3",
           "#FF6692",
           "#B6E880",
           "#FF97FF",
           "#FECB52"
          ],
          "font": {
           "color": "#2a3f5f"
          },
          "geo": {
           "bgcolor": "white",
           "lakecolor": "white",
           "landcolor": "#E5ECF6",
           "showlakes": true,
           "showland": true,
           "subunitcolor": "white"
          },
          "hoverlabel": {
           "align": "left"
          },
          "hovermode": "closest",
          "mapbox": {
           "style": "light"
          },
          "paper_bgcolor": "white",
          "plot_bgcolor": "#E5ECF6",
          "polar": {
           "angularaxis": {
            "gridcolor": "white",
            "linecolor": "white",
            "ticks": ""
           },
           "bgcolor": "#E5ECF6",
           "radialaxis": {
            "gridcolor": "white",
            "linecolor": "white",
            "ticks": ""
           }
          },
          "scene": {
           "xaxis": {
            "backgroundcolor": "#E5ECF6",
            "gridcolor": "white",
            "gridwidth": 2,
            "linecolor": "white",
            "showbackground": true,
            "ticks": "",
            "zerolinecolor": "white"
           },
           "yaxis": {
            "backgroundcolor": "#E5ECF6",
            "gridcolor": "white",
            "gridwidth": 2,
            "linecolor": "white",
            "showbackground": true,
            "ticks": "",
            "zerolinecolor": "white"
           },
           "zaxis": {
            "backgroundcolor": "#E5ECF6",
            "gridcolor": "white",
            "gridwidth": 2,
            "linecolor": "white",
            "showbackground": true,
            "ticks": "",
            "zerolinecolor": "white"
           }
          },
          "shapedefaults": {
           "line": {
            "color": "#2a3f5f"
           }
          },
          "ternary": {
           "aaxis": {
            "gridcolor": "white",
            "linecolor": "white",
            "ticks": ""
           },
           "baxis": {
            "gridcolor": "white",
            "linecolor": "white",
            "ticks": ""
           },
           "bgcolor": "#E5ECF6",
           "caxis": {
            "gridcolor": "white",
            "linecolor": "white",
            "ticks": ""
           }
          },
          "title": {
           "x": 0.05
          },
          "xaxis": {
           "automargin": true,
           "gridcolor": "white",
           "linecolor": "white",
           "ticks": "",
           "title": {
            "standoff": 15
           },
           "zerolinecolor": "white",
           "zerolinewidth": 2
          },
          "yaxis": {
           "automargin": true,
           "gridcolor": "white",
           "linecolor": "white",
           "ticks": "",
           "title": {
            "standoff": 15
           },
           "zerolinecolor": "white",
           "zerolinewidth": 2
          }
         }
        },
        "title": {
         "text": "GameStop"
        },
        "xaxis": {
         "anchor": "y",
         "autorange": true,
         "domain": [
          0,
          1
         ],
         "matches": "x2",
         "range": [
          "2020-01-02",
          "2021-06-14"
         ],
         "rangeslider": {
          "autorange": true,
          "range": [
           "2020-01-02",
           "2021-06-14"
          ],
          "visible": true,
          "yaxis": {
           "_template": null,
           "rangemode": "match"
          }
         },
         "showticklabels": false,
         "title": {
          "text": "Date"
         },
         "type": "date"
        },
        "xaxis2": {
         "anchor": "y2",
         "autorange": true,
         "domain": [
          0,
          1
         ],
         "range": [
          "2020-01-02",
          "2021-06-14"
         ],
         "title": {
          "text": "Date"
         },
         "type": "date"
        },
        "yaxis": {
         "anchor": "x",
         "autorange": true,
         "domain": [
          0.6499999999999999,
          0.9999999999999999
         ],
         "range": [
          -4.087639037105772,
          91.6651414665911
         ],
         "title": {
          "text": "Price ($US)"
         },
         "type": "linear"
        },
        "yaxis2": {
         "anchor": "x2",
         "autorange": true,
         "domain": [
          0,
          0.35
         ],
         "range": [
          -38196888.88888889,
          832148888.8888888
         ],
         "title": {
          "text": "Revenue ($US Millions)"
         },
         "type": "linear"
        }
       }
      },
      "image/png": "[encoded data removed]",
      "text/html": [
       "<div>                            <div id=\"d3667e7d-8477-42e7-9f10-d869280aaf94\" class=\"plotly-graph-div\" style=\"height:900px; width:100%;\"></div>            <script type=\"text/javascript\">                require([\"plotly\"], function(Plotly) {                    window.PLOTLYENV=window.PLOTLYENV || {};                                    if (document.getElementById(\"d3667e7d-8477-42e7-9f10-d869280aaf94\")) {                    Plotly.newPlot(                        \"d3667e7d-8477-42e7-9f10-d869280aaf94\",                        [{\"name\":\"Share Price\",\"x\":[\"2020-01-02T00:00:00\",\"2020-01-03T00:00:00\",\"2020-01-06T00:00:00\",\"2020-01-07T00:00:00\",\"2020-01-08T00:00:00\",\"2020-01-09T00:00:00\",\"2020-01-10T00:00:00\",\"2020-01-13T00:00:00\",\"2020-01-14T00:00:00\",\"2020-01-15T00:00:00\",\"2020-01-16T00:00:00\",\"2020-01-17T00:00:00\",\"2020-01-21T00:00:00\",\"2020-01-22T00:00:00\",\"2020-01-23T00:00:00\",\"2020-01-24T00:00:00\",\"2020-01-27T00:00:00\",\"2020-01-28T00:00:00\",\"2020-01-29T00:00:00\",\"2020-01-30T00:00:00\",\"2020-01-31T00:00:00\",\"2020-02-03T00:00:00\",\"2020-02-04T00:00:00\",\"2020-02-05T00:00:00\",\"2020-02-06T00:00:00\",\"2020-02-07T00:00:00\",\"2020-02-10T00:00:00\",\"2020-02-11T00:00:00\",\"2020-02-12T00:00:00\",\"2020-02-13T00:00:00\",\"2020-02-14T00:00:00\",\"2020-02-18T00:00:00\",\"2020-02-19T00:00:00\",\"2020-02-20T00:00:00\",\"2020-02-21T00:00:00\",\"2020-02-24T00:00:00\",\"2020-02-25T00:00:00\",\"2020-02-26T00:00:00\",\"2020-02-27T00:00:00\",\"2020-02-28T00:00:00\",\"2020-03-02T00:00:00\",\"2020-03-03T00:00:00\",\"2020-03-04T00:00:00\",\"2020-03-05T00:00:00\",\"2020-03-06T00:00:00\",\"2020-03-09T00:00:00\",\"2020-03-10T00:00:00\",\"2020-03-11T00:00:00\",\"2020-03-12T00:00:00\",\"2020-03-13T00:00:00\",\"2020-03-16T00:00:00\",\"2020-03-17T00:00:00\",\"2020-03-18T00:00:00\",\"2020-03-19T00:00:00\",\"2020-03-20T00:00:00\",\"2020-03-23T00:00:00\",\"2020-03-24T00:00:00\",\"2020-03-25T00:00:00\",\"2020-03-26T00:00:00\",\"2020-03-27T00:00:00\",\"2020-03-30T00:00:00\",\"2020-03-31T00:00:00\",\"2020-04-01T00:00:00\",\"2020-04-02T00:00:00\",\"2020-04-03T00:00:00\",\"2020-04-06T00:00:00\",\"2020-04-07T00:00:00\",\"2020-04-08T00:00:00\",\"2020-04-09T00:00:00\",\"2020-04-13T00:00:00\",\"2020-04-14T00:00:00\",\"2020-04-15T00:00:00\",\"2020-04-16T00:00:00\",\"2020-04-17T00:00:00\",\"2020-04-20T00:00:00\",\"2020-04-21T00:00:00\",\"2020-04-22T00:00:00\",\"2020-04-23T00:00:00\",\"2020-04-24T00:00:00\",\"2020-04-27T00:00:00\",\"2020-04-28T00:00:00\",\"2020-04-29T00:00:00\",\"2020-04-30T00:00:00\",\"2020-05-01T00:00:00\",\"2020-05-04T00:00:00\",\"2020-05-05T00:00:00\",\"2020-05-06T00:00:00\",\"2020-05-07T00:00:00\",\"2020-05-08T00:00:00\",\"2020-05-11T00:00:00\",\"2020-05-12T00:00:00\",\"2020-05-13T00:00:00\",\"2020-05-14T00:00:00\",\"2020-05-15T00:00:00\",\"2020-05-18T00:00:00\",\"2020-05-19T00:00:00\",\"2020-05-20T00:00:00\",\"2020-05-21T00:00:00\",\"2020-05-22T00:00:00\",\"2020-05-26T00:00:00\",\"2020-05-27T00:00:00\",\"2020-05-28T00:00:00\",\"2020-05-29T00:00:00\",\"2020-06-01T00:00:00\",\"2020-06-02T00:00:00\",\"2020-06-03T00:00:00\",\"2020-06-04T00:00:00\",\"2020-06-05T00:00:00\",\"2020-06-08T00:00:00\",\"2020-06-09T00:00:00\",\"2020-06-10T00:00:00\",\"2020-06-11T00:00:00\",\"2020-06-12T00:00:00\",\"2020-06-15T00:00:00\",\"2020-06-16T00:00:00\",\"2020-06-17T00:00:00\",\"2020-06-18T00:00:00\",\"2020-06-19T00:00:00\",\"2020-06-22T00:00:00\",\"2020-06-23T00:00:00\",\"2020-06-24T00:00:00\",\"2020-06-25T00:00:00\",\"2020-06-26T00:00:00\",\"2020-06-29T00:00:00\",\"2020-06-30T00:00:00\",\"2020-07-01T00:00:00\",\"2020-07-02T00:00:00\",\"2020-07-06T00:00:00\",\"2020-07-07T00:00:00\",\"2020-07-08T00:00:00\",\"2020-07-09T00:00:00\",\"2020-07-10T00:00:00\",\"2020-07-13T00:00:00\",\"2020-07-14T00:00:00\",\"2020-07-15T00:00:00\",\"2020-07-16T00:00:00\",\"2020-07-17T00:00:00\",\"2020-07-20T00:00:00\",\"2020-07-21T00:00:00\",\"2020-07-22T00:00:00\",\"2020-07-23T00:00:00\",\"2020-07-24T00:00:00\",\"2020-07-27T00:00:00\",\"2020-07-28T00:00:00\",\"2020-07-29T00:00:00\",\"2020-07-30T00:00:00\",\"2020-07-31T00:00:00\",\"2020-08-03T00:00:00\",\"2020-08-04T00:00:00\",\"2020-08-05T00:00:00\",\"2020-08-06T00:00:00\",\"2020-08-07T00:00:00\",\"2020-08-10T00:00:00\",\"2020-08-11T00:00:00\",\"2020-08-12T00:00:00\",\"2020-08-13T00:00:00\",\"2020-08-14T00:00:00\",\"2020-08-17T00:00:00\",\"2020-08-18T00:00:00\",\"2020-08-19T00:00:00\",\"2020-08-20T00:00:00\",\"2020-08-21T00:00:00\",\"2020-08-24T00:00:00\",\"2020-08-25T00:00:00\",\"2020-08-26T00:00:00\",\"2020-08-27T00:00:00\",\"2020-08-28T00:00:00\",\"2020-08-31T00:00:00\",\"2020-09-01T00:00:00\",\"2020-09-02T00:00:00\",\"2020-09-03T00:00:00\",\"2020-09-04T00:00:00\",\"2020-09-08T00:00:00\",\"2020-09-09T00:00:00\",\"2020-09-10T00:00:00\",\"2020-09-11T00:00:00\",\"2020-09-14T00:00:00\",\"2020-09-15T00:00:00\",\"2020-09-16T00:00:00\",\"2020-09-17T00:00:00\",\"2020-09-18T00:00:00\",\"2020-09-21T00:00:00\",\"2020-09-22T00:00:00\",\"2020-09-23T00:00:00\",\"2020-09-24T00:00:00\",\"2020-09-25T00:00:00\",\"2020-09-28T00:00:00\",\"2020-09-29T00:00:00\",\"2020-09-30T00:00:00\",\"2020-10-01T00:00:00\",\"2020-10-02T00:00:00\",\"2020-10-05T00:00:00\",\"2020-10-06T00:00:00\",\"2020-10-07T00:00:00\",\"2020-10-08T00:00:00\",\"2020-10-09T00:00:00\",\"2020-10-12T00:00:00\",\"2020-10-13T00:00:00\",\"2020-10-14T00:00:00\",\"2020-10-15T00:00:00\",\"2020-10-16T00:00:00\",\"2020-10-19T00:00:00\",\"2020-10-20T00:00:00\",\"2020-10-21T00:00:00\",\"2020-10-22T00:00:00\",\"2020-10-23T00:00:00\",\"2020-10-26T00:00:00\",\"2020-10-27T00:00:00\",\"2020-10-28T00:00:00\",\"2020-10-29T00:00:00\",\"2020-10-30T00:00:00\",\"2020-11-02T00:00:00\",\"2020-11-03T00:00:00\",\"2020-11-04T00:00:00\",\"2020-11-05T00:00:00\",\"2020-11-06T00:00:00\",\"2020-11-09T00:00:00\",\"2020-11-10T00:00:00\",\"2020-11-11T00:00:00\",\"2020-11-12T00:00:00\",\"2020-11-13T00:00:00\",\"2020-11-16T00:00:00\",\"2020-11-17T00:00:00\",\"2020-11-18T00:00:00\",\"2020-11-19T00:00:00\",\"2020-11-20T00:00:00\",\"2020-11-23T00:00:00\",\"2020-11-24T00:00:00\",\"2020-11-25T00:00:00\",\"2020-11-27T00:00:00\",\"2020-11-30T00:00:00\",\"2020-12-01T00:00:00\",\"2020-12-02T00:00:00\",\"2020-12-03T00:00:00\",\"2020-12-04T00:00:00\",\"2020-12-07T00:00:00\",\"2020-12-08T00:00:00\",\"2020-12-09T00:00:00\",\"2020-12-10T00:00:00\",\"2020-12-11T00:00:00\",\"2020-12-14T00:00:00\",\"2020-12-15T00:00:00\",\"2020-12-16T00:00:00\",\"2020-12-17T00:00:00\",\"2020-12-18T00:00:00\",\"2020-12-21T00:00:00\",\"2020-12-22T00:00:00\",\"2020-12-23T00:00:00\",\"2020-12-24T00:00:00\",\"2020-12-28T00:00:00\",\"2020-12-29T00:00:00\",\"2020-12-30T00:00:00\",\"2020-12-31T00:00:00\",\"2021-01-04T00:00:00\",\"2021-01-05T00:00:00\",\"2021-01-06T00:00:00\",\"2021-01-07T00:00:00\",\"2021-01-08T00:00:00\",\"2021-01-11T00:00:00\",\"2021-01-12T00:00:00\",\"2021-01-13T00:00:00\",\"2021-01-14T00:00:00\",\"2021-01-15T00:00:00\",\"2021-01-19T00:00:00\",\"2021-01-20T00:00:00\",\"2021-01-21T00:00:00\",\"2021-01-22T00:00:00\",\"2021-01-25T00:00:00\",\"2021-01-26T00:00:00\",\"2021-01-27T00:00:00\",\"2021-01-28T00:00:00\",\"2021-01-29T00:00:00\",\"2021-02-01T00:00:00\",\"2021-02-02T00:00:00\",\"2021-02-03T00:00:00\",\"2021-02-04T00:00:00\",\"2021-02-05T00:00:00\",\"2021-02-08T00:00:00\",\"2021-02-09T00:00:00\",\"2021-02-10T00:00:00\",\"2021-02-11T00:00:00\",\"2021-02-12T00:00:00\",\"2021-02-16T00:00:00\",\"2021-02-17T00:00:00\",\"2021-02-18T00:00:00\",\"2021-02-19T00:00:00\",\"2021-02-22T00:00:00\",\"2021-02-23T00:00:00\",\"2021-02-24T00:00:00\",\"2021-02-25T00:00:00\",\"2021-02-26T00:00:00\",\"2021-03-01T00:00:00\",\"2021-03-02T00:00:00\",\"2021-03-03T00:00:00\",\"2021-03-04T00:00:00\",\"2021-03-05T00:00:00\",\"2021-03-08T00:00:00\",\"2021-03-09T00:00:00\",\"2021-03-10T00:00:00\",\"2021-03-11T00:00:00\",\"2021-03-12T00:00:00\",\"2021-03-15T00:00:00\",\"2021-03-16T00:00:00\",\"2021-03-17T00:00:00\",\"2021-03-18T00:00:00\",\"2021-03-19T00:00:00\",\"2021-03-22T00:00:00\",\"2021-03-23T00:00:00\",\"2021-03-24T00:00:00\",\"2021-03-25T00:00:00\",\"2021-03-26T00:00:00\",\"2021-03-29T00:00:00\",\"2021-03-30T00:00:00\",\"2021-03-31T00:00:00\",\"2021-04-01T00:00:00\",\"2021-04-05T00:00:00\",\"2021-04-06T00:00:00\",\"2021-04-07T00:00:00\",\"2021-04-08T00:00:00\",\"2021-04-09T00:00:00\",\"2021-04-12T00:00:00\",\"2021-04-13T00:00:00\",\"2021-04-14T00:00:00\",\"2021-04-15T00:00:00\",\"2021-04-16T00:00:00\",\"2021-04-19T00:00:00\",\"2021-04-20T00:00:00\",\"2021-04-21T00:00:00\",\"2021-04-22T00:00:00\",\"2021-04-23T00:00:00\",\"2021-04-26T00:00:00\",\"2021-04-27T00:00:00\",\"2021-04-28T00:00:00\",\"2021-04-29T00:00:00\",\"2021-04-30T00:00:00\",\"2021-05-03T00:00:00\",\"2021-05-04T00:00:00\",\"2021-05-05T00:00:00\",\"2021-05-06T00:00:00\",\"2021-05-07T00:00:00\",\"2021-05-10T00:00:00\",\"2021-05-11T00:00:00\",\"2021-05-12T00:00:00\",\"2021-05-13T00:00:00\",\"2021-05-14T00:00:00\",\"2021-05-17T00:00:00\",\"2021-05-18T00:00:00\",\"2021-05-19T00:00:00\",\"2021-05-20T00:00:00\",\"2021-05-21T00:00:00\",\"2021-05-24T00:00:00\",\"2021-05-25T00:00:00\",\"2021-05-26T00:00:00\",\"2021-05-27T00:00:00\",\"2021-05-28T00:00:00\",\"2021-06-01T00:00:00\",\"2021-06-02T00:00:00\",\"2021-06-03T00:00:00\",\"2021-06-04T00:00:00\",\"2021-06-07T00:00:00\",\"2021-06-08T00:00:00\",\"2021-06-09T00:00:00\",\"2021-06-10T00:00:00\",\"2021-06-11T00:00:00\",\"2021-06-14T00:00:00\"],\"y\":[1.5774999856948853,1.4700000286102295,1.462499976158142,1.3799999952316284,1.4299999475479126,1.3875000476837158,1.3574999570846558,1.3574999570846558,1.1775000095367432,1.152500033378601,1.1549999713897705,1.1875,1.1475000381469727,1.1399999856948853,1.1549999713897705,1.0800000429153442,1.0700000524520874,1.0525000095367432,1.0325000286102295,0.9825000166893005,0.9599999785423279,0.987500011920929,1.0175000429153442,1.0449999570846558,1.034999966621399,0.9524999856948853,0.9850000143051147,1.0049999952316284,1.0475000143051147,1.027500033378601,1.0049999952316284,1.0149999856948853,1.037500023841858,1.034999966621399,1.0099999904632568,0.925000011920929,0.8899999856948853,0.8475000262260437,0.8675000071525574,0.8999999761581421,0.9574999809265137,0.9075000286102295,0.9424999952316284,0.9900000095367432,0.9800000190734863,0.925000011920929,1.0575000047683716,1.034999966621399,0.9950000047683716,1.1475000381469727,1.0924999713897705,1.0575000047683716,0.9424999952316284,1.0475000143051147,0.9399999976158142,0.9524999856948853,1.0399999618530273,1.0425000190734863,1.1024999618530273,1.0549999475479126,0.9125000238418579,0.875,0.8125,0.7124999761581421,0.699999988079071,0.7724999785423279,0.8174999952316284,0.8525000214576721,0.9725000262260437,1.184999942779541,1.4874999523162842,1.3174999952316284,1.2575000524520874,1.2200000286102295,1.402500033378601,1.1950000524520874,1.222499966621399,1.1749999523162842,1.1924999952316284,1.4550000429153442,1.409999966621399,1.5099999904632568,1.4325000047683716,1.5125000476837158,1.3700000047683716,1.347499966621399,1.2324999570846558,1.2174999713897705,1.2450000047683716,1.190000057220459,1.1349999904632568,1.0525000095367432,1.0325000286102295,1.0549999475479126,1.1449999809265137,1.1100000143051147,1.1074999570846558,1.1100000143051147,1.0449999570846558,1.1050000190734863,1.1725000143051147,1.0824999809265137,1.0149999856948853,1.0325000286102295,1.0449999570846558,1.1100000143051147,1.1174999475479126,1.034999966621399,1.252500057220459,1.2400000095367432,1.2675000429153442,1.0924999713897705,1.1799999475479126,1.1725000143051147,1.159999966621399,1.190000057220459,1.2374999523162842,1.2200000286102295,1.2174999713897705,1.2074999809265137,1.1024999618530273,1.1150000095367432,1.087499976158142,1.0950000286102295,1.0850000381469727,1.1100000143051147,1.0724999904632568,1.059999942779541,1.0225000381469727,1.065000057220459,1.0525000095367432,1.0850000381469727,1.065000057220459,1.0199999809265137,1.0475000143051147,1.0425000190734863,0.9900000095367432,0.9624999761581421,1.002500057220459,1.027500033378601,1.027500033378601,1.0075000524520874,1.002500057220459,0.9850000143051147,1.0149999856948853,1.024999976158142,1.002500057220459,1.037500023841858,1.1074999570846558,1.1575000286102295,1.1074999570846558,1.0399999618530273,1.0824999809265137,1.087499976158142,1.1299999952316284,1.159999966621399,1.1875,1.1575000286102295,1.2024999856948853,1.1799999475479126,1.152500033378601,1.2575000524520874,1.2174999713897705,1.2450000047683716,1.277500033378601,1.3125,1.347499966621399,1.6699999570846558,1.912500023841858,1.9275000095367432,1.9550000429153442,1.912500023841858,1.9249999523162842,1.837499976158142,1.5575000047683716,1.5225000381469727,1.7274999618530273,1.7725000381469727,2.1700000762939453,2.299999952316284,2.367500066757202,2.1875,2.640000104904175,2.509999990463257,2.2850000858306885,2.505000114440918,2.5225000381469727,2.5875000953674316,2.549999952316284,2.442500114440918,2.3475000858306885,2.365000009536743,2.2825000286102295,2.3399999141693115,3.372499942779541,3.005000114440918,2.950000047683716,2.9700000286102295,3.0625,3.4574999809265137,3.327500104904175,3.4774999618530273,3.4649999141693115,3.5250000953674316,3.7274999618530273,3.75,3.362499952316284,3.172499895095825,2.9549999237060547,2.932499885559082,2.617500066757202,2.6875,2.8924999237060547,2.7274999618530273,2.862499952316284,2.9649999141693115,2.872499942779541,2.7750000953674316,2.9375,2.7825000286102295,2.752500057220459,3.015000104904175,2.9075000286102295,2.8924999237060547,3.115000009536743,3.177500009536743,3.4749999046325684,3.4175000190734863,3.6875,4.019999980926514,4.139999866485596,3.950000047683716,4.144999980926514,4.03000020980835,4.224999904632568,4.087500095367432,4.235000133514404,3.4149999618530273,3.5299999713897705,3.327500104904175,3.180000066757202,3.4625000953674316,3.4625000953674316,3.7074999809265137,3.9075000286102295,3.882499933242798,4.864999771118164,5.142499923706055,5.037499904632568,5.247499942779541,4.84499979019165,4.815000057220459,4.710000038146973,4.3125,4.34250020980835,4.590000152587891,4.519999980926514,4.422500133514404,4.985000133514404,4.987500190734863,7.849999904632568,9.977499961853027,8.875,9.84000015258789,9.779999732971191,10.757499694824219,16.252500534057617,19.197500228881836,36.994998931884766,86.87750244140625,48.400001525878906,81.25,56.25,22.5,23.102500915527344,13.375,15.942500114440918,15.0,12.577500343322754,12.800000190734863,12.774999618530273,13.100000381469727,12.3774995803833,11.484999656677246,10.172499656677246,10.147500038146973,11.5,11.242500305175781,22.927499771118164,27.1825008392334,25.434999465942383,30.100000381469727,29.545000076293945,31.045000076293945,33.087501525878906,34.435001373291016,48.625,61.724998474121094,66.25,65.0,66.125,55.03499984741211,52.04249954223633,52.45249938964844,50.4375,50.067501068115234,48.622501373291016,45.4375,30.084999084472656,45.9375,45.25,45.32500076293945,48.6150016784668,47.45500183105469,47.86249923706055,46.73749923706055,46.125,44.49250030517578,42.564998626708984,39.59000015258789,35.272499084472656,35.247501373291016,41.63249969482422,39.11000061035156,38.67250061035156,41.092498779296875,39.63249969482422,39.627498626708984,37.79249954223633,37.79499816894531,42.23249816894531,44.442501068115234,44.64500045776367,44.04750061035156,43.397499084472656,40.54999923706055,40.182498931884766,39.869998931884766,40.252498626708984,40.27750015258789,35.80500030517578,36.72999954223633,36.1974983215332,41.125,39.97999954223633,45.150001525878906,45.16749954223633,42.20750045776367,42.622501373291016,44.1974983215332,45.002498626708984,52.35749816894531,60.63999938964844,63.532501220703125,55.5,62.255001068115234,70.55999755859375,64.54499816894531,62.09000015258789,70.00250244140625,75.0,75.63999938964844,55.09749984741211,58.334999084472656,57.36000061035156],\"type\":\"scatter\",\"xaxis\":\"x\",\"yaxis\":\"y\"},{\"name\":\"Volume\",\"x\":[\"2020-01-02T00:00:00\",\"2020-01-03T00:00:00\",\"2020-01-06T00:00:00\",\"2020-01-07T00:00:00\",\"2020-01-08T00:00:00\",\"2020-01-09T00:00:00\",\"2020-01-10T00:00:00\",\"2020-01-13T00:00:00\",\"2020-01-14T00:00:00\",\"2020-01-15T00:00:00\",\"2020-01-16T00:00:00\",\"2020-01-17T00:00:00\",\"2020-01-21T00:00:00\",\"2020-01-22T00:00:00\",\"2020-01-23T00:00:00\",\"2020-01-24T00:00:00\",\"2020-01-27T00:00:00\",\"2020-01-28T00:00:00\",\"2020-01-29T00:00:00\",\"2020-01-30T00:00:00\",\"2020-01-31T00:00:00\",\"2020-02-03T00:00:00\",\"2020-02-04T00:00:00\",\"2020-02-05T00:00:00\",\"2020-02-06T00:00:00\",\"2020-02-07T00:00:00\",\"2020-02-10T00:00:00\",\"2020-02-11T00:00:00\",\"2020-02-12T00:00:00\",\"2020-02-13T00:00:00\",\"2020-02-14T00:00:00\",\"2020-02-18T00:00:00\",\"2020-02-19T00:00:00\",\"2020-02-20T00:00:00\",\"2020-02-21T00:00:00\",\"2020-02-24T00:00:00\",\"2020-02-25T00:00:00\",\"2020-02-26T00:00:00\",\"2020-02-27T00:00:00\",\"2020-02-28T00:00:00\",\"2020-03-02T00:00:00\",\"2020-03-03T00:00:00\",\"2020-03-04T00:00:00\",\"2020-03-05T00:00:00\",\"2020-03-06T00:00:00\",\"2020-03-09T00:00:00\",\"2020-03-10T00:00:00\",\"2020-03-11T00:00:00\",\"2020-03-12T00:00:00\",\"2020-03-13T00:00:00\",\"2020-03-16T00:00:00\",\"2020-03-17T00:00:00\",\"2020-03-18T00:00:00\",\"2020-03-19T00:00:00\",\"2020-03-20T00:00:00\",\"2020-03-23T00:00:00\",\"2020-03-24T00:00:00\",\"2020-03-25T00:00:00\",\"2020-03-26T00:00:00\",\"2020-03-27T00:00:00\",\"2020-03-30T00:00:00\",\"2020-03-31T00:00:00\",\"2020-04-01T00:00:00\",\"2020-04-02T00:00:00\",\"2020-04-03T00:00:00\",\"2020-04-06T00:00:00\",\"2020-04-07T00:00:00\",\"2020-04-08T00:00:00\",\"2020-04-09T00:00:00\",\"2020-04-13T00:00:00\",\"2020-04-14T00:00:00\",\"2020-04-15T00:00:00\",\"2020-04-16T00:00:00\",\"2020-04-17T00:00:00\",\"2020-04-20T00:00:00\",\"2020-04-21T00:00:00\",\"2020-04-22T00:00:00\",\"2020-04-23T00:00:00\",\"2020-04-24T00:00:00\",\"2020-04-27T00:00:00\",\"2020-04-28T00:00:00\",\"2020-04-29T00:00:00\",\"2020-04-30T00:00:00\",\"2020-05-01T00:00:00\",\"2020-05-04T00:00:00\",\"2020-05-05T00:00:00\",\"2020-05-06T00:00:00\",\"2020-05-07T00:00:00\",\"2020-05-08T00:00:00\",\"2020-05-11T00:00:00\",\"2020-05-12T00:00:00\",\"2020-05-13T00:00:00\",\"2020-05-14T00:00:00\",\"2020-05-15T00:00:00\",\"2020-05-18T00:00:00\",\"2020-05-19T00:00:00\",\"2020-05-20T00:00:00\",\"2020-05-21T00:00:00\",\"2020-05-22T00:00:00\",\"2020-05-26T00:00:00\",\"2020-05-27T00:00:00\",\"2020-05-28T00:00:00\",\"2020-05-29T00:00:00\",\"2020-06-01T00:00:00\",\"2020-06-02T00:00:00\",\"2020-06-03T00:00:00\",\"2020-06-04T00:00:00\",\"2020-06-05T00:00:00\",\"2020-06-08T00:00:00\",\"2020-06-09T00:00:00\",\"2020-06-10T00:00:00\",\"2020-06-11T00:00:00\",\"2020-06-12T00:00:00\",\"2020-06-15T00:00:00\",\"2020-06-16T00:00:00\",\"2020-06-17T00:00:00\",\"2020-06-18T00:00:00\",\"2020-06-19T00:00:00\",\"2020-06-22T00:00:00\",\"2020-06-23T00:00:00\",\"2020-06-24T00:00:00\",\"2020-06-25T00:00:00\",\"2020-06-26T00:00:00\",\"2020-06-29T00:00:00\",\"2020-06-30T00:00:00\",\"2020-07-01T00:00:00\",\"2020-07-02T00:00:00\",\"2020-07-06T00:00:00\",\"2020-07-07T00:00:00\",\"2020-07-08T00:00:00\",\"2020-07-09T00:00:00\",\"2020-07-10T00:00:00\",\"2020-07-13T00:00:00\",\"2020-07-14T00:00:00\",\"2020-07-15T00:00:00\",\"2020-07-16T00:00:00\",\"2020-07-17T00:00:00\",\"2020-07-20T00:00:00\",\"2020-07-21T00:00:00\",\"2020-07-22T00:00:00\",\"2020-07-23T00:00:00\",\"2020-07-24T00:00:00\",\"2020-07-27T00:00:00\",\"2020-07-28T00:00:00\",\"2020-07-29T00:00:00\",\"2020-07-30T00:00:00\",\"2020-07-31T00:00:00\",\"2020-08-03T00:00:00\",\"2020-08-04T00:00:00\",\"2020-08-05T00:00:00\",\"2020-08-06T00:00:00\",\"2020-08-07T00:00:00\",\"2020-08-10T00:00:00\",\"2020-08-11T00:00:00\",\"2020-08-12T00:00:00\",\"2020-08-13T00:00:00\",\"2020-08-14T00:00:00\",\"2020-08-17T00:00:00\",\"2020-08-18T00:00:00\",\"2020-08-19T00:00:00\",\"2020-08-20T00:00:00\",\"2020-08-21T00:00:00\",\"2020-08-24T00:00:00\",\"2020-08-25T00:00:00\",\"2020-08-26T00:00:00\",\"2020-08-27T00:00:00\",\"2020-08-28T00:00:00\",\"2020-08-31T00:00:00\",\"2020-09-01T00:00:00\",\"2020-09-02T00:00:00\",\"2020-09-03T00:00:00\",\"2020-09-04T00:00:00\",\"2020-09-08T00:00:00\",\"2020-09-09T00:00:00\",\"2020-09-10T00:00:00\",\"2020-09-11T00:00:00\",\"2020-09-14T00:00:00\",\"2020-09-15T00:00:00\",\"2020-09-16T00:00:00\",\"2020-09-17T00:00:00\",\"2020-09-18T00:00:00\",\"2020-09-21T00:00:00\",\"2020-09-22T00:00:00\",\"2020-09-23T00:00:00\",\"2020-09-24T00:00:00\",\"2020-09-25T00:00:00\",\"2020-09-28T00:00:00\",\"2020-09-29T00:00:00\",\"2020-09-30T00:00:00\",\"2020-10-01T00:00:00\",\"2020-10-02T00:00:00\",\"2020-10-05T00:00:00\",\"2020-10-06T00:00:00\",\"2020-10-07T00:00:00\",\"2020-10-08T00:00:00\",\"2020-10-09T00:00:00\",\"2020-10-12T00:00:00\",\"2020-10-13T00:00:00\",\"2020-10-14T00:00:00\",\"2020-10-15T00:00:00\",\"2020-10-16T00:00:00\",\"2020-10-19T00:00:00\",\"2020-10-20T00:00:00\",\"2020-10-21T00:00:00\",\"2020-10-22T00:00:00\",\"2020-10-23T00:00:00\",\"2020-10-26T00:00:00\",\"2020-10-27T00:00:00\",\"2020-10-28T00:00:00\",\"2020-10-29T00:00:00\",\"2020-10-30T00:00:00\",\"2020-11-02T00:00:00\",\"2020-11-03T00:00:00\",\"2020-11-04T00:00:00\",\"2020-11-05T00:00:00\",\"2020-11-06T00:00:00\",\"2020-11-09T00:00:00\",\"2020-11-10T00:00:00\",\"2020-11-11T00:00:00\",\"2020-11-12T00:00:00\",\"2020-11-13T00:00:00\",\"2020-11-16T00:00:00\",\"2020-11-17T00:00:00\",\"2020-11-18T00:00:00\",\"2020-11-19T00:00:00\",\"2020-11-20T00:00:00\",\"2020-11-23T00:00:00\",\"2020-11-24T00:00:00\",\"2020-11-25T00:00:00\",\"2020-11-27T00:00:00\",\"2020-11-30T00:00:00\",\"2020-12-01T00:00:00\",\"2020-12-02T00:00:00\",\"2020-12-03T00:00:00\",\"2020-12-04T00:00:00\",\"2020-12-07T00:00:00\",\"2020-12-08T00:00:00\",\"2020-12-09T00:00:00\",\"2020-12-10T00:00:00\",\"2020-12-11T00:00:00\",\"2020-12-14T00:00:00\",\"2020-12-15T00:00:00\",\"2020-12-16T00:00:00\",\"2020-12-17T00:00:00\",\"2020-12-18T00:00:00\",\"2020-12-21T00:00:00\",\"2020-12-22T00:00:00\",\"2020-12-23T00:00:00\",\"2020-12-24T00:00:00\",\"2020-12-28T00:00:00\",\"2020-12-29T00:00:00\",\"2020-12-30T00:00:00\",\"2020-12-31T00:00:00\",\"2021-01-04T00:00:00\",\"2021-01-05T00:00:00\",\"2021-01-06T00:00:00\",\"2021-01-07T00:00:00\",\"2021-01-08T00:00:00\",\"2021-01-11T00:00:00\",\"2021-01-12T00:00:00\",\"2021-01-13T00:00:00\",\"2021-01-14T00:00:00\",\"2021-01-15T00:00:00\",\"2021-01-19T00:00:00\",\"2021-01-20T00:00:00\",\"2021-01-21T00:00:00\",\"2021-01-22T00:00:00\",\"2021-01-25T00:00:00\",\"2021-01-26T00:00:00\",\"2021-01-27T00:00:00\",\"2021-01-28T00:00:00\",\"2021-01-29T00:00:00\",\"2021-02-01T00:00:00\",\"2021-02-02T00:00:00\",\"2021-02-03T00:00:00\",\"2021-02-04T00:00:00\",\"2021-02-05T00:00:00\",\"2021-02-08T00:00:00\",\"2021-02-09T00:00:00\",\"2021-02-10T00:00:00\",\"2021-02-11T00:00:00\",\"2021-02-12T00:00:00\",\"2021-02-16T00:00:00\",\"2021-02-17T00:00:00\",\"2021-02-18T00:00:00\",\"2021-02-19T00:00:00\",\"2021-02-22T00:00:00\",\"2021-02-23T00:00:00\",\"2021-02-24T00:00:00\",\"2021-02-25T00:00:00\",\"2021-02-26T00:00:00\",\"2021-03-01T00:00:00\",\"2021-03-02T00:00:00\",\"2021-03-03T00:00:00\",\"2021-03-04T00:00:00\",\"2021-03-05T00:00:00\",\"2021-03-08T00:00:00\",\"2021-03-09T00:00:00\",\"2021-03-10T00:00:00\",\"2021-03-11T00:00:00\",\"2021-03-12T00:00:00\",\"2021-03-15T00:00:00\",\"2021-03-16T00:00:00\",\"2021-03-17T00:00:00\",\"2021-03-18T00:00:00\",\"2021-03-19T00:00:00\",\"2021-03-22T00:00:00\",\"2021-03-23T00:00:00\",\"2021-03-24T00:00:00\",\"2021-03-25T00:00:00\",\"2021-03-26T00:00:00\",\"2021-03-29T00:00:00\",\"2021-03-30T00:00:00\",\"2021-03-31T00:00:00\",\"2021-04-01T00:00:00\",\"2021-04-05T00:00:00\",\"2021-04-06T00:00:00\",\"2021-04-07T00:00:00\",\"2021-04-08T00:00:00\",\"2021-04-09T00:00:00\",\"2021-04-12T00:00:00\",\"2021-04-13T00:00:00\",\"2021-04-14T00:00:00\",\"2021-04-15T00:00:00\",\"2021-04-16T00:00:00\",\"2021-04-19T00:00:00\",\"2021-04-20T00:00:00\",\"2021-04-21T00:00:00\",\"2021-04-22T00:00:00\",\"2021-04-23T00:00:00\",\"2021-04-26T00:00:00\",\"2021-04-27T00:00:00\",\"2021-04-28T00:00:00\",\"2021-04-29T00:00:00\",\"2021-04-30T00:00:00\"],\"y\":[17814400.0,14175600.0,13579200.0,20912000.0,22517600.0,10572000.0,11125600.0,14500800.0,50247600.0,19924400.0,17148400.0,16078000.0,14128400.0,10510000.0,7520800.0,16654400.0,8490000.0,8579600.0,6210400.0,12026000.0,11566800.0,8102400.0,14252400.0,10566800.0,6041200.0,10969200.0,11108000.0,13660000.0,19282400.0,8326800.0,6330800.0,5870400.0,10372400.0,6249200.0,6782800.0,14265200.0,17791600.0,18899200.0,15518000.0,18768800.0,12833600.0,17130000.0,17030400.0,14397600.0,8387200.0,10928000.0,19452800.0,17656400.0,20493600.0,23148800.0,19466800.0,14248800.0,14606800.0,20158000.0,30888800.0,24039200.0,27222400.0,14368400.0,24742800.0,28099200.0,13402400.0,9203600.0,18274800.0,16257200.0,15321600.0,13362000.0,11347600.0,11538000.0,23634400.0,27378000.0,54026400.0,29999600.0,13487600.0,22612800.0,24340000.0,16568400.0,10711200.0,9063600.0,8944800.0,29100400.0,20800800.0,13478400.0,8693200.0,16022400.0,16272400.0,8423600.0,13478400.0,10003200.0,9410400.0,6796800.0,10556800.0,11531600.0,8019600.0,7762400.0,9456800.0,7362800.0,10174400.0,7887600.0,9519600.0,14182800.0,12586400.0,8735600.0,15846800.0,10446400.0,9477600.0,12149600.0,14057200.0,25097600.0,40534800.0,32293600.0,42425600.0,24944000.0,17512800.0,15636000.0,12485200.0,14374000.0,13695200.0,29466400.0,12715600.0,12821600.0,11904800.0,9803200.0,15204800.0,8524800.0,15556000.0,9214800.0,7550400.0,8563600.0,9826400.0,8211200.0,7970400.0,5643200.0,16864800.0,9046400.0,5896400.0,5320400.0,12263600.0,13604400.0,13351600.0,10094000.0,12948800.0,8863600.0,9890800.0,18221600.0,11518400.0,9594000.0,7517600.0,10070400.0,41445600.0,19677200.0,7604800.0,13364400.0,18247200.0,12555200.0,12230400.0,8513200.0,13897600.0,9484000.0,15337600.0,10450400.0,9764800.0,42570400.0,18341600.0,11994800.0,11118800.0,13537600.0,16947600.0,151904000.0,92634400.0,52044400.0,57378000.0,30648000.0,39266400.0,36272400.0,62233200.0,24244800.0,40476000.0,22974000.0,77025200.0,68106800.0,69630000.0,30559200.0,139010000.0,42604800.0,31755200.0,30060800.0,27057200.0,20950400.0,24316000.0,18216400.0,17362000.0,11220000.0,18141600.0,13234400.0,305814400.0,308611200.0,94622800.0,40718800.0,43045600.0,159579200.0,46606400.0,52676400.0,26416000.0,21447600.0,64848800.0,26029200.0,53505200.0,28924000.0,25554400.0,16663200.0,46187600.0,20908000.0,29818000.0,23231600.0,18820800.0,22072800.0,24979600.0,15304000.0,19530400.0,17413200.0,14143600.0,39099200.0,26712800.0,12676800.0,47150400.0,33581600.0,38396400.0,28732800.0,35440400.0,50016800.0,127934000.0,50615600.0,31533600.0,25180000.0,35890800.0,29545200.0,64480800.0,97431600.0,30235600.0,29987600.0,40028400.0,32759200.0,23460400.0,32779600.0,66475200.0,39504400.0,122610800.0,103321200.0,25048800.0,35863600.0,36965600.0,23737600.0,27690800.0,40090000.0,19846000.0,24224800.0,24517200.0,25928000.0,59632000.0,28242800.0,578006800.0,374869600.0,187465600.0,298887600.0,133887200.0,224867600.0,788631600.0,711496000.0,714352000.0,373586800.0,235263200.0,202264400.0,149528800.0,312732400.0,170794000.0,249709200.0,325380000.0,102749200.0,107372400.0,145820000.0,52226800.0,58293200.0,32700000.0,36747200.0,95962400.0,59312800.0,77904000.0,30260800.0,332446800.0,601235200.0,368776800.0,199176000.0,135132000.0,77095600.0,130427600.0,122934800.0,254262400.0,156397200.0,286282400.0,113250000.0,103383600.0,96401600.0,141691600.0,65926400.0,47059600.0,98709200.0,40246000.0,57716400.0,96711600.0,203849200.0,149722800.0,40168800.0,68379600.0,33575200.0,37337200.0,56282000.0,24873200.0,19073200.0,40189600.0,37849600.0,66734400.0,27227600.0,84552400.0,31427200.0,20858800.0,42080800.0,18634400.0,15251200.0,17383200.0,16116400.0,42128400.0,35730800.0,23155600.0,15041200.0,17734400.0],\"type\":\"scatter\",\"xaxis\":\"x2\",\"yaxis\":\"y2\"}],                        {\"template\":{\"data\":{\"histogram2dcontour\":[{\"type\":\"histogram2dcontour\",\"colorbar\":{\"outlinewidth\":0,\"ticks\":\"\"},\"colorscale\":[[0.0,\"#0d0887\"],[0.1111111111111111,\"#46039f\"],[0.2222222222222222,\"#7201a8\"],[0.3333333333333333,\"#9c179e\"],[0.4444444444444444,\"#bd3786\"],[0.5555555555555556,\"#d8576b\"],[0.6666666666666666,\"#ed7953\"],[0.7777777777777778,\"#fb9f3a\"],[0.8888888888888888,\"#fdca26\"],[1.0,\"#f0f921\"]]}],\"choropleth\":[{\"type\":\"choropleth\",\"colorbar\":{\"outlinewidth\":0,\"ticks\":\"\"}}],\"histogram2d\":[{\"type\":\"histogram2d\",\"colorbar\":{\"outlinewidth\":0,\"ticks\":\"\"},\"colorscale\":[[0.0,\"#0d0887\"],[0.1111111111111111,\"#46039f\"],[0.2222222222222222,\"#7201a8\"],[0.3333333333333333,\"#9c179e\"],[0.4444444444444444,\"#bd3786\"],[0.5555555555555556,\"#d8576b\"],[0.6666666666666666,\"#ed7953\"],[0.7777777777777778,\"#fb9f3a\"],[0.8888888888888888,\"#fdca26\"],[1.0,\"#f0f921\"]]}],\"heatmap\":[{\"type\":\"heatmap\",\"colorbar\":{\"outlinewidth\":0,\"ticks\":\"\"},\"colorscale\":[[0.0,\"#0d0887\"],[0.1111111111111111,\"#46039f\"],[0.2222222222222222,\"#7201a8\"],[0.3333333333333333,\"#9c179e\"],[0.4444444444444444,\"#bd3786\"],[0.5555555555555556,\"#d8576b\"],[0.6666666666666666,\"#ed7953\"],[0.7777777777777778,\"#fb9f3a\"],[0.8888888888888888,\"#fdca26\"],[1.0,\"#f0f921\"]]}],\"heatmapgl\":[{\"type\":\"heatmapgl\",\"colorbar\":{\"outlinewidth\":0,\"ticks\":\"\"},\"colorscale\":[[0.0,\"#0d0887\"],[0.1111111111111111,\"#46039f\"],[0.2222222222222222,\"#7201a8\"],[0.3333333333333333,\"#9c179e\"],[0.4444444444444444,\"#bd3786\"],[0.5555555555555556,\"#d8576b\"],[0.6666666666666666,\"#ed7953\"],[0.7777777777777778,\"#fb9f3a\"],[0.8888888888888888,\"#fdca26\"],[1.0,\"#f0f921\"]]}],\"contourcarpet\":[{\"type\":\"contourcarpet\",\"colorbar\":{\"outlinewidth\":0,\"ticks\":\"\"}}],\"contour\":[{\"type\":\"contour\",\"colorbar\":{\"outlinewidth\":0,\"ticks\":\"\"},\"colorscale\":[[0.0,\"#0d0887\"],[0.1111111111111111,\"#46039f\"],[0.2222222222222222,\"#7201a8\"],[0.3333333333333333,\"#9c179e\"],[0.4444444444444444,\"#bd3786\"],[0.5555555555555556,\"#d8576b\"],[0.6666666666666666,\"#ed7953\"],[0.7777777777777778,\"#fb9f3a\"],[0.8888888888888888,\"#fdca26\"],[1.0,\"#f0f921\"]]}],\"surface\":[{\"type\":\"surface\",\"colorbar\":{\"outlinewidth\":0,\"ticks\":\"\"},\"colorscale\":[[0.0,\"#0d0887\"],[0.1111111111111111,\"#46039f\"],[0.2222222222222222,\"#7201a8\"],[0.3333333333333333,\"#9c179e\"],[0.4444444444444444,\"#bd3786\"],[0.5555555555555556,\"#d8576b\"],[0.6666666666666666,\"#ed7953\"],[0.7777777777777778,\"#fb9f3a\"],[0.8888888888888888,\"#fdca26\"],[1.0,\"#f0f921\"]]}],\"mesh3d\":[{\"type\":\"mesh3d\",\"colorbar\":{\"outlinewidth\":0,\"ticks\":\"\"}}],\"scatter\":[{\"fillpattern\":{\"fillmode\":\"overlay\",\"size\":10,\"solidity\":0.2},\"type\":\"scatter\"}],\"parcoords\":[{\"type\":\"parcoords\",\"line\":{\"colorbar\":{\"outlinewidth\":0,\"ticks\":\"\"}}}],\"scatterpolargl\":[{\"type\":\"scatterpolargl\",\"marker\":{\"colorbar\":{\"outlinewidth\":0,\"ticks\":\"\"}}}],\"bar\":[{\"error_x\":{\"color\":\"#2a3f5f\"},\"error_y\":{\"color\":\"#2a3f5f\"},\"marker\":{\"line\":{\"color\":\"#E5ECF6\",\"width\":0.5},\"pattern\":{\"fillmode\":\"overlay\",\"size\":10,\"solidity\":0.2}},\"type\":\"bar\"}],\"scattergeo\":[{\"type\":\"scattergeo\",\"marker\":{\"colorbar\":{\"outlinewidth\":0,\"ticks\":\"\"}}}],\"scatterpolar\":[{\"type\":\"scatterpolar\",\"marker\":{\"colorbar\":{\"outlinewidth\":0,\"ticks\":\"\"}}}],\"histogram\":[{\"marker\":{\"pattern\":{\"fillmode\":\"overlay\",\"size\":10,\"solidity\":0.2}},\"type\":\"histogram\"}],\"scattergl\":[{\"type\":\"scattergl\",\"marker\":{\"colorbar\":{\"outlinewidth\":0,\"ticks\":\"\"}}}],\"scatter3d\":[{\"type\":\"scatter3d\",\"line\":{\"colorbar\":{\"outlinewidth\":0,\"ticks\":\"\"}},\"marker\":{\"colorbar\":{\"outlinewidth\":0,\"ticks\":\"\"}}}],\"scattermapbox\":[{\"type\":\"scattermapbox\",\"marker\":{\"colorbar\":{\"outlinewidth\":0,\"ticks\":\"\"}}}],\"scatterternary\":[{\"type\":\"scatterternary\",\"marker\":{\"colorbar\":{\"outlinewidth\":0,\"ticks\":\"\"}}}],\"scattercarpet\":[{\"type\":\"scattercarpet\",\"marker\":{\"colorbar\":{\"outlinewidth\":0,\"ticks\":\"\"}}}],\"carpet\":[{\"aaxis\":{\"endlinecolor\":\"#2a3f5f\",\"gridcolor\":\"white\",\"linecolor\":\"white\",\"minorgridcolor\":\"white\",\"startlinecolor\":\"#2a3f5f\"},\"baxis\":{\"endlinecolor\":\"#2a3f5f\",\"gridcolor\":\"white\",\"linecolor\":\"white\",\"minorgridcolor\":\"white\",\"startlinecolor\":\"#2a3f5f\"},\"type\":\"carpet\"}],\"table\":[{\"cells\":{\"fill\":{\"color\":\"#EBF0F8\"},\"line\":{\"color\":\"white\"}},\"header\":{\"fill\":{\"color\":\"#C8D4E3\"},\"line\":{\"color\":\"white\"}},\"type\":\"table\"}],\"barpolar\":[{\"marker\":{\"line\":{\"color\":\"#E5ECF6\",\"width\":0.5},\"pattern\":{\"fillmode\":\"overlay\",\"size\":10,\"solidity\":0.2}},\"type\":\"barpolar\"}],\"pie\":[{\"automargin\":true,\"type\":\"pie\"}]},\"layout\":{\"autotypenumbers\":\"strict\",\"colorway\":[\"#636efa\",\"#EF553B\",\"#00cc96\",\"#ab63fa\",\"#FFA15A\",\"#19d3f3\",\"#FF6692\",\"#B6E880\",\"#FF97FF\",\"#FECB52\"],\"font\":{\"color\":\"#2a3f5f\"},\"hovermode\":\"closest\",\"hoverlabel\":{\"align\":\"left\"},\"paper_bgcolor\":\"white\",\"plot_bgcolor\":\"#E5ECF6\",\"polar\":{\"bgcolor\":\"#E5ECF6\",\"angularaxis\":{\"gridcolor\":\"white\",\"linecolor\":\"white\",\"ticks\":\"\"},\"radialaxis\":{\"gridcolor\":\"white\",\"linecolor\":\"white\",\"ticks\":\"\"}},\"ternary\":{\"bgcolor\":\"#E5ECF6\",\"aaxis\":{\"gridcolor\":\"white\",\"linecolor\":\"white\",\"ticks\":\"\"},\"baxis\":{\"gridcolor\":\"white\",\"linecolor\":\"white\",\"ticks\":\"\"},\"caxis\":{\"gridcolor\":\"white\",\"linecolor\":\"white\",\"ticks\":\"\"}},\"coloraxis\":{\"colorbar\":{\"outlinewidth\":0,\"ticks\":\"\"}},\"colorscale\":{\"sequential\":[[0.0,\"#0d0887\"],[0.1111111111111111,\"#46039f\"],[0.2222222222222222,\"#7201a8\"],[0.3333333333333333,\"#9c179e\"],[0.4444444444444444,\"#bd3786\"],[0.5555555555555556,\"#d8576b\"],[0.6666666666666666,\"#ed7953\"],[0.7777777777777778,\"#fb9f3a\"],[0.8888888888888888,\"#fdca26\"],[1.0,\"#f0f921\"]],\"sequentialminus\":[[0.0,\"#0d0887\"],[0.1111111111111111,\"#46039f\"],[0.2222222222222222,\"#7201a8\"],[0.3333333333333333,\"#9c179e\"],[0.4444444444444444,\"#bd3786\"],[0.5555555555555556,\"#d8576b\"],[0.6666666666666666,\"#ed7953\"],[0.7777777777777778,\"#fb9f3a\"],[0.8888888888888888,\"#fdca26\"],[1.0,\"#f0f921\"]],\"diverging\":[[0,\"#8e0152\"],[0.1,\"#c51b7d\"],[0.2,\"#de77ae\"],[0.3,\"#f1b6da\"],[0.4,\"#fde0ef\"],[0.5,\"#f7f7f7\"],[0.6,\"#e6f5d0\"],[0.7,\"#b8e186\"],[0.8,\"#7fbc41\"],[0.9,\"#4d9221\"],[1,\"#276419\"]]},\"xaxis\":{\"gridcolor\":\"white\",\"linecolor\":\"white\",\"ticks\":\"\",\"title\":{\"standoff\":15},\"zerolinecolor\":\"white\",\"automargin\":true,\"zerolinewidth\":2},\"yaxis\":{\"gridcolor\":\"white\",\"linecolor\":\"white\",\"ticks\":\"\",\"title\":{\"standoff\":15},\"zerolinecolor\":\"white\",\"automargin\":true,\"zerolinewidth\":2},\"scene\":{\"xaxis\":{\"backgroundcolor\":\"#E5ECF6\",\"gridcolor\":\"white\",\"linecolor\":\"white\",\"showbackground\":true,\"ticks\":\"\",\"zerolinecolor\":\"white\",\"gridwidth\":2},\"yaxis\":{\"backgroundcolor\":\"#E5ECF6\",\"gridcolor\":\"white\",\"linecolor\":\"white\",\"showbackground\":true,\"ticks\":\"\",\"zerolinecolor\":\"white\",\"gridwidth\":2},\"zaxis\":{\"backgroundcolor\":\"#E5ECF6\",\"gridcolor\":\"white\",\"linecolor\":\"white\",\"showbackground\":true,\"ticks\":\"\",\"zerolinecolor\":\"white\",\"gridwidth\":2}},\"shapedefaults\":{\"line\":{\"color\":\"#2a3f5f\"}},\"annotationdefaults\":{\"arrowcolor\":\"#2a3f5f\",\"arrowhead\":0,\"arrowwidth\":1},\"geo\":{\"bgcolor\":\"white\",\"landcolor\":\"#E5ECF6\",\"subunitcolor\":\"white\",\"showland\":true,\"showlakes\":true,\"lakecolor\":\"white\"},\"title\":{\"x\":0.05},\"mapbox\":{\"style\":\"light\"}}},\"xaxis\":{\"anchor\":\"y\",\"domain\":[0.0,1.0],\"matches\":\"x2\",\"showticklabels\":false,\"title\":{\"text\":\"Date\"},\"rangeslider\":{\"visible\":true}},\"yaxis\":{\"anchor\":\"x\",\"domain\":[0.6499999999999999,0.9999999999999999],\"title\":{\"text\":\"Price ($US)\"}},\"xaxis2\":{\"anchor\":\"y2\",\"domain\":[0.0,1.0],\"title\":{\"text\":\"Date\"}},\"yaxis2\":{\"anchor\":\"x2\",\"domain\":[0.0,0.35],\"title\":{\"text\":\"Revenue ($US Millions)\"}},\"annotations\":[{\"font\":{\"size\":16},\"showarrow\":false,\"text\":\"Historical Share Price\",\"x\":0.5,\"xanchor\":\"center\",\"xref\":\"paper\",\"y\":0.9999999999999999,\"yanchor\":\"bottom\",\"yref\":\"paper\"},{\"font\":{\"size\":16},\"showarrow\":false,\"text\":\"Historical Revenue\",\"x\":0.5,\"xanchor\":\"center\",\"xref\":\"paper\",\"y\":0.35,\"yanchor\":\"bottom\",\"yref\":\"paper\"}],\"showlegend\":false,\"height\":900,\"title\":{\"text\":\"GameStop\"}},                        {\"responsive\": true}                    ).then(function(){\n",
       "                            \n",
       "var gd = document.getElementById('d3667e7d-8477-42e7-9f10-d869280aaf94');\n",
       "var x = new MutationObserver(function (mutations, observer) {{\n",
       "        var display = window.getComputedStyle(gd).display;\n",
       "        if (!display || display === 'none') {{\n",
       "            console.log([gd, 'removed!']);\n",
       "            Plotly.purge(gd);\n",
       "            observer.disconnect();\n",
       "        }}\n",
       "}});\n",
       "\n",
       "// Listen for the removal of the full notebook cells\n",
       "var notebookContainer = gd.closest('#notebook-container');\n",
       "if (notebookContainer) {{\n",
       "    x.observe(notebookContainer, {childList: true});\n",
       "}}\n",
       "\n",
       "// Listen for the clearing of the current output cell\n",
       "var outputEl = gd.closest('.output');\n",
       "if (outputEl) {{\n",
       "    x.observe(outputEl, {childList: true});\n",
       "}}\n",
       "\n",
       "                        })                };                });            </script>        </div>"
      ]
     },
     "metadata": {},
     "output_type": "display_data"
    }
   ],
   "source": [
    "gem_data = yf.download(\"GME\", start=\"2020-01-01\", end=\"2021-09-30\", progress=False)\n",
    "gme_revenue = yf.download(\"GME\", start=\"2020-01-01\", end=\"2021-09-30\", progress=False)\n",
    "gem_data.reset_index(inplace=True)\n",
    "gme_revenue.reset_index(inplace=True)\n",
    "\n",
    "def make_graph(gem_data, gme_revenue, stock):\n",
    "    fig = make_subplots(rows=2, cols=1, \n",
    "                        shared_xaxes=True, \n",
    "                        subplot_titles=(\"Historical Share Price\", \"Historical Revenue\"), \n",
    "                        vertical_spacing=.3)\n",
    "    \n",
    "    gem_data_specific = gem_data[stock_data.Date <= '2021-06-14']\n",
    "    gme_revenue_specific = gme_revenue[revenue_data.Date <= '2021-04-30']\n",
    "    \n",
    "    fig.add_trace(go.Scatter(\n",
    "        x=pd.to_datetime(gem_data_specific.Date, infer_datetime_format=True),\n",
    "        y=gem_data_specific.Close.astype(\"float\"), name=\"Share Price\"), row=1, col=1)\n",
    "    \n",
    "    fig.add_trace(go.Scatter(x=pd.to_datetime(gme_revenue_specific.Date, infer_datetime_format=True), \n",
    "                             y=gme_revenue_specific.Volume.astype(\"float\"),\n",
    "                             name=\"Volume\"), row=2, col=1)\n",
    "    \n",
    "    fig.update_xaxes(title_text=\"Date\", row=1, col=1)\n",
    "    fig.update_xaxes(title_text=\"Date\", row=2, col=1)\n",
    "    fig.update_yaxes(title_text=\"Price ($US)\", row=1, col=1)\n",
    "    fig.update_yaxes(title_text=\"Revenue ($US Millions)\", row=2, col=1)\n",
    "    \n",
    "    fig.update_layout(showlegend=False,\n",
    "                      height=900,\n",
    "                      title=stock,\n",
    "                      xaxis_rangeslider_visible=True)\n",
    "    \n",
    "    fig.show()\n",
    "    \n",
    "make_graph(gem_data, gme_revenue, 'GameStop')"
   ]
  },
  {
   "cell_type": "markdown",
   "metadata": {},
   "source": [
    "<h2>About the Authors:</h2> \n",
    "\n",
    "<a href=\"https://www.linkedin.com/in/joseph-s-50398b136/\">Joseph Santarcangelo</a> has a PhD in Electrical Engineering, his research focused on using machine learning, signal processing, and computer vision to determine how videos impact human cognition. Joseph has been working for IBM since he completed his PhD.\n",
    "\n",
    "Azim Hirjani\n"
   ]
  },
  {
   "cell_type": "markdown",
   "metadata": {},
   "source": [
    "## Change Log\n",
    "\n",
    "| Date (YYYY-MM-DD) | Version | Changed By    | Change Description        |\n",
    "| ----------------- | ------- | ------------- | ------------------------- |\n",
    "| 2022-02-28        | 1.2     | Lakshmi Holla | Changed the URL of GameStop |\n",
    "| 2020-11-10        | 1.1     | Malika Singla | Deleted the Optional part |\n",
    "| 2020-08-27        | 1.0     | Malika Singla | Added lab to GitLab       |\n",
    "\n",
    "<hr>\n",
    "\n",
    "## <h3 align=\"center\"> © IBM Corporation 2020. All rights reserved. <h3/>\n",
    "\n",
    "<p>\n"
   ]
  }
 ],
 "metadata": {
  "kernelspec": {
   "display_name": "Python 3",
   "language": "python",
   "name": "python3"
  },
  "language_info": {
   "codemirror_mode": {
    "name": "ipython",
    "version": 3
   },
   "file_extension": ".py",
   "mimetype": "text/x-python",
   "name": "python",
   "nbconvert_exporter": "python",
   "pygments_lexer": "ipython3",
   "version": "3.8.8"
  },
  "prev_pub_hash": "d60eaefd251a42ab1a22dc6c749e72b12de1a0381ae08b532fc47118a00a5394"
 },
 "nbformat": 4,
 "nbformat_minor": 4
}
